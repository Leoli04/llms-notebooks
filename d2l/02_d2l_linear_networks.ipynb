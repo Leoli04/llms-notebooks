{
  "nbformat": 4,
  "nbformat_minor": 0,
  "metadata": {
    "colab": {
      "provenance": [],
      "toc_visible": true,
      "authorship_tag": "ABX9TyO+oxNymp+m2ZP82p8GRRVx",
      "include_colab_link": true
    },
    "kernelspec": {
      "name": "python3",
      "display_name": "Python 3"
    },
    "language_info": {
      "name": "python"
    }
  },
  "cells": [
    {
      "cell_type": "markdown",
      "metadata": {
        "id": "view-in-github",
        "colab_type": "text"
      },
      "source": [
        "<a href=\"https://colab.research.google.com/github/Leoli04/llms-notebooks/blob/main/d2l/02_n2l_linear_networks.ipynb\" target=\"_parent\"><img src=\"https://colab.research.google.com/assets/colab-badge.svg\" alt=\"Open In Colab\"/></a>"
      ]
    },
    {
      "cell_type": "markdown",
      "source": [
        "# 线性神经网络"
      ],
      "metadata": {
        "id": "qSHNcuc6uPM3"
      }
    },
    {
      "cell_type": "markdown",
      "source": [
        "## 线性回归\n",
        "\n",
        "在机器学习领域中的大多数任务通常都与预测（prediction）有关。 当我们想预测一个数值时，就会涉及到回归问题。 常见的例子包括：预测价格（房屋、股票等）、预测住院时间（针对住院病人等）、 预测需求（零售销量等）。但不是所有的预测都是回归问题，。分类问题的目标是预测数据属于一组类别中的哪一个。"
      ],
      "metadata": {
        "id": "D-Jx9uwFeAaj"
      }
    },
    {
      "cell_type": "markdown",
      "source": [
        "### 线性回归的基本元素\n",
        "线性回归基于几个简单的假设：\n",
        "首先，假设自变量$\\mathbf{x}$和因变量$y$之间的关系是线性的，\n",
        "即$y$可以表示为$\\mathbf{x}$中元素的加权和，这里通常允许包含观测值的一些噪声；\n",
        "其次，我们假设任何噪声都比较正常，如噪声遵循正态分布。\n",
        "\n",
        "\n",
        "为了解释*线性回归*，我们举一个实际的例子：\n",
        "我们希望根据房屋的面积（平方英尺）和房龄（年）来估算房屋价格（美元）。\n",
        "为了开发一个能预测房价的模型，我们需要收集一个真实的数据集。\n",
        "这个数据集包括了房屋的销售价格、面积和房龄。\n",
        "在机器学习的术语中，该数据集称为*训练数据集*（training data set）\n",
        "或*训练集*（training set）。\n",
        "每行数据（比如一次房屋交易相对应的数据）称为*样本*（sample），\n",
        "也可以称为*数据点*（data point）或*数据样本*（data instance）。\n",
        "我们把试图预测的目标（比如预测房屋价格）称为*标签*（label）或*目标*（target）。\n",
        "预测所依据的自变量（面积和房龄）称为*特征*（feature）或*协变量*（covariate）。\n",
        "\n",
        "\n"
      ],
      "metadata": {
        "id": "WK1ol8hJelKS"
      }
    },
    {
      "cell_type": "markdown",
      "source": [
        "#### 线性模型\n",
        "\n",
        "线性假设是指目标（房屋价格）可以表示为特征（面积和房龄）的加权和，如下面的式子：\n",
        "\n",
        "$$\\mathrm{price} = w_{\\mathrm{area}} \\cdot \\mathrm{area} + w_{\\mathrm{age}} \\cdot \\mathrm{age} + b.$$\n",
        "\n",
        "\n",
        " 其中的$w_{\\mathrm{area}}$和$w_{\\mathrm{age}}$\n",
        "称为*权重*（weight），权重决定了每个特征对我们预测值的影响。\n",
        "$b$称为*偏置*（bias）、*偏移量*（offset）或*截距*（intercept）。\n",
        "\n",
        "\n",
        "给定一个数据集，我们的目标是寻找模型的权重$\\mathbf{w}$和偏置$b$，\n",
        "使得根据模型做出的预测大体符合数据里的真实价格。\n",
        "\n",
        "在开始寻找最好的*模型参数*（model parameters）$\\mathbf{w}$和$b$之前，\n",
        "我们还需要两个东西：\n",
        "（1）一种模型质量的度量方式；\n",
        "（2）一种能够更新模型以提高模型预测质量的方法。\n",
        "\n",
        "#### 损失函数\n",
        "*损失函数*（loss function）能够量化目标的*实际*值与*预测*值之间的差距。\n",
        "通常我们会选择非负数作为损失，且数值越小表示损失越小，完美预测时的损失为0。\n",
        "回归问题中最常用的损失函数是平方误差函数。\n",
        "\n",
        "#### 随机梯度下降\n",
        "\n",
        "梯度下降（gradient descent）的方法几乎可以优化所有深度学习模型。 它通过不断地在损失函数递减的方向上更新参数来降低误差。\n",
        "\n",
        "梯度下降最简单的用法是计算损失函数（数据集中所有样本的损失均值） 关于模型参数的导数（在这里也可以称为梯度）。由于数据通常会比较大，我们通常会在每次需要计算更新的时候随机抽取一小批样本， 这种变体叫做小批量随机梯度下降（minibatch stochastic gradient descent）。\n",
        "\n",
        "#### 用模型预测\n",
        "给定特征估计目标的过程通常称为预测（prediction）或推断（inference）。\n"
      ],
      "metadata": {
        "id": "OotHEkkxfDHi"
      }
    },
    {
      "cell_type": "markdown",
      "source": [
        "### 矢量化加速\n",
        "\n",
        "矢量化代码通常会带来数量级的加速。"
      ],
      "metadata": {
        "id": "PKlklpXjmryL"
      }
    },
    {
      "cell_type": "markdown",
      "source": [
        "###  小结\n",
        "- 机器学习模型中的关键要素是训练数据、损失函数、优化算法，还有模型本身。\n",
        "\n",
        "- 矢量化使数学表达上更简洁，同时运行的更快。\n",
        "\n",
        "- 最小化目标函数和执行极大似然估计等价。\n",
        "\n",
        "- 线性回归是对n维输入的加权，外加偏差\n",
        "- 使用平方损失来衡量预测值和真实值的差异\n",
        "- 线性回归有显示解\n",
        "\n",
        "- 线性回归模型也是一个简单的神经网络。\n",
        "\n",
        "- 梯度下降通过不断沿着反梯度方向更新参数求解\n",
        "\n",
        "- 小批量随机梯度下降是深度学习默认的求解算法\n",
        "\n",
        "- 两个重要的超参数是批量大小和学习率"
      ],
      "metadata": {
        "id": "zYrqgqucny2a"
      }
    },
    {
      "cell_type": "markdown",
      "source": [
        "## 线性回归的从零开始实现\n",
        "\n",
        "我们将从零开始实现整个方法， 包括数据流水线、模型、损失函数和小批量随机梯度下降优化器"
      ],
      "metadata": {
        "id": "X-B91xO2okyP"
      }
    },
    {
      "cell_type": "code",
      "source": [
        "!pip install d2l"
      ],
      "metadata": {
        "id": "BBtXlcIQpvVw"
      },
      "execution_count": null,
      "outputs": []
    },
    {
      "cell_type": "code",
      "execution_count": 1,
      "metadata": {
        "id": "Nnv5DQ2EMi3B"
      },
      "outputs": [],
      "source": [
        "%matplotlib inline\n",
        "import random\n",
        "import torch\n",
        "from d2l import torch as d2l"
      ]
    },
    {
      "cell_type": "markdown",
      "source": [
        "### 生成数据集\n",
        "\n",
        "(**我们使用线性模型参数$\\mathbf{w} = [2, -3.4]^\\top$、$b = 4.2$\n",
        "和噪声项$\\epsilon$生成数据集及其标签：\n",
        "\n",
        "$$\\mathbf{y}= \\mathbf{X} \\mathbf{w} + b + \\mathbf\\epsilon.$$\n",
        "**)\n",
        "\n",
        "$\\epsilon$可以视为模型预测和标签时的潜在观测误差。\n",
        "在这里我们认为标准假设成立，即$\\epsilon$服从均值为0的正态分布。"
      ],
      "metadata": {
        "id": "c-pwhfp6o4tr"
      }
    },
    {
      "cell_type": "code",
      "source": [
        "def synthetic_data(w, b, num_examples):\n",
        "    \"\"\"生成y=Xw+b+噪声\"\"\"\n",
        "    # 生成了一个形状为(num_examples, len(w))的二维张量.\n",
        "    # 其中num_examples是样本数量，len(w)是特征的数量。矩阵中的每个元素都服从均值为0、标准差为1的正态分布。\n",
        "    X = torch.normal(0, 1, (num_examples, len(w)))\n",
        "    y = torch.matmul(X, w) + b\n",
        "    y += torch.normal(0, 0.01, y.shape)\n",
        "    return X, y.reshape((-1, 1))\n",
        "\n",
        "true_w = torch.tensor([2, -3.4])\n",
        "true_b = 4.2\n",
        "features, labels = synthetic_data(true_w, true_b, 1000)"
      ],
      "metadata": {
        "id": "Htu9LYY6pQu0"
      },
      "execution_count": 3,
      "outputs": []
    },
    {
      "cell_type": "code",
      "source": [
        "print('features:', features[0],'\\nlabel:', labels[0])"
      ],
      "metadata": {
        "colab": {
          "base_uri": "https://localhost:8080/"
        },
        "id": "ohWefU8mrOV3",
        "outputId": "8c4cb862-ce53-4f5a-ba64-d8320d2d6856"
      },
      "execution_count": 4,
      "outputs": [
        {
          "output_type": "stream",
          "name": "stdout",
          "text": [
            "features: tensor([-1.9354, -1.6337]) \n",
            "label: tensor([5.8857])\n"
          ]
        }
      ]
    },
    {
      "cell_type": "code",
      "source": [
        "# 通过生成第二个特征features[:, 1]和labels的散点图， 可以直观观察到两者之间的线性关系\n",
        "d2l.set_figsize()\n",
        "d2l.plt.scatter(features[:, (1)].detach().numpy(), labels.detach().numpy(), 1);\n"
      ],
      "metadata": {
        "colab": {
          "base_uri": "https://localhost:8080/",
          "height": 248
        },
        "id": "gfZv5u7arcAv",
        "outputId": "6505dae0-15fa-429e-b393-55ead5064c15"
      },
      "execution_count": 5,
      "outputs": [
        {
          "output_type": "display_data",
          "data": {
            "text/plain": [
              "<Figure size 350x250 with 1 Axes>"
            ],
            "image/svg+xml": "<?xml version=\"1.0\" encoding=\"utf-8\" standalone=\"no\"?>\n<!DOCTYPE svg PUBLIC \"-//W3C//DTD SVG 1.1//EN\"\n  \"http://www.w3.org/Graphics/SVG/1.1/DTD/svg11.dtd\">\n<svg xmlns:xlink=\"http://www.w3.org/1999/xlink\" width=\"237.804688pt\" height=\"169.678125pt\" viewBox=\"0 0 237.804688 169.678125\" xmlns=\"http://www.w3.org/2000/svg\" version=\"1.1\">\n <metadata>\n  <rdf:RDF xmlns:dc=\"http://purl.org/dc/elements/1.1/\" xmlns:cc=\"http://creativecommons.org/ns#\" xmlns:rdf=\"http://www.w3.org/1999/02/22-rdf-syntax-ns#\">\n   <cc:Work>\n    <dc:type rdf:resource=\"http://purl.org/dc/dcmitype/StillImage\"/>\n    <dc:date>2024-06-14T07:49:29.332983</dc:date>\n    <dc:format>image/svg+xml</dc:format>\n    <dc:creator>\n     <cc:Agent>\n      <dc:title>Matplotlib v3.7.2, https://matplotlib.org/</dc:title>\n     </cc:Agent>\n    </dc:creator>\n   </cc:Work>\n  </rdf:RDF>\n </metadata>\n <defs>\n  <style type=\"text/css\">*{stroke-linejoin: round; stroke-linecap: butt}</style>\n </defs>\n <g id=\"figure_1\">\n  <g id=\"patch_1\">\n   <path d=\"M 0 169.678125 \nL 237.804688 169.678125 \nL 237.804688 0 \nL 0 0 \nz\n\" style=\"fill: #ffffff\"/>\n  </g>\n  <g id=\"axes_1\">\n   <g id=\"patch_2\">\n    <path d=\"M 35.304688 145.8 \nL 230.604688 145.8 \nL 230.604688 7.2 \nL 35.304688 7.2 \nz\n\" style=\"fill: #ffffff\"/>\n   </g>\n   <g id=\"PathCollection_1\">\n    <defs>\n     <path id=\"m3d2dbd56eb\" d=\"M 0 0.5 \nC 0.132602 0.5 0.25979 0.447317 0.353553 0.353553 \nC 0.447317 0.25979 0.5 0.132602 0.5 0 \nC 0.5 -0.132602 0.447317 -0.25979 0.353553 -0.353553 \nC 0.25979 -0.447317 0.132602 -0.5 0 -0.5 \nC -0.132602 -0.5 -0.25979 -0.447317 -0.353553 -0.353553 \nC -0.447317 -0.25979 -0.5 -0.132602 -0.5 0 \nC -0.5 0.132602 -0.447317 0.25979 -0.353553 0.353553 \nC -0.25979 0.447317 -0.132602 0.5 0 0.5 \nz\n\" style=\"stroke: #1f77b4\"/>\n    </defs>\n    <g clip-path=\"url(#p41b6295bce)\">\n     <use xlink:href=\"#m3d2dbd56eb\" x=\"95.464616\" y=\"63.544557\" style=\"fill: #1f77b4; stroke: #1f77b4\"/>\n     <use xlink:href=\"#m3d2dbd56eb\" x=\"129.064769\" y=\"61.862345\" style=\"fill: #1f77b4; stroke: #1f77b4\"/>\n     <use xlink:href=\"#m3d2dbd56eb\" x=\"151.536876\" y=\"79.239826\" style=\"fill: #1f77b4; stroke: #1f77b4\"/>\n     <use xlink:href=\"#m3d2dbd56eb\" x=\"164.858269\" y=\"86.466719\" style=\"fill: #1f77b4; stroke: #1f77b4\"/>\n     <use xlink:href=\"#m3d2dbd56eb\" x=\"123.503468\" y=\"61.938798\" style=\"fill: #1f77b4; stroke: #1f77b4\"/>\n     <use xlink:href=\"#m3d2dbd56eb\" x=\"136.295325\" y=\"65.121214\" style=\"fill: #1f77b4; stroke: #1f77b4\"/>\n     <use xlink:href=\"#m3d2dbd56eb\" x=\"147.073778\" y=\"72.019456\" style=\"fill: #1f77b4; stroke: #1f77b4\"/>\n     <use xlink:href=\"#m3d2dbd56eb\" x=\"156.2688\" y=\"81.226919\" style=\"fill: #1f77b4; stroke: #1f77b4\"/>\n     <use xlink:href=\"#m3d2dbd56eb\" x=\"151.980465\" y=\"91.639738\" style=\"fill: #1f77b4; stroke: #1f77b4\"/>\n     <use xlink:href=\"#m3d2dbd56eb\" x=\"174.976675\" y=\"103.776337\" style=\"fill: #1f77b4; stroke: #1f77b4\"/>\n     <use xlink:href=\"#m3d2dbd56eb\" x=\"154.44111\" y=\"82.407921\" style=\"fill: #1f77b4; stroke: #1f77b4\"/>\n     <use xlink:href=\"#m3d2dbd56eb\" x=\"104.896096\" y=\"44.015049\" style=\"fill: #1f77b4; stroke: #1f77b4\"/>\n     <use xlink:href=\"#m3d2dbd56eb\" x=\"166.190189\" y=\"85.948122\" style=\"fill: #1f77b4; stroke: #1f77b4\"/>\n     <use xlink:href=\"#m3d2dbd56eb\" x=\"156.232914\" y=\"59.12096\" style=\"fill: #1f77b4; stroke: #1f77b4\"/>\n     <use xlink:href=\"#m3d2dbd56eb\" x=\"162.145443\" y=\"85.64449\" style=\"fill: #1f77b4; stroke: #1f77b4\"/>\n     <use xlink:href=\"#m3d2dbd56eb\" x=\"175.893227\" y=\"73.863797\" style=\"fill: #1f77b4; stroke: #1f77b4\"/>\n     <use xlink:href=\"#m3d2dbd56eb\" x=\"143.70965\" y=\"77.567846\" style=\"fill: #1f77b4; stroke: #1f77b4\"/>\n     <use xlink:href=\"#m3d2dbd56eb\" x=\"128.912773\" y=\"53.338315\" style=\"fill: #1f77b4; stroke: #1f77b4\"/>\n     <use xlink:href=\"#m3d2dbd56eb\" x=\"130.716522\" y=\"69.895753\" style=\"fill: #1f77b4; stroke: #1f77b4\"/>\n     <use xlink:href=\"#m3d2dbd56eb\" x=\"115.498862\" y=\"56.274482\" style=\"fill: #1f77b4; stroke: #1f77b4\"/>\n     <use xlink:href=\"#m3d2dbd56eb\" x=\"181.337483\" y=\"123.347291\" style=\"fill: #1f77b4; stroke: #1f77b4\"/>\n     <use xlink:href=\"#m3d2dbd56eb\" x=\"160.336761\" y=\"84.31269\" style=\"fill: #1f77b4; stroke: #1f77b4\"/>\n     <use xlink:href=\"#m3d2dbd56eb\" x=\"148.808134\" y=\"57.851304\" style=\"fill: #1f77b4; stroke: #1f77b4\"/>\n     <use xlink:href=\"#m3d2dbd56eb\" x=\"161.249405\" y=\"78.758068\" style=\"fill: #1f77b4; stroke: #1f77b4\"/>\n     <use xlink:href=\"#m3d2dbd56eb\" x=\"113.478831\" y=\"47.806847\" style=\"fill: #1f77b4; stroke: #1f77b4\"/>\n     <use xlink:href=\"#m3d2dbd56eb\" x=\"157.65111\" y=\"75.145167\" style=\"fill: #1f77b4; stroke: #1f77b4\"/>\n     <use xlink:href=\"#m3d2dbd56eb\" x=\"114.456746\" y=\"48.494572\" style=\"fill: #1f77b4; stroke: #1f77b4\"/>\n     <use xlink:href=\"#m3d2dbd56eb\" x=\"140.96731\" y=\"67.903501\" style=\"fill: #1f77b4; stroke: #1f77b4\"/>\n     <use xlink:href=\"#m3d2dbd56eb\" x=\"90.00344\" y=\"52.354436\" style=\"fill: #1f77b4; stroke: #1f77b4\"/>\n     <use xlink:href=\"#m3d2dbd56eb\" x=\"152.228035\" y=\"61.131943\" style=\"fill: #1f77b4; stroke: #1f77b4\"/>\n     <use xlink:href=\"#m3d2dbd56eb\" x=\"137.219592\" y=\"70.982885\" style=\"fill: #1f77b4; stroke: #1f77b4\"/>\n     <use xlink:href=\"#m3d2dbd56eb\" x=\"166.919186\" y=\"96.317042\" style=\"fill: #1f77b4; stroke: #1f77b4\"/>\n     <use xlink:href=\"#m3d2dbd56eb\" x=\"136.983192\" y=\"70.400852\" style=\"fill: #1f77b4; stroke: #1f77b4\"/>\n     <use xlink:href=\"#m3d2dbd56eb\" x=\"167.247087\" y=\"92.539011\" style=\"fill: #1f77b4; stroke: #1f77b4\"/>\n     <use xlink:href=\"#m3d2dbd56eb\" x=\"124.527258\" y=\"61.403199\" style=\"fill: #1f77b4; stroke: #1f77b4\"/>\n     <use xlink:href=\"#m3d2dbd56eb\" x=\"100.766112\" y=\"47.619828\" style=\"fill: #1f77b4; stroke: #1f77b4\"/>\n     <use xlink:href=\"#m3d2dbd56eb\" x=\"114.567195\" y=\"53.411845\" style=\"fill: #1f77b4; stroke: #1f77b4\"/>\n     <use xlink:href=\"#m3d2dbd56eb\" x=\"94.899845\" y=\"61.039067\" style=\"fill: #1f77b4; stroke: #1f77b4\"/>\n     <use xlink:href=\"#m3d2dbd56eb\" x=\"152.70779\" y=\"78.134481\" style=\"fill: #1f77b4; stroke: #1f77b4\"/>\n     <use xlink:href=\"#m3d2dbd56eb\" x=\"140.22585\" y=\"71.741867\" style=\"fill: #1f77b4; stroke: #1f77b4\"/>\n     <use xlink:href=\"#m3d2dbd56eb\" x=\"168.022003\" y=\"82.833108\" style=\"fill: #1f77b4; stroke: #1f77b4\"/>\n     <use xlink:href=\"#m3d2dbd56eb\" x=\"140.676968\" y=\"66.913163\" style=\"fill: #1f77b4; stroke: #1f77b4\"/>\n     <use xlink:href=\"#m3d2dbd56eb\" x=\"165.726855\" y=\"84.722675\" style=\"fill: #1f77b4; stroke: #1f77b4\"/>\n     <use xlink:href=\"#m3d2dbd56eb\" x=\"109.475445\" y=\"64.940899\" style=\"fill: #1f77b4; stroke: #1f77b4\"/>\n     <use xlink:href=\"#m3d2dbd56eb\" x=\"150.170056\" y=\"89.166834\" style=\"fill: #1f77b4; stroke: #1f77b4\"/>\n     <use xlink:href=\"#m3d2dbd56eb\" x=\"154.412424\" y=\"71.10728\" style=\"fill: #1f77b4; stroke: #1f77b4\"/>\n     <use xlink:href=\"#m3d2dbd56eb\" x=\"141.034757\" y=\"81.080001\" style=\"fill: #1f77b4; stroke: #1f77b4\"/>\n     <use xlink:href=\"#m3d2dbd56eb\" x=\"137.738947\" y=\"61.836875\" style=\"fill: #1f77b4; stroke: #1f77b4\"/>\n     <use xlink:href=\"#m3d2dbd56eb\" x=\"155.6722\" y=\"88.002408\" style=\"fill: #1f77b4; stroke: #1f77b4\"/>\n     <use xlink:href=\"#m3d2dbd56eb\" x=\"152.749891\" y=\"94.683455\" style=\"fill: #1f77b4; stroke: #1f77b4\"/>\n     <use xlink:href=\"#m3d2dbd56eb\" x=\"139.743829\" y=\"73.623345\" style=\"fill: #1f77b4; stroke: #1f77b4\"/>\n     <use xlink:href=\"#m3d2dbd56eb\" x=\"175.925105\" y=\"90.299874\" style=\"fill: #1f77b4; stroke: #1f77b4\"/>\n     <use xlink:href=\"#m3d2dbd56eb\" x=\"136.245622\" y=\"63.797959\" style=\"fill: #1f77b4; stroke: #1f77b4\"/>\n     <use xlink:href=\"#m3d2dbd56eb\" x=\"133.848186\" y=\"57.620603\" style=\"fill: #1f77b4; stroke: #1f77b4\"/>\n     <use xlink:href=\"#m3d2dbd56eb\" x=\"96.682624\" y=\"37.175408\" style=\"fill: #1f77b4; stroke: #1f77b4\"/>\n     <use xlink:href=\"#m3d2dbd56eb\" x=\"97.546165\" y=\"25.220914\" style=\"fill: #1f77b4; stroke: #1f77b4\"/>\n     <use xlink:href=\"#m3d2dbd56eb\" x=\"160.331019\" y=\"88.00043\" style=\"fill: #1f77b4; stroke: #1f77b4\"/>\n     <use xlink:href=\"#m3d2dbd56eb\" x=\"129.230064\" y=\"83.452088\" style=\"fill: #1f77b4; stroke: #1f77b4\"/>\n     <use xlink:href=\"#m3d2dbd56eb\" x=\"166.299145\" y=\"89.722004\" style=\"fill: #1f77b4; stroke: #1f77b4\"/>\n     <use xlink:href=\"#m3d2dbd56eb\" x=\"179.810352\" y=\"107.810626\" style=\"fill: #1f77b4; stroke: #1f77b4\"/>\n     <use xlink:href=\"#m3d2dbd56eb\" x=\"181.518477\" y=\"103.857616\" style=\"fill: #1f77b4; stroke: #1f77b4\"/>\n     <use xlink:href=\"#m3d2dbd56eb\" x=\"97.106931\" y=\"52.146075\" style=\"fill: #1f77b4; stroke: #1f77b4\"/>\n     <use xlink:href=\"#m3d2dbd56eb\" x=\"115.369635\" y=\"62.663536\" style=\"fill: #1f77b4; stroke: #1f77b4\"/>\n     <use xlink:href=\"#m3d2dbd56eb\" x=\"166.506574\" y=\"105.399601\" style=\"fill: #1f77b4; stroke: #1f77b4\"/>\n     <use xlink:href=\"#m3d2dbd56eb\" x=\"106.721342\" y=\"53.075605\" style=\"fill: #1f77b4; stroke: #1f77b4\"/>\n     <use xlink:href=\"#m3d2dbd56eb\" x=\"112.91793\" y=\"48.003468\" style=\"fill: #1f77b4; stroke: #1f77b4\"/>\n     <use xlink:href=\"#m3d2dbd56eb\" x=\"88.018349\" y=\"31.956792\" style=\"fill: #1f77b4; stroke: #1f77b4\"/>\n     <use xlink:href=\"#m3d2dbd56eb\" x=\"154.318058\" y=\"85.659722\" style=\"fill: #1f77b4; stroke: #1f77b4\"/>\n     <use xlink:href=\"#m3d2dbd56eb\" x=\"154.697132\" y=\"89.509119\" style=\"fill: #1f77b4; stroke: #1f77b4\"/>\n     <use xlink:href=\"#m3d2dbd56eb\" x=\"132.082872\" y=\"50.303298\" style=\"fill: #1f77b4; stroke: #1f77b4\"/>\n     <use xlink:href=\"#m3d2dbd56eb\" x=\"119.520122\" y=\"53.903505\" style=\"fill: #1f77b4; stroke: #1f77b4\"/>\n     <use xlink:href=\"#m3d2dbd56eb\" x=\"108.73513\" y=\"56.338799\" style=\"fill: #1f77b4; stroke: #1f77b4\"/>\n     <use xlink:href=\"#m3d2dbd56eb\" x=\"105.284309\" y=\"77.180952\" style=\"fill: #1f77b4; stroke: #1f77b4\"/>\n     <use xlink:href=\"#m3d2dbd56eb\" x=\"148.35414\" y=\"68.065374\" style=\"fill: #1f77b4; stroke: #1f77b4\"/>\n     <use xlink:href=\"#m3d2dbd56eb\" x=\"67.971594\" y=\"26.041447\" style=\"fill: #1f77b4; stroke: #1f77b4\"/>\n     <use xlink:href=\"#m3d2dbd56eb\" x=\"139.036457\" y=\"80.038193\" style=\"fill: #1f77b4; stroke: #1f77b4\"/>\n     <use xlink:href=\"#m3d2dbd56eb\" x=\"166.659271\" y=\"73.827311\" style=\"fill: #1f77b4; stroke: #1f77b4\"/>\n     <use xlink:href=\"#m3d2dbd56eb\" x=\"144.973196\" y=\"60.375385\" style=\"fill: #1f77b4; stroke: #1f77b4\"/>\n     <use xlink:href=\"#m3d2dbd56eb\" x=\"165.954442\" y=\"83.355202\" style=\"fill: #1f77b4; stroke: #1f77b4\"/>\n     <use xlink:href=\"#m3d2dbd56eb\" x=\"162.261135\" y=\"92.620658\" style=\"fill: #1f77b4; stroke: #1f77b4\"/>\n     <use xlink:href=\"#m3d2dbd56eb\" x=\"100.744476\" y=\"57.409918\" style=\"fill: #1f77b4; stroke: #1f77b4\"/>\n     <use xlink:href=\"#m3d2dbd56eb\" x=\"97.457216\" y=\"45.204697\" style=\"fill: #1f77b4; stroke: #1f77b4\"/>\n     <use xlink:href=\"#m3d2dbd56eb\" x=\"141.615322\" y=\"88.957533\" style=\"fill: #1f77b4; stroke: #1f77b4\"/>\n     <use xlink:href=\"#m3d2dbd56eb\" x=\"177.094166\" y=\"76.591883\" style=\"fill: #1f77b4; stroke: #1f77b4\"/>\n     <use xlink:href=\"#m3d2dbd56eb\" x=\"105.208977\" y=\"53.68045\" style=\"fill: #1f77b4; stroke: #1f77b4\"/>\n     <use xlink:href=\"#m3d2dbd56eb\" x=\"160.993654\" y=\"86.071414\" style=\"fill: #1f77b4; stroke: #1f77b4\"/>\n     <use xlink:href=\"#m3d2dbd56eb\" x=\"130.350428\" y=\"63.347214\" style=\"fill: #1f77b4; stroke: #1f77b4\"/>\n     <use xlink:href=\"#m3d2dbd56eb\" x=\"138.306874\" y=\"80.656453\" style=\"fill: #1f77b4; stroke: #1f77b4\"/>\n     <use xlink:href=\"#m3d2dbd56eb\" x=\"104.681617\" y=\"53.193702\" style=\"fill: #1f77b4; stroke: #1f77b4\"/>\n     <use xlink:href=\"#m3d2dbd56eb\" x=\"109.625227\" y=\"45.505527\" style=\"fill: #1f77b4; stroke: #1f77b4\"/>\n     <use xlink:href=\"#m3d2dbd56eb\" x=\"164.946468\" y=\"84.494671\" style=\"fill: #1f77b4; stroke: #1f77b4\"/>\n     <use xlink:href=\"#m3d2dbd56eb\" x=\"126.067524\" y=\"51.123901\" style=\"fill: #1f77b4; stroke: #1f77b4\"/>\n     <use xlink:href=\"#m3d2dbd56eb\" x=\"163.758834\" y=\"86.653196\" style=\"fill: #1f77b4; stroke: #1f77b4\"/>\n     <use xlink:href=\"#m3d2dbd56eb\" x=\"196.964053\" y=\"101.487795\" style=\"fill: #1f77b4; stroke: #1f77b4\"/>\n     <use xlink:href=\"#m3d2dbd56eb\" x=\"124.405463\" y=\"69.521739\" style=\"fill: #1f77b4; stroke: #1f77b4\"/>\n     <use xlink:href=\"#m3d2dbd56eb\" x=\"131.233943\" y=\"66.102012\" style=\"fill: #1f77b4; stroke: #1f77b4\"/>\n     <use xlink:href=\"#m3d2dbd56eb\" x=\"143.754843\" y=\"72.790281\" style=\"fill: #1f77b4; stroke: #1f77b4\"/>\n     <use xlink:href=\"#m3d2dbd56eb\" x=\"142.055536\" y=\"78.726371\" style=\"fill: #1f77b4; stroke: #1f77b4\"/>\n     <use xlink:href=\"#m3d2dbd56eb\" x=\"169.032672\" y=\"75.905311\" style=\"fill: #1f77b4; stroke: #1f77b4\"/>\n     <use xlink:href=\"#m3d2dbd56eb\" x=\"148.229294\" y=\"90.223418\" style=\"fill: #1f77b4; stroke: #1f77b4\"/>\n     <use xlink:href=\"#m3d2dbd56eb\" x=\"120.564329\" y=\"67.926621\" style=\"fill: #1f77b4; stroke: #1f77b4\"/>\n     <use xlink:href=\"#m3d2dbd56eb\" x=\"91.614238\" y=\"41.8822\" style=\"fill: #1f77b4; stroke: #1f77b4\"/>\n     <use xlink:href=\"#m3d2dbd56eb\" x=\"163.318951\" y=\"107.305472\" style=\"fill: #1f77b4; stroke: #1f77b4\"/>\n     <use xlink:href=\"#m3d2dbd56eb\" x=\"143.413338\" y=\"78.878004\" style=\"fill: #1f77b4; stroke: #1f77b4\"/>\n     <use xlink:href=\"#m3d2dbd56eb\" x=\"128.83993\" y=\"77.259935\" style=\"fill: #1f77b4; stroke: #1f77b4\"/>\n     <use xlink:href=\"#m3d2dbd56eb\" x=\"143.585093\" y=\"53.28049\" style=\"fill: #1f77b4; stroke: #1f77b4\"/>\n     <use xlink:href=\"#m3d2dbd56eb\" x=\"185.391533\" y=\"101.688797\" style=\"fill: #1f77b4; stroke: #1f77b4\"/>\n     <use xlink:href=\"#m3d2dbd56eb\" x=\"135.947315\" y=\"65.821099\" style=\"fill: #1f77b4; stroke: #1f77b4\"/>\n     <use xlink:href=\"#m3d2dbd56eb\" x=\"184.786018\" y=\"98.640803\" style=\"fill: #1f77b4; stroke: #1f77b4\"/>\n     <use xlink:href=\"#m3d2dbd56eb\" x=\"116.028044\" y=\"52.626076\" style=\"fill: #1f77b4; stroke: #1f77b4\"/>\n     <use xlink:href=\"#m3d2dbd56eb\" x=\"124.914909\" y=\"50.908105\" style=\"fill: #1f77b4; stroke: #1f77b4\"/>\n     <use xlink:href=\"#m3d2dbd56eb\" x=\"142.294725\" y=\"85.549721\" style=\"fill: #1f77b4; stroke: #1f77b4\"/>\n     <use xlink:href=\"#m3d2dbd56eb\" x=\"104.752938\" y=\"41.816502\" style=\"fill: #1f77b4; stroke: #1f77b4\"/>\n     <use xlink:href=\"#m3d2dbd56eb\" x=\"102.458075\" y=\"55.380024\" style=\"fill: #1f77b4; stroke: #1f77b4\"/>\n     <use xlink:href=\"#m3d2dbd56eb\" x=\"172.202391\" y=\"95.07996\" style=\"fill: #1f77b4; stroke: #1f77b4\"/>\n     <use xlink:href=\"#m3d2dbd56eb\" x=\"148.118762\" y=\"71.033905\" style=\"fill: #1f77b4; stroke: #1f77b4\"/>\n     <use xlink:href=\"#m3d2dbd56eb\" x=\"160.469791\" y=\"77.635923\" style=\"fill: #1f77b4; stroke: #1f77b4\"/>\n     <use xlink:href=\"#m3d2dbd56eb\" x=\"116.845901\" y=\"62.938266\" style=\"fill: #1f77b4; stroke: #1f77b4\"/>\n     <use xlink:href=\"#m3d2dbd56eb\" x=\"138.849382\" y=\"56.560292\" style=\"fill: #1f77b4; stroke: #1f77b4\"/>\n     <use xlink:href=\"#m3d2dbd56eb\" x=\"125.781883\" y=\"64.423654\" style=\"fill: #1f77b4; stroke: #1f77b4\"/>\n     <use xlink:href=\"#m3d2dbd56eb\" x=\"126.188813\" y=\"58.481871\" style=\"fill: #1f77b4; stroke: #1f77b4\"/>\n     <use xlink:href=\"#m3d2dbd56eb\" x=\"123.693718\" y=\"71.708765\" style=\"fill: #1f77b4; stroke: #1f77b4\"/>\n     <use xlink:href=\"#m3d2dbd56eb\" x=\"137.824285\" y=\"76.755782\" style=\"fill: #1f77b4; stroke: #1f77b4\"/>\n     <use xlink:href=\"#m3d2dbd56eb\" x=\"171.769226\" y=\"104.664203\" style=\"fill: #1f77b4; stroke: #1f77b4\"/>\n     <use xlink:href=\"#m3d2dbd56eb\" x=\"90.93405\" y=\"33.902692\" style=\"fill: #1f77b4; stroke: #1f77b4\"/>\n     <use xlink:href=\"#m3d2dbd56eb\" x=\"135.012054\" y=\"53.323966\" style=\"fill: #1f77b4; stroke: #1f77b4\"/>\n     <use xlink:href=\"#m3d2dbd56eb\" x=\"175.573289\" y=\"83.049093\" style=\"fill: #1f77b4; stroke: #1f77b4\"/>\n     <use xlink:href=\"#m3d2dbd56eb\" x=\"127.486777\" y=\"72.665095\" style=\"fill: #1f77b4; stroke: #1f77b4\"/>\n     <use xlink:href=\"#m3d2dbd56eb\" x=\"192.793559\" y=\"96.937538\" style=\"fill: #1f77b4; stroke: #1f77b4\"/>\n     <use xlink:href=\"#m3d2dbd56eb\" x=\"160.522901\" y=\"83.294042\" style=\"fill: #1f77b4; stroke: #1f77b4\"/>\n     <use xlink:href=\"#m3d2dbd56eb\" x=\"147.345464\" y=\"77.507984\" style=\"fill: #1f77b4; stroke: #1f77b4\"/>\n     <use xlink:href=\"#m3d2dbd56eb\" x=\"142.14033\" y=\"73.32886\" style=\"fill: #1f77b4; stroke: #1f77b4\"/>\n     <use xlink:href=\"#m3d2dbd56eb\" x=\"114.925247\" y=\"66.435231\" style=\"fill: #1f77b4; stroke: #1f77b4\"/>\n     <use xlink:href=\"#m3d2dbd56eb\" x=\"180.443022\" y=\"92.134176\" style=\"fill: #1f77b4; stroke: #1f77b4\"/>\n     <use xlink:href=\"#m3d2dbd56eb\" x=\"134.098975\" y=\"72.826131\" style=\"fill: #1f77b4; stroke: #1f77b4\"/>\n     <use xlink:href=\"#m3d2dbd56eb\" x=\"124.425758\" y=\"55.282152\" style=\"fill: #1f77b4; stroke: #1f77b4\"/>\n     <use xlink:href=\"#m3d2dbd56eb\" x=\"122.030362\" y=\"72.771247\" style=\"fill: #1f77b4; stroke: #1f77b4\"/>\n     <use xlink:href=\"#m3d2dbd56eb\" x=\"148.806365\" y=\"85.125211\" style=\"fill: #1f77b4; stroke: #1f77b4\"/>\n     <use xlink:href=\"#m3d2dbd56eb\" x=\"162.642954\" y=\"88.722925\" style=\"fill: #1f77b4; stroke: #1f77b4\"/>\n     <use xlink:href=\"#m3d2dbd56eb\" x=\"177.256432\" y=\"100.307063\" style=\"fill: #1f77b4; stroke: #1f77b4\"/>\n     <use xlink:href=\"#m3d2dbd56eb\" x=\"187.953148\" y=\"94.028045\" style=\"fill: #1f77b4; stroke: #1f77b4\"/>\n     <use xlink:href=\"#m3d2dbd56eb\" x=\"164.202497\" y=\"75.543619\" style=\"fill: #1f77b4; stroke: #1f77b4\"/>\n     <use xlink:href=\"#m3d2dbd56eb\" x=\"206.627718\" y=\"120.073114\" style=\"fill: #1f77b4; stroke: #1f77b4\"/>\n     <use xlink:href=\"#m3d2dbd56eb\" x=\"163.705103\" y=\"78.993053\" style=\"fill: #1f77b4; stroke: #1f77b4\"/>\n     <use xlink:href=\"#m3d2dbd56eb\" x=\"161.457535\" y=\"92.710674\" style=\"fill: #1f77b4; stroke: #1f77b4\"/>\n     <use xlink:href=\"#m3d2dbd56eb\" x=\"96.603601\" y=\"49.245483\" style=\"fill: #1f77b4; stroke: #1f77b4\"/>\n     <use xlink:href=\"#m3d2dbd56eb\" x=\"172.308745\" y=\"93.294762\" style=\"fill: #1f77b4; stroke: #1f77b4\"/>\n     <use xlink:href=\"#m3d2dbd56eb\" x=\"123.401273\" y=\"66.945306\" style=\"fill: #1f77b4; stroke: #1f77b4\"/>\n     <use xlink:href=\"#m3d2dbd56eb\" x=\"149.106818\" y=\"64.461049\" style=\"fill: #1f77b4; stroke: #1f77b4\"/>\n     <use xlink:href=\"#m3d2dbd56eb\" x=\"172.346061\" y=\"84.407145\" style=\"fill: #1f77b4; stroke: #1f77b4\"/>\n     <use xlink:href=\"#m3d2dbd56eb\" x=\"86.864413\" y=\"58.503185\" style=\"fill: #1f77b4; stroke: #1f77b4\"/>\n     <use xlink:href=\"#m3d2dbd56eb\" x=\"150.60379\" y=\"64.388218\" style=\"fill: #1f77b4; stroke: #1f77b4\"/>\n     <use xlink:href=\"#m3d2dbd56eb\" x=\"175.648726\" y=\"108.947197\" style=\"fill: #1f77b4; stroke: #1f77b4\"/>\n     <use xlink:href=\"#m3d2dbd56eb\" x=\"140.760852\" y=\"83.003174\" style=\"fill: #1f77b4; stroke: #1f77b4\"/>\n     <use xlink:href=\"#m3d2dbd56eb\" x=\"74.289145\" y=\"30.71566\" style=\"fill: #1f77b4; stroke: #1f77b4\"/>\n     <use xlink:href=\"#m3d2dbd56eb\" x=\"114.852958\" y=\"46.054453\" style=\"fill: #1f77b4; stroke: #1f77b4\"/>\n     <use xlink:href=\"#m3d2dbd56eb\" x=\"126.188391\" y=\"53.474933\" style=\"fill: #1f77b4; stroke: #1f77b4\"/>\n     <use xlink:href=\"#m3d2dbd56eb\" x=\"191.350484\" y=\"95.453525\" style=\"fill: #1f77b4; stroke: #1f77b4\"/>\n     <use xlink:href=\"#m3d2dbd56eb\" x=\"149.293885\" y=\"66.86713\" style=\"fill: #1f77b4; stroke: #1f77b4\"/>\n     <use xlink:href=\"#m3d2dbd56eb\" x=\"211.899749\" y=\"124.583183\" style=\"fill: #1f77b4; stroke: #1f77b4\"/>\n     <use xlink:href=\"#m3d2dbd56eb\" x=\"135.014697\" y=\"57.265452\" style=\"fill: #1f77b4; stroke: #1f77b4\"/>\n     <use xlink:href=\"#m3d2dbd56eb\" x=\"84.563238\" y=\"43.056408\" style=\"fill: #1f77b4; stroke: #1f77b4\"/>\n     <use xlink:href=\"#m3d2dbd56eb\" x=\"144.198741\" y=\"80.278146\" style=\"fill: #1f77b4; stroke: #1f77b4\"/>\n     <use xlink:href=\"#m3d2dbd56eb\" x=\"142.107111\" y=\"85.981077\" style=\"fill: #1f77b4; stroke: #1f77b4\"/>\n     <use xlink:href=\"#m3d2dbd56eb\" x=\"136.993961\" y=\"57.25746\" style=\"fill: #1f77b4; stroke: #1f77b4\"/>\n     <use xlink:href=\"#m3d2dbd56eb\" x=\"163.282286\" y=\"89.912678\" style=\"fill: #1f77b4; stroke: #1f77b4\"/>\n     <use xlink:href=\"#m3d2dbd56eb\" x=\"138.249408\" y=\"60.244401\" style=\"fill: #1f77b4; stroke: #1f77b4\"/>\n     <use xlink:href=\"#m3d2dbd56eb\" x=\"203.164143\" y=\"102.092855\" style=\"fill: #1f77b4; stroke: #1f77b4\"/>\n     <use xlink:href=\"#m3d2dbd56eb\" x=\"123.524686\" y=\"62.037341\" style=\"fill: #1f77b4; stroke: #1f77b4\"/>\n     <use xlink:href=\"#m3d2dbd56eb\" x=\"143.26002\" y=\"55.460025\" style=\"fill: #1f77b4; stroke: #1f77b4\"/>\n     <use xlink:href=\"#m3d2dbd56eb\" x=\"139.683216\" y=\"68.42153\" style=\"fill: #1f77b4; stroke: #1f77b4\"/>\n     <use xlink:href=\"#m3d2dbd56eb\" x=\"146.600144\" y=\"74.010176\" style=\"fill: #1f77b4; stroke: #1f77b4\"/>\n     <use xlink:href=\"#m3d2dbd56eb\" x=\"175.120483\" y=\"98.105864\" style=\"fill: #1f77b4; stroke: #1f77b4\"/>\n     <use xlink:href=\"#m3d2dbd56eb\" x=\"132.196639\" y=\"58.832246\" style=\"fill: #1f77b4; stroke: #1f77b4\"/>\n     <use xlink:href=\"#m3d2dbd56eb\" x=\"197.660744\" y=\"90.231866\" style=\"fill: #1f77b4; stroke: #1f77b4\"/>\n     <use xlink:href=\"#m3d2dbd56eb\" x=\"142.40221\" y=\"62.220227\" style=\"fill: #1f77b4; stroke: #1f77b4\"/>\n     <use xlink:href=\"#m3d2dbd56eb\" x=\"122.876328\" y=\"72.034979\" style=\"fill: #1f77b4; stroke: #1f77b4\"/>\n     <use xlink:href=\"#m3d2dbd56eb\" x=\"131.70213\" y=\"67.650398\" style=\"fill: #1f77b4; stroke: #1f77b4\"/>\n     <use xlink:href=\"#m3d2dbd56eb\" x=\"162.988954\" y=\"83.867299\" style=\"fill: #1f77b4; stroke: #1f77b4\"/>\n     <use xlink:href=\"#m3d2dbd56eb\" x=\"145.667688\" y=\"79.825806\" style=\"fill: #1f77b4; stroke: #1f77b4\"/>\n     <use xlink:href=\"#m3d2dbd56eb\" x=\"137.974257\" y=\"73.984326\" style=\"fill: #1f77b4; stroke: #1f77b4\"/>\n     <use xlink:href=\"#m3d2dbd56eb\" x=\"156.03908\" y=\"69.730492\" style=\"fill: #1f77b4; stroke: #1f77b4\"/>\n     <use xlink:href=\"#m3d2dbd56eb\" x=\"113.717973\" y=\"41.739603\" style=\"fill: #1f77b4; stroke: #1f77b4\"/>\n     <use xlink:href=\"#m3d2dbd56eb\" x=\"143.850231\" y=\"72.93847\" style=\"fill: #1f77b4; stroke: #1f77b4\"/>\n     <use xlink:href=\"#m3d2dbd56eb\" x=\"139.400322\" y=\"58.525855\" style=\"fill: #1f77b4; stroke: #1f77b4\"/>\n     <use xlink:href=\"#m3d2dbd56eb\" x=\"107.2987\" y=\"44.70634\" style=\"fill: #1f77b4; stroke: #1f77b4\"/>\n     <use xlink:href=\"#m3d2dbd56eb\" x=\"162.588492\" y=\"70.628438\" style=\"fill: #1f77b4; stroke: #1f77b4\"/>\n     <use xlink:href=\"#m3d2dbd56eb\" x=\"152.61002\" y=\"71.159231\" style=\"fill: #1f77b4; stroke: #1f77b4\"/>\n     <use xlink:href=\"#m3d2dbd56eb\" x=\"111.202915\" y=\"57.752039\" style=\"fill: #1f77b4; stroke: #1f77b4\"/>\n     <use xlink:href=\"#m3d2dbd56eb\" x=\"93.642342\" y=\"43.318069\" style=\"fill: #1f77b4; stroke: #1f77b4\"/>\n     <use xlink:href=\"#m3d2dbd56eb\" x=\"123.828354\" y=\"73.580582\" style=\"fill: #1f77b4; stroke: #1f77b4\"/>\n     <use xlink:href=\"#m3d2dbd56eb\" x=\"126.565595\" y=\"63.919602\" style=\"fill: #1f77b4; stroke: #1f77b4\"/>\n     <use xlink:href=\"#m3d2dbd56eb\" x=\"109.730201\" y=\"53.584421\" style=\"fill: #1f77b4; stroke: #1f77b4\"/>\n     <use xlink:href=\"#m3d2dbd56eb\" x=\"158.013374\" y=\"82.781409\" style=\"fill: #1f77b4; stroke: #1f77b4\"/>\n     <use xlink:href=\"#m3d2dbd56eb\" x=\"160.836384\" y=\"93.839624\" style=\"fill: #1f77b4; stroke: #1f77b4\"/>\n     <use xlink:href=\"#m3d2dbd56eb\" x=\"173.948995\" y=\"93.191937\" style=\"fill: #1f77b4; stroke: #1f77b4\"/>\n     <use xlink:href=\"#m3d2dbd56eb\" x=\"170.245451\" y=\"102.753209\" style=\"fill: #1f77b4; stroke: #1f77b4\"/>\n     <use xlink:href=\"#m3d2dbd56eb\" x=\"148.368349\" y=\"68.233657\" style=\"fill: #1f77b4; stroke: #1f77b4\"/>\n     <use xlink:href=\"#m3d2dbd56eb\" x=\"123.206523\" y=\"61.681324\" style=\"fill: #1f77b4; stroke: #1f77b4\"/>\n     <use xlink:href=\"#m3d2dbd56eb\" x=\"178.471483\" y=\"82.296752\" style=\"fill: #1f77b4; stroke: #1f77b4\"/>\n     <use xlink:href=\"#m3d2dbd56eb\" x=\"170.297447\" y=\"90.824293\" style=\"fill: #1f77b4; stroke: #1f77b4\"/>\n     <use xlink:href=\"#m3d2dbd56eb\" x=\"167.05455\" y=\"85.408733\" style=\"fill: #1f77b4; stroke: #1f77b4\"/>\n     <use xlink:href=\"#m3d2dbd56eb\" x=\"119.993821\" y=\"61.668556\" style=\"fill: #1f77b4; stroke: #1f77b4\"/>\n     <use xlink:href=\"#m3d2dbd56eb\" x=\"160.388708\" y=\"91.73872\" style=\"fill: #1f77b4; stroke: #1f77b4\"/>\n     <use xlink:href=\"#m3d2dbd56eb\" x=\"217.428242\" y=\"122.530157\" style=\"fill: #1f77b4; stroke: #1f77b4\"/>\n     <use xlink:href=\"#m3d2dbd56eb\" x=\"130.207341\" y=\"56.875694\" style=\"fill: #1f77b4; stroke: #1f77b4\"/>\n     <use xlink:href=\"#m3d2dbd56eb\" x=\"163.316355\" y=\"77.076249\" style=\"fill: #1f77b4; stroke: #1f77b4\"/>\n     <use xlink:href=\"#m3d2dbd56eb\" x=\"127.882496\" y=\"61.740844\" style=\"fill: #1f77b4; stroke: #1f77b4\"/>\n     <use xlink:href=\"#m3d2dbd56eb\" x=\"137.430917\" y=\"68.935288\" style=\"fill: #1f77b4; stroke: #1f77b4\"/>\n     <use xlink:href=\"#m3d2dbd56eb\" x=\"150.905941\" y=\"75.90309\" style=\"fill: #1f77b4; stroke: #1f77b4\"/>\n     <use xlink:href=\"#m3d2dbd56eb\" x=\"173.121574\" y=\"101.99013\" style=\"fill: #1f77b4; stroke: #1f77b4\"/>\n     <use xlink:href=\"#m3d2dbd56eb\" x=\"156.187634\" y=\"88.100552\" style=\"fill: #1f77b4; stroke: #1f77b4\"/>\n     <use xlink:href=\"#m3d2dbd56eb\" x=\"98.407812\" y=\"64.075127\" style=\"fill: #1f77b4; stroke: #1f77b4\"/>\n     <use xlink:href=\"#m3d2dbd56eb\" x=\"147.553678\" y=\"56.913911\" style=\"fill: #1f77b4; stroke: #1f77b4\"/>\n     <use xlink:href=\"#m3d2dbd56eb\" x=\"110.305468\" y=\"61.941603\" style=\"fill: #1f77b4; stroke: #1f77b4\"/>\n     <use xlink:href=\"#m3d2dbd56eb\" x=\"112.599846\" y=\"66.543254\" style=\"fill: #1f77b4; stroke: #1f77b4\"/>\n     <use xlink:href=\"#m3d2dbd56eb\" x=\"148.115507\" y=\"65.916456\" style=\"fill: #1f77b4; stroke: #1f77b4\"/>\n     <use xlink:href=\"#m3d2dbd56eb\" x=\"166.466039\" y=\"89.860865\" style=\"fill: #1f77b4; stroke: #1f77b4\"/>\n     <use xlink:href=\"#m3d2dbd56eb\" x=\"139.432257\" y=\"66.183176\" style=\"fill: #1f77b4; stroke: #1f77b4\"/>\n     <use xlink:href=\"#m3d2dbd56eb\" x=\"149.648047\" y=\"64.012322\" style=\"fill: #1f77b4; stroke: #1f77b4\"/>\n     <use xlink:href=\"#m3d2dbd56eb\" x=\"113.521814\" y=\"60.350931\" style=\"fill: #1f77b4; stroke: #1f77b4\"/>\n     <use xlink:href=\"#m3d2dbd56eb\" x=\"134.83109\" y=\"69.969023\" style=\"fill: #1f77b4; stroke: #1f77b4\"/>\n     <use xlink:href=\"#m3d2dbd56eb\" x=\"147.61119\" y=\"64.964266\" style=\"fill: #1f77b4; stroke: #1f77b4\"/>\n     <use xlink:href=\"#m3d2dbd56eb\" x=\"153.905954\" y=\"88.726197\" style=\"fill: #1f77b4; stroke: #1f77b4\"/>\n     <use xlink:href=\"#m3d2dbd56eb\" x=\"155.401107\" y=\"82.558343\" style=\"fill: #1f77b4; stroke: #1f77b4\"/>\n     <use xlink:href=\"#m3d2dbd56eb\" x=\"126.375045\" y=\"69.030425\" style=\"fill: #1f77b4; stroke: #1f77b4\"/>\n     <use xlink:href=\"#m3d2dbd56eb\" x=\"131.022097\" y=\"70.228164\" style=\"fill: #1f77b4; stroke: #1f77b4\"/>\n     <use xlink:href=\"#m3d2dbd56eb\" x=\"127.797143\" y=\"61.581277\" style=\"fill: #1f77b4; stroke: #1f77b4\"/>\n     <use xlink:href=\"#m3d2dbd56eb\" x=\"152.196033\" y=\"87.192749\" style=\"fill: #1f77b4; stroke: #1f77b4\"/>\n     <use xlink:href=\"#m3d2dbd56eb\" x=\"131.57874\" y=\"88.855333\" style=\"fill: #1f77b4; stroke: #1f77b4\"/>\n     <use xlink:href=\"#m3d2dbd56eb\" x=\"124.008925\" y=\"64.077762\" style=\"fill: #1f77b4; stroke: #1f77b4\"/>\n     <use xlink:href=\"#m3d2dbd56eb\" x=\"155.400555\" y=\"81.323281\" style=\"fill: #1f77b4; stroke: #1f77b4\"/>\n     <use xlink:href=\"#m3d2dbd56eb\" x=\"134.175297\" y=\"66.552077\" style=\"fill: #1f77b4; stroke: #1f77b4\"/>\n     <use xlink:href=\"#m3d2dbd56eb\" x=\"152.887578\" y=\"69.731233\" style=\"fill: #1f77b4; stroke: #1f77b4\"/>\n     <use xlink:href=\"#m3d2dbd56eb\" x=\"150.532303\" y=\"71.640747\" style=\"fill: #1f77b4; stroke: #1f77b4\"/>\n     <use xlink:href=\"#m3d2dbd56eb\" x=\"44.18196\" y=\"16.006286\" style=\"fill: #1f77b4; stroke: #1f77b4\"/>\n     <use xlink:href=\"#m3d2dbd56eb\" x=\"144.646991\" y=\"68.10774\" style=\"fill: #1f77b4; stroke: #1f77b4\"/>\n     <use xlink:href=\"#m3d2dbd56eb\" x=\"164.521374\" y=\"93.809599\" style=\"fill: #1f77b4; stroke: #1f77b4\"/>\n     <use xlink:href=\"#m3d2dbd56eb\" x=\"127.383538\" y=\"75.017145\" style=\"fill: #1f77b4; stroke: #1f77b4\"/>\n     <use xlink:href=\"#m3d2dbd56eb\" x=\"143.309547\" y=\"74.68853\" style=\"fill: #1f77b4; stroke: #1f77b4\"/>\n     <use xlink:href=\"#m3d2dbd56eb\" x=\"114.297523\" y=\"75.783951\" style=\"fill: #1f77b4; stroke: #1f77b4\"/>\n     <use xlink:href=\"#m3d2dbd56eb\" x=\"109.907718\" y=\"22.394903\" style=\"fill: #1f77b4; stroke: #1f77b4\"/>\n     <use xlink:href=\"#m3d2dbd56eb\" x=\"109.684429\" y=\"41.33907\" style=\"fill: #1f77b4; stroke: #1f77b4\"/>\n     <use xlink:href=\"#m3d2dbd56eb\" x=\"118.634526\" y=\"63.419086\" style=\"fill: #1f77b4; stroke: #1f77b4\"/>\n     <use xlink:href=\"#m3d2dbd56eb\" x=\"155.667329\" y=\"84.655614\" style=\"fill: #1f77b4; stroke: #1f77b4\"/>\n     <use xlink:href=\"#m3d2dbd56eb\" x=\"97.706818\" y=\"46.854587\" style=\"fill: #1f77b4; stroke: #1f77b4\"/>\n     <use xlink:href=\"#m3d2dbd56eb\" x=\"98.176349\" y=\"47.872643\" style=\"fill: #1f77b4; stroke: #1f77b4\"/>\n     <use xlink:href=\"#m3d2dbd56eb\" x=\"167.180388\" y=\"95.195297\" style=\"fill: #1f77b4; stroke: #1f77b4\"/>\n     <use xlink:href=\"#m3d2dbd56eb\" x=\"154.437907\" y=\"80.844144\" style=\"fill: #1f77b4; stroke: #1f77b4\"/>\n     <use xlink:href=\"#m3d2dbd56eb\" x=\"151.11929\" y=\"73.574008\" style=\"fill: #1f77b4; stroke: #1f77b4\"/>\n     <use xlink:href=\"#m3d2dbd56eb\" x=\"158.723551\" y=\"87.030418\" style=\"fill: #1f77b4; stroke: #1f77b4\"/>\n     <use xlink:href=\"#m3d2dbd56eb\" x=\"189.37708\" y=\"100.504584\" style=\"fill: #1f77b4; stroke: #1f77b4\"/>\n     <use xlink:href=\"#m3d2dbd56eb\" x=\"87.717096\" y=\"31.532204\" style=\"fill: #1f77b4; stroke: #1f77b4\"/>\n     <use xlink:href=\"#m3d2dbd56eb\" x=\"138.074052\" y=\"77.841158\" style=\"fill: #1f77b4; stroke: #1f77b4\"/>\n     <use xlink:href=\"#m3d2dbd56eb\" x=\"103.311519\" y=\"57.844234\" style=\"fill: #1f77b4; stroke: #1f77b4\"/>\n     <use xlink:href=\"#m3d2dbd56eb\" x=\"102.34059\" y=\"58.218262\" style=\"fill: #1f77b4; stroke: #1f77b4\"/>\n     <use xlink:href=\"#m3d2dbd56eb\" x=\"145.125638\" y=\"89.540105\" style=\"fill: #1f77b4; stroke: #1f77b4\"/>\n     <use xlink:href=\"#m3d2dbd56eb\" x=\"193.896249\" y=\"98.209826\" style=\"fill: #1f77b4; stroke: #1f77b4\"/>\n     <use xlink:href=\"#m3d2dbd56eb\" x=\"127.806989\" y=\"47.383448\" style=\"fill: #1f77b4; stroke: #1f77b4\"/>\n     <use xlink:href=\"#m3d2dbd56eb\" x=\"144.982591\" y=\"70.683948\" style=\"fill: #1f77b4; stroke: #1f77b4\"/>\n     <use xlink:href=\"#m3d2dbd56eb\" x=\"125.646015\" y=\"79.723469\" style=\"fill: #1f77b4; stroke: #1f77b4\"/>\n     <use xlink:href=\"#m3d2dbd56eb\" x=\"116.552184\" y=\"66.327317\" style=\"fill: #1f77b4; stroke: #1f77b4\"/>\n     <use xlink:href=\"#m3d2dbd56eb\" x=\"164.577219\" y=\"82.080457\" style=\"fill: #1f77b4; stroke: #1f77b4\"/>\n     <use xlink:href=\"#m3d2dbd56eb\" x=\"174.674784\" y=\"92.303475\" style=\"fill: #1f77b4; stroke: #1f77b4\"/>\n     <use xlink:href=\"#m3d2dbd56eb\" x=\"105.850335\" y=\"61.982177\" style=\"fill: #1f77b4; stroke: #1f77b4\"/>\n     <use xlink:href=\"#m3d2dbd56eb\" x=\"161.644085\" y=\"83.107063\" style=\"fill: #1f77b4; stroke: #1f77b4\"/>\n     <use xlink:href=\"#m3d2dbd56eb\" x=\"166.881275\" y=\"89.159784\" style=\"fill: #1f77b4; stroke: #1f77b4\"/>\n     <use xlink:href=\"#m3d2dbd56eb\" x=\"145.365632\" y=\"66.044978\" style=\"fill: #1f77b4; stroke: #1f77b4\"/>\n     <use xlink:href=\"#m3d2dbd56eb\" x=\"169.063928\" y=\"99.231548\" style=\"fill: #1f77b4; stroke: #1f77b4\"/>\n     <use xlink:href=\"#m3d2dbd56eb\" x=\"170.747128\" y=\"78.303446\" style=\"fill: #1f77b4; stroke: #1f77b4\"/>\n     <use xlink:href=\"#m3d2dbd56eb\" x=\"172.110471\" y=\"96.026186\" style=\"fill: #1f77b4; stroke: #1f77b4\"/>\n     <use xlink:href=\"#m3d2dbd56eb\" x=\"165.927125\" y=\"95.400764\" style=\"fill: #1f77b4; stroke: #1f77b4\"/>\n     <use xlink:href=\"#m3d2dbd56eb\" x=\"144.371423\" y=\"64.046643\" style=\"fill: #1f77b4; stroke: #1f77b4\"/>\n     <use xlink:href=\"#m3d2dbd56eb\" x=\"140.722977\" y=\"83.099164\" style=\"fill: #1f77b4; stroke: #1f77b4\"/>\n     <use xlink:href=\"#m3d2dbd56eb\" x=\"143.017692\" y=\"59.543978\" style=\"fill: #1f77b4; stroke: #1f77b4\"/>\n     <use xlink:href=\"#m3d2dbd56eb\" x=\"148.020426\" y=\"95.888546\" style=\"fill: #1f77b4; stroke: #1f77b4\"/>\n     <use xlink:href=\"#m3d2dbd56eb\" x=\"192.837013\" y=\"121.901986\" style=\"fill: #1f77b4; stroke: #1f77b4\"/>\n     <use xlink:href=\"#m3d2dbd56eb\" x=\"180.644415\" y=\"92.548601\" style=\"fill: #1f77b4; stroke: #1f77b4\"/>\n     <use xlink:href=\"#m3d2dbd56eb\" x=\"128.801806\" y=\"53.832759\" style=\"fill: #1f77b4; stroke: #1f77b4\"/>\n     <use xlink:href=\"#m3d2dbd56eb\" x=\"156.721318\" y=\"79.852471\" style=\"fill: #1f77b4; stroke: #1f77b4\"/>\n     <use xlink:href=\"#m3d2dbd56eb\" x=\"107.091943\" y=\"70.800174\" style=\"fill: #1f77b4; stroke: #1f77b4\"/>\n     <use xlink:href=\"#m3d2dbd56eb\" x=\"133.543425\" y=\"53.335196\" style=\"fill: #1f77b4; stroke: #1f77b4\"/>\n     <use xlink:href=\"#m3d2dbd56eb\" x=\"190.243131\" y=\"95.7792\" style=\"fill: #1f77b4; stroke: #1f77b4\"/>\n     <use xlink:href=\"#m3d2dbd56eb\" x=\"127.708969\" y=\"58.830623\" style=\"fill: #1f77b4; stroke: #1f77b4\"/>\n     <use xlink:href=\"#m3d2dbd56eb\" x=\"117.265866\" y=\"74.384475\" style=\"fill: #1f77b4; stroke: #1f77b4\"/>\n     <use xlink:href=\"#m3d2dbd56eb\" x=\"157.833031\" y=\"77.571198\" style=\"fill: #1f77b4; stroke: #1f77b4\"/>\n     <use xlink:href=\"#m3d2dbd56eb\" x=\"141.098408\" y=\"73.175556\" style=\"fill: #1f77b4; stroke: #1f77b4\"/>\n     <use xlink:href=\"#m3d2dbd56eb\" x=\"153.153606\" y=\"84.718094\" style=\"fill: #1f77b4; stroke: #1f77b4\"/>\n     <use xlink:href=\"#m3d2dbd56eb\" x=\"151.283099\" y=\"91.308449\" style=\"fill: #1f77b4; stroke: #1f77b4\"/>\n     <use xlink:href=\"#m3d2dbd56eb\" x=\"131.768666\" y=\"60.019881\" style=\"fill: #1f77b4; stroke: #1f77b4\"/>\n     <use xlink:href=\"#m3d2dbd56eb\" x=\"166.822876\" y=\"86.775675\" style=\"fill: #1f77b4; stroke: #1f77b4\"/>\n     <use xlink:href=\"#m3d2dbd56eb\" x=\"169.939894\" y=\"82.845758\" style=\"fill: #1f77b4; stroke: #1f77b4\"/>\n     <use xlink:href=\"#m3d2dbd56eb\" x=\"138.301131\" y=\"76.230309\" style=\"fill: #1f77b4; stroke: #1f77b4\"/>\n     <use xlink:href=\"#m3d2dbd56eb\" x=\"159.591398\" y=\"72.961392\" style=\"fill: #1f77b4; stroke: #1f77b4\"/>\n     <use xlink:href=\"#m3d2dbd56eb\" x=\"127.424952\" y=\"41.571791\" style=\"fill: #1f77b4; stroke: #1f77b4\"/>\n     <use xlink:href=\"#m3d2dbd56eb\" x=\"146.415021\" y=\"76.904512\" style=\"fill: #1f77b4; stroke: #1f77b4\"/>\n     <use xlink:href=\"#m3d2dbd56eb\" x=\"135.070001\" y=\"65.358407\" style=\"fill: #1f77b4; stroke: #1f77b4\"/>\n     <use xlink:href=\"#m3d2dbd56eb\" x=\"200.063215\" y=\"134.900894\" style=\"fill: #1f77b4; stroke: #1f77b4\"/>\n     <use xlink:href=\"#m3d2dbd56eb\" x=\"141.240353\" y=\"83.91839\" style=\"fill: #1f77b4; stroke: #1f77b4\"/>\n     <use xlink:href=\"#m3d2dbd56eb\" x=\"129.317525\" y=\"68.393945\" style=\"fill: #1f77b4; stroke: #1f77b4\"/>\n     <use xlink:href=\"#m3d2dbd56eb\" x=\"146.308567\" y=\"87.938706\" style=\"fill: #1f77b4; stroke: #1f77b4\"/>\n     <use xlink:href=\"#m3d2dbd56eb\" x=\"157.210169\" y=\"87.127431\" style=\"fill: #1f77b4; stroke: #1f77b4\"/>\n     <use xlink:href=\"#m3d2dbd56eb\" x=\"85.157964\" y=\"42.970208\" style=\"fill: #1f77b4; stroke: #1f77b4\"/>\n     <use xlink:href=\"#m3d2dbd56eb\" x=\"116.562523\" y=\"48.099968\" style=\"fill: #1f77b4; stroke: #1f77b4\"/>\n     <use xlink:href=\"#m3d2dbd56eb\" x=\"205.990627\" y=\"110.863703\" style=\"fill: #1f77b4; stroke: #1f77b4\"/>\n     <use xlink:href=\"#m3d2dbd56eb\" x=\"165.582422\" y=\"71.23251\" style=\"fill: #1f77b4; stroke: #1f77b4\"/>\n     <use xlink:href=\"#m3d2dbd56eb\" x=\"150.11413\" y=\"62.377535\" style=\"fill: #1f77b4; stroke: #1f77b4\"/>\n     <use xlink:href=\"#m3d2dbd56eb\" x=\"138.905212\" y=\"83.262554\" style=\"fill: #1f77b4; stroke: #1f77b4\"/>\n     <use xlink:href=\"#m3d2dbd56eb\" x=\"178.367945\" y=\"99.329646\" style=\"fill: #1f77b4; stroke: #1f77b4\"/>\n     <use xlink:href=\"#m3d2dbd56eb\" x=\"66.96936\" y=\"13.5\" style=\"fill: #1f77b4; stroke: #1f77b4\"/>\n     <use xlink:href=\"#m3d2dbd56eb\" x=\"165.96294\" y=\"94.266165\" style=\"fill: #1f77b4; stroke: #1f77b4\"/>\n     <use xlink:href=\"#m3d2dbd56eb\" x=\"181.414336\" y=\"94.45737\" style=\"fill: #1f77b4; stroke: #1f77b4\"/>\n     <use xlink:href=\"#m3d2dbd56eb\" x=\"138.221234\" y=\"54.99019\" style=\"fill: #1f77b4; stroke: #1f77b4\"/>\n     <use xlink:href=\"#m3d2dbd56eb\" x=\"136.32038\" y=\"78.352599\" style=\"fill: #1f77b4; stroke: #1f77b4\"/>\n     <use xlink:href=\"#m3d2dbd56eb\" x=\"165.416923\" y=\"78.461093\" style=\"fill: #1f77b4; stroke: #1f77b4\"/>\n     <use xlink:href=\"#m3d2dbd56eb\" x=\"129.262165\" y=\"55.988032\" style=\"fill: #1f77b4; stroke: #1f77b4\"/>\n     <use xlink:href=\"#m3d2dbd56eb\" x=\"163.468514\" y=\"80.669132\" style=\"fill: #1f77b4; stroke: #1f77b4\"/>\n     <use xlink:href=\"#m3d2dbd56eb\" x=\"70.047392\" y=\"27.768176\" style=\"fill: #1f77b4; stroke: #1f77b4\"/>\n     <use xlink:href=\"#m3d2dbd56eb\" x=\"91.334168\" y=\"39.350657\" style=\"fill: #1f77b4; stroke: #1f77b4\"/>\n     <use xlink:href=\"#m3d2dbd56eb\" x=\"140.822969\" y=\"80.487514\" style=\"fill: #1f77b4; stroke: #1f77b4\"/>\n     <use xlink:href=\"#m3d2dbd56eb\" x=\"141.075782\" y=\"61.088002\" style=\"fill: #1f77b4; stroke: #1f77b4\"/>\n     <use xlink:href=\"#m3d2dbd56eb\" x=\"154.934397\" y=\"76.960423\" style=\"fill: #1f77b4; stroke: #1f77b4\"/>\n     <use xlink:href=\"#m3d2dbd56eb\" x=\"96.939527\" y=\"40.735664\" style=\"fill: #1f77b4; stroke: #1f77b4\"/>\n     <use xlink:href=\"#m3d2dbd56eb\" x=\"65.243944\" y=\"26.106523\" style=\"fill: #1f77b4; stroke: #1f77b4\"/>\n     <use xlink:href=\"#m3d2dbd56eb\" x=\"109.148433\" y=\"61.129112\" style=\"fill: #1f77b4; stroke: #1f77b4\"/>\n     <use xlink:href=\"#m3d2dbd56eb\" x=\"109.134075\" y=\"52.52288\" style=\"fill: #1f77b4; stroke: #1f77b4\"/>\n     <use xlink:href=\"#m3d2dbd56eb\" x=\"133.694111\" y=\"64.457123\" style=\"fill: #1f77b4; stroke: #1f77b4\"/>\n     <use xlink:href=\"#m3d2dbd56eb\" x=\"151.055565\" y=\"62.914994\" style=\"fill: #1f77b4; stroke: #1f77b4\"/>\n     <use xlink:href=\"#m3d2dbd56eb\" x=\"144.314714\" y=\"96.725923\" style=\"fill: #1f77b4; stroke: #1f77b4\"/>\n     <use xlink:href=\"#m3d2dbd56eb\" x=\"133.036709\" y=\"65.517176\" style=\"fill: #1f77b4; stroke: #1f77b4\"/>\n     <use xlink:href=\"#m3d2dbd56eb\" x=\"149.664814\" y=\"90.009832\" style=\"fill: #1f77b4; stroke: #1f77b4\"/>\n     <use xlink:href=\"#m3d2dbd56eb\" x=\"159.524042\" y=\"79.462405\" style=\"fill: #1f77b4; stroke: #1f77b4\"/>\n     <use xlink:href=\"#m3d2dbd56eb\" x=\"216.701234\" y=\"114.934062\" style=\"fill: #1f77b4; stroke: #1f77b4\"/>\n     <use xlink:href=\"#m3d2dbd56eb\" x=\"139.383203\" y=\"83.42091\" style=\"fill: #1f77b4; stroke: #1f77b4\"/>\n     <use xlink:href=\"#m3d2dbd56eb\" x=\"123.604782\" y=\"55.825645\" style=\"fill: #1f77b4; stroke: #1f77b4\"/>\n     <use xlink:href=\"#m3d2dbd56eb\" x=\"158.612738\" y=\"95.34339\" style=\"fill: #1f77b4; stroke: #1f77b4\"/>\n     <use xlink:href=\"#m3d2dbd56eb\" x=\"102.548447\" y=\"58.506923\" style=\"fill: #1f77b4; stroke: #1f77b4\"/>\n     <use xlink:href=\"#m3d2dbd56eb\" x=\"145.742878\" y=\"75.089478\" style=\"fill: #1f77b4; stroke: #1f77b4\"/>\n     <use xlink:href=\"#m3d2dbd56eb\" x=\"117.357084\" y=\"65.954611\" style=\"fill: #1f77b4; stroke: #1f77b4\"/>\n     <use xlink:href=\"#m3d2dbd56eb\" x=\"178.168153\" y=\"81.752732\" style=\"fill: #1f77b4; stroke: #1f77b4\"/>\n     <use xlink:href=\"#m3d2dbd56eb\" x=\"136.079572\" y=\"70.112019\" style=\"fill: #1f77b4; stroke: #1f77b4\"/>\n     <use xlink:href=\"#m3d2dbd56eb\" x=\"171.045383\" y=\"94.648468\" style=\"fill: #1f77b4; stroke: #1f77b4\"/>\n     <use xlink:href=\"#m3d2dbd56eb\" x=\"147.372125\" y=\"69.953606\" style=\"fill: #1f77b4; stroke: #1f77b4\"/>\n     <use xlink:href=\"#m3d2dbd56eb\" x=\"149.323942\" y=\"82.276505\" style=\"fill: #1f77b4; stroke: #1f77b4\"/>\n     <use xlink:href=\"#m3d2dbd56eb\" x=\"120.274167\" y=\"66.665584\" style=\"fill: #1f77b4; stroke: #1f77b4\"/>\n     <use xlink:href=\"#m3d2dbd56eb\" x=\"135.991895\" y=\"59.41049\" style=\"fill: #1f77b4; stroke: #1f77b4\"/>\n     <use xlink:href=\"#m3d2dbd56eb\" x=\"152.192009\" y=\"76.524709\" style=\"fill: #1f77b4; stroke: #1f77b4\"/>\n     <use xlink:href=\"#m3d2dbd56eb\" x=\"168.92098\" y=\"74.131766\" style=\"fill: #1f77b4; stroke: #1f77b4\"/>\n     <use xlink:href=\"#m3d2dbd56eb\" x=\"167.895478\" y=\"89.396882\" style=\"fill: #1f77b4; stroke: #1f77b4\"/>\n     <use xlink:href=\"#m3d2dbd56eb\" x=\"106.078838\" y=\"51.085762\" style=\"fill: #1f77b4; stroke: #1f77b4\"/>\n     <use xlink:href=\"#m3d2dbd56eb\" x=\"156.135602\" y=\"80.910172\" style=\"fill: #1f77b4; stroke: #1f77b4\"/>\n     <use xlink:href=\"#m3d2dbd56eb\" x=\"193.919898\" y=\"83.299962\" style=\"fill: #1f77b4; stroke: #1f77b4\"/>\n     <use xlink:href=\"#m3d2dbd56eb\" x=\"205.053941\" y=\"108.827156\" style=\"fill: #1f77b4; stroke: #1f77b4\"/>\n     <use xlink:href=\"#m3d2dbd56eb\" x=\"125.785871\" y=\"65.850823\" style=\"fill: #1f77b4; stroke: #1f77b4\"/>\n     <use xlink:href=\"#m3d2dbd56eb\" x=\"134.751328\" y=\"56.699332\" style=\"fill: #1f77b4; stroke: #1f77b4\"/>\n     <use xlink:href=\"#m3d2dbd56eb\" x=\"100.594171\" y=\"64.963966\" style=\"fill: #1f77b4; stroke: #1f77b4\"/>\n     <use xlink:href=\"#m3d2dbd56eb\" x=\"108.328254\" y=\"46.819495\" style=\"fill: #1f77b4; stroke: #1f77b4\"/>\n     <use xlink:href=\"#m3d2dbd56eb\" x=\"119.655224\" y=\"58.527522\" style=\"fill: #1f77b4; stroke: #1f77b4\"/>\n     <use xlink:href=\"#m3d2dbd56eb\" x=\"163.409687\" y=\"83.9162\" style=\"fill: #1f77b4; stroke: #1f77b4\"/>\n     <use xlink:href=\"#m3d2dbd56eb\" x=\"126.791945\" y=\"72.562055\" style=\"fill: #1f77b4; stroke: #1f77b4\"/>\n     <use xlink:href=\"#m3d2dbd56eb\" x=\"134.583018\" y=\"61.833308\" style=\"fill: #1f77b4; stroke: #1f77b4\"/>\n     <use xlink:href=\"#m3d2dbd56eb\" x=\"134.61969\" y=\"59.808293\" style=\"fill: #1f77b4; stroke: #1f77b4\"/>\n     <use xlink:href=\"#m3d2dbd56eb\" x=\"117.401356\" y=\"66.466734\" style=\"fill: #1f77b4; stroke: #1f77b4\"/>\n     <use xlink:href=\"#m3d2dbd56eb\" x=\"157.105034\" y=\"65.464329\" style=\"fill: #1f77b4; stroke: #1f77b4\"/>\n     <use xlink:href=\"#m3d2dbd56eb\" x=\"126.308367\" y=\"79.621783\" style=\"fill: #1f77b4; stroke: #1f77b4\"/>\n     <use xlink:href=\"#m3d2dbd56eb\" x=\"147.232692\" y=\"76.622819\" style=\"fill: #1f77b4; stroke: #1f77b4\"/>\n     <use xlink:href=\"#m3d2dbd56eb\" x=\"142.400882\" y=\"61.85743\" style=\"fill: #1f77b4; stroke: #1f77b4\"/>\n     <use xlink:href=\"#m3d2dbd56eb\" x=\"170.706489\" y=\"75.052399\" style=\"fill: #1f77b4; stroke: #1f77b4\"/>\n     <use xlink:href=\"#m3d2dbd56eb\" x=\"162.427422\" y=\"79.00984\" style=\"fill: #1f77b4; stroke: #1f77b4\"/>\n     <use xlink:href=\"#m3d2dbd56eb\" x=\"125.284974\" y=\"66.026812\" style=\"fill: #1f77b4; stroke: #1f77b4\"/>\n     <use xlink:href=\"#m3d2dbd56eb\" x=\"125.143614\" y=\"66.528566\" style=\"fill: #1f77b4; stroke: #1f77b4\"/>\n     <use xlink:href=\"#m3d2dbd56eb\" x=\"169.635108\" y=\"86.798318\" style=\"fill: #1f77b4; stroke: #1f77b4\"/>\n     <use xlink:href=\"#m3d2dbd56eb\" x=\"120.642291\" y=\"57.121668\" style=\"fill: #1f77b4; stroke: #1f77b4\"/>\n     <use xlink:href=\"#m3d2dbd56eb\" x=\"130.932286\" y=\"53.511307\" style=\"fill: #1f77b4; stroke: #1f77b4\"/>\n     <use xlink:href=\"#m3d2dbd56eb\" x=\"109.669112\" y=\"48.349685\" style=\"fill: #1f77b4; stroke: #1f77b4\"/>\n     <use xlink:href=\"#m3d2dbd56eb\" x=\"144.472441\" y=\"52.408628\" style=\"fill: #1f77b4; stroke: #1f77b4\"/>\n     <use xlink:href=\"#m3d2dbd56eb\" x=\"133.340756\" y=\"53.71455\" style=\"fill: #1f77b4; stroke: #1f77b4\"/>\n     <use xlink:href=\"#m3d2dbd56eb\" x=\"131.044538\" y=\"52.577786\" style=\"fill: #1f77b4; stroke: #1f77b4\"/>\n     <use xlink:href=\"#m3d2dbd56eb\" x=\"155.348281\" y=\"80.921669\" style=\"fill: #1f77b4; stroke: #1f77b4\"/>\n     <use xlink:href=\"#m3d2dbd56eb\" x=\"105.891247\" y=\"61.395407\" style=\"fill: #1f77b4; stroke: #1f77b4\"/>\n     <use xlink:href=\"#m3d2dbd56eb\" x=\"196.216687\" y=\"108.128633\" style=\"fill: #1f77b4; stroke: #1f77b4\"/>\n     <use xlink:href=\"#m3d2dbd56eb\" x=\"141.158051\" y=\"63.735177\" style=\"fill: #1f77b4; stroke: #1f77b4\"/>\n     <use xlink:href=\"#m3d2dbd56eb\" x=\"189.632676\" y=\"105.371756\" style=\"fill: #1f77b4; stroke: #1f77b4\"/>\n     <use xlink:href=\"#m3d2dbd56eb\" x=\"131.918041\" y=\"67.238799\" style=\"fill: #1f77b4; stroke: #1f77b4\"/>\n     <use xlink:href=\"#m3d2dbd56eb\" x=\"111.827988\" y=\"48.660452\" style=\"fill: #1f77b4; stroke: #1f77b4\"/>\n     <use xlink:href=\"#m3d2dbd56eb\" x=\"151.52002\" y=\"87.068535\" style=\"fill: #1f77b4; stroke: #1f77b4\"/>\n     <use xlink:href=\"#m3d2dbd56eb\" x=\"104.400746\" y=\"42.918079\" style=\"fill: #1f77b4; stroke: #1f77b4\"/>\n     <use xlink:href=\"#m3d2dbd56eb\" x=\"159.97287\" y=\"88.44998\" style=\"fill: #1f77b4; stroke: #1f77b4\"/>\n     <use xlink:href=\"#m3d2dbd56eb\" x=\"181.425662\" y=\"82.859416\" style=\"fill: #1f77b4; stroke: #1f77b4\"/>\n     <use xlink:href=\"#m3d2dbd56eb\" x=\"149.051092\" y=\"74.639586\" style=\"fill: #1f77b4; stroke: #1f77b4\"/>\n     <use xlink:href=\"#m3d2dbd56eb\" x=\"165.499892\" y=\"92.139329\" style=\"fill: #1f77b4; stroke: #1f77b4\"/>\n     <use xlink:href=\"#m3d2dbd56eb\" x=\"110.342016\" y=\"42.352714\" style=\"fill: #1f77b4; stroke: #1f77b4\"/>\n     <use xlink:href=\"#m3d2dbd56eb\" x=\"139.85698\" y=\"77.126931\" style=\"fill: #1f77b4; stroke: #1f77b4\"/>\n     <use xlink:href=\"#m3d2dbd56eb\" x=\"182.158429\" y=\"93.784259\" style=\"fill: #1f77b4; stroke: #1f77b4\"/>\n     <use xlink:href=\"#m3d2dbd56eb\" x=\"183.552966\" y=\"82.15216\" style=\"fill: #1f77b4; stroke: #1f77b4\"/>\n     <use xlink:href=\"#m3d2dbd56eb\" x=\"107.034203\" y=\"40.262829\" style=\"fill: #1f77b4; stroke: #1f77b4\"/>\n     <use xlink:href=\"#m3d2dbd56eb\" x=\"151.714724\" y=\"93.090096\" style=\"fill: #1f77b4; stroke: #1f77b4\"/>\n     <use xlink:href=\"#m3d2dbd56eb\" x=\"211.035816\" y=\"114.812884\" style=\"fill: #1f77b4; stroke: #1f77b4\"/>\n     <use xlink:href=\"#m3d2dbd56eb\" x=\"164.082621\" y=\"86.618554\" style=\"fill: #1f77b4; stroke: #1f77b4\"/>\n     <use xlink:href=\"#m3d2dbd56eb\" x=\"143.792497\" y=\"71.038428\" style=\"fill: #1f77b4; stroke: #1f77b4\"/>\n     <use xlink:href=\"#m3d2dbd56eb\" x=\"155.486929\" y=\"77.820885\" style=\"fill: #1f77b4; stroke: #1f77b4\"/>\n     <use xlink:href=\"#m3d2dbd56eb\" x=\"112.45865\" y=\"59.364299\" style=\"fill: #1f77b4; stroke: #1f77b4\"/>\n     <use xlink:href=\"#m3d2dbd56eb\" x=\"107.689224\" y=\"56.547815\" style=\"fill: #1f77b4; stroke: #1f77b4\"/>\n     <use xlink:href=\"#m3d2dbd56eb\" x=\"132.173481\" y=\"57.538478\" style=\"fill: #1f77b4; stroke: #1f77b4\"/>\n     <use xlink:href=\"#m3d2dbd56eb\" x=\"158.872436\" y=\"77.042633\" style=\"fill: #1f77b4; stroke: #1f77b4\"/>\n     <use xlink:href=\"#m3d2dbd56eb\" x=\"93.640296\" y=\"23.338827\" style=\"fill: #1f77b4; stroke: #1f77b4\"/>\n     <use xlink:href=\"#m3d2dbd56eb\" x=\"130.383306\" y=\"70.70947\" style=\"fill: #1f77b4; stroke: #1f77b4\"/>\n     <use xlink:href=\"#m3d2dbd56eb\" x=\"166.529773\" y=\"75.330977\" style=\"fill: #1f77b4; stroke: #1f77b4\"/>\n     <use xlink:href=\"#m3d2dbd56eb\" x=\"144.305379\" y=\"76.088923\" style=\"fill: #1f77b4; stroke: #1f77b4\"/>\n     <use xlink:href=\"#m3d2dbd56eb\" x=\"151.961145\" y=\"90.918791\" style=\"fill: #1f77b4; stroke: #1f77b4\"/>\n     <use xlink:href=\"#m3d2dbd56eb\" x=\"147.638038\" y=\"75.302827\" style=\"fill: #1f77b4; stroke: #1f77b4\"/>\n     <use xlink:href=\"#m3d2dbd56eb\" x=\"105.09797\" y=\"49.810829\" style=\"fill: #1f77b4; stroke: #1f77b4\"/>\n     <use xlink:href=\"#m3d2dbd56eb\" x=\"171.193923\" y=\"97.338483\" style=\"fill: #1f77b4; stroke: #1f77b4\"/>\n     <use xlink:href=\"#m3d2dbd56eb\" x=\"169.938873\" y=\"94.149665\" style=\"fill: #1f77b4; stroke: #1f77b4\"/>\n     <use xlink:href=\"#m3d2dbd56eb\" x=\"139.498265\" y=\"74.203766\" style=\"fill: #1f77b4; stroke: #1f77b4\"/>\n     <use xlink:href=\"#m3d2dbd56eb\" x=\"150.686559\" y=\"73.06429\" style=\"fill: #1f77b4; stroke: #1f77b4\"/>\n     <use xlink:href=\"#m3d2dbd56eb\" x=\"133.95933\" y=\"53.664541\" style=\"fill: #1f77b4; stroke: #1f77b4\"/>\n     <use xlink:href=\"#m3d2dbd56eb\" x=\"150.183487\" y=\"79.142525\" style=\"fill: #1f77b4; stroke: #1f77b4\"/>\n     <use xlink:href=\"#m3d2dbd56eb\" x=\"150.449694\" y=\"83.913572\" style=\"fill: #1f77b4; stroke: #1f77b4\"/>\n     <use xlink:href=\"#m3d2dbd56eb\" x=\"136.114617\" y=\"77.812679\" style=\"fill: #1f77b4; stroke: #1f77b4\"/>\n     <use xlink:href=\"#m3d2dbd56eb\" x=\"112.89196\" y=\"64.764175\" style=\"fill: #1f77b4; stroke: #1f77b4\"/>\n     <use xlink:href=\"#m3d2dbd56eb\" x=\"130.468098\" y=\"63.876286\" style=\"fill: #1f77b4; stroke: #1f77b4\"/>\n     <use xlink:href=\"#m3d2dbd56eb\" x=\"109.895006\" y=\"79.462079\" style=\"fill: #1f77b4; stroke: #1f77b4\"/>\n     <use xlink:href=\"#m3d2dbd56eb\" x=\"183.19621\" y=\"90.418282\" style=\"fill: #1f77b4; stroke: #1f77b4\"/>\n     <use xlink:href=\"#m3d2dbd56eb\" x=\"145.490214\" y=\"85.596568\" style=\"fill: #1f77b4; stroke: #1f77b4\"/>\n     <use xlink:href=\"#m3d2dbd56eb\" x=\"104.776896\" y=\"44.530411\" style=\"fill: #1f77b4; stroke: #1f77b4\"/>\n     <use xlink:href=\"#m3d2dbd56eb\" x=\"134.40876\" y=\"66.032773\" style=\"fill: #1f77b4; stroke: #1f77b4\"/>\n     <use xlink:href=\"#m3d2dbd56eb\" x=\"203.011891\" y=\"106.881919\" style=\"fill: #1f77b4; stroke: #1f77b4\"/>\n     <use xlink:href=\"#m3d2dbd56eb\" x=\"112.746931\" y=\"55.398253\" style=\"fill: #1f77b4; stroke: #1f77b4\"/>\n     <use xlink:href=\"#m3d2dbd56eb\" x=\"140.456247\" y=\"65.32198\" style=\"fill: #1f77b4; stroke: #1f77b4\"/>\n     <use xlink:href=\"#m3d2dbd56eb\" x=\"156.756661\" y=\"60.525308\" style=\"fill: #1f77b4; stroke: #1f77b4\"/>\n     <use xlink:href=\"#m3d2dbd56eb\" x=\"121.233339\" y=\"53.432604\" style=\"fill: #1f77b4; stroke: #1f77b4\"/>\n     <use xlink:href=\"#m3d2dbd56eb\" x=\"117.137516\" y=\"42.241554\" style=\"fill: #1f77b4; stroke: #1f77b4\"/>\n     <use xlink:href=\"#m3d2dbd56eb\" x=\"116.635051\" y=\"43.092276\" style=\"fill: #1f77b4; stroke: #1f77b4\"/>\n     <use xlink:href=\"#m3d2dbd56eb\" x=\"142.199142\" y=\"76.863376\" style=\"fill: #1f77b4; stroke: #1f77b4\"/>\n     <use xlink:href=\"#m3d2dbd56eb\" x=\"109.87965\" y=\"41.235131\" style=\"fill: #1f77b4; stroke: #1f77b4\"/>\n     <use xlink:href=\"#m3d2dbd56eb\" x=\"105.320462\" y=\"43.692886\" style=\"fill: #1f77b4; stroke: #1f77b4\"/>\n     <use xlink:href=\"#m3d2dbd56eb\" x=\"124.286286\" y=\"57.149716\" style=\"fill: #1f77b4; stroke: #1f77b4\"/>\n     <use xlink:href=\"#m3d2dbd56eb\" x=\"119.306131\" y=\"49.34365\" style=\"fill: #1f77b4; stroke: #1f77b4\"/>\n     <use xlink:href=\"#m3d2dbd56eb\" x=\"158.176387\" y=\"90.143096\" style=\"fill: #1f77b4; stroke: #1f77b4\"/>\n     <use xlink:href=\"#m3d2dbd56eb\" x=\"140.303784\" y=\"75.393974\" style=\"fill: #1f77b4; stroke: #1f77b4\"/>\n     <use xlink:href=\"#m3d2dbd56eb\" x=\"155.256453\" y=\"67.625585\" style=\"fill: #1f77b4; stroke: #1f77b4\"/>\n     <use xlink:href=\"#m3d2dbd56eb\" x=\"146.363918\" y=\"84.023654\" style=\"fill: #1f77b4; stroke: #1f77b4\"/>\n     <use xlink:href=\"#m3d2dbd56eb\" x=\"85.245346\" y=\"39.110687\" style=\"fill: #1f77b4; stroke: #1f77b4\"/>\n     <use xlink:href=\"#m3d2dbd56eb\" x=\"129.132833\" y=\"52.584325\" style=\"fill: #1f77b4; stroke: #1f77b4\"/>\n     <use xlink:href=\"#m3d2dbd56eb\" x=\"126.837097\" y=\"77.68001\" style=\"fill: #1f77b4; stroke: #1f77b4\"/>\n     <use xlink:href=\"#m3d2dbd56eb\" x=\"184.980893\" y=\"96.808844\" style=\"fill: #1f77b4; stroke: #1f77b4\"/>\n     <use xlink:href=\"#m3d2dbd56eb\" x=\"181.786492\" y=\"92.563366\" style=\"fill: #1f77b4; stroke: #1f77b4\"/>\n     <use xlink:href=\"#m3d2dbd56eb\" x=\"117.010642\" y=\"55.896754\" style=\"fill: #1f77b4; stroke: #1f77b4\"/>\n     <use xlink:href=\"#m3d2dbd56eb\" x=\"106.139907\" y=\"43.904929\" style=\"fill: #1f77b4; stroke: #1f77b4\"/>\n     <use xlink:href=\"#m3d2dbd56eb\" x=\"147.291502\" y=\"72.680974\" style=\"fill: #1f77b4; stroke: #1f77b4\"/>\n     <use xlink:href=\"#m3d2dbd56eb\" x=\"163.998199\" y=\"90.559987\" style=\"fill: #1f77b4; stroke: #1f77b4\"/>\n     <use xlink:href=\"#m3d2dbd56eb\" x=\"114.865607\" y=\"49.827611\" style=\"fill: #1f77b4; stroke: #1f77b4\"/>\n     <use xlink:href=\"#m3d2dbd56eb\" x=\"155.159568\" y=\"97.391628\" style=\"fill: #1f77b4; stroke: #1f77b4\"/>\n     <use xlink:href=\"#m3d2dbd56eb\" x=\"151.244906\" y=\"83.921228\" style=\"fill: #1f77b4; stroke: #1f77b4\"/>\n     <use xlink:href=\"#m3d2dbd56eb\" x=\"170.349526\" y=\"88.545397\" style=\"fill: #1f77b4; stroke: #1f77b4\"/>\n     <use xlink:href=\"#m3d2dbd56eb\" x=\"110.279096\" y=\"55.578215\" style=\"fill: #1f77b4; stroke: #1f77b4\"/>\n     <use xlink:href=\"#m3d2dbd56eb\" x=\"184.865048\" y=\"86.418562\" style=\"fill: #1f77b4; stroke: #1f77b4\"/>\n     <use xlink:href=\"#m3d2dbd56eb\" x=\"109.511522\" y=\"56.620028\" style=\"fill: #1f77b4; stroke: #1f77b4\"/>\n     <use xlink:href=\"#m3d2dbd56eb\" x=\"176.302704\" y=\"88.417712\" style=\"fill: #1f77b4; stroke: #1f77b4\"/>\n     <use xlink:href=\"#m3d2dbd56eb\" x=\"129.67413\" y=\"56.29282\" style=\"fill: #1f77b4; stroke: #1f77b4\"/>\n     <use xlink:href=\"#m3d2dbd56eb\" x=\"152.806626\" y=\"70.73966\" style=\"fill: #1f77b4; stroke: #1f77b4\"/>\n     <use xlink:href=\"#m3d2dbd56eb\" x=\"146.853952\" y=\"71.130572\" style=\"fill: #1f77b4; stroke: #1f77b4\"/>\n     <use xlink:href=\"#m3d2dbd56eb\" x=\"81.743688\" y=\"31.779019\" style=\"fill: #1f77b4; stroke: #1f77b4\"/>\n     <use xlink:href=\"#m3d2dbd56eb\" x=\"188.068918\" y=\"112.048204\" style=\"fill: #1f77b4; stroke: #1f77b4\"/>\n     <use xlink:href=\"#m3d2dbd56eb\" x=\"188.083721\" y=\"96.987894\" style=\"fill: #1f77b4; stroke: #1f77b4\"/>\n     <use xlink:href=\"#m3d2dbd56eb\" x=\"147.078187\" y=\"60.284021\" style=\"fill: #1f77b4; stroke: #1f77b4\"/>\n     <use xlink:href=\"#m3d2dbd56eb\" x=\"127.650169\" y=\"63.532897\" style=\"fill: #1f77b4; stroke: #1f77b4\"/>\n     <use xlink:href=\"#m3d2dbd56eb\" x=\"155.319638\" y=\"75.776977\" style=\"fill: #1f77b4; stroke: #1f77b4\"/>\n     <use xlink:href=\"#m3d2dbd56eb\" x=\"149.674126\" y=\"77.249275\" style=\"fill: #1f77b4; stroke: #1f77b4\"/>\n     <use xlink:href=\"#m3d2dbd56eb\" x=\"135.131413\" y=\"73.384745\" style=\"fill: #1f77b4; stroke: #1f77b4\"/>\n     <use xlink:href=\"#m3d2dbd56eb\" x=\"176.566401\" y=\"93.243697\" style=\"fill: #1f77b4; stroke: #1f77b4\"/>\n     <use xlink:href=\"#m3d2dbd56eb\" x=\"122.374967\" y=\"78.722373\" style=\"fill: #1f77b4; stroke: #1f77b4\"/>\n     <use xlink:href=\"#m3d2dbd56eb\" x=\"177.695057\" y=\"111.333854\" style=\"fill: #1f77b4; stroke: #1f77b4\"/>\n     <use xlink:href=\"#m3d2dbd56eb\" x=\"109.342014\" y=\"50.860671\" style=\"fill: #1f77b4; stroke: #1f77b4\"/>\n     <use xlink:href=\"#m3d2dbd56eb\" x=\"154.026843\" y=\"80.36136\" style=\"fill: #1f77b4; stroke: #1f77b4\"/>\n     <use xlink:href=\"#m3d2dbd56eb\" x=\"110.104889\" y=\"45.032975\" style=\"fill: #1f77b4; stroke: #1f77b4\"/>\n     <use xlink:href=\"#m3d2dbd56eb\" x=\"106.937735\" y=\"75.564792\" style=\"fill: #1f77b4; stroke: #1f77b4\"/>\n     <use xlink:href=\"#m3d2dbd56eb\" x=\"127.018185\" y=\"64.039684\" style=\"fill: #1f77b4; stroke: #1f77b4\"/>\n     <use xlink:href=\"#m3d2dbd56eb\" x=\"201.19592\" y=\"112.900437\" style=\"fill: #1f77b4; stroke: #1f77b4\"/>\n     <use xlink:href=\"#m3d2dbd56eb\" x=\"134.723233\" y=\"67.886672\" style=\"fill: #1f77b4; stroke: #1f77b4\"/>\n     <use xlink:href=\"#m3d2dbd56eb\" x=\"120.412585\" y=\"71.956971\" style=\"fill: #1f77b4; stroke: #1f77b4\"/>\n     <use xlink:href=\"#m3d2dbd56eb\" x=\"150.875822\" y=\"92.99248\" style=\"fill: #1f77b4; stroke: #1f77b4\"/>\n     <use xlink:href=\"#m3d2dbd56eb\" x=\"105.876819\" y=\"41.760444\" style=\"fill: #1f77b4; stroke: #1f77b4\"/>\n     <use xlink:href=\"#m3d2dbd56eb\" x=\"157.366167\" y=\"75.538361\" style=\"fill: #1f77b4; stroke: #1f77b4\"/>\n     <use xlink:href=\"#m3d2dbd56eb\" x=\"132.90558\" y=\"78.010347\" style=\"fill: #1f77b4; stroke: #1f77b4\"/>\n     <use xlink:href=\"#m3d2dbd56eb\" x=\"181.91468\" y=\"98.557439\" style=\"fill: #1f77b4; stroke: #1f77b4\"/>\n     <use xlink:href=\"#m3d2dbd56eb\" x=\"161.410212\" y=\"97.598024\" style=\"fill: #1f77b4; stroke: #1f77b4\"/>\n     <use xlink:href=\"#m3d2dbd56eb\" x=\"174.696167\" y=\"104.970178\" style=\"fill: #1f77b4; stroke: #1f77b4\"/>\n     <use xlink:href=\"#m3d2dbd56eb\" x=\"136.30254\" y=\"65.997093\" style=\"fill: #1f77b4; stroke: #1f77b4\"/>\n     <use xlink:href=\"#m3d2dbd56eb\" x=\"140.115172\" y=\"76.99516\" style=\"fill: #1f77b4; stroke: #1f77b4\"/>\n     <use xlink:href=\"#m3d2dbd56eb\" x=\"121.028253\" y=\"66.18749\" style=\"fill: #1f77b4; stroke: #1f77b4\"/>\n     <use xlink:href=\"#m3d2dbd56eb\" x=\"86.451413\" y=\"18.885639\" style=\"fill: #1f77b4; stroke: #1f77b4\"/>\n     <use xlink:href=\"#m3d2dbd56eb\" x=\"150.35007\" y=\"82.452573\" style=\"fill: #1f77b4; stroke: #1f77b4\"/>\n     <use xlink:href=\"#m3d2dbd56eb\" x=\"104.400384\" y=\"53.963847\" style=\"fill: #1f77b4; stroke: #1f77b4\"/>\n     <use xlink:href=\"#m3d2dbd56eb\" x=\"132.841442\" y=\"79.582186\" style=\"fill: #1f77b4; stroke: #1f77b4\"/>\n     <use xlink:href=\"#m3d2dbd56eb\" x=\"162.390375\" y=\"87.052285\" style=\"fill: #1f77b4; stroke: #1f77b4\"/>\n     <use xlink:href=\"#m3d2dbd56eb\" x=\"162.011979\" y=\"84.052578\" style=\"fill: #1f77b4; stroke: #1f77b4\"/>\n     <use xlink:href=\"#m3d2dbd56eb\" x=\"172.667836\" y=\"77.462161\" style=\"fill: #1f77b4; stroke: #1f77b4\"/>\n     <use xlink:href=\"#m3d2dbd56eb\" x=\"121.038343\" y=\"70.973294\" style=\"fill: #1f77b4; stroke: #1f77b4\"/>\n     <use xlink:href=\"#m3d2dbd56eb\" x=\"119.406066\" y=\"58.334305\" style=\"fill: #1f77b4; stroke: #1f77b4\"/>\n     <use xlink:href=\"#m3d2dbd56eb\" x=\"190.75093\" y=\"99.476402\" style=\"fill: #1f77b4; stroke: #1f77b4\"/>\n     <use xlink:href=\"#m3d2dbd56eb\" x=\"157.18934\" y=\"87.656797\" style=\"fill: #1f77b4; stroke: #1f77b4\"/>\n     <use xlink:href=\"#m3d2dbd56eb\" x=\"126.290846\" y=\"67.509131\" style=\"fill: #1f77b4; stroke: #1f77b4\"/>\n     <use xlink:href=\"#m3d2dbd56eb\" x=\"123.240703\" y=\"77.766306\" style=\"fill: #1f77b4; stroke: #1f77b4\"/>\n     <use xlink:href=\"#m3d2dbd56eb\" x=\"146.796779\" y=\"84.413537\" style=\"fill: #1f77b4; stroke: #1f77b4\"/>\n     <use xlink:href=\"#m3d2dbd56eb\" x=\"96.483754\" y=\"38.587459\" style=\"fill: #1f77b4; stroke: #1f77b4\"/>\n     <use xlink:href=\"#m3d2dbd56eb\" x=\"124.693283\" y=\"70.062414\" style=\"fill: #1f77b4; stroke: #1f77b4\"/>\n     <use xlink:href=\"#m3d2dbd56eb\" x=\"174.862484\" y=\"80.175596\" style=\"fill: #1f77b4; stroke: #1f77b4\"/>\n     <use xlink:href=\"#m3d2dbd56eb\" x=\"174.85754\" y=\"97.796754\" style=\"fill: #1f77b4; stroke: #1f77b4\"/>\n     <use xlink:href=\"#m3d2dbd56eb\" x=\"172.291212\" y=\"100.974725\" style=\"fill: #1f77b4; stroke: #1f77b4\"/>\n     <use xlink:href=\"#m3d2dbd56eb\" x=\"83.877467\" y=\"45.391497\" style=\"fill: #1f77b4; stroke: #1f77b4\"/>\n     <use xlink:href=\"#m3d2dbd56eb\" x=\"97.617545\" y=\"49.882401\" style=\"fill: #1f77b4; stroke: #1f77b4\"/>\n     <use xlink:href=\"#m3d2dbd56eb\" x=\"193.141967\" y=\"99.017621\" style=\"fill: #1f77b4; stroke: #1f77b4\"/>\n     <use xlink:href=\"#m3d2dbd56eb\" x=\"128.796167\" y=\"80.169731\" style=\"fill: #1f77b4; stroke: #1f77b4\"/>\n     <use xlink:href=\"#m3d2dbd56eb\" x=\"117.703913\" y=\"53.05143\" style=\"fill: #1f77b4; stroke: #1f77b4\"/>\n     <use xlink:href=\"#m3d2dbd56eb\" x=\"120.890798\" y=\"65.413247\" style=\"fill: #1f77b4; stroke: #1f77b4\"/>\n     <use xlink:href=\"#m3d2dbd56eb\" x=\"106.627041\" y=\"49.871582\" style=\"fill: #1f77b4; stroke: #1f77b4\"/>\n     <use xlink:href=\"#m3d2dbd56eb\" x=\"106.492099\" y=\"39.419058\" style=\"fill: #1f77b4; stroke: #1f77b4\"/>\n     <use xlink:href=\"#m3d2dbd56eb\" x=\"146.972546\" y=\"89.802447\" style=\"fill: #1f77b4; stroke: #1f77b4\"/>\n     <use xlink:href=\"#m3d2dbd56eb\" x=\"160.774152\" y=\"78.101553\" style=\"fill: #1f77b4; stroke: #1f77b4\"/>\n     <use xlink:href=\"#m3d2dbd56eb\" x=\"123.312187\" y=\"49.035079\" style=\"fill: #1f77b4; stroke: #1f77b4\"/>\n     <use xlink:href=\"#m3d2dbd56eb\" x=\"156.157653\" y=\"74.416084\" style=\"fill: #1f77b4; stroke: #1f77b4\"/>\n     <use xlink:href=\"#m3d2dbd56eb\" x=\"163.284646\" y=\"81.743481\" style=\"fill: #1f77b4; stroke: #1f77b4\"/>\n     <use xlink:href=\"#m3d2dbd56eb\" x=\"128.86459\" y=\"82.231951\" style=\"fill: #1f77b4; stroke: #1f77b4\"/>\n     <use xlink:href=\"#m3d2dbd56eb\" x=\"127.75178\" y=\"80.748624\" style=\"fill: #1f77b4; stroke: #1f77b4\"/>\n     <use xlink:href=\"#m3d2dbd56eb\" x=\"152.928494\" y=\"71.348861\" style=\"fill: #1f77b4; stroke: #1f77b4\"/>\n     <use xlink:href=\"#m3d2dbd56eb\" x=\"154.696203\" y=\"84.202844\" style=\"fill: #1f77b4; stroke: #1f77b4\"/>\n     <use xlink:href=\"#m3d2dbd56eb\" x=\"124.455634\" y=\"80.774784\" style=\"fill: #1f77b4; stroke: #1f77b4\"/>\n     <use xlink:href=\"#m3d2dbd56eb\" x=\"160.892616\" y=\"95.681349\" style=\"fill: #1f77b4; stroke: #1f77b4\"/>\n     <use xlink:href=\"#m3d2dbd56eb\" x=\"187.272288\" y=\"91.09166\" style=\"fill: #1f77b4; stroke: #1f77b4\"/>\n     <use xlink:href=\"#m3d2dbd56eb\" x=\"156.77424\" y=\"75.417917\" style=\"fill: #1f77b4; stroke: #1f77b4\"/>\n     <use xlink:href=\"#m3d2dbd56eb\" x=\"118.360151\" y=\"60.056814\" style=\"fill: #1f77b4; stroke: #1f77b4\"/>\n     <use xlink:href=\"#m3d2dbd56eb\" x=\"220.1661\" y=\"130.224654\" style=\"fill: #1f77b4; stroke: #1f77b4\"/>\n     <use xlink:href=\"#m3d2dbd56eb\" x=\"129.478109\" y=\"70.866332\" style=\"fill: #1f77b4; stroke: #1f77b4\"/>\n     <use xlink:href=\"#m3d2dbd56eb\" x=\"128.085649\" y=\"71.484467\" style=\"fill: #1f77b4; stroke: #1f77b4\"/>\n     <use xlink:href=\"#m3d2dbd56eb\" x=\"136.045178\" y=\"64.867278\" style=\"fill: #1f77b4; stroke: #1f77b4\"/>\n     <use xlink:href=\"#m3d2dbd56eb\" x=\"138.397467\" y=\"82.427536\" style=\"fill: #1f77b4; stroke: #1f77b4\"/>\n     <use xlink:href=\"#m3d2dbd56eb\" x=\"75.406635\" y=\"40.469648\" style=\"fill: #1f77b4; stroke: #1f77b4\"/>\n     <use xlink:href=\"#m3d2dbd56eb\" x=\"136.455957\" y=\"79.198234\" style=\"fill: #1f77b4; stroke: #1f77b4\"/>\n     <use xlink:href=\"#m3d2dbd56eb\" x=\"152.283551\" y=\"84.648573\" style=\"fill: #1f77b4; stroke: #1f77b4\"/>\n     <use xlink:href=\"#m3d2dbd56eb\" x=\"107.901396\" y=\"54.256623\" style=\"fill: #1f77b4; stroke: #1f77b4\"/>\n     <use xlink:href=\"#m3d2dbd56eb\" x=\"127.995683\" y=\"55.14927\" style=\"fill: #1f77b4; stroke: #1f77b4\"/>\n     <use xlink:href=\"#m3d2dbd56eb\" x=\"154.751865\" y=\"78.276211\" style=\"fill: #1f77b4; stroke: #1f77b4\"/>\n     <use xlink:href=\"#m3d2dbd56eb\" x=\"164.941189\" y=\"87.11849\" style=\"fill: #1f77b4; stroke: #1f77b4\"/>\n     <use xlink:href=\"#m3d2dbd56eb\" x=\"118.709221\" y=\"53.124498\" style=\"fill: #1f77b4; stroke: #1f77b4\"/>\n     <use xlink:href=\"#m3d2dbd56eb\" x=\"179.22889\" y=\"90.738097\" style=\"fill: #1f77b4; stroke: #1f77b4\"/>\n     <use xlink:href=\"#m3d2dbd56eb\" x=\"117.848804\" y=\"64.373505\" style=\"fill: #1f77b4; stroke: #1f77b4\"/>\n     <use xlink:href=\"#m3d2dbd56eb\" x=\"136.379445\" y=\"57.574923\" style=\"fill: #1f77b4; stroke: #1f77b4\"/>\n     <use xlink:href=\"#m3d2dbd56eb\" x=\"116.077116\" y=\"66.555899\" style=\"fill: #1f77b4; stroke: #1f77b4\"/>\n     <use xlink:href=\"#m3d2dbd56eb\" x=\"128.904551\" y=\"67.654582\" style=\"fill: #1f77b4; stroke: #1f77b4\"/>\n     <use xlink:href=\"#m3d2dbd56eb\" x=\"93.291299\" y=\"33.44232\" style=\"fill: #1f77b4; stroke: #1f77b4\"/>\n     <use xlink:href=\"#m3d2dbd56eb\" x=\"147.555846\" y=\"66.866078\" style=\"fill: #1f77b4; stroke: #1f77b4\"/>\n     <use xlink:href=\"#m3d2dbd56eb\" x=\"128.731709\" y=\"72.78561\" style=\"fill: #1f77b4; stroke: #1f77b4\"/>\n     <use xlink:href=\"#m3d2dbd56eb\" x=\"149.183534\" y=\"84.728826\" style=\"fill: #1f77b4; stroke: #1f77b4\"/>\n     <use xlink:href=\"#m3d2dbd56eb\" x=\"125.769406\" y=\"60.231455\" style=\"fill: #1f77b4; stroke: #1f77b4\"/>\n     <use xlink:href=\"#m3d2dbd56eb\" x=\"156.142127\" y=\"95.709817\" style=\"fill: #1f77b4; stroke: #1f77b4\"/>\n     <use xlink:href=\"#m3d2dbd56eb\" x=\"113.447122\" y=\"45.108322\" style=\"fill: #1f77b4; stroke: #1f77b4\"/>\n     <use xlink:href=\"#m3d2dbd56eb\" x=\"104.390145\" y=\"42.801862\" style=\"fill: #1f77b4; stroke: #1f77b4\"/>\n     <use xlink:href=\"#m3d2dbd56eb\" x=\"107.111129\" y=\"57.627476\" style=\"fill: #1f77b4; stroke: #1f77b4\"/>\n     <use xlink:href=\"#m3d2dbd56eb\" x=\"166.037246\" y=\"85.775702\" style=\"fill: #1f77b4; stroke: #1f77b4\"/>\n     <use xlink:href=\"#m3d2dbd56eb\" x=\"221.727415\" y=\"111.864425\" style=\"fill: #1f77b4; stroke: #1f77b4\"/>\n     <use xlink:href=\"#m3d2dbd56eb\" x=\"128.693014\" y=\"57.374668\" style=\"fill: #1f77b4; stroke: #1f77b4\"/>\n     <use xlink:href=\"#m3d2dbd56eb\" x=\"116.643957\" y=\"49.616446\" style=\"fill: #1f77b4; stroke: #1f77b4\"/>\n     <use xlink:href=\"#m3d2dbd56eb\" x=\"146.314497\" y=\"78.631605\" style=\"fill: #1f77b4; stroke: #1f77b4\"/>\n     <use xlink:href=\"#m3d2dbd56eb\" x=\"149.758161\" y=\"82.034381\" style=\"fill: #1f77b4; stroke: #1f77b4\"/>\n     <use xlink:href=\"#m3d2dbd56eb\" x=\"181.704201\" y=\"96.057333\" style=\"fill: #1f77b4; stroke: #1f77b4\"/>\n     <use xlink:href=\"#m3d2dbd56eb\" x=\"148.268949\" y=\"80.124527\" style=\"fill: #1f77b4; stroke: #1f77b4\"/>\n     <use xlink:href=\"#m3d2dbd56eb\" x=\"122.370395\" y=\"51.946816\" style=\"fill: #1f77b4; stroke: #1f77b4\"/>\n     <use xlink:href=\"#m3d2dbd56eb\" x=\"119.826078\" y=\"64.334946\" style=\"fill: #1f77b4; stroke: #1f77b4\"/>\n     <use xlink:href=\"#m3d2dbd56eb\" x=\"176.829248\" y=\"83.946277\" style=\"fill: #1f77b4; stroke: #1f77b4\"/>\n     <use xlink:href=\"#m3d2dbd56eb\" x=\"154.444945\" y=\"106.970047\" style=\"fill: #1f77b4; stroke: #1f77b4\"/>\n     <use xlink:href=\"#m3d2dbd56eb\" x=\"156.644109\" y=\"86.362042\" style=\"fill: #1f77b4; stroke: #1f77b4\"/>\n     <use xlink:href=\"#m3d2dbd56eb\" x=\"142.526903\" y=\"63.607883\" style=\"fill: #1f77b4; stroke: #1f77b4\"/>\n     <use xlink:href=\"#m3d2dbd56eb\" x=\"107.692376\" y=\"59.751833\" style=\"fill: #1f77b4; stroke: #1f77b4\"/>\n     <use xlink:href=\"#m3d2dbd56eb\" x=\"79.414148\" y=\"30.722198\" style=\"fill: #1f77b4; stroke: #1f77b4\"/>\n     <use xlink:href=\"#m3d2dbd56eb\" x=\"129.889457\" y=\"42.909864\" style=\"fill: #1f77b4; stroke: #1f77b4\"/>\n     <use xlink:href=\"#m3d2dbd56eb\" x=\"44.596002\" y=\"22.555531\" style=\"fill: #1f77b4; stroke: #1f77b4\"/>\n     <use xlink:href=\"#m3d2dbd56eb\" x=\"124.996669\" y=\"51.193783\" style=\"fill: #1f77b4; stroke: #1f77b4\"/>\n     <use xlink:href=\"#m3d2dbd56eb\" x=\"145.240436\" y=\"79.099502\" style=\"fill: #1f77b4; stroke: #1f77b4\"/>\n     <use xlink:href=\"#m3d2dbd56eb\" x=\"161.537685\" y=\"85.849037\" style=\"fill: #1f77b4; stroke: #1f77b4\"/>\n     <use xlink:href=\"#m3d2dbd56eb\" x=\"160.270882\" y=\"78.652014\" style=\"fill: #1f77b4; stroke: #1f77b4\"/>\n     <use xlink:href=\"#m3d2dbd56eb\" x=\"154.977392\" y=\"78.511683\" style=\"fill: #1f77b4; stroke: #1f77b4\"/>\n     <use xlink:href=\"#m3d2dbd56eb\" x=\"130.378938\" y=\"65.929152\" style=\"fill: #1f77b4; stroke: #1f77b4\"/>\n     <use xlink:href=\"#m3d2dbd56eb\" x=\"122.160749\" y=\"41.095682\" style=\"fill: #1f77b4; stroke: #1f77b4\"/>\n     <use xlink:href=\"#m3d2dbd56eb\" x=\"211.054008\" y=\"102.255222\" style=\"fill: #1f77b4; stroke: #1f77b4\"/>\n     <use xlink:href=\"#m3d2dbd56eb\" x=\"115.013232\" y=\"59.199939\" style=\"fill: #1f77b4; stroke: #1f77b4\"/>\n     <use xlink:href=\"#m3d2dbd56eb\" x=\"130.35724\" y=\"59.114429\" style=\"fill: #1f77b4; stroke: #1f77b4\"/>\n     <use xlink:href=\"#m3d2dbd56eb\" x=\"119.45025\" y=\"50.331536\" style=\"fill: #1f77b4; stroke: #1f77b4\"/>\n     <use xlink:href=\"#m3d2dbd56eb\" x=\"65.262011\" y=\"28.956872\" style=\"fill: #1f77b4; stroke: #1f77b4\"/>\n     <use xlink:href=\"#m3d2dbd56eb\" x=\"132.814897\" y=\"75.699497\" style=\"fill: #1f77b4; stroke: #1f77b4\"/>\n     <use xlink:href=\"#m3d2dbd56eb\" x=\"142.226124\" y=\"83.206346\" style=\"fill: #1f77b4; stroke: #1f77b4\"/>\n     <use xlink:href=\"#m3d2dbd56eb\" x=\"130.11873\" y=\"72.707016\" style=\"fill: #1f77b4; stroke: #1f77b4\"/>\n     <use xlink:href=\"#m3d2dbd56eb\" x=\"129.028734\" y=\"64.943216\" style=\"fill: #1f77b4; stroke: #1f77b4\"/>\n     <use xlink:href=\"#m3d2dbd56eb\" x=\"117.465114\" y=\"39.1319\" style=\"fill: #1f77b4; stroke: #1f77b4\"/>\n     <use xlink:href=\"#m3d2dbd56eb\" x=\"114.189606\" y=\"41.254564\" style=\"fill: #1f77b4; stroke: #1f77b4\"/>\n     <use xlink:href=\"#m3d2dbd56eb\" x=\"153.230022\" y=\"82.842332\" style=\"fill: #1f77b4; stroke: #1f77b4\"/>\n     <use xlink:href=\"#m3d2dbd56eb\" x=\"134.5917\" y=\"71.960723\" style=\"fill: #1f77b4; stroke: #1f77b4\"/>\n     <use xlink:href=\"#m3d2dbd56eb\" x=\"138.249085\" y=\"73.052348\" style=\"fill: #1f77b4; stroke: #1f77b4\"/>\n     <use xlink:href=\"#m3d2dbd56eb\" x=\"117.297387\" y=\"57.69701\" style=\"fill: #1f77b4; stroke: #1f77b4\"/>\n     <use xlink:href=\"#m3d2dbd56eb\" x=\"98.885202\" y=\"37.016335\" style=\"fill: #1f77b4; stroke: #1f77b4\"/>\n     <use xlink:href=\"#m3d2dbd56eb\" x=\"122.674165\" y=\"50.172082\" style=\"fill: #1f77b4; stroke: #1f77b4\"/>\n     <use xlink:href=\"#m3d2dbd56eb\" x=\"192.47779\" y=\"110.443526\" style=\"fill: #1f77b4; stroke: #1f77b4\"/>\n     <use xlink:href=\"#m3d2dbd56eb\" x=\"139.504322\" y=\"70.520215\" style=\"fill: #1f77b4; stroke: #1f77b4\"/>\n     <use xlink:href=\"#m3d2dbd56eb\" x=\"177.235066\" y=\"98.576759\" style=\"fill: #1f77b4; stroke: #1f77b4\"/>\n     <use xlink:href=\"#m3d2dbd56eb\" x=\"108.192255\" y=\"50.198885\" style=\"fill: #1f77b4; stroke: #1f77b4\"/>\n     <use xlink:href=\"#m3d2dbd56eb\" x=\"127.343602\" y=\"57.765021\" style=\"fill: #1f77b4; stroke: #1f77b4\"/>\n     <use xlink:href=\"#m3d2dbd56eb\" x=\"124.67685\" y=\"75.134933\" style=\"fill: #1f77b4; stroke: #1f77b4\"/>\n     <use xlink:href=\"#m3d2dbd56eb\" x=\"155.378082\" y=\"73.976331\" style=\"fill: #1f77b4; stroke: #1f77b4\"/>\n     <use xlink:href=\"#m3d2dbd56eb\" x=\"125.249223\" y=\"50.7348\" style=\"fill: #1f77b4; stroke: #1f77b4\"/>\n     <use xlink:href=\"#m3d2dbd56eb\" x=\"145.2027\" y=\"85.58976\" style=\"fill: #1f77b4; stroke: #1f77b4\"/>\n     <use xlink:href=\"#m3d2dbd56eb\" x=\"131.597372\" y=\"74.449102\" style=\"fill: #1f77b4; stroke: #1f77b4\"/>\n     <use xlink:href=\"#m3d2dbd56eb\" x=\"146.908615\" y=\"74.64695\" style=\"fill: #1f77b4; stroke: #1f77b4\"/>\n     <use xlink:href=\"#m3d2dbd56eb\" x=\"152.157916\" y=\"76.856671\" style=\"fill: #1f77b4; stroke: #1f77b4\"/>\n     <use xlink:href=\"#m3d2dbd56eb\" x=\"168.438957\" y=\"104.103449\" style=\"fill: #1f77b4; stroke: #1f77b4\"/>\n     <use xlink:href=\"#m3d2dbd56eb\" x=\"169.505807\" y=\"82.415785\" style=\"fill: #1f77b4; stroke: #1f77b4\"/>\n     <use xlink:href=\"#m3d2dbd56eb\" x=\"204.457799\" y=\"121.477949\" style=\"fill: #1f77b4; stroke: #1f77b4\"/>\n     <use xlink:href=\"#m3d2dbd56eb\" x=\"128.085795\" y=\"77.549331\" style=\"fill: #1f77b4; stroke: #1f77b4\"/>\n     <use xlink:href=\"#m3d2dbd56eb\" x=\"153.199333\" y=\"72.184108\" style=\"fill: #1f77b4; stroke: #1f77b4\"/>\n     <use xlink:href=\"#m3d2dbd56eb\" x=\"120.553793\" y=\"50.267198\" style=\"fill: #1f77b4; stroke: #1f77b4\"/>\n     <use xlink:href=\"#m3d2dbd56eb\" x=\"141.624716\" y=\"66.679956\" style=\"fill: #1f77b4; stroke: #1f77b4\"/>\n     <use xlink:href=\"#m3d2dbd56eb\" x=\"153.991801\" y=\"59.628572\" style=\"fill: #1f77b4; stroke: #1f77b4\"/>\n     <use xlink:href=\"#m3d2dbd56eb\" x=\"64.919208\" y=\"32.973376\" style=\"fill: #1f77b4; stroke: #1f77b4\"/>\n     <use xlink:href=\"#m3d2dbd56eb\" x=\"141.109107\" y=\"71.152267\" style=\"fill: #1f77b4; stroke: #1f77b4\"/>\n     <use xlink:href=\"#m3d2dbd56eb\" x=\"217.786174\" y=\"139.5\" style=\"fill: #1f77b4; stroke: #1f77b4\"/>\n     <use xlink:href=\"#m3d2dbd56eb\" x=\"155.025762\" y=\"77.78185\" style=\"fill: #1f77b4; stroke: #1f77b4\"/>\n     <use xlink:href=\"#m3d2dbd56eb\" x=\"161.088094\" y=\"98.850027\" style=\"fill: #1f77b4; stroke: #1f77b4\"/>\n     <use xlink:href=\"#m3d2dbd56eb\" x=\"173.816045\" y=\"104.151393\" style=\"fill: #1f77b4; stroke: #1f77b4\"/>\n     <use xlink:href=\"#m3d2dbd56eb\" x=\"97.392307\" y=\"55.101403\" style=\"fill: #1f77b4; stroke: #1f77b4\"/>\n     <use xlink:href=\"#m3d2dbd56eb\" x=\"177.078339\" y=\"90.657031\" style=\"fill: #1f77b4; stroke: #1f77b4\"/>\n     <use xlink:href=\"#m3d2dbd56eb\" x=\"107.280963\" y=\"41.299756\" style=\"fill: #1f77b4; stroke: #1f77b4\"/>\n     <use xlink:href=\"#m3d2dbd56eb\" x=\"146.584479\" y=\"77.363298\" style=\"fill: #1f77b4; stroke: #1f77b4\"/>\n     <use xlink:href=\"#m3d2dbd56eb\" x=\"112.010646\" y=\"54.944891\" style=\"fill: #1f77b4; stroke: #1f77b4\"/>\n     <use xlink:href=\"#m3d2dbd56eb\" x=\"106.59867\" y=\"64.103864\" style=\"fill: #1f77b4; stroke: #1f77b4\"/>\n     <use xlink:href=\"#m3d2dbd56eb\" x=\"134.196021\" y=\"74.639743\" style=\"fill: #1f77b4; stroke: #1f77b4\"/>\n     <use xlink:href=\"#m3d2dbd56eb\" x=\"131.339975\" y=\"72.942571\" style=\"fill: #1f77b4; stroke: #1f77b4\"/>\n     <use xlink:href=\"#m3d2dbd56eb\" x=\"140.2383\" y=\"82.04005\" style=\"fill: #1f77b4; stroke: #1f77b4\"/>\n     <use xlink:href=\"#m3d2dbd56eb\" x=\"126.437216\" y=\"61.512081\" style=\"fill: #1f77b4; stroke: #1f77b4\"/>\n     <use xlink:href=\"#m3d2dbd56eb\" x=\"187.948637\" y=\"107.384384\" style=\"fill: #1f77b4; stroke: #1f77b4\"/>\n     <use xlink:href=\"#m3d2dbd56eb\" x=\"97.033512\" y=\"53.437183\" style=\"fill: #1f77b4; stroke: #1f77b4\"/>\n     <use xlink:href=\"#m3d2dbd56eb\" x=\"170.503789\" y=\"87.076623\" style=\"fill: #1f77b4; stroke: #1f77b4\"/>\n     <use xlink:href=\"#m3d2dbd56eb\" x=\"148.04996\" y=\"68.40583\" style=\"fill: #1f77b4; stroke: #1f77b4\"/>\n     <use xlink:href=\"#m3d2dbd56eb\" x=\"174.084408\" y=\"106.142355\" style=\"fill: #1f77b4; stroke: #1f77b4\"/>\n     <use xlink:href=\"#m3d2dbd56eb\" x=\"167.293859\" y=\"108.092685\" style=\"fill: #1f77b4; stroke: #1f77b4\"/>\n     <use xlink:href=\"#m3d2dbd56eb\" x=\"104.093898\" y=\"50.590155\" style=\"fill: #1f77b4; stroke: #1f77b4\"/>\n     <use xlink:href=\"#m3d2dbd56eb\" x=\"140.847742\" y=\"82.034255\" style=\"fill: #1f77b4; stroke: #1f77b4\"/>\n     <use xlink:href=\"#m3d2dbd56eb\" x=\"125.55258\" y=\"69.475623\" style=\"fill: #1f77b4; stroke: #1f77b4\"/>\n     <use xlink:href=\"#m3d2dbd56eb\" x=\"202.448292\" y=\"92.340209\" style=\"fill: #1f77b4; stroke: #1f77b4\"/>\n     <use xlink:href=\"#m3d2dbd56eb\" x=\"145.911159\" y=\"87.158942\" style=\"fill: #1f77b4; stroke: #1f77b4\"/>\n     <use xlink:href=\"#m3d2dbd56eb\" x=\"202.837872\" y=\"96.095694\" style=\"fill: #1f77b4; stroke: #1f77b4\"/>\n     <use xlink:href=\"#m3d2dbd56eb\" x=\"113.784061\" y=\"55.215295\" style=\"fill: #1f77b4; stroke: #1f77b4\"/>\n     <use xlink:href=\"#m3d2dbd56eb\" x=\"198.696694\" y=\"110.870838\" style=\"fill: #1f77b4; stroke: #1f77b4\"/>\n     <use xlink:href=\"#m3d2dbd56eb\" x=\"133.584566\" y=\"53.965071\" style=\"fill: #1f77b4; stroke: #1f77b4\"/>\n     <use xlink:href=\"#m3d2dbd56eb\" x=\"110.774262\" y=\"64.09617\" style=\"fill: #1f77b4; stroke: #1f77b4\"/>\n     <use xlink:href=\"#m3d2dbd56eb\" x=\"132.850658\" y=\"61.230105\" style=\"fill: #1f77b4; stroke: #1f77b4\"/>\n     <use xlink:href=\"#m3d2dbd56eb\" x=\"135.863518\" y=\"74.368709\" style=\"fill: #1f77b4; stroke: #1f77b4\"/>\n     <use xlink:href=\"#m3d2dbd56eb\" x=\"144.058361\" y=\"72.215425\" style=\"fill: #1f77b4; stroke: #1f77b4\"/>\n     <use xlink:href=\"#m3d2dbd56eb\" x=\"180.8355\" y=\"91.432469\" style=\"fill: #1f77b4; stroke: #1f77b4\"/>\n     <use xlink:href=\"#m3d2dbd56eb\" x=\"154.607657\" y=\"87.291649\" style=\"fill: #1f77b4; stroke: #1f77b4\"/>\n     <use xlink:href=\"#m3d2dbd56eb\" x=\"166.110764\" y=\"70.749498\" style=\"fill: #1f77b4; stroke: #1f77b4\"/>\n     <use xlink:href=\"#m3d2dbd56eb\" x=\"102.032507\" y=\"68.194458\" style=\"fill: #1f77b4; stroke: #1f77b4\"/>\n     <use xlink:href=\"#m3d2dbd56eb\" x=\"177.335186\" y=\"83.564752\" style=\"fill: #1f77b4; stroke: #1f77b4\"/>\n     <use xlink:href=\"#m3d2dbd56eb\" x=\"164.332399\" y=\"76.743366\" style=\"fill: #1f77b4; stroke: #1f77b4\"/>\n     <use xlink:href=\"#m3d2dbd56eb\" x=\"132.827252\" y=\"72.563887\" style=\"fill: #1f77b4; stroke: #1f77b4\"/>\n     <use xlink:href=\"#m3d2dbd56eb\" x=\"121.866401\" y=\"61.775509\" style=\"fill: #1f77b4; stroke: #1f77b4\"/>\n     <use xlink:href=\"#m3d2dbd56eb\" x=\"154.971732\" y=\"102.318094\" style=\"fill: #1f77b4; stroke: #1f77b4\"/>\n     <use xlink:href=\"#m3d2dbd56eb\" x=\"110.520083\" y=\"49.892933\" style=\"fill: #1f77b4; stroke: #1f77b4\"/>\n     <use xlink:href=\"#m3d2dbd56eb\" x=\"127.112416\" y=\"65.620588\" style=\"fill: #1f77b4; stroke: #1f77b4\"/>\n     <use xlink:href=\"#m3d2dbd56eb\" x=\"139.532049\" y=\"69.718704\" style=\"fill: #1f77b4; stroke: #1f77b4\"/>\n     <use xlink:href=\"#m3d2dbd56eb\" x=\"153.446612\" y=\"74.363659\" style=\"fill: #1f77b4; stroke: #1f77b4\"/>\n     <use xlink:href=\"#m3d2dbd56eb\" x=\"136.978152\" y=\"53.224986\" style=\"fill: #1f77b4; stroke: #1f77b4\"/>\n     <use xlink:href=\"#m3d2dbd56eb\" x=\"162.218356\" y=\"85.003428\" style=\"fill: #1f77b4; stroke: #1f77b4\"/>\n     <use xlink:href=\"#m3d2dbd56eb\" x=\"164.952204\" y=\"79.10835\" style=\"fill: #1f77b4; stroke: #1f77b4\"/>\n     <use xlink:href=\"#m3d2dbd56eb\" x=\"151.441495\" y=\"94.380305\" style=\"fill: #1f77b4; stroke: #1f77b4\"/>\n     <use xlink:href=\"#m3d2dbd56eb\" x=\"117.165136\" y=\"60.714102\" style=\"fill: #1f77b4; stroke: #1f77b4\"/>\n     <use xlink:href=\"#m3d2dbd56eb\" x=\"152.331505\" y=\"91.964304\" style=\"fill: #1f77b4; stroke: #1f77b4\"/>\n     <use xlink:href=\"#m3d2dbd56eb\" x=\"115.529122\" y=\"54.669527\" style=\"fill: #1f77b4; stroke: #1f77b4\"/>\n     <use xlink:href=\"#m3d2dbd56eb\" x=\"165.729038\" y=\"93.095526\" style=\"fill: #1f77b4; stroke: #1f77b4\"/>\n     <use xlink:href=\"#m3d2dbd56eb\" x=\"171.775921\" y=\"88.870534\" style=\"fill: #1f77b4; stroke: #1f77b4\"/>\n     <use xlink:href=\"#m3d2dbd56eb\" x=\"144.318741\" y=\"82.238783\" style=\"fill: #1f77b4; stroke: #1f77b4\"/>\n     <use xlink:href=\"#m3d2dbd56eb\" x=\"129.543071\" y=\"73.801338\" style=\"fill: #1f77b4; stroke: #1f77b4\"/>\n     <use xlink:href=\"#m3d2dbd56eb\" x=\"105.293781\" y=\"57.590835\" style=\"fill: #1f77b4; stroke: #1f77b4\"/>\n     <use xlink:href=\"#m3d2dbd56eb\" x=\"95.100467\" y=\"37.260085\" style=\"fill: #1f77b4; stroke: #1f77b4\"/>\n     <use xlink:href=\"#m3d2dbd56eb\" x=\"159.487178\" y=\"90.660078\" style=\"fill: #1f77b4; stroke: #1f77b4\"/>\n     <use xlink:href=\"#m3d2dbd56eb\" x=\"152.342409\" y=\"85.750076\" style=\"fill: #1f77b4; stroke: #1f77b4\"/>\n     <use xlink:href=\"#m3d2dbd56eb\" x=\"117.521909\" y=\"47.408115\" style=\"fill: #1f77b4; stroke: #1f77b4\"/>\n     <use xlink:href=\"#m3d2dbd56eb\" x=\"145.174434\" y=\"78.212718\" style=\"fill: #1f77b4; stroke: #1f77b4\"/>\n     <use xlink:href=\"#m3d2dbd56eb\" x=\"99.89093\" y=\"31.410443\" style=\"fill: #1f77b4; stroke: #1f77b4\"/>\n     <use xlink:href=\"#m3d2dbd56eb\" x=\"86.464352\" y=\"37.786025\" style=\"fill: #1f77b4; stroke: #1f77b4\"/>\n     <use xlink:href=\"#m3d2dbd56eb\" x=\"133.020339\" y=\"77.080885\" style=\"fill: #1f77b4; stroke: #1f77b4\"/>\n     <use xlink:href=\"#m3d2dbd56eb\" x=\"112.880572\" y=\"49.928569\" style=\"fill: #1f77b4; stroke: #1f77b4\"/>\n     <use xlink:href=\"#m3d2dbd56eb\" x=\"149.308575\" y=\"83.667639\" style=\"fill: #1f77b4; stroke: #1f77b4\"/>\n     <use xlink:href=\"#m3d2dbd56eb\" x=\"106.230269\" y=\"36.904613\" style=\"fill: #1f77b4; stroke: #1f77b4\"/>\n     <use xlink:href=\"#m3d2dbd56eb\" x=\"123.020347\" y=\"53.254004\" style=\"fill: #1f77b4; stroke: #1f77b4\"/>\n     <use xlink:href=\"#m3d2dbd56eb\" x=\"173.620023\" y=\"86.326106\" style=\"fill: #1f77b4; stroke: #1f77b4\"/>\n     <use xlink:href=\"#m3d2dbd56eb\" x=\"90.145123\" y=\"61.006142\" style=\"fill: #1f77b4; stroke: #1f77b4\"/>\n     <use xlink:href=\"#m3d2dbd56eb\" x=\"106.872678\" y=\"47.710143\" style=\"fill: #1f77b4; stroke: #1f77b4\"/>\n     <use xlink:href=\"#m3d2dbd56eb\" x=\"160.985779\" y=\"78.721659\" style=\"fill: #1f77b4; stroke: #1f77b4\"/>\n     <use xlink:href=\"#m3d2dbd56eb\" x=\"117.187675\" y=\"54.463137\" style=\"fill: #1f77b4; stroke: #1f77b4\"/>\n     <use xlink:href=\"#m3d2dbd56eb\" x=\"82.665838\" y=\"31.930012\" style=\"fill: #1f77b4; stroke: #1f77b4\"/>\n     <use xlink:href=\"#m3d2dbd56eb\" x=\"159.581647\" y=\"89.852271\" style=\"fill: #1f77b4; stroke: #1f77b4\"/>\n     <use xlink:href=\"#m3d2dbd56eb\" x=\"196.664312\" y=\"108.121089\" style=\"fill: #1f77b4; stroke: #1f77b4\"/>\n     <use xlink:href=\"#m3d2dbd56eb\" x=\"154.248305\" y=\"91.445771\" style=\"fill: #1f77b4; stroke: #1f77b4\"/>\n     <use xlink:href=\"#m3d2dbd56eb\" x=\"147.591049\" y=\"93.877651\" style=\"fill: #1f77b4; stroke: #1f77b4\"/>\n     <use xlink:href=\"#m3d2dbd56eb\" x=\"142.262299\" y=\"82.23045\" style=\"fill: #1f77b4; stroke: #1f77b4\"/>\n     <use xlink:href=\"#m3d2dbd56eb\" x=\"142.461468\" y=\"58.057831\" style=\"fill: #1f77b4; stroke: #1f77b4\"/>\n     <use xlink:href=\"#m3d2dbd56eb\" x=\"165.409843\" y=\"90.472735\" style=\"fill: #1f77b4; stroke: #1f77b4\"/>\n     <use xlink:href=\"#m3d2dbd56eb\" x=\"186.164929\" y=\"94.00222\" style=\"fill: #1f77b4; stroke: #1f77b4\"/>\n     <use xlink:href=\"#m3d2dbd56eb\" x=\"184.675965\" y=\"90.131788\" style=\"fill: #1f77b4; stroke: #1f77b4\"/>\n     <use xlink:href=\"#m3d2dbd56eb\" x=\"122.304954\" y=\"61.128804\" style=\"fill: #1f77b4; stroke: #1f77b4\"/>\n     <use xlink:href=\"#m3d2dbd56eb\" x=\"92.434335\" y=\"32.255249\" style=\"fill: #1f77b4; stroke: #1f77b4\"/>\n     <use xlink:href=\"#m3d2dbd56eb\" x=\"111.837045\" y=\"49.252555\" style=\"fill: #1f77b4; stroke: #1f77b4\"/>\n     <use xlink:href=\"#m3d2dbd56eb\" x=\"146.694177\" y=\"76.258994\" style=\"fill: #1f77b4; stroke: #1f77b4\"/>\n     <use xlink:href=\"#m3d2dbd56eb\" x=\"171.968593\" y=\"103.11849\" style=\"fill: #1f77b4; stroke: #1f77b4\"/>\n     <use xlink:href=\"#m3d2dbd56eb\" x=\"127.488884\" y=\"68.749432\" style=\"fill: #1f77b4; stroke: #1f77b4\"/>\n     <use xlink:href=\"#m3d2dbd56eb\" x=\"177.150618\" y=\"96.589314\" style=\"fill: #1f77b4; stroke: #1f77b4\"/>\n     <use xlink:href=\"#m3d2dbd56eb\" x=\"109.203005\" y=\"55.316736\" style=\"fill: #1f77b4; stroke: #1f77b4\"/>\n     <use xlink:href=\"#m3d2dbd56eb\" x=\"157.845122\" y=\"83.327177\" style=\"fill: #1f77b4; stroke: #1f77b4\"/>\n     <use xlink:href=\"#m3d2dbd56eb\" x=\"171.827427\" y=\"95.379307\" style=\"fill: #1f77b4; stroke: #1f77b4\"/>\n     <use xlink:href=\"#m3d2dbd56eb\" x=\"124.680482\" y=\"60.488774\" style=\"fill: #1f77b4; stroke: #1f77b4\"/>\n     <use xlink:href=\"#m3d2dbd56eb\" x=\"90.260491\" y=\"47.81163\" style=\"fill: #1f77b4; stroke: #1f77b4\"/>\n     <use xlink:href=\"#m3d2dbd56eb\" x=\"85.190198\" y=\"30.610727\" style=\"fill: #1f77b4; stroke: #1f77b4\"/>\n     <use xlink:href=\"#m3d2dbd56eb\" x=\"175.201417\" y=\"96.279331\" style=\"fill: #1f77b4; stroke: #1f77b4\"/>\n     <use xlink:href=\"#m3d2dbd56eb\" x=\"146.140111\" y=\"89.063952\" style=\"fill: #1f77b4; stroke: #1f77b4\"/>\n     <use xlink:href=\"#m3d2dbd56eb\" x=\"162.947603\" y=\"74.751551\" style=\"fill: #1f77b4; stroke: #1f77b4\"/>\n     <use xlink:href=\"#m3d2dbd56eb\" x=\"88.383048\" y=\"42.052307\" style=\"fill: #1f77b4; stroke: #1f77b4\"/>\n     <use xlink:href=\"#m3d2dbd56eb\" x=\"160.098701\" y=\"86.923232\" style=\"fill: #1f77b4; stroke: #1f77b4\"/>\n     <use xlink:href=\"#m3d2dbd56eb\" x=\"128.716757\" y=\"57.390215\" style=\"fill: #1f77b4; stroke: #1f77b4\"/>\n     <use xlink:href=\"#m3d2dbd56eb\" x=\"180.46485\" y=\"102.009362\" style=\"fill: #1f77b4; stroke: #1f77b4\"/>\n     <use xlink:href=\"#m3d2dbd56eb\" x=\"125.834077\" y=\"63.067036\" style=\"fill: #1f77b4; stroke: #1f77b4\"/>\n     <use xlink:href=\"#m3d2dbd56eb\" x=\"147.894165\" y=\"78.744623\" style=\"fill: #1f77b4; stroke: #1f77b4\"/>\n     <use xlink:href=\"#m3d2dbd56eb\" x=\"97.572669\" y=\"42.857813\" style=\"fill: #1f77b4; stroke: #1f77b4\"/>\n     <use xlink:href=\"#m3d2dbd56eb\" x=\"138.082371\" y=\"70.251092\" style=\"fill: #1f77b4; stroke: #1f77b4\"/>\n     <use xlink:href=\"#m3d2dbd56eb\" x=\"119.146733\" y=\"47.80908\" style=\"fill: #1f77b4; stroke: #1f77b4\"/>\n     <use xlink:href=\"#m3d2dbd56eb\" x=\"135.469225\" y=\"75.172939\" style=\"fill: #1f77b4; stroke: #1f77b4\"/>\n     <use xlink:href=\"#m3d2dbd56eb\" x=\"147.688454\" y=\"75.160461\" style=\"fill: #1f77b4; stroke: #1f77b4\"/>\n     <use xlink:href=\"#m3d2dbd56eb\" x=\"144.759065\" y=\"74.52492\" style=\"fill: #1f77b4; stroke: #1f77b4\"/>\n     <use xlink:href=\"#m3d2dbd56eb\" x=\"128.184959\" y=\"63.055049\" style=\"fill: #1f77b4; stroke: #1f77b4\"/>\n     <use xlink:href=\"#m3d2dbd56eb\" x=\"141.605535\" y=\"69.565167\" style=\"fill: #1f77b4; stroke: #1f77b4\"/>\n     <use xlink:href=\"#m3d2dbd56eb\" x=\"163.066777\" y=\"62.042658\" style=\"fill: #1f77b4; stroke: #1f77b4\"/>\n     <use xlink:href=\"#m3d2dbd56eb\" x=\"133.746853\" y=\"82.757911\" style=\"fill: #1f77b4; stroke: #1f77b4\"/>\n     <use xlink:href=\"#m3d2dbd56eb\" x=\"157.284573\" y=\"74.045438\" style=\"fill: #1f77b4; stroke: #1f77b4\"/>\n     <use xlink:href=\"#m3d2dbd56eb\" x=\"163.734519\" y=\"65.159822\" style=\"fill: #1f77b4; stroke: #1f77b4\"/>\n     <use xlink:href=\"#m3d2dbd56eb\" x=\"154.692923\" y=\"78.973564\" style=\"fill: #1f77b4; stroke: #1f77b4\"/>\n     <use xlink:href=\"#m3d2dbd56eb\" x=\"177.735495\" y=\"96.304596\" style=\"fill: #1f77b4; stroke: #1f77b4\"/>\n     <use xlink:href=\"#m3d2dbd56eb\" x=\"168.164302\" y=\"103.787993\" style=\"fill: #1f77b4; stroke: #1f77b4\"/>\n     <use xlink:href=\"#m3d2dbd56eb\" x=\"142.174597\" y=\"77.447604\" style=\"fill: #1f77b4; stroke: #1f77b4\"/>\n     <use xlink:href=\"#m3d2dbd56eb\" x=\"141.146312\" y=\"88.206146\" style=\"fill: #1f77b4; stroke: #1f77b4\"/>\n     <use xlink:href=\"#m3d2dbd56eb\" x=\"138.869394\" y=\"74.880263\" style=\"fill: #1f77b4; stroke: #1f77b4\"/>\n     <use xlink:href=\"#m3d2dbd56eb\" x=\"170.781446\" y=\"88.880927\" style=\"fill: #1f77b4; stroke: #1f77b4\"/>\n     <use xlink:href=\"#m3d2dbd56eb\" x=\"163.85918\" y=\"92.033573\" style=\"fill: #1f77b4; stroke: #1f77b4\"/>\n     <use xlink:href=\"#m3d2dbd56eb\" x=\"132.540598\" y=\"77.294895\" style=\"fill: #1f77b4; stroke: #1f77b4\"/>\n     <use xlink:href=\"#m3d2dbd56eb\" x=\"165.315662\" y=\"79.028362\" style=\"fill: #1f77b4; stroke: #1f77b4\"/>\n     <use xlink:href=\"#m3d2dbd56eb\" x=\"192.67504\" y=\"88.740209\" style=\"fill: #1f77b4; stroke: #1f77b4\"/>\n     <use xlink:href=\"#m3d2dbd56eb\" x=\"145.134879\" y=\"90.464929\" style=\"fill: #1f77b4; stroke: #1f77b4\"/>\n     <use xlink:href=\"#m3d2dbd56eb\" x=\"100.101586\" y=\"67.211571\" style=\"fill: #1f77b4; stroke: #1f77b4\"/>\n     <use xlink:href=\"#m3d2dbd56eb\" x=\"132.253208\" y=\"84.762935\" style=\"fill: #1f77b4; stroke: #1f77b4\"/>\n     <use xlink:href=\"#m3d2dbd56eb\" x=\"145.923225\" y=\"71.31131\" style=\"fill: #1f77b4; stroke: #1f77b4\"/>\n     <use xlink:href=\"#m3d2dbd56eb\" x=\"172.733453\" y=\"94.22272\" style=\"fill: #1f77b4; stroke: #1f77b4\"/>\n     <use xlink:href=\"#m3d2dbd56eb\" x=\"142.009945\" y=\"69.368719\" style=\"fill: #1f77b4; stroke: #1f77b4\"/>\n     <use xlink:href=\"#m3d2dbd56eb\" x=\"152.789451\" y=\"79.546033\" style=\"fill: #1f77b4; stroke: #1f77b4\"/>\n     <use xlink:href=\"#m3d2dbd56eb\" x=\"133.473876\" y=\"86.238885\" style=\"fill: #1f77b4; stroke: #1f77b4\"/>\n     <use xlink:href=\"#m3d2dbd56eb\" x=\"148.494971\" y=\"83.751957\" style=\"fill: #1f77b4; stroke: #1f77b4\"/>\n     <use xlink:href=\"#m3d2dbd56eb\" x=\"176.609716\" y=\"102.77186\" style=\"fill: #1f77b4; stroke: #1f77b4\"/>\n     <use xlink:href=\"#m3d2dbd56eb\" x=\"136.243503\" y=\"67.797855\" style=\"fill: #1f77b4; stroke: #1f77b4\"/>\n     <use xlink:href=\"#m3d2dbd56eb\" x=\"141.657865\" y=\"58.844767\" style=\"fill: #1f77b4; stroke: #1f77b4\"/>\n     <use xlink:href=\"#m3d2dbd56eb\" x=\"155.450632\" y=\"83.134246\" style=\"fill: #1f77b4; stroke: #1f77b4\"/>\n     <use xlink:href=\"#m3d2dbd56eb\" x=\"172.221508\" y=\"88.362627\" style=\"fill: #1f77b4; stroke: #1f77b4\"/>\n     <use xlink:href=\"#m3d2dbd56eb\" x=\"114.681762\" y=\"85.502738\" style=\"fill: #1f77b4; stroke: #1f77b4\"/>\n     <use xlink:href=\"#m3d2dbd56eb\" x=\"160.598956\" y=\"72.100455\" style=\"fill: #1f77b4; stroke: #1f77b4\"/>\n     <use xlink:href=\"#m3d2dbd56eb\" x=\"150.012712\" y=\"73.001903\" style=\"fill: #1f77b4; stroke: #1f77b4\"/>\n     <use xlink:href=\"#m3d2dbd56eb\" x=\"112.502424\" y=\"48.077455\" style=\"fill: #1f77b4; stroke: #1f77b4\"/>\n     <use xlink:href=\"#m3d2dbd56eb\" x=\"125.057042\" y=\"62.408982\" style=\"fill: #1f77b4; stroke: #1f77b4\"/>\n     <use xlink:href=\"#m3d2dbd56eb\" x=\"137.725605\" y=\"67.82568\" style=\"fill: #1f77b4; stroke: #1f77b4\"/>\n     <use xlink:href=\"#m3d2dbd56eb\" x=\"175.53378\" y=\"117.242232\" style=\"fill: #1f77b4; stroke: #1f77b4\"/>\n     <use xlink:href=\"#m3d2dbd56eb\" x=\"168.872323\" y=\"95.451341\" style=\"fill: #1f77b4; stroke: #1f77b4\"/>\n     <use xlink:href=\"#m3d2dbd56eb\" x=\"138.808906\" y=\"74.498221\" style=\"fill: #1f77b4; stroke: #1f77b4\"/>\n     <use xlink:href=\"#m3d2dbd56eb\" x=\"87.722606\" y=\"22.618982\" style=\"fill: #1f77b4; stroke: #1f77b4\"/>\n     <use xlink:href=\"#m3d2dbd56eb\" x=\"85.440764\" y=\"51.153053\" style=\"fill: #1f77b4; stroke: #1f77b4\"/>\n     <use xlink:href=\"#m3d2dbd56eb\" x=\"159.269995\" y=\"67.140381\" style=\"fill: #1f77b4; stroke: #1f77b4\"/>\n     <use xlink:href=\"#m3d2dbd56eb\" x=\"167.053957\" y=\"65.296865\" style=\"fill: #1f77b4; stroke: #1f77b4\"/>\n     <use xlink:href=\"#m3d2dbd56eb\" x=\"162.090015\" y=\"95.535321\" style=\"fill: #1f77b4; stroke: #1f77b4\"/>\n     <use xlink:href=\"#m3d2dbd56eb\" x=\"109.563295\" y=\"55.955633\" style=\"fill: #1f77b4; stroke: #1f77b4\"/>\n     <use xlink:href=\"#m3d2dbd56eb\" x=\"172.421281\" y=\"75.751707\" style=\"fill: #1f77b4; stroke: #1f77b4\"/>\n     <use xlink:href=\"#m3d2dbd56eb\" x=\"120.476883\" y=\"61.380466\" style=\"fill: #1f77b4; stroke: #1f77b4\"/>\n     <use xlink:href=\"#m3d2dbd56eb\" x=\"150.540383\" y=\"65.050608\" style=\"fill: #1f77b4; stroke: #1f77b4\"/>\n     <use xlink:href=\"#m3d2dbd56eb\" x=\"180.449174\" y=\"92.993078\" style=\"fill: #1f77b4; stroke: #1f77b4\"/>\n     <use xlink:href=\"#m3d2dbd56eb\" x=\"159.762834\" y=\"83.797869\" style=\"fill: #1f77b4; stroke: #1f77b4\"/>\n     <use xlink:href=\"#m3d2dbd56eb\" x=\"133.84191\" y=\"73.429115\" style=\"fill: #1f77b4; stroke: #1f77b4\"/>\n     <use xlink:href=\"#m3d2dbd56eb\" x=\"99.527574\" y=\"38.177527\" style=\"fill: #1f77b4; stroke: #1f77b4\"/>\n     <use xlink:href=\"#m3d2dbd56eb\" x=\"177.933018\" y=\"79.541616\" style=\"fill: #1f77b4; stroke: #1f77b4\"/>\n     <use xlink:href=\"#m3d2dbd56eb\" x=\"128.326875\" y=\"44.512361\" style=\"fill: #1f77b4; stroke: #1f77b4\"/>\n     <use xlink:href=\"#m3d2dbd56eb\" x=\"176.795515\" y=\"81.830692\" style=\"fill: #1f77b4; stroke: #1f77b4\"/>\n     <use xlink:href=\"#m3d2dbd56eb\" x=\"130.065293\" y=\"53.76613\" style=\"fill: #1f77b4; stroke: #1f77b4\"/>\n     <use xlink:href=\"#m3d2dbd56eb\" x=\"149.72694\" y=\"74.33124\" style=\"fill: #1f77b4; stroke: #1f77b4\"/>\n     <use xlink:href=\"#m3d2dbd56eb\" x=\"183.639854\" y=\"101.457793\" style=\"fill: #1f77b4; stroke: #1f77b4\"/>\n     <use xlink:href=\"#m3d2dbd56eb\" x=\"173.231149\" y=\"92.672803\" style=\"fill: #1f77b4; stroke: #1f77b4\"/>\n     <use xlink:href=\"#m3d2dbd56eb\" x=\"123.502235\" y=\"56.565475\" style=\"fill: #1f77b4; stroke: #1f77b4\"/>\n     <use xlink:href=\"#m3d2dbd56eb\" x=\"151.436892\" y=\"86.62494\" style=\"fill: #1f77b4; stroke: #1f77b4\"/>\n     <use xlink:href=\"#m3d2dbd56eb\" x=\"151.960244\" y=\"73.539992\" style=\"fill: #1f77b4; stroke: #1f77b4\"/>\n     <use xlink:href=\"#m3d2dbd56eb\" x=\"145.428784\" y=\"73.219828\" style=\"fill: #1f77b4; stroke: #1f77b4\"/>\n     <use xlink:href=\"#m3d2dbd56eb\" x=\"123.417188\" y=\"81.809643\" style=\"fill: #1f77b4; stroke: #1f77b4\"/>\n     <use xlink:href=\"#m3d2dbd56eb\" x=\"108.715104\" y=\"55.291974\" style=\"fill: #1f77b4; stroke: #1f77b4\"/>\n     <use xlink:href=\"#m3d2dbd56eb\" x=\"131.706552\" y=\"76.242623\" style=\"fill: #1f77b4; stroke: #1f77b4\"/>\n     <use xlink:href=\"#m3d2dbd56eb\" x=\"131.43122\" y=\"68.650079\" style=\"fill: #1f77b4; stroke: #1f77b4\"/>\n     <use xlink:href=\"#m3d2dbd56eb\" x=\"136.176524\" y=\"77.999715\" style=\"fill: #1f77b4; stroke: #1f77b4\"/>\n     <use xlink:href=\"#m3d2dbd56eb\" x=\"136.940399\" y=\"81.508065\" style=\"fill: #1f77b4; stroke: #1f77b4\"/>\n     <use xlink:href=\"#m3d2dbd56eb\" x=\"174.666782\" y=\"81.881902\" style=\"fill: #1f77b4; stroke: #1f77b4\"/>\n     <use xlink:href=\"#m3d2dbd56eb\" x=\"139.552197\" y=\"86.435992\" style=\"fill: #1f77b4; stroke: #1f77b4\"/>\n     <use xlink:href=\"#m3d2dbd56eb\" x=\"187.819843\" y=\"90.723746\" style=\"fill: #1f77b4; stroke: #1f77b4\"/>\n     <use xlink:href=\"#m3d2dbd56eb\" x=\"164.248937\" y=\"89.050869\" style=\"fill: #1f77b4; stroke: #1f77b4\"/>\n     <use xlink:href=\"#m3d2dbd56eb\" x=\"161.925274\" y=\"94.693274\" style=\"fill: #1f77b4; stroke: #1f77b4\"/>\n     <use xlink:href=\"#m3d2dbd56eb\" x=\"165.211771\" y=\"99.800303\" style=\"fill: #1f77b4; stroke: #1f77b4\"/>\n     <use xlink:href=\"#m3d2dbd56eb\" x=\"125.756874\" y=\"60.365201\" style=\"fill: #1f77b4; stroke: #1f77b4\"/>\n     <use xlink:href=\"#m3d2dbd56eb\" x=\"181.711667\" y=\"79.765031\" style=\"fill: #1f77b4; stroke: #1f77b4\"/>\n     <use xlink:href=\"#m3d2dbd56eb\" x=\"142.901947\" y=\"86.872998\" style=\"fill: #1f77b4; stroke: #1f77b4\"/>\n     <use xlink:href=\"#m3d2dbd56eb\" x=\"162.104595\" y=\"73.195939\" style=\"fill: #1f77b4; stroke: #1f77b4\"/>\n     <use xlink:href=\"#m3d2dbd56eb\" x=\"156.243293\" y=\"82.406847\" style=\"fill: #1f77b4; stroke: #1f77b4\"/>\n     <use xlink:href=\"#m3d2dbd56eb\" x=\"170.764871\" y=\"83.133657\" style=\"fill: #1f77b4; stroke: #1f77b4\"/>\n     <use xlink:href=\"#m3d2dbd56eb\" x=\"143.007057\" y=\"79.653606\" style=\"fill: #1f77b4; stroke: #1f77b4\"/>\n     <use xlink:href=\"#m3d2dbd56eb\" x=\"102.511049\" y=\"39.435469\" style=\"fill: #1f77b4; stroke: #1f77b4\"/>\n     <use xlink:href=\"#m3d2dbd56eb\" x=\"131.111024\" y=\"37.356729\" style=\"fill: #1f77b4; stroke: #1f77b4\"/>\n     <use xlink:href=\"#m3d2dbd56eb\" x=\"119.047547\" y=\"54.541323\" style=\"fill: #1f77b4; stroke: #1f77b4\"/>\n     <use xlink:href=\"#m3d2dbd56eb\" x=\"155.42013\" y=\"74.513852\" style=\"fill: #1f77b4; stroke: #1f77b4\"/>\n     <use xlink:href=\"#m3d2dbd56eb\" x=\"141.814332\" y=\"75.118205\" style=\"fill: #1f77b4; stroke: #1f77b4\"/>\n     <use xlink:href=\"#m3d2dbd56eb\" x=\"182.89481\" y=\"92.43624\" style=\"fill: #1f77b4; stroke: #1f77b4\"/>\n     <use xlink:href=\"#m3d2dbd56eb\" x=\"99.235632\" y=\"28.940651\" style=\"fill: #1f77b4; stroke: #1f77b4\"/>\n     <use xlink:href=\"#m3d2dbd56eb\" x=\"119.07234\" y=\"59.047186\" style=\"fill: #1f77b4; stroke: #1f77b4\"/>\n     <use xlink:href=\"#m3d2dbd56eb\" x=\"93.176096\" y=\"22.951059\" style=\"fill: #1f77b4; stroke: #1f77b4\"/>\n     <use xlink:href=\"#m3d2dbd56eb\" x=\"136.649081\" y=\"74.432648\" style=\"fill: #1f77b4; stroke: #1f77b4\"/>\n     <use xlink:href=\"#m3d2dbd56eb\" x=\"114.025265\" y=\"51.822854\" style=\"fill: #1f77b4; stroke: #1f77b4\"/>\n     <use xlink:href=\"#m3d2dbd56eb\" x=\"135.663362\" y=\"57.527393\" style=\"fill: #1f77b4; stroke: #1f77b4\"/>\n     <use xlink:href=\"#m3d2dbd56eb\" x=\"119.780112\" y=\"64.723362\" style=\"fill: #1f77b4; stroke: #1f77b4\"/>\n     <use xlink:href=\"#m3d2dbd56eb\" x=\"126.806134\" y=\"67.646228\" style=\"fill: #1f77b4; stroke: #1f77b4\"/>\n     <use xlink:href=\"#m3d2dbd56eb\" x=\"139.223293\" y=\"81.967309\" style=\"fill: #1f77b4; stroke: #1f77b4\"/>\n     <use xlink:href=\"#m3d2dbd56eb\" x=\"143.811641\" y=\"67.165053\" style=\"fill: #1f77b4; stroke: #1f77b4\"/>\n     <use xlink:href=\"#m3d2dbd56eb\" x=\"176.835501\" y=\"90.959363\" style=\"fill: #1f77b4; stroke: #1f77b4\"/>\n     <use xlink:href=\"#m3d2dbd56eb\" x=\"132.166073\" y=\"77.271221\" style=\"fill: #1f77b4; stroke: #1f77b4\"/>\n     <use xlink:href=\"#m3d2dbd56eb\" x=\"142.281047\" y=\"57.883961\" style=\"fill: #1f77b4; stroke: #1f77b4\"/>\n     <use xlink:href=\"#m3d2dbd56eb\" x=\"156.612726\" y=\"69.09681\" style=\"fill: #1f77b4; stroke: #1f77b4\"/>\n     <use xlink:href=\"#m3d2dbd56eb\" x=\"84.868695\" y=\"35.129851\" style=\"fill: #1f77b4; stroke: #1f77b4\"/>\n     <use xlink:href=\"#m3d2dbd56eb\" x=\"137.413807\" y=\"75.592031\" style=\"fill: #1f77b4; stroke: #1f77b4\"/>\n     <use xlink:href=\"#m3d2dbd56eb\" x=\"210.896441\" y=\"108.162998\" style=\"fill: #1f77b4; stroke: #1f77b4\"/>\n     <use xlink:href=\"#m3d2dbd56eb\" x=\"118.386123\" y=\"50.790301\" style=\"fill: #1f77b4; stroke: #1f77b4\"/>\n     <use xlink:href=\"#m3d2dbd56eb\" x=\"156.125546\" y=\"88.294133\" style=\"fill: #1f77b4; stroke: #1f77b4\"/>\n     <use xlink:href=\"#m3d2dbd56eb\" x=\"118.352266\" y=\"56.894505\" style=\"fill: #1f77b4; stroke: #1f77b4\"/>\n     <use xlink:href=\"#m3d2dbd56eb\" x=\"144.607729\" y=\"71.885358\" style=\"fill: #1f77b4; stroke: #1f77b4\"/>\n     <use xlink:href=\"#m3d2dbd56eb\" x=\"170.422589\" y=\"66.788541\" style=\"fill: #1f77b4; stroke: #1f77b4\"/>\n     <use xlink:href=\"#m3d2dbd56eb\" x=\"115.134604\" y=\"41.420765\" style=\"fill: #1f77b4; stroke: #1f77b4\"/>\n     <use xlink:href=\"#m3d2dbd56eb\" x=\"126.165653\" y=\"59.72431\" style=\"fill: #1f77b4; stroke: #1f77b4\"/>\n     <use xlink:href=\"#m3d2dbd56eb\" x=\"123.15222\" y=\"56.12924\" style=\"fill: #1f77b4; stroke: #1f77b4\"/>\n     <use xlink:href=\"#m3d2dbd56eb\" x=\"61.610519\" y=\"27.417506\" style=\"fill: #1f77b4; stroke: #1f77b4\"/>\n     <use xlink:href=\"#m3d2dbd56eb\" x=\"171.405726\" y=\"95.171986\" style=\"fill: #1f77b4; stroke: #1f77b4\"/>\n     <use xlink:href=\"#m3d2dbd56eb\" x=\"139.456621\" y=\"74.767123\" style=\"fill: #1f77b4; stroke: #1f77b4\"/>\n     <use xlink:href=\"#m3d2dbd56eb\" x=\"119.121313\" y=\"67.773771\" style=\"fill: #1f77b4; stroke: #1f77b4\"/>\n     <use xlink:href=\"#m3d2dbd56eb\" x=\"153.10996\" y=\"63.299154\" style=\"fill: #1f77b4; stroke: #1f77b4\"/>\n     <use xlink:href=\"#m3d2dbd56eb\" x=\"173.683115\" y=\"95.107716\" style=\"fill: #1f77b4; stroke: #1f77b4\"/>\n     <use xlink:href=\"#m3d2dbd56eb\" x=\"133.193445\" y=\"52.516472\" style=\"fill: #1f77b4; stroke: #1f77b4\"/>\n     <use xlink:href=\"#m3d2dbd56eb\" x=\"138.421592\" y=\"70.786796\" style=\"fill: #1f77b4; stroke: #1f77b4\"/>\n     <use xlink:href=\"#m3d2dbd56eb\" x=\"165.638528\" y=\"85.436805\" style=\"fill: #1f77b4; stroke: #1f77b4\"/>\n     <use xlink:href=\"#m3d2dbd56eb\" x=\"162.788451\" y=\"80.353795\" style=\"fill: #1f77b4; stroke: #1f77b4\"/>\n     <use xlink:href=\"#m3d2dbd56eb\" x=\"157.007873\" y=\"86.956\" style=\"fill: #1f77b4; stroke: #1f77b4\"/>\n     <use xlink:href=\"#m3d2dbd56eb\" x=\"143.038564\" y=\"65.835197\" style=\"fill: #1f77b4; stroke: #1f77b4\"/>\n     <use xlink:href=\"#m3d2dbd56eb\" x=\"128.708958\" y=\"52.603661\" style=\"fill: #1f77b4; stroke: #1f77b4\"/>\n     <use xlink:href=\"#m3d2dbd56eb\" x=\"68.968644\" y=\"37.613876\" style=\"fill: #1f77b4; stroke: #1f77b4\"/>\n     <use xlink:href=\"#m3d2dbd56eb\" x=\"127.845086\" y=\"59.49688\" style=\"fill: #1f77b4; stroke: #1f77b4\"/>\n     <use xlink:href=\"#m3d2dbd56eb\" x=\"114.534497\" y=\"62.8651\" style=\"fill: #1f77b4; stroke: #1f77b4\"/>\n     <use xlink:href=\"#m3d2dbd56eb\" x=\"127.192305\" y=\"58.835598\" style=\"fill: #1f77b4; stroke: #1f77b4\"/>\n     <use xlink:href=\"#m3d2dbd56eb\" x=\"139.468393\" y=\"67.770948\" style=\"fill: #1f77b4; stroke: #1f77b4\"/>\n     <use xlink:href=\"#m3d2dbd56eb\" x=\"100.269197\" y=\"39.52407\" style=\"fill: #1f77b4; stroke: #1f77b4\"/>\n     <use xlink:href=\"#m3d2dbd56eb\" x=\"149.428314\" y=\"79.564126\" style=\"fill: #1f77b4; stroke: #1f77b4\"/>\n     <use xlink:href=\"#m3d2dbd56eb\" x=\"106.612603\" y=\"40.253096\" style=\"fill: #1f77b4; stroke: #1f77b4\"/>\n     <use xlink:href=\"#m3d2dbd56eb\" x=\"137.176935\" y=\"88.64072\" style=\"fill: #1f77b4; stroke: #1f77b4\"/>\n     <use xlink:href=\"#m3d2dbd56eb\" x=\"182.407346\" y=\"99.502013\" style=\"fill: #1f77b4; stroke: #1f77b4\"/>\n     <use xlink:href=\"#m3d2dbd56eb\" x=\"158.888549\" y=\"87.558659\" style=\"fill: #1f77b4; stroke: #1f77b4\"/>\n     <use xlink:href=\"#m3d2dbd56eb\" x=\"142.345957\" y=\"65.434127\" style=\"fill: #1f77b4; stroke: #1f77b4\"/>\n     <use xlink:href=\"#m3d2dbd56eb\" x=\"158.520158\" y=\"88.378412\" style=\"fill: #1f77b4; stroke: #1f77b4\"/>\n     <use xlink:href=\"#m3d2dbd56eb\" x=\"84.272579\" y=\"54.60459\" style=\"fill: #1f77b4; stroke: #1f77b4\"/>\n     <use xlink:href=\"#m3d2dbd56eb\" x=\"99.67042\" y=\"57.730985\" style=\"fill: #1f77b4; stroke: #1f77b4\"/>\n     <use xlink:href=\"#m3d2dbd56eb\" x=\"111.452389\" y=\"57.512561\" style=\"fill: #1f77b4; stroke: #1f77b4\"/>\n     <use xlink:href=\"#m3d2dbd56eb\" x=\"168.79434\" y=\"85.643089\" style=\"fill: #1f77b4; stroke: #1f77b4\"/>\n     <use xlink:href=\"#m3d2dbd56eb\" x=\"130.81208\" y=\"58.946004\" style=\"fill: #1f77b4; stroke: #1f77b4\"/>\n     <use xlink:href=\"#m3d2dbd56eb\" x=\"169.943447\" y=\"79.296222\" style=\"fill: #1f77b4; stroke: #1f77b4\"/>\n     <use xlink:href=\"#m3d2dbd56eb\" x=\"135.569756\" y=\"72.721787\" style=\"fill: #1f77b4; stroke: #1f77b4\"/>\n     <use xlink:href=\"#m3d2dbd56eb\" x=\"159.860387\" y=\"71.433266\" style=\"fill: #1f77b4; stroke: #1f77b4\"/>\n     <use xlink:href=\"#m3d2dbd56eb\" x=\"151.068089\" y=\"71.619163\" style=\"fill: #1f77b4; stroke: #1f77b4\"/>\n     <use xlink:href=\"#m3d2dbd56eb\" x=\"76.969728\" y=\"24.371418\" style=\"fill: #1f77b4; stroke: #1f77b4\"/>\n     <use xlink:href=\"#m3d2dbd56eb\" x=\"132.781221\" y=\"57.715078\" style=\"fill: #1f77b4; stroke: #1f77b4\"/>\n     <use xlink:href=\"#m3d2dbd56eb\" x=\"69.60825\" y=\"42.946558\" style=\"fill: #1f77b4; stroke: #1f77b4\"/>\n     <use xlink:href=\"#m3d2dbd56eb\" x=\"121.846227\" y=\"52.842173\" style=\"fill: #1f77b4; stroke: #1f77b4\"/>\n     <use xlink:href=\"#m3d2dbd56eb\" x=\"188.144612\" y=\"105.512835\" style=\"fill: #1f77b4; stroke: #1f77b4\"/>\n     <use xlink:href=\"#m3d2dbd56eb\" x=\"125.757022\" y=\"56.166935\" style=\"fill: #1f77b4; stroke: #1f77b4\"/>\n     <use xlink:href=\"#m3d2dbd56eb\" x=\"159.318294\" y=\"107.239476\" style=\"fill: #1f77b4; stroke: #1f77b4\"/>\n     <use xlink:href=\"#m3d2dbd56eb\" x=\"137.357033\" y=\"79.009574\" style=\"fill: #1f77b4; stroke: #1f77b4\"/>\n     <use xlink:href=\"#m3d2dbd56eb\" x=\"111.30044\" y=\"63.520036\" style=\"fill: #1f77b4; stroke: #1f77b4\"/>\n     <use xlink:href=\"#m3d2dbd56eb\" x=\"144.514885\" y=\"87.819575\" style=\"fill: #1f77b4; stroke: #1f77b4\"/>\n     <use xlink:href=\"#m3d2dbd56eb\" x=\"145.943619\" y=\"66.067089\" style=\"fill: #1f77b4; stroke: #1f77b4\"/>\n     <use xlink:href=\"#m3d2dbd56eb\" x=\"185.444807\" y=\"107.237762\" style=\"fill: #1f77b4; stroke: #1f77b4\"/>\n     <use xlink:href=\"#m3d2dbd56eb\" x=\"126.567141\" y=\"67.21008\" style=\"fill: #1f77b4; stroke: #1f77b4\"/>\n     <use xlink:href=\"#m3d2dbd56eb\" x=\"88.57304\" y=\"39.991435\" style=\"fill: #1f77b4; stroke: #1f77b4\"/>\n     <use xlink:href=\"#m3d2dbd56eb\" x=\"153.093552\" y=\"84.294766\" style=\"fill: #1f77b4; stroke: #1f77b4\"/>\n     <use xlink:href=\"#m3d2dbd56eb\" x=\"121.488422\" y=\"63.365024\" style=\"fill: #1f77b4; stroke: #1f77b4\"/>\n     <use xlink:href=\"#m3d2dbd56eb\" x=\"188.670224\" y=\"87.229696\" style=\"fill: #1f77b4; stroke: #1f77b4\"/>\n     <use xlink:href=\"#m3d2dbd56eb\" x=\"148.810905\" y=\"71.527535\" style=\"fill: #1f77b4; stroke: #1f77b4\"/>\n     <use xlink:href=\"#m3d2dbd56eb\" x=\"148.48214\" y=\"74.321666\" style=\"fill: #1f77b4; stroke: #1f77b4\"/>\n     <use xlink:href=\"#m3d2dbd56eb\" x=\"152.124779\" y=\"83.382966\" style=\"fill: #1f77b4; stroke: #1f77b4\"/>\n     <use xlink:href=\"#m3d2dbd56eb\" x=\"150.142834\" y=\"56.227059\" style=\"fill: #1f77b4; stroke: #1f77b4\"/>\n     <use xlink:href=\"#m3d2dbd56eb\" x=\"144.425107\" y=\"91.294968\" style=\"fill: #1f77b4; stroke: #1f77b4\"/>\n     <use xlink:href=\"#m3d2dbd56eb\" x=\"170.932499\" y=\"94.205981\" style=\"fill: #1f77b4; stroke: #1f77b4\"/>\n     <use xlink:href=\"#m3d2dbd56eb\" x=\"108.953578\" y=\"62.196763\" style=\"fill: #1f77b4; stroke: #1f77b4\"/>\n     <use xlink:href=\"#m3d2dbd56eb\" x=\"144.199652\" y=\"62.855086\" style=\"fill: #1f77b4; stroke: #1f77b4\"/>\n     <use xlink:href=\"#m3d2dbd56eb\" x=\"116.725596\" y=\"54.793192\" style=\"fill: #1f77b4; stroke: #1f77b4\"/>\n     <use xlink:href=\"#m3d2dbd56eb\" x=\"133.628603\" y=\"51.971748\" style=\"fill: #1f77b4; stroke: #1f77b4\"/>\n     <use xlink:href=\"#m3d2dbd56eb\" x=\"104.34705\" y=\"38.563767\" style=\"fill: #1f77b4; stroke: #1f77b4\"/>\n     <use xlink:href=\"#m3d2dbd56eb\" x=\"144.839266\" y=\"78.94646\" style=\"fill: #1f77b4; stroke: #1f77b4\"/>\n     <use xlink:href=\"#m3d2dbd56eb\" x=\"140.076847\" y=\"78.675251\" style=\"fill: #1f77b4; stroke: #1f77b4\"/>\n     <use xlink:href=\"#m3d2dbd56eb\" x=\"167.117906\" y=\"94.6416\" style=\"fill: #1f77b4; stroke: #1f77b4\"/>\n     <use xlink:href=\"#m3d2dbd56eb\" x=\"135.051177\" y=\"68.745314\" style=\"fill: #1f77b4; stroke: #1f77b4\"/>\n     <use xlink:href=\"#m3d2dbd56eb\" x=\"102.908901\" y=\"51.222996\" style=\"fill: #1f77b4; stroke: #1f77b4\"/>\n     <use xlink:href=\"#m3d2dbd56eb\" x=\"133.520337\" y=\"53.382336\" style=\"fill: #1f77b4; stroke: #1f77b4\"/>\n     <use xlink:href=\"#m3d2dbd56eb\" x=\"134.263589\" y=\"86.209057\" style=\"fill: #1f77b4; stroke: #1f77b4\"/>\n     <use xlink:href=\"#m3d2dbd56eb\" x=\"152.673287\" y=\"83.152145\" style=\"fill: #1f77b4; stroke: #1f77b4\"/>\n     <use xlink:href=\"#m3d2dbd56eb\" x=\"188.421913\" y=\"109.352838\" style=\"fill: #1f77b4; stroke: #1f77b4\"/>\n     <use xlink:href=\"#m3d2dbd56eb\" x=\"104.645918\" y=\"41.16581\" style=\"fill: #1f77b4; stroke: #1f77b4\"/>\n     <use xlink:href=\"#m3d2dbd56eb\" x=\"179.483939\" y=\"102.548172\" style=\"fill: #1f77b4; stroke: #1f77b4\"/>\n     <use xlink:href=\"#m3d2dbd56eb\" x=\"127.115826\" y=\"57.059757\" style=\"fill: #1f77b4; stroke: #1f77b4\"/>\n     <use xlink:href=\"#m3d2dbd56eb\" x=\"166.994559\" y=\"82.75485\" style=\"fill: #1f77b4; stroke: #1f77b4\"/>\n     <use xlink:href=\"#m3d2dbd56eb\" x=\"179.253833\" y=\"89.790875\" style=\"fill: #1f77b4; stroke: #1f77b4\"/>\n     <use xlink:href=\"#m3d2dbd56eb\" x=\"185.767511\" y=\"104.750486\" style=\"fill: #1f77b4; stroke: #1f77b4\"/>\n     <use xlink:href=\"#m3d2dbd56eb\" x=\"131.198273\" y=\"61.857116\" style=\"fill: #1f77b4; stroke: #1f77b4\"/>\n     <use xlink:href=\"#m3d2dbd56eb\" x=\"74.960583\" y=\"21.937378\" style=\"fill: #1f77b4; stroke: #1f77b4\"/>\n     <use xlink:href=\"#m3d2dbd56eb\" x=\"133.420244\" y=\"62.093553\" style=\"fill: #1f77b4; stroke: #1f77b4\"/>\n     <use xlink:href=\"#m3d2dbd56eb\" x=\"142.652683\" y=\"66.728687\" style=\"fill: #1f77b4; stroke: #1f77b4\"/>\n     <use xlink:href=\"#m3d2dbd56eb\" x=\"111.439871\" y=\"71.19459\" style=\"fill: #1f77b4; stroke: #1f77b4\"/>\n     <use xlink:href=\"#m3d2dbd56eb\" x=\"160.291854\" y=\"72.893033\" style=\"fill: #1f77b4; stroke: #1f77b4\"/>\n     <use xlink:href=\"#m3d2dbd56eb\" x=\"159.748914\" y=\"63.878926\" style=\"fill: #1f77b4; stroke: #1f77b4\"/>\n     <use xlink:href=\"#m3d2dbd56eb\" x=\"185.987813\" y=\"109.546109\" style=\"fill: #1f77b4; stroke: #1f77b4\"/>\n     <use xlink:href=\"#m3d2dbd56eb\" x=\"144.662521\" y=\"104.016099\" style=\"fill: #1f77b4; stroke: #1f77b4\"/>\n     <use xlink:href=\"#m3d2dbd56eb\" x=\"124.060726\" y=\"50.39969\" style=\"fill: #1f77b4; stroke: #1f77b4\"/>\n     <use xlink:href=\"#m3d2dbd56eb\" x=\"127.178037\" y=\"53.089731\" style=\"fill: #1f77b4; stroke: #1f77b4\"/>\n     <use xlink:href=\"#m3d2dbd56eb\" x=\"107.701666\" y=\"49.044445\" style=\"fill: #1f77b4; stroke: #1f77b4\"/>\n     <use xlink:href=\"#m3d2dbd56eb\" x=\"191.025444\" y=\"98.422468\" style=\"fill: #1f77b4; stroke: #1f77b4\"/>\n     <use xlink:href=\"#m3d2dbd56eb\" x=\"147.902625\" y=\"82.039772\" style=\"fill: #1f77b4; stroke: #1f77b4\"/>\n     <use xlink:href=\"#m3d2dbd56eb\" x=\"130.942949\" y=\"61.873796\" style=\"fill: #1f77b4; stroke: #1f77b4\"/>\n     <use xlink:href=\"#m3d2dbd56eb\" x=\"118.596017\" y=\"69.627921\" style=\"fill: #1f77b4; stroke: #1f77b4\"/>\n     <use xlink:href=\"#m3d2dbd56eb\" x=\"142.420836\" y=\"70.418041\" style=\"fill: #1f77b4; stroke: #1f77b4\"/>\n     <use xlink:href=\"#m3d2dbd56eb\" x=\"186.995014\" y=\"82.003332\" style=\"fill: #1f77b4; stroke: #1f77b4\"/>\n     <use xlink:href=\"#m3d2dbd56eb\" x=\"145.813415\" y=\"79.106725\" style=\"fill: #1f77b4; stroke: #1f77b4\"/>\n     <use xlink:href=\"#m3d2dbd56eb\" x=\"119.642188\" y=\"71.977068\" style=\"fill: #1f77b4; stroke: #1f77b4\"/>\n     <use xlink:href=\"#m3d2dbd56eb\" x=\"105.892897\" y=\"54.939172\" style=\"fill: #1f77b4; stroke: #1f77b4\"/>\n     <use xlink:href=\"#m3d2dbd56eb\" x=\"154.450122\" y=\"98.826985\" style=\"fill: #1f77b4; stroke: #1f77b4\"/>\n     <use xlink:href=\"#m3d2dbd56eb\" x=\"111.007892\" y=\"62.051915\" style=\"fill: #1f77b4; stroke: #1f77b4\"/>\n     <use xlink:href=\"#m3d2dbd56eb\" x=\"182.493579\" y=\"96.967234\" style=\"fill: #1f77b4; stroke: #1f77b4\"/>\n     <use xlink:href=\"#m3d2dbd56eb\" x=\"162.875917\" y=\"96.433222\" style=\"fill: #1f77b4; stroke: #1f77b4\"/>\n     <use xlink:href=\"#m3d2dbd56eb\" x=\"187.47591\" y=\"103.129408\" style=\"fill: #1f77b4; stroke: #1f77b4\"/>\n     <use xlink:href=\"#m3d2dbd56eb\" x=\"167.701478\" y=\"78.451753\" style=\"fill: #1f77b4; stroke: #1f77b4\"/>\n     <use xlink:href=\"#m3d2dbd56eb\" x=\"127.647834\" y=\"73.456108\" style=\"fill: #1f77b4; stroke: #1f77b4\"/>\n     <use xlink:href=\"#m3d2dbd56eb\" x=\"163.963313\" y=\"84.478054\" style=\"fill: #1f77b4; stroke: #1f77b4\"/>\n     <use xlink:href=\"#m3d2dbd56eb\" x=\"105.677683\" y=\"39.778264\" style=\"fill: #1f77b4; stroke: #1f77b4\"/>\n     <use xlink:href=\"#m3d2dbd56eb\" x=\"137.388855\" y=\"71.923483\" style=\"fill: #1f77b4; stroke: #1f77b4\"/>\n     <use xlink:href=\"#m3d2dbd56eb\" x=\"195.348809\" y=\"94.756073\" style=\"fill: #1f77b4; stroke: #1f77b4\"/>\n     <use xlink:href=\"#m3d2dbd56eb\" x=\"148.790822\" y=\"69.048625\" style=\"fill: #1f77b4; stroke: #1f77b4\"/>\n     <use xlink:href=\"#m3d2dbd56eb\" x=\"160.929605\" y=\"71.37256\" style=\"fill: #1f77b4; stroke: #1f77b4\"/>\n     <use xlink:href=\"#m3d2dbd56eb\" x=\"143.832713\" y=\"79.414052\" style=\"fill: #1f77b4; stroke: #1f77b4\"/>\n     <use xlink:href=\"#m3d2dbd56eb\" x=\"119.732993\" y=\"51.420198\" style=\"fill: #1f77b4; stroke: #1f77b4\"/>\n     <use xlink:href=\"#m3d2dbd56eb\" x=\"163.718402\" y=\"95.969974\" style=\"fill: #1f77b4; stroke: #1f77b4\"/>\n     <use xlink:href=\"#m3d2dbd56eb\" x=\"141.544799\" y=\"72.771739\" style=\"fill: #1f77b4; stroke: #1f77b4\"/>\n     <use xlink:href=\"#m3d2dbd56eb\" x=\"83.530917\" y=\"53.736944\" style=\"fill: #1f77b4; stroke: #1f77b4\"/>\n     <use xlink:href=\"#m3d2dbd56eb\" x=\"135.093182\" y=\"64.811083\" style=\"fill: #1f77b4; stroke: #1f77b4\"/>\n     <use xlink:href=\"#m3d2dbd56eb\" x=\"124.08307\" y=\"63.369457\" style=\"fill: #1f77b4; stroke: #1f77b4\"/>\n     <use xlink:href=\"#m3d2dbd56eb\" x=\"153.405465\" y=\"75.232619\" style=\"fill: #1f77b4; stroke: #1f77b4\"/>\n     <use xlink:href=\"#m3d2dbd56eb\" x=\"113.290856\" y=\"49.803771\" style=\"fill: #1f77b4; stroke: #1f77b4\"/>\n     <use xlink:href=\"#m3d2dbd56eb\" x=\"157.151913\" y=\"84.040999\" style=\"fill: #1f77b4; stroke: #1f77b4\"/>\n     <use xlink:href=\"#m3d2dbd56eb\" x=\"150.880413\" y=\"67.255261\" style=\"fill: #1f77b4; stroke: #1f77b4\"/>\n     <use xlink:href=\"#m3d2dbd56eb\" x=\"112.235559\" y=\"53.878926\" style=\"fill: #1f77b4; stroke: #1f77b4\"/>\n     <use xlink:href=\"#m3d2dbd56eb\" x=\"167.160082\" y=\"78.365384\" style=\"fill: #1f77b4; stroke: #1f77b4\"/>\n     <use xlink:href=\"#m3d2dbd56eb\" x=\"171.940861\" y=\"98.690586\" style=\"fill: #1f77b4; stroke: #1f77b4\"/>\n     <use xlink:href=\"#m3d2dbd56eb\" x=\"150.602944\" y=\"86.893924\" style=\"fill: #1f77b4; stroke: #1f77b4\"/>\n     <use xlink:href=\"#m3d2dbd56eb\" x=\"137.628391\" y=\"72.800009\" style=\"fill: #1f77b4; stroke: #1f77b4\"/>\n     <use xlink:href=\"#m3d2dbd56eb\" x=\"152.273766\" y=\"68.781778\" style=\"fill: #1f77b4; stroke: #1f77b4\"/>\n     <use xlink:href=\"#m3d2dbd56eb\" x=\"182.924323\" y=\"100.327502\" style=\"fill: #1f77b4; stroke: #1f77b4\"/>\n     <use xlink:href=\"#m3d2dbd56eb\" x=\"170.66073\" y=\"95.059818\" style=\"fill: #1f77b4; stroke: #1f77b4\"/>\n     <use xlink:href=\"#m3d2dbd56eb\" x=\"144.282531\" y=\"80.965183\" style=\"fill: #1f77b4; stroke: #1f77b4\"/>\n     <use xlink:href=\"#m3d2dbd56eb\" x=\"163.977523\" y=\"84.251862\" style=\"fill: #1f77b4; stroke: #1f77b4\"/>\n     <use xlink:href=\"#m3d2dbd56eb\" x=\"123.17615\" y=\"57.933478\" style=\"fill: #1f77b4; stroke: #1f77b4\"/>\n     <use xlink:href=\"#m3d2dbd56eb\" x=\"120.290863\" y=\"52.388024\" style=\"fill: #1f77b4; stroke: #1f77b4\"/>\n     <use xlink:href=\"#m3d2dbd56eb\" x=\"141.222203\" y=\"58.029876\" style=\"fill: #1f77b4; stroke: #1f77b4\"/>\n     <use xlink:href=\"#m3d2dbd56eb\" x=\"116.936473\" y=\"48.70166\" style=\"fill: #1f77b4; stroke: #1f77b4\"/>\n     <use xlink:href=\"#m3d2dbd56eb\" x=\"120.447282\" y=\"53.392406\" style=\"fill: #1f77b4; stroke: #1f77b4\"/>\n     <use xlink:href=\"#m3d2dbd56eb\" x=\"75.00487\" y=\"46.70064\" style=\"fill: #1f77b4; stroke: #1f77b4\"/>\n     <use xlink:href=\"#m3d2dbd56eb\" x=\"157.540828\" y=\"65.64272\" style=\"fill: #1f77b4; stroke: #1f77b4\"/>\n     <use xlink:href=\"#m3d2dbd56eb\" x=\"156.236196\" y=\"86.116091\" style=\"fill: #1f77b4; stroke: #1f77b4\"/>\n     <use xlink:href=\"#m3d2dbd56eb\" x=\"108.615626\" y=\"50.600519\" style=\"fill: #1f77b4; stroke: #1f77b4\"/>\n     <use xlink:href=\"#m3d2dbd56eb\" x=\"117.154676\" y=\"59.351383\" style=\"fill: #1f77b4; stroke: #1f77b4\"/>\n     <use xlink:href=\"#m3d2dbd56eb\" x=\"146.184166\" y=\"74.516254\" style=\"fill: #1f77b4; stroke: #1f77b4\"/>\n     <use xlink:href=\"#m3d2dbd56eb\" x=\"147.538352\" y=\"71.006169\" style=\"fill: #1f77b4; stroke: #1f77b4\"/>\n     <use xlink:href=\"#m3d2dbd56eb\" x=\"140.73954\" y=\"65.347941\" style=\"fill: #1f77b4; stroke: #1f77b4\"/>\n     <use xlink:href=\"#m3d2dbd56eb\" x=\"137.217067\" y=\"75.648604\" style=\"fill: #1f77b4; stroke: #1f77b4\"/>\n     <use xlink:href=\"#m3d2dbd56eb\" x=\"110.52546\" y=\"57.550254\" style=\"fill: #1f77b4; stroke: #1f77b4\"/>\n     <use xlink:href=\"#m3d2dbd56eb\" x=\"153.275794\" y=\"75.995898\" style=\"fill: #1f77b4; stroke: #1f77b4\"/>\n    </g>\n   </g>\n   <g id=\"matplotlib.axis_1\">\n    <g id=\"xtick_1\">\n     <g id=\"line2d_1\">\n      <defs>\n       <path id=\"m70fd203cd9\" d=\"M 0 0 \nL 0 3.5 \n\" style=\"stroke: #000000; stroke-width: 0.8\"/>\n      </defs>\n      <g>\n       <use xlink:href=\"#m70fd203cd9\" x=\"85.344076\" y=\"145.8\" style=\"stroke: #000000; stroke-width: 0.8\"/>\n      </g>\n     </g>\n     <g id=\"text_1\">\n      <!-- −2 -->\n      <g transform=\"translate(77.972982 160.398438) scale(0.1 -0.1)\">\n       <defs>\n        <path id=\"DejaVuSans-2212\" d=\"M 678 2272 \nL 4684 2272 \nL 4684 1741 \nL 678 1741 \nL 678 2272 \nz\n\" transform=\"scale(0.015625)\"/>\n        <path id=\"DejaVuSans-32\" d=\"M 1228 531 \nL 3431 531 \nL 3431 0 \nL 469 0 \nL 469 531 \nQ 828 903 1448 1529 \nQ 2069 2156 2228 2338 \nQ 2531 2678 2651 2914 \nQ 2772 3150 2772 3378 \nQ 2772 3750 2511 3984 \nQ 2250 4219 1831 4219 \nQ 1534 4219 1204 4116 \nQ 875 4013 500 3803 \nL 500 4441 \nQ 881 4594 1212 4672 \nQ 1544 4750 1819 4750 \nQ 2544 4750 2975 4387 \nQ 3406 4025 3406 3419 \nQ 3406 3131 3298 2873 \nQ 3191 2616 2906 2266 \nQ 2828 2175 2409 1742 \nQ 1991 1309 1228 531 \nz\n\" transform=\"scale(0.015625)\"/>\n       </defs>\n       <use xlink:href=\"#DejaVuSans-2212\"/>\n       <use xlink:href=\"#DejaVuSans-32\" x=\"83.789062\"/>\n      </g>\n     </g>\n    </g>\n    <g id=\"xtick_2\">\n     <g id=\"line2d_2\">\n      <g>\n       <use xlink:href=\"#m70fd203cd9\" x=\"140.594875\" y=\"145.8\" style=\"stroke: #000000; stroke-width: 0.8\"/>\n      </g>\n     </g>\n     <g id=\"text_2\">\n      <!-- 0 -->\n      <g transform=\"translate(137.413625 160.398438) scale(0.1 -0.1)\">\n       <defs>\n        <path id=\"DejaVuSans-30\" d=\"M 2034 4250 \nQ 1547 4250 1301 3770 \nQ 1056 3291 1056 2328 \nQ 1056 1369 1301 889 \nQ 1547 409 2034 409 \nQ 2525 409 2770 889 \nQ 3016 1369 3016 2328 \nQ 3016 3291 2770 3770 \nQ 2525 4250 2034 4250 \nz\nM 2034 4750 \nQ 2819 4750 3233 4129 \nQ 3647 3509 3647 2328 \nQ 3647 1150 3233 529 \nQ 2819 -91 2034 -91 \nQ 1250 -91 836 529 \nQ 422 1150 422 2328 \nQ 422 3509 836 4129 \nQ 1250 4750 2034 4750 \nz\n\" transform=\"scale(0.015625)\"/>\n       </defs>\n       <use xlink:href=\"#DejaVuSans-30\"/>\n      </g>\n     </g>\n    </g>\n    <g id=\"xtick_3\">\n     <g id=\"line2d_3\">\n      <g>\n       <use xlink:href=\"#m70fd203cd9\" x=\"195.845675\" y=\"145.8\" style=\"stroke: #000000; stroke-width: 0.8\"/>\n      </g>\n     </g>\n     <g id=\"text_3\">\n      <!-- 2 -->\n      <g transform=\"translate(192.664425 160.398438) scale(0.1 -0.1)\">\n       <use xlink:href=\"#DejaVuSans-32\"/>\n      </g>\n     </g>\n    </g>\n   </g>\n   <g id=\"matplotlib.axis_2\">\n    <g id=\"ytick_1\">\n     <g id=\"line2d_4\">\n      <defs>\n       <path id=\"m73037d9e93\" d=\"M 0 0 \nL -3.5 0 \n\" style=\"stroke: #000000; stroke-width: 0.8\"/>\n      </defs>\n      <g>\n       <use xlink:href=\"#m73037d9e93\" x=\"35.304688\" y=\"140.895696\" style=\"stroke: #000000; stroke-width: 0.8\"/>\n      </g>\n     </g>\n     <g id=\"text_4\">\n      <!-- −10 -->\n      <g transform=\"translate(7.2 144.694915) scale(0.1 -0.1)\">\n       <defs>\n        <path id=\"DejaVuSans-31\" d=\"M 794 531 \nL 1825 531 \nL 1825 4091 \nL 703 3866 \nL 703 4441 \nL 1819 4666 \nL 2450 4666 \nL 2450 531 \nL 3481 531 \nL 3481 0 \nL 794 0 \nL 794 531 \nz\n\" transform=\"scale(0.015625)\"/>\n       </defs>\n       <use xlink:href=\"#DejaVuSans-2212\"/>\n       <use xlink:href=\"#DejaVuSans-31\" x=\"83.789062\"/>\n       <use xlink:href=\"#DejaVuSans-30\" x=\"147.412109\"/>\n      </g>\n     </g>\n    </g>\n    <g id=\"ytick_2\">\n     <g id=\"line2d_5\">\n      <g>\n       <use xlink:href=\"#m73037d9e93\" x=\"35.304688\" y=\"116.549582\" style=\"stroke: #000000; stroke-width: 0.8\"/>\n      </g>\n     </g>\n     <g id=\"text_5\">\n      <!-- −5 -->\n      <g transform=\"translate(13.5625 120.348801) scale(0.1 -0.1)\">\n       <defs>\n        <path id=\"DejaVuSans-35\" d=\"M 691 4666 \nL 3169 4666 \nL 3169 4134 \nL 1269 4134 \nL 1269 2991 \nQ 1406 3038 1543 3061 \nQ 1681 3084 1819 3084 \nQ 2600 3084 3056 2656 \nQ 3513 2228 3513 1497 \nQ 3513 744 3044 326 \nQ 2575 -91 1722 -91 \nQ 1428 -91 1123 -41 \nQ 819 9 494 109 \nL 494 744 \nQ 775 591 1075 516 \nQ 1375 441 1709 441 \nQ 2250 441 2565 725 \nQ 2881 1009 2881 1497 \nQ 2881 1984 2565 2268 \nQ 2250 2553 1709 2553 \nQ 1456 2553 1204 2497 \nQ 953 2441 691 2322 \nL 691 4666 \nz\n\" transform=\"scale(0.015625)\"/>\n       </defs>\n       <use xlink:href=\"#DejaVuSans-2212\"/>\n       <use xlink:href=\"#DejaVuSans-35\" x=\"83.789062\"/>\n      </g>\n     </g>\n    </g>\n    <g id=\"ytick_3\">\n     <g id=\"line2d_6\">\n      <g>\n       <use xlink:href=\"#m73037d9e93\" x=\"35.304688\" y=\"92.203468\" style=\"stroke: #000000; stroke-width: 0.8\"/>\n      </g>\n     </g>\n     <g id=\"text_6\">\n      <!-- 0 -->\n      <g transform=\"translate(21.942187 96.002687) scale(0.1 -0.1)\">\n       <use xlink:href=\"#DejaVuSans-30\"/>\n      </g>\n     </g>\n    </g>\n    <g id=\"ytick_4\">\n     <g id=\"line2d_7\">\n      <g>\n       <use xlink:href=\"#m73037d9e93\" x=\"35.304688\" y=\"67.857354\" style=\"stroke: #000000; stroke-width: 0.8\"/>\n      </g>\n     </g>\n     <g id=\"text_7\">\n      <!-- 5 -->\n      <g transform=\"translate(21.942187 71.656573) scale(0.1 -0.1)\">\n       <use xlink:href=\"#DejaVuSans-35\"/>\n      </g>\n     </g>\n    </g>\n    <g id=\"ytick_5\">\n     <g id=\"line2d_8\">\n      <g>\n       <use xlink:href=\"#m73037d9e93\" x=\"35.304688\" y=\"43.51124\" style=\"stroke: #000000; stroke-width: 0.8\"/>\n      </g>\n     </g>\n     <g id=\"text_8\">\n      <!-- 10 -->\n      <g transform=\"translate(15.579687 47.310459) scale(0.1 -0.1)\">\n       <use xlink:href=\"#DejaVuSans-31\"/>\n       <use xlink:href=\"#DejaVuSans-30\" x=\"63.623047\"/>\n      </g>\n     </g>\n    </g>\n    <g id=\"ytick_6\">\n     <g id=\"line2d_9\">\n      <g>\n       <use xlink:href=\"#m73037d9e93\" x=\"35.304688\" y=\"19.165126\" style=\"stroke: #000000; stroke-width: 0.8\"/>\n      </g>\n     </g>\n     <g id=\"text_9\">\n      <!-- 15 -->\n      <g transform=\"translate(15.579687 22.964345) scale(0.1 -0.1)\">\n       <use xlink:href=\"#DejaVuSans-31\"/>\n       <use xlink:href=\"#DejaVuSans-35\" x=\"63.623047\"/>\n      </g>\n     </g>\n    </g>\n   </g>\n   <g id=\"patch_3\">\n    <path d=\"M 35.304688 145.8 \nL 35.304688 7.2 \n\" style=\"fill: none; stroke: #000000; stroke-width: 0.8; stroke-linejoin: miter; stroke-linecap: square\"/>\n   </g>\n   <g id=\"patch_4\">\n    <path d=\"M 230.604688 145.8 \nL 230.604688 7.2 \n\" style=\"fill: none; stroke: #000000; stroke-width: 0.8; stroke-linejoin: miter; stroke-linecap: square\"/>\n   </g>\n   <g id=\"patch_5\">\n    <path d=\"M 35.304688 145.8 \nL 230.604688 145.8 \n\" style=\"fill: none; stroke: #000000; stroke-width: 0.8; stroke-linejoin: miter; stroke-linecap: square\"/>\n   </g>\n   <g id=\"patch_6\">\n    <path d=\"M 35.304688 7.2 \nL 230.604688 7.2 \n\" style=\"fill: none; stroke: #000000; stroke-width: 0.8; stroke-linejoin: miter; stroke-linecap: square\"/>\n   </g>\n  </g>\n </g>\n <defs>\n  <clipPath id=\"p41b6295bce\">\n   <rect x=\"35.304688\" y=\"7.2\" width=\"195.3\" height=\"138.6\"/>\n  </clipPath>\n </defs>\n</svg>\n"
          },
          "metadata": {}
        }
      ]
    },
    {
      "cell_type": "markdown",
      "source": [
        "### 读取数据"
      ],
      "metadata": {
        "id": "coDC5zhKxKop"
      }
    },
    {
      "cell_type": "code",
      "source": [
        "def data_iter(batch_size, features, labels):\n",
        "    num_examples = len(features)\n",
        "    indices = list(range(num_examples))\n",
        "    # 这些样本是随机读取的，没有特定的顺序\n",
        "    random.shuffle(indices)\n",
        "    for i in range(0, num_examples, batch_size):\n",
        "        batch_indices = torch.tensor(\n",
        "            indices[i: min(i + batch_size, num_examples)])\n",
        "        yield features[batch_indices], labels[batch_indices]"
      ],
      "metadata": {
        "id": "plEJRGHNxNn8"
      },
      "execution_count": 6,
      "outputs": []
    },
    {
      "cell_type": "code",
      "source": [
        "batch_size = 10\n",
        "\n",
        "for X, y in data_iter(batch_size, features, labels):\n",
        "    print(X, '\\n', y)\n",
        "    break"
      ],
      "metadata": {
        "colab": {
          "base_uri": "https://localhost:8080/"
        },
        "id": "tbVMbmBbxmAs",
        "outputId": "1f08437a-108d-465f-ac80-85e11deeaa6f"
      },
      "execution_count": 7,
      "outputs": [
        {
          "output_type": "stream",
          "name": "stdout",
          "text": [
            "tensor([[ 0.2168, -1.1313],\n",
            "        [-2.7601,  0.5014],\n",
            "        [ 0.7357, -1.2053],\n",
            "        [-1.6621, -2.0656],\n",
            "        [ 0.4257,  0.0135],\n",
            "        [ 0.1364, -0.1575],\n",
            "        [ 0.9994, -1.5098],\n",
            "        [ 0.0817,  0.1178],\n",
            "        [-0.3781, -0.0412],\n",
            "        [ 0.4370, -0.3401]]) \n",
            " tensor([[ 8.4906],\n",
            "        [-3.0326],\n",
            "        [ 9.7546],\n",
            "        [ 7.8999],\n",
            "        [ 4.9905],\n",
            "        [ 5.0122],\n",
            "        [11.3339],\n",
            "        [ 3.9565],\n",
            "        [ 3.5809],\n",
            "        [ 6.2323]])\n"
          ]
        }
      ]
    },
    {
      "cell_type": "markdown",
      "source": [
        "### 初始化模型参数\n",
        "\n"
      ],
      "metadata": {
        "id": "FGhZSIACxts6"
      }
    },
    {
      "cell_type": "code",
      "source": [
        "# 通过从均值为0、标准差为0.01的正态分布中采样随机数来初始化权重， 并将偏置初始化为0。\n",
        "w = torch.normal(0, 0.01, size=(2,1), requires_grad=True)\n",
        "b = torch.zeros(1, requires_grad=True)"
      ],
      "metadata": {
        "id": "d5aHdf-wxynp"
      },
      "execution_count": 9,
      "outputs": []
    },
    {
      "cell_type": "markdown",
      "source": [
        "### 定义模型\n",
        "\n",
        "定义线性函数"
      ],
      "metadata": {
        "id": "9C52dqDnyCZ0"
      }
    },
    {
      "cell_type": "code",
      "source": [
        "def linreg(X, w, b):\n",
        "    \"\"\"线性回归模型\"\"\"\n",
        "    return torch.matmul(X, w) + b"
      ],
      "metadata": {
        "id": "oLXG9gsjyBpj"
      },
      "execution_count": 10,
      "outputs": []
    },
    {
      "cell_type": "markdown",
      "source": [
        "### 定义损失函数\n",
        "\n",
        "因为需要计算损失函数的梯度，所以我们应该先定义损失函数。\n",
        "\n",
        "损失函数是量化目标的实际值与预测值之间的差距。这里使用平方损失函数"
      ],
      "metadata": {
        "id": "dQGk0e_2yPBd"
      }
    },
    {
      "cell_type": "code",
      "source": [
        "def squared_loss(y_hat, y):\n",
        "    \"\"\"均方损失\"\"\"\n",
        "    # 预测值y_hat\n",
        "    return (y_hat - y.reshape(y_hat.shape)) ** 2 / 2"
      ],
      "metadata": {
        "id": "t6DHoAxZyRBh"
      },
      "execution_count": 11,
      "outputs": []
    },
    {
      "cell_type": "markdown",
      "source": [
        "### 定义优化算法\n",
        "\n",
        "在每一步中，使用从数据集中随机抽取的一个小批量，然后根据参数计算损失的梯度。 接下来，朝着减少损失的方向更新我们的参数。"
      ],
      "metadata": {
        "id": "BcZNz3tuybAq"
      }
    },
    {
      "cell_type": "code",
      "source": [
        "def sgd(params, lr, batch_size):\n",
        "    \"\"\"小批量随机梯度下降\"\"\"\n",
        "    with torch.no_grad():\n",
        "        for param in params:\n",
        "            # 除以batch_size是为了从批量梯度得到平均梯度\n",
        "            param -= lr * param.grad / batch_size\n",
        "            # 更新参数后，将当前参数的梯度清零\n",
        "            param.grad.zero_()"
      ],
      "metadata": {
        "id": "PZ_42ym5yVJs"
      },
      "execution_count": 12,
      "outputs": []
    },
    {
      "cell_type": "markdown",
      "source": [
        "### 训练"
      ],
      "metadata": {
        "id": "5oofYrxXyeJQ"
      }
    },
    {
      "cell_type": "code",
      "source": [
        "# 学习率\n",
        "lr = 0.03\n",
        "# 迭代周期个数\n",
        "num_epochs = 3\n",
        "net = linreg\n",
        "loss = squared_loss\n",
        "\n",
        "for epoch in range(num_epochs):\n",
        "    for X, y in data_iter(batch_size, features, labels):\n",
        "        l = loss(net(X, w, b), y)  # X和y的小批量损失\n",
        "        # 因为l形状是(batch_size,1)，而不是一个标量。l中的所有元素被加到一起，\n",
        "        # 并以此计算关于[w,b]的梯度\n",
        "        l.sum().backward()\n",
        "        sgd([w, b], lr, batch_size)  # 使用参数的梯度更新参数\n",
        "    with torch.no_grad():\n",
        "        train_l = loss(net(features, w, b), labels)\n",
        "        print(f'epoch {epoch + 1}, loss {float(train_l.mean()):f}')"
      ],
      "metadata": {
        "colab": {
          "base_uri": "https://localhost:8080/"
        },
        "id": "qOJllf2ayY4d",
        "outputId": "228d628a-fde7-4f1a-bdec-768a278bd04a"
      },
      "execution_count": 13,
      "outputs": [
        {
          "output_type": "stream",
          "name": "stdout",
          "text": [
            "epoch 1, loss 0.041399\n",
            "epoch 2, loss 0.000156\n",
            "epoch 3, loss 0.000052\n"
          ]
        }
      ]
    },
    {
      "cell_type": "code",
      "source": [
        "print(f'w的估计误差: {true_w - w.reshape(true_w.shape)}')\n",
        "print(f'b的估计误差: {true_b - b}')"
      ],
      "metadata": {
        "colab": {
          "base_uri": "https://localhost:8080/"
        },
        "id": "nBQOkIApylQt",
        "outputId": "029c1557-10ce-44c8-efdf-fdb18d4dd62f"
      },
      "execution_count": 14,
      "outputs": [
        {
          "output_type": "stream",
          "name": "stdout",
          "text": [
            "w的估计误差: tensor([ 8.0097e-04, -6.4135e-05], grad_fn=<SubBackward0>)\n",
            "b的估计误差: tensor([0.0007], grad_fn=<RsubBackward1>)\n"
          ]
        }
      ]
    },
    {
      "cell_type": "markdown",
      "source": [
        "##  线性回归的简洁实现\n",
        "\n",
        "通过现有框架实现。"
      ],
      "metadata": {
        "id": "sSxixsPH5NRJ"
      }
    },
    {
      "cell_type": "code",
      "source": [
        "import numpy as np\n",
        "import torch\n",
        "from torch.utils import data\n",
        "from d2l import torch as d2l\n",
        "\n",
        "# 生成数据\n",
        "true_w = torch.tensor([2, -3.4])\n",
        "true_b = 4.2\n",
        "features, labels = d2l.synthetic_data(true_w, true_b, 1000)\n",
        "\n",
        "# 读取数据\n",
        "def load_array(data_arrays, batch_size, is_train=True):\n",
        "    \"\"\"构造一个PyTorch数据迭代器\"\"\"\n",
        "    dataset = data.TensorDataset(*data_arrays)\n",
        "    return data.DataLoader(dataset, batch_size, shuffle=is_train)\n",
        "\n",
        "batch_size = 10\n",
        "data_iter = load_array((features, labels), batch_size)"
      ],
      "metadata": {
        "id": "hSNXOsVH5Y1p"
      },
      "execution_count": 15,
      "outputs": []
    },
    {
      "cell_type": "code",
      "source": [
        "\n",
        "# nn是神经网络的缩写\n",
        "from torch import nn\n",
        "\n",
        "# # 定义模型\n",
        "\n",
        "# Sequential类将多个层串联在一起。当给定输入数据时，Sequential实例将数据传入到第一层，然后将第一层的输出作为第二层的输入，以此类推。\n",
        "# nn.Linear(2, 1)将一个长度为2的向量转换为一个长度为1的向量\n",
        "net = nn.Sequential(nn.Linear(2, 1))\n",
        "\n",
        "# 初始化模型参数\n",
        "# 每个权重参数应该从均值为0、标准差为0.01的正态分布中随机采样， 偏置参数将初始化为零\n",
        "net[0].weight.data.normal_(0, 0.01)\n",
        "net[0].bias.data.fill_(0)\n",
        "print(\"权重：\", net[0].weight)\n",
        "print(\"偏置：\", net[0].bias)\n",
        "\n",
        "# 定义损失函数\n",
        "loss = nn.MSELoss()\n",
        "\n",
        "# 定义优化算法\n",
        "# 小批量随机梯度下降算法是一种优化神经网络的标准工具， PyTorch在optim模块中实现了该算法的许多变种.\n",
        "trainer = torch.optim.SGD(net.parameters(), lr=0.03)"
      ],
      "metadata": {
        "colab": {
          "base_uri": "https://localhost:8080/"
        },
        "id": "tU9F1GNd5ua8",
        "outputId": "30452687-11d1-4ed7-89a1-007fab0c52c6"
      },
      "execution_count": 19,
      "outputs": [
        {
          "output_type": "stream",
          "name": "stdout",
          "text": [
            "权重： Parameter containing:\n",
            "tensor([[0.0065, 0.0111]], requires_grad=True)\n",
            "偏置： Parameter containing:\n",
            "tensor([0.], requires_grad=True)\n"
          ]
        }
      ]
    },
    {
      "cell_type": "code",
      "source": [
        "num_epochs = 3\n",
        "for epoch in range(num_epochs):\n",
        "    for X, y in data_iter:\n",
        "        l = loss(net(X) ,y)\n",
        "        trainer.zero_grad()\n",
        "        l.backward()\n",
        "        trainer.step()\n",
        "    l = loss(net(features), labels)\n",
        "    print(f'epoch {epoch + 1}, loss {l:f}')"
      ],
      "metadata": {
        "colab": {
          "base_uri": "https://localhost:8080/"
        },
        "id": "d0aquvaO9Pnj",
        "outputId": "2c0b9550-d174-4538-a726-6c58f95e4d77"
      },
      "execution_count": 17,
      "outputs": [
        {
          "output_type": "stream",
          "name": "stdout",
          "text": [
            "epoch 1, loss 0.000262\n",
            "epoch 2, loss 0.000099\n",
            "epoch 3, loss 0.000099\n"
          ]
        }
      ]
    },
    {
      "cell_type": "code",
      "source": [
        "w = net[0].weight.data\n",
        "print('w的估计误差：', true_w - w.reshape(true_w.shape))\n",
        "b = net[0].bias.data\n",
        "print('b的估计误差：', true_b - b)"
      ],
      "metadata": {
        "colab": {
          "base_uri": "https://localhost:8080/"
        },
        "id": "y1TQyInV-BMO",
        "outputId": "8317497e-fda7-4013-9d34-3312efd94ecb"
      },
      "execution_count": 18,
      "outputs": [
        {
          "output_type": "stream",
          "name": "stdout",
          "text": [
            "w的估计误差： tensor([ 1.7881e-06, -5.3692e-04])\n",
            "b的估计误差： tensor([0.0002])\n"
          ]
        }
      ]
    },
    {
      "cell_type": "markdown",
      "source": [
        "## softmax回归\n",
        "\n",
        "- 回归估计一个连续值，分类预测一个离散类别\n",
        "- Softmax 回归是一个多类分类模型\n",
        "- softmax运算获取一个向量并将其映射为概率。\n",
        "- softmax回归适用于分类问题，它使用了softmax运算中输出类别的概率分布。\n",
        "- 交叉熵是一个衡量两个概率分布之间差异的很好的度量，它测量给定模型编码数据所需的比特数。\n",
        "\n"
      ],
      "metadata": {
        "id": "WawQ0XR__ijH"
      }
    },
    {
      "cell_type": "markdown",
      "source": [
        "## 图像分类数据集\n",
        "\n",
        "我们将使用Fashion-MNIST数据集。\n",
        "Fashion-MNIST由10个类别的图像组成， 每个类别由训练数据集（train dataset）中的6000张图像 和测试数据集（test dataset）中的1000张图像组成。"
      ],
      "metadata": {
        "id": "_pTGS7pIMo4I"
      }
    },
    {
      "cell_type": "markdown",
      "source": [
        "### 读取数据"
      ],
      "metadata": {
        "id": "NEGHarUzREW6"
      }
    },
    {
      "cell_type": "code",
      "source": [
        "%matplotlib inline\n",
        "import torch\n",
        "import torchvision\n",
        "from torch.utils import data\n",
        "from torchvision import transforms\n",
        "from d2l import torch as d2l\n",
        "\n",
        "d2l.use_svg_display()\n",
        "\n",
        "# 读取数据\n",
        "\n",
        "# 通过ToTensor实例将图像数据从PIL类型变换成32位浮点数格式，\n",
        "# 并除以255使得所有像素的数值均在0～1之间\n",
        "trans = transforms.ToTensor()\n",
        "mnist_train = torchvision.datasets.FashionMNIST(\n",
        "    root=\"../data\", train=True, transform=trans, download=True)\n",
        "mnist_test = torchvision.datasets.FashionMNIST(\n",
        "    root=\"../data\", train=False, transform=trans, download=True)"
      ],
      "metadata": {
        "id": "rXaozxQKNKsB"
      },
      "execution_count": null,
      "outputs": []
    },
    {
      "cell_type": "code",
      "source": [
        "len(mnist_train), len(mnist_test)"
      ],
      "metadata": {
        "colab": {
          "base_uri": "https://localhost:8080/"
        },
        "id": "ToSROiVfN6po",
        "outputId": "20cca332-1a91-494e-dc32-46fe277ecdc5"
      },
      "execution_count": 23,
      "outputs": [
        {
          "output_type": "execute_result",
          "data": {
            "text/plain": [
              "(60000, 10000)"
            ]
          },
          "metadata": {},
          "execution_count": 23
        }
      ]
    },
    {
      "cell_type": "code",
      "source": [
        "# print(mnist_train)\n",
        "mnist_train[0][0].shape"
      ],
      "metadata": {
        "colab": {
          "base_uri": "https://localhost:8080/"
        },
        "id": "F4EgW_M2OE0w",
        "outputId": "fe1eae95-2949-4973-db02-c21370474b51"
      },
      "execution_count": 29,
      "outputs": [
        {
          "output_type": "execute_result",
          "data": {
            "text/plain": [
              "torch.Size([1, 28, 28])"
            ]
          },
          "metadata": {},
          "execution_count": 29
        }
      ]
    },
    {
      "cell_type": "markdown",
      "source": [
        "每个输入图像的高度和宽度均为28像素。 数据集由灰度图像组成，其通道数为1。\n",
        "\n",
        "Fashion-MNIST中包含的10个类别，分别为t-shirt（T恤）、trouser（裤子）、pullover（套衫）、dress（连衣裙）、coat（外套）、sandal（凉鞋）、shirt（衬衫）、sneaker（运动鞋）、bag（包）和ankle boot（短靴）"
      ],
      "metadata": {
        "id": "NlzqK-nfO4Kh"
      }
    },
    {
      "cell_type": "code",
      "source": [
        "# 定义函数用于在数字标签索引及其文本名称之间进行转换\n",
        "def get_fashion_mnist_labels(labels):\n",
        "    \"\"\"返回Fashion-MNIST数据集的文本标签\"\"\"\n",
        "    text_labels = ['t-shirt', 'trouser', 'pullover', 'dress', 'coat',\n",
        "                   'sandal', 'shirt', 'sneaker', 'bag', 'ankle boot']\n",
        "    return [text_labels[int(i)] for i in labels]"
      ],
      "metadata": {
        "id": "IZFP947UPBZi"
      },
      "execution_count": 30,
      "outputs": []
    },
    {
      "cell_type": "code",
      "source": [
        "# 创建一个函数来可视化这些样本\n",
        "def show_images(imgs, num_rows, num_cols, titles=None, scale=1.5):\n",
        "    \"\"\"绘制图像列表\"\"\"\n",
        "    figsize = (num_cols * scale, num_rows * scale)\n",
        "    _, axes = d2l.plt.subplots(num_rows, num_cols, figsize=figsize)\n",
        "    axes = axes.flatten()\n",
        "    for i, (ax, img) in enumerate(zip(axes, imgs)):\n",
        "        if torch.is_tensor(img):\n",
        "            # 图片张量\n",
        "            ax.imshow(img.numpy())\n",
        "        else:\n",
        "            # PIL图片\n",
        "            ax.imshow(img)\n",
        "        ax.axes.get_xaxis().set_visible(False)\n",
        "        ax.axes.get_yaxis().set_visible(False)\n",
        "        if titles:\n",
        "            ax.set_title(titles[i])\n",
        "    return axes"
      ],
      "metadata": {
        "id": "lu9wMnYqPZfH"
      },
      "execution_count": 32,
      "outputs": []
    },
    {
      "cell_type": "code",
      "source": [
        "X, y = next(iter(data.DataLoader(mnist_train, batch_size=18)))\n",
        "show_images(X.reshape(18, 28, 28), 2, 9, titles=get_fashion_mnist_labels(y));"
      ],
      "metadata": {
        "colab": {
          "base_uri": "https://localhost:8080/",
          "height": 296
        },
        "id": "Ga7K0q8rPoD3",
        "outputId": "bdcb1632-4f5d-4d21-f839-73b841641887"
      },
      "execution_count": 33,
      "outputs": [
        {
          "output_type": "display_data",
          "data": {
            "text/plain": [
              "<Figure size 1350x300 with 18 Axes>"
            ],
            "image/svg+xml": "<?xml version=\"1.0\" encoding=\"utf-8\" standalone=\"no\"?>\n<!DOCTYPE svg PUBLIC \"-//W3C//DTD SVG 1.1//EN\"\n  \"http://www.w3.org/Graphics/SVG/1.1/DTD/svg11.dtd\">\n<svg xmlns:xlink=\"http://www.w3.org/1999/xlink\" width=\"767.7pt\" height=\"191.304163pt\" viewBox=\"0 0 767.7 191.304163\" xmlns=\"http://www.w3.org/2000/svg\" version=\"1.1\">\n <metadata>\n  <rdf:RDF xmlns:dc=\"http://purl.org/dc/elements/1.1/\" xmlns:cc=\"http://creativecommons.org/ns#\" xmlns:rdf=\"http://www.w3.org/1999/02/22-rdf-syntax-ns#\">\n   <cc:Work>\n    <dc:type rdf:resource=\"http://purl.org/dc/dcmitype/StillImage\"/>\n    <dc:date>2024-06-14T10:15:17.575092</dc:date>\n    <dc:format>image/svg+xml</dc:format>\n    <dc:creator>\n     <cc:Agent>\n      <dc:title>Matplotlib v3.7.2, https://matplotlib.org/</dc:title>\n     </cc:Agent>\n    </dc:creator>\n   </cc:Work>\n  </rdf:RDF>\n </metadata>\n <defs>\n  <style type=\"text/css\">*{stroke-linejoin: round; stroke-linecap: butt}</style>\n </defs>\n <g id=\"figure_1\">\n  <g id=\"patch_1\">\n   <path d=\"M 0 191.304163 \nL 767.7 191.304163 \nL 767.7 0 \nL 0 0 \nz\n\" style=\"fill: #ffffff\"/>\n  </g>\n  <g id=\"axes_1\">\n   <g id=\"patch_2\">\n    <path d=\"M 7.2 93.384163 \nL 78.266038 93.384163 \nL 78.266038 22.318125 \nL 7.2 22.318125 \nz\n\" style=\"fill: #ffffff\"/>\n   </g>\n   <g clip-path=\"url(#p1ca4ac1cfc)\">\n    <image xlink:href=\"data:image/png;base64,\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\" id=\"image7fe3bbaad8\" transform=\"scale(1 -1) translate(0 -71.28)\" x=\"7.2\" y=\"-22.104163\" width=\"71.28\" height=\"71.28\"/>\n   </g>\n   <g id=\"patch_3\">\n    <path d=\"M 7.2 93.384163 \nL 7.2 22.318125 \n\" style=\"fill: none; stroke: #000000; stroke-width: 0.8; stroke-linejoin: miter; stroke-linecap: square\"/>\n   </g>\n   <g id=\"patch_4\">\n    <path d=\"M 78.266038 93.384163 \nL 78.266038 22.318125 \n\" style=\"fill: none; stroke: #000000; stroke-width: 0.8; stroke-linejoin: miter; stroke-linecap: square\"/>\n   </g>\n   <g id=\"patch_5\">\n    <path d=\"M 7.2 93.384163 \nL 78.266038 93.384163 \n\" style=\"fill: none; stroke: #000000; stroke-width: 0.8; stroke-linejoin: miter; stroke-linecap: square\"/>\n   </g>\n   <g id=\"patch_6\">\n    <path d=\"M 7.2 22.318125 \nL 78.266038 22.318125 \n\" style=\"fill: none; stroke: #000000; stroke-width: 0.8; stroke-linejoin: miter; stroke-linecap: square\"/>\n   </g>\n   <g id=\"text_1\">\n    <!-- ankle boot -->\n    <g transform=\"translate(11.009894 16.318125) scale(0.12 -0.12)\">\n     <defs>\n      <path id=\"DejaVuSans-61\" d=\"M 2194 1759 \nQ 1497 1759 1228 1600 \nQ 959 1441 959 1056 \nQ 959 750 1161 570 \nQ 1363 391 1709 391 \nQ 2188 391 2477 730 \nQ 2766 1069 2766 1631 \nL 2766 1759 \nL 2194 1759 \nz\nM 3341 1997 \nL 3341 0 \nL 2766 0 \nL 2766 531 \nQ 2569 213 2275 61 \nQ 1981 -91 1556 -91 \nQ 1019 -91 701 211 \nQ 384 513 384 1019 \nQ 384 1609 779 1909 \nQ 1175 2209 1959 2209 \nL 2766 2209 \nL 2766 2266 \nQ 2766 2663 2505 2880 \nQ 2244 3097 1772 3097 \nQ 1472 3097 1187 3025 \nQ 903 2953 641 2809 \nL 641 3341 \nQ 956 3463 1253 3523 \nQ 1550 3584 1831 3584 \nQ 2591 3584 2966 3190 \nQ 3341 2797 3341 1997 \nz\n\" transform=\"scale(0.015625)\"/>\n      <path id=\"DejaVuSans-6e\" d=\"M 3513 2113 \nL 3513 0 \nL 2938 0 \nL 2938 2094 \nQ 2938 2591 2744 2837 \nQ 2550 3084 2163 3084 \nQ 1697 3084 1428 2787 \nQ 1159 2491 1159 1978 \nL 1159 0 \nL 581 0 \nL 581 3500 \nL 1159 3500 \nL 1159 2956 \nQ 1366 3272 1645 3428 \nQ 1925 3584 2291 3584 \nQ 2894 3584 3203 3211 \nQ 3513 2838 3513 2113 \nz\n\" transform=\"scale(0.015625)\"/>\n      <path id=\"DejaVuSans-6b\" d=\"M 581 4863 \nL 1159 4863 \nL 1159 1991 \nL 2875 3500 \nL 3609 3500 \nL 1753 1863 \nL 3688 0 \nL 2938 0 \nL 1159 1709 \nL 1159 0 \nL 581 0 \nL 581 4863 \nz\n\" transform=\"scale(0.015625)\"/>\n      <path id=\"DejaVuSans-6c\" d=\"M 603 4863 \nL 1178 4863 \nL 1178 0 \nL 603 0 \nL 603 4863 \nz\n\" transform=\"scale(0.015625)\"/>\n      <path id=\"DejaVuSans-65\" d=\"M 3597 1894 \nL 3597 1613 \nL 953 1613 \nQ 991 1019 1311 708 \nQ 1631 397 2203 397 \nQ 2534 397 2845 478 \nQ 3156 559 3463 722 \nL 3463 178 \nQ 3153 47 2828 -22 \nQ 2503 -91 2169 -91 \nQ 1331 -91 842 396 \nQ 353 884 353 1716 \nQ 353 2575 817 3079 \nQ 1281 3584 2069 3584 \nQ 2775 3584 3186 3129 \nQ 3597 2675 3597 1894 \nz\nM 3022 2063 \nQ 3016 2534 2758 2815 \nQ 2500 3097 2075 3097 \nQ 1594 3097 1305 2825 \nQ 1016 2553 972 2059 \nL 3022 2063 \nz\n\" transform=\"scale(0.015625)\"/>\n      <path id=\"DejaVuSans-20\" transform=\"scale(0.015625)\"/>\n      <path id=\"DejaVuSans-62\" d=\"M 3116 1747 \nQ 3116 2381 2855 2742 \nQ 2594 3103 2138 3103 \nQ 1681 3103 1420 2742 \nQ 1159 2381 1159 1747 \nQ 1159 1113 1420 752 \nQ 1681 391 2138 391 \nQ 2594 391 2855 752 \nQ 3116 1113 3116 1747 \nz\nM 1159 2969 \nQ 1341 3281 1617 3432 \nQ 1894 3584 2278 3584 \nQ 2916 3584 3314 3078 \nQ 3713 2572 3713 1747 \nQ 3713 922 3314 415 \nQ 2916 -91 2278 -91 \nQ 1894 -91 1617 61 \nQ 1341 213 1159 525 \nL 1159 0 \nL 581 0 \nL 581 4863 \nL 1159 4863 \nL 1159 2969 \nz\n\" transform=\"scale(0.015625)\"/>\n      <path id=\"DejaVuSans-6f\" d=\"M 1959 3097 \nQ 1497 3097 1228 2736 \nQ 959 2375 959 1747 \nQ 959 1119 1226 758 \nQ 1494 397 1959 397 \nQ 2419 397 2687 759 \nQ 2956 1122 2956 1747 \nQ 2956 2369 2687 2733 \nQ 2419 3097 1959 3097 \nz\nM 1959 3584 \nQ 2709 3584 3137 3096 \nQ 3566 2609 3566 1747 \nQ 3566 888 3137 398 \nQ 2709 -91 1959 -91 \nQ 1206 -91 779 398 \nQ 353 888 353 1747 \nQ 353 2609 779 3096 \nQ 1206 3584 1959 3584 \nz\n\" transform=\"scale(0.015625)\"/>\n      <path id=\"DejaVuSans-74\" d=\"M 1172 4494 \nL 1172 3500 \nL 2356 3500 \nL 2356 3053 \nL 1172 3053 \nL 1172 1153 \nQ 1172 725 1289 603 \nQ 1406 481 1766 481 \nL 2356 481 \nL 2356 0 \nL 1766 0 \nQ 1100 0 847 248 \nQ 594 497 594 1153 \nL 594 3053 \nL 172 3053 \nL 172 3500 \nL 594 3500 \nL 594 4494 \nL 1172 4494 \nz\n\" transform=\"scale(0.015625)\"/>\n     </defs>\n     <use xlink:href=\"#DejaVuSans-61\"/>\n     <use xlink:href=\"#DejaVuSans-6e\" x=\"61.279297\"/>\n     <use xlink:href=\"#DejaVuSans-6b\" x=\"124.658203\"/>\n     <use xlink:href=\"#DejaVuSans-6c\" x=\"182.568359\"/>\n     <use xlink:href=\"#DejaVuSans-65\" x=\"210.351562\"/>\n     <use xlink:href=\"#DejaVuSans-20\" x=\"271.875\"/>\n     <use xlink:href=\"#DejaVuSans-62\" x=\"303.662109\"/>\n     <use xlink:href=\"#DejaVuSans-6f\" x=\"367.138672\"/>\n     <use xlink:href=\"#DejaVuSans-6f\" x=\"428.320312\"/>\n     <use xlink:href=\"#DejaVuSans-74\" x=\"489.501953\"/>\n    </g>\n   </g>\n  </g>\n  <g id=\"axes_2\">\n   <g id=\"patch_7\">\n    <path d=\"M 92.479245 93.384163 \nL 163.545283 93.384163 \nL 163.545283 22.318125 \nL 92.479245 22.318125 \nz\n\" style=\"fill: #ffffff\"/>\n   </g>\n   <g clip-path=\"url(#pb43c1a285e)\">\n    <image xlink:href=\"data:image/png;base64,\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\" id=\"image16a43d79a7\" transform=\"scale(1 -1) translate(0 -71.28)\" x=\"92.479245\" y=\"-22.104163\" width=\"71.28\" height=\"71.28\"/>\n   </g>\n   <g id=\"patch_8\">\n    <path d=\"M 92.479245 93.384163 \nL 92.479245 22.318125 \n\" style=\"fill: none; stroke: #000000; stroke-width: 0.8; stroke-linejoin: miter; stroke-linecap: square\"/>\n   </g>\n   <g id=\"patch_9\">\n    <path d=\"M 163.545283 93.384163 \nL 163.545283 22.318125 \n\" style=\"fill: none; stroke: #000000; stroke-width: 0.8; stroke-linejoin: miter; stroke-linecap: square\"/>\n   </g>\n   <g id=\"patch_10\">\n    <path d=\"M 92.479245 93.384163 \nL 163.545283 93.384163 \n\" style=\"fill: none; stroke: #000000; stroke-width: 0.8; stroke-linejoin: miter; stroke-linecap: square\"/>\n   </g>\n   <g id=\"patch_11\">\n    <path d=\"M 92.479245 22.318125 \nL 163.545283 22.318125 \n\" style=\"fill: none; stroke: #000000; stroke-width: 0.8; stroke-linejoin: miter; stroke-linecap: square\"/>\n   </g>\n   <g id=\"text_2\">\n    <!-- t-shirt -->\n    <g transform=\"translate(110.081639 16.318125) scale(0.12 -0.12)\">\n     <defs>\n      <path id=\"DejaVuSans-2d\" d=\"M 313 2009 \nL 1997 2009 \nL 1997 1497 \nL 313 1497 \nL 313 2009 \nz\n\" transform=\"scale(0.015625)\"/>\n      <path id=\"DejaVuSans-73\" d=\"M 2834 3397 \nL 2834 2853 \nQ 2591 2978 2328 3040 \nQ 2066 3103 1784 3103 \nQ 1356 3103 1142 2972 \nQ 928 2841 928 2578 \nQ 928 2378 1081 2264 \nQ 1234 2150 1697 2047 \nL 1894 2003 \nQ 2506 1872 2764 1633 \nQ 3022 1394 3022 966 \nQ 3022 478 2636 193 \nQ 2250 -91 1575 -91 \nQ 1294 -91 989 -36 \nQ 684 19 347 128 \nL 347 722 \nQ 666 556 975 473 \nQ 1284 391 1588 391 \nQ 1994 391 2212 530 \nQ 2431 669 2431 922 \nQ 2431 1156 2273 1281 \nQ 2116 1406 1581 1522 \nL 1381 1569 \nQ 847 1681 609 1914 \nQ 372 2147 372 2553 \nQ 372 3047 722 3315 \nQ 1072 3584 1716 3584 \nQ 2034 3584 2315 3537 \nQ 2597 3491 2834 3397 \nz\n\" transform=\"scale(0.015625)\"/>\n      <path id=\"DejaVuSans-68\" d=\"M 3513 2113 \nL 3513 0 \nL 2938 0 \nL 2938 2094 \nQ 2938 2591 2744 2837 \nQ 2550 3084 2163 3084 \nQ 1697 3084 1428 2787 \nQ 1159 2491 1159 1978 \nL 1159 0 \nL 581 0 \nL 581 4863 \nL 1159 4863 \nL 1159 2956 \nQ 1366 3272 1645 3428 \nQ 1925 3584 2291 3584 \nQ 2894 3584 3203 3211 \nQ 3513 2838 3513 2113 \nz\n\" transform=\"scale(0.015625)\"/>\n      <path id=\"DejaVuSans-69\" d=\"M 603 3500 \nL 1178 3500 \nL 1178 0 \nL 603 0 \nL 603 3500 \nz\nM 603 4863 \nL 1178 4863 \nL 1178 4134 \nL 603 4134 \nL 603 4863 \nz\n\" transform=\"scale(0.015625)\"/>\n      <path id=\"DejaVuSans-72\" d=\"M 2631 2963 \nQ 2534 3019 2420 3045 \nQ 2306 3072 2169 3072 \nQ 1681 3072 1420 2755 \nQ 1159 2438 1159 1844 \nL 1159 0 \nL 581 0 \nL 581 3500 \nL 1159 3500 \nL 1159 2956 \nQ 1341 3275 1631 3429 \nQ 1922 3584 2338 3584 \nQ 2397 3584 2469 3576 \nQ 2541 3569 2628 3553 \nL 2631 2963 \nz\n\" transform=\"scale(0.015625)\"/>\n     </defs>\n     <use xlink:href=\"#DejaVuSans-74\"/>\n     <use xlink:href=\"#DejaVuSans-2d\" x=\"39.208984\"/>\n     <use xlink:href=\"#DejaVuSans-73\" x=\"75.292969\"/>\n     <use xlink:href=\"#DejaVuSans-68\" x=\"127.392578\"/>\n     <use xlink:href=\"#DejaVuSans-69\" x=\"190.771484\"/>\n     <use xlink:href=\"#DejaVuSans-72\" x=\"218.554688\"/>\n     <use xlink:href=\"#DejaVuSans-74\" x=\"259.667969\"/>\n    </g>\n   </g>\n  </g>\n  <g id=\"axes_3\">\n   <g id=\"patch_12\">\n    <path d=\"M 177.758491 93.384163 \nL 248.824528 93.384163 \nL 248.824528 22.318125 \nL 177.758491 22.318125 \nz\n\" style=\"fill: #ffffff\"/>\n   </g>\n   <g clip-path=\"url(#p8e09374453)\">\n    <image xlink:href=\"data:image/png;base64,\niVBORw0KGgoAAAANSUhEUgAAAGMAAABjCAYAAACPO76VAAAFTklEQVR4nO2dv48bRRTHd9d2zvE5F/kuOYIgOqSIAghKQoWEohRcT0EoKaBBVBRUdPwTNCBFES0dQlT0SCkoKPJDFAQugYDulJMT+2zvepcG7bzvszy+S9azT7rvp5rJ293Zy9fvzdvZmdl4O75eRCGJY6wXh2u++eI5qGdbm2V53FvBJtQlT+70XXP3H4AtHwzmNyrv9ZD3+TwkS2+BHBqKYQiKYYhm8BZV7E1WV8vy/ntvgu3gjPutpKtgigrxM0qmC5p8a6Msx9MNsHUf5mV5/fvbYJv2+1FI6BmGoBiGiEOnto21Naj/+elFdzM5Hts88FxIHJtk+Cfo1BZOa2B9dMalr7r9ra/vleXp7p7nZqqBnmEIimEIimGI4Kntk3dfg7qM0yv7GOwhvqtRlFiks4XqB3SXkWTz76fzyB2ddrGR0eVXynLrJ/YZxwqKYYjgYSprYyhIUlcuVCiST9baBqFpQXI+bcn0FQ+WT/Ktp2jLuq6Rlr+JSqBnGIJiGIJiGCJ4n9HdGUF9+EKnLOvhCJnOFvpnc4RBHN1PgE2YcvW/MTzr+oyTh2/umaFnGIJiGCJ4mGqM1ZsgEYp0mJgJWxXgu2bewvx5/e5ozpHLgZ5hCIphCIphiOB9RjxOPUaszqSzS0AOs+RqzKP5ZOyOW/6t0DMsQTEMET5MpSq1Ff4fa5N6aTTvvKOQNzEWxmIelw5T0RJSax/0DENQDENQDEPUntrK4Qk9+ayYW6mOoiH6EP2mcehS2wXTeSuBnmEIimGI2pcEyPRVTzqAtFelmfB0rs/TlxHLwWLdPrzBUifuPfZfuGLoGYagGIagGIYI32dkFSWJC/oJOFT0E4Ve+ixTa31rE88I8xKgZxiCYhii9tQW0ldt8oUieewRQpYGU128UDEN8dztoGcYgmIYgmIYInifUQyG+A9yNMIzHOKbnDDzhtB3rBrzgFRXZ70HnMR2bKEYhqAYhgjfZ2Tz1wE/66S1mfM8fY9Grt2At35RFEU5nzOOLRTDEOEnJKhR05mR0iWjR22bo7D7ZfqgZxiCYhiCYhgifJ/RwUW8U7E/cKJfrPnCuQz9+jhVlzNLdBost8SYrM3fzNK7GXFF0DMMQTEMEX5XnUf/QD2eXnAV75My1r1rNxQyNOlJbFnblZsDTHtDhCYJPcMQFMMQFMMQ4WeHKHzbR8i0U28O7LuGb/RXbx4pd4Zr79U7NELPMATFMISpMJV1MLWU+9zqKbJywpt3slsUeSe5eUcAAkPPMATFMATFMET9fYZINWOdvnrW9EFdn+dJl3X/Iq+z6HNBy4aeYQiKYYjaw9QJsf94qh6A4QlcnefbC933mR9fuGuEnVo7Az3DEBTDEBTDELX3GTDXNcbfRt6YH/zb+y7Y60/DpZ1E1T1bUgiTvk5o6BmGoBiGqD1M6Q0cJZ1dl9vqzy70z7tbl1+hjKIoWruP+eupB+4xf3gW/2R4In+OJcxVQM8wBMUwBMUwRO19hvxqZOdfjPX9LXd72x//DLY3Og/L8nrjKdjujF6C+s27b5flzW9xru+4J/4Lal6qQc8wBMUwRO1hKpm42JCtYG557aNbZfnqqXtgu9reLcu9RgdsF1q/Qv3ilZ2y/HnxAdg2vnPnTrr1/jbpGYagGIagGIYI/2m4Xg/qk9Oun/jwsx/B9jhzy7hu/v0O2L5K3eyzQXoCbOdW+1A/3XKv8L689APYvui/X5bXb7HPIP9DMQwRb8fXa33ubG6dL8u/ffIy2F795q+ynP3+RyXt5deuQH3vdbeObPPGL2ArxuMoJPQMQ1AMQ1AMQ/wHXZZSPwAsKAQAAAAASUVORK5CYII=\" id=\"image4d7606ee8b\" transform=\"scale(1 -1) translate(0 -71.28)\" x=\"177.758491\" y=\"-22.104163\" width=\"71.28\" height=\"71.28\"/>\n   </g>\n   <g id=\"patch_13\">\n    <path d=\"M 177.758491 93.384163 \nL 177.758491 22.318125 \n\" style=\"fill: none; stroke: #000000; stroke-width: 0.8; stroke-linejoin: miter; stroke-linecap: square\"/>\n   </g>\n   <g id=\"patch_14\">\n    <path d=\"M 248.824528 93.384163 \nL 248.824528 22.318125 \n\" style=\"fill: none; stroke: #000000; stroke-width: 0.8; stroke-linejoin: miter; stroke-linecap: square\"/>\n   </g>\n   <g id=\"patch_15\">\n    <path d=\"M 177.758491 93.384163 \nL 248.824528 93.384163 \n\" style=\"fill: none; stroke: #000000; stroke-width: 0.8; stroke-linejoin: miter; stroke-linecap: square\"/>\n   </g>\n   <g id=\"patch_16\">\n    <path d=\"M 177.758491 22.318125 \nL 248.824528 22.318125 \n\" style=\"fill: none; stroke: #000000; stroke-width: 0.8; stroke-linejoin: miter; stroke-linecap: square\"/>\n   </g>\n   <g id=\"text_3\">\n    <!-- t-shirt -->\n    <g transform=\"translate(195.360884 16.318125) scale(0.12 -0.12)\">\n     <use xlink:href=\"#DejaVuSans-74\"/>\n     <use xlink:href=\"#DejaVuSans-2d\" x=\"39.208984\"/>\n     <use xlink:href=\"#DejaVuSans-73\" x=\"75.292969\"/>\n     <use xlink:href=\"#DejaVuSans-68\" x=\"127.392578\"/>\n     <use xlink:href=\"#DejaVuSans-69\" x=\"190.771484\"/>\n     <use xlink:href=\"#DejaVuSans-72\" x=\"218.554688\"/>\n     <use xlink:href=\"#DejaVuSans-74\" x=\"259.667969\"/>\n    </g>\n   </g>\n  </g>\n  <g id=\"axes_4\">\n   <g id=\"patch_17\">\n    <path d=\"M 263.037736 93.384163 \nL 334.103774 93.384163 \nL 334.103774 22.318125 \nL 263.037736 22.318125 \nz\n\" style=\"fill: #ffffff\"/>\n   </g>\n   <g clip-path=\"url(#p9dea36831d)\">\n    <image xlink:href=\"data:image/png;base64,\niVBORw0KGgoAAAANSUhEUgAAAGMAAABjCAYAAACPO76VAAAH2UlEQVR4nO1dy4scZRDvnp737OzOZuO4cc0T3CSgBBMPiQkoEhMERRAvouYoeMhfIAg5igcPXj0FDyIo4kEvIoaAEXMIinmRZJNN3N3sZnZndt490w9vXY+1m2TtnhRSv1N9W1+/troeX33VNeZx823fiBlmJkvG/nAAg5RFJ3susA7sp8dduQXn3LuHHvbXtf94l/KQetw3oACoMARBhSEI6SROOneW2f75YkCX79C59YNOQGfKA8Kzrr8Q0Nk6PW7rk4fgeu+YhDd2nfqsXB3cYuOVHuFN/FII6P7JJuH1lsYCujRPfd32L64GtFtnN7dJqGYIggpDEBIxU+Zckf4BiTzdDz/O86m5ySKLkhrSuYtHczBwHMJL0aFRfxkuevIZGhL//vPzAd1dLxCekQLz1tnpEtbqG/sCunL2ghEHVDMEQYUhCCoMQUjEZ6Q71Pb3q15A5+senx7A7dPb8TJApxyatSktosFzNFxNd8bI2KiBf7lSnSasyRvgT9aOsXfTg+fwU/T62Vb4c2wWqhmCoMIQhETMVL5GVbq/FejeFF3JWk2Y6+XpcU4JxhZdnBu9J8CElIs0XvY8ZqYiMCiDLRyrtAiv1S0HtFmkoW3pnh3QcaW9VTMEQYUhCCoMQUjEZxRWadjXHIDMsa03DMPItGHs2dT6DstwHmtAj/PSMF5v0zRGhfkXLw/nmb9ZJbypafBh28rUZ3QGEwGdalJfZw67Aa0+438IFYYgJGKm+GrZREOXJUYtvHj2qCnyp+BAP0V5BhoOOnQzyeNPlQUzVZijc1u74RrNlSnCw5mEdJteP7UCG0pxrcVVMwRBhSEIKgxBSMRnlG7RjX3/yGRAm2wXDqc5TG58UaaU796RaQ2W7eVP5YC9N13G2gmpFK/FChnQ3Ow6O27pfvgNbRKqGYKgwhCERMwUr4N1p6HGKX85R3jDEroZukdkGGkf8TbYsIDy0zSU5mGwOQh/5/IFsJPOfJ7wXGS1ig+YfUsAqhmCoMIQBBWGICTiMzhKyE/gIgPDMAwvi3bzGizlEWHreYiKwX0GLibwqMsy7AXYFcz36HGDpyCeLt/s0HOGX37TUM0QBBWGIMRnpvDnYR61Idu/Xwnoax+NE172DtiNAWUZVhveldYMfW/Iap29Ut0ZljVGK3B7S7h9G1Ro+JxfgX+Pf+ly6HFxQTVDEFQYgqDCEIT4fIYXbovd6zcDunDtRcLLNoCeuEM/wkj34Jzphk14TgV8TX+OxsuZDk3xWjacpz1DM7MYy8eoz9j7+QJcj0+O8JGbhWqGIKgwBGEkK3CMmXNdMr79JlQoeBlqbpwijNN9mlHtVVGxAlu4Z1mNk2XDeYZlOrdwH86TW6HHOfP3+O0DYjJNGKoZgqDCEAQVhiAk4zMiOud0p2nadHz/akCvVSYIz8yH22WzBiGqV6Qhqb+DFtt6A3Y/CPYe8BnlS/nQeaOAaoYgqDAEQYUhCMn4jIgYPNegiYWldSgPSXWpbc/+jdYZrHIEj4cl+k5Z7BPmTAf8Av8+ZDCJfMbdCB8V1V0uJqhmCIIKQxBGHtp6GSr/6lQjoO836fcRgwrQ6R49zkY8t0B39nKsF1evij5VY0/sjGHTxPIqI4ZqhiCoMARBhSEII0+hbwhDzYhyMDSVf7thoY0/p0R59iQvYgM6Q2vRDNzowrKTKE17eKhmCIIKQxBGbqaau2jYW0LbdClWW5ttwNhldQQ4nM20okNSHz0lP4+JPnfmdcCjhmqGIKgwBEGFIQgjz9p2t7HiYg+9Dyx8dXPo02PWVYeMWURqsUbGNsrMWuz1w0XRbVZcjVslJ5Gl5VDNEAQVhiCMPLQ1Wecc0riLvRqWHZ5txStw3qnHi+im4IfXJpDCuMcB1QxBUGEIggpDEGLzGXjDnoeB6T27gN7dJrz+Khh8i9l6HNr+yxUDysvQeXiH0DAMI92FuXxXEIfT9tPsRzpGDNUMQVBhCEJsZipqhfr+j+cC+syfr4fOc1nNrNmGOJQ3bCTz2IKfr9Zx1nZDgzEMxmucOhLQcf2UTxRUMwRBhSEIKgxBSCQdcvdj+nnxd7UtAW0v05+NM8cgnk1lqfF3UQucjZ1ygMZpE8MwjOE4+14Dd3Rr0ffPQ0VsJqv1rZ2A9O/UD7TAzq2tGnFDNUMQVBiCYMb14+zDE/CjuOunaV/b+ir6uZwG3fX3kJkynIhmXyxcNSoRq+Um7zAWPhWDh8TuePgm2ewHFx/upI8A1QxBUGEIggpDEGILbedPoW8wlllLNbS7l6rSaoFiDmy/49DQctgD2++nWUEC/vQ4z9Io7N78fITTwEVsfKcRtb3Ysp+GsuvvHQ7oiS9/Cz//I0A1QxBUGIIQm5ma/RTMz8IZymutQO9YnxUk2KjjDedh7NxRC+U5zL64rM3OWhO+GXBdtgJH4bS5Rgtxre3QAejBQoXwZmMyTRiqGYKgwhAEFYYgxOYzvD+uBnTp68OEN/shNIys2zRrW8rADmHTpl1tpkuQVjm97SfCO5qH9+ibNg2lOx61/efX9wb03fYk4ZWz4OteOnSD8D67eByeIYH0B4dqhiCoMAQhtqztwyL17D4yXnwVNp4mX1skvKU6mJ/qV7SgtnweTF//4G7Cu/0WfcfePQzFBMs2NWkXvj0Q0DOf/Bp570lDNUMQVBiCoMIQhH8ArWs76Iut//4AAAAASUVORK5CYII=\" id=\"imagee57b0cc2b2\" transform=\"scale(1 -1) translate(0 -71.28)\" x=\"263.037736\" y=\"-22.104163\" width=\"71.28\" height=\"71.28\"/>\n   </g>\n   <g id=\"patch_18\">\n    <path d=\"M 263.037736 93.384163 \nL 263.037736 22.318125 \n\" style=\"fill: none; stroke: #000000; stroke-width: 0.8; stroke-linejoin: miter; stroke-linecap: square\"/>\n   </g>\n   <g id=\"patch_19\">\n    <path d=\"M 334.103774 93.384163 \nL 334.103774 22.318125 \n\" style=\"fill: none; stroke: #000000; stroke-width: 0.8; stroke-linejoin: miter; stroke-linecap: square\"/>\n   </g>\n   <g id=\"patch_20\">\n    <path d=\"M 263.037736 93.384163 \nL 334.103774 93.384163 \n\" style=\"fill: none; stroke: #000000; stroke-width: 0.8; stroke-linejoin: miter; stroke-linecap: square\"/>\n   </g>\n   <g id=\"patch_21\">\n    <path d=\"M 263.037736 22.318125 \nL 334.103774 22.318125 \n\" style=\"fill: none; stroke: #000000; stroke-width: 0.8; stroke-linejoin: miter; stroke-linecap: square\"/>\n   </g>\n   <g id=\"text_4\">\n    <!-- dress -->\n    <g transform=\"translate(282.487005 16.318125) scale(0.12 -0.12)\">\n     <defs>\n      <path id=\"DejaVuSans-64\" d=\"M 2906 2969 \nL 2906 4863 \nL 3481 4863 \nL 3481 0 \nL 2906 0 \nL 2906 525 \nQ 2725 213 2448 61 \nQ 2172 -91 1784 -91 \nQ 1150 -91 751 415 \nQ 353 922 353 1747 \nQ 353 2572 751 3078 \nQ 1150 3584 1784 3584 \nQ 2172 3584 2448 3432 \nQ 2725 3281 2906 2969 \nz\nM 947 1747 \nQ 947 1113 1208 752 \nQ 1469 391 1925 391 \nQ 2381 391 2643 752 \nQ 2906 1113 2906 1747 \nQ 2906 2381 2643 2742 \nQ 2381 3103 1925 3103 \nQ 1469 3103 1208 2742 \nQ 947 2381 947 1747 \nz\n\" transform=\"scale(0.015625)\"/>\n     </defs>\n     <use xlink:href=\"#DejaVuSans-64\"/>\n     <use xlink:href=\"#DejaVuSans-72\" x=\"63.476562\"/>\n     <use xlink:href=\"#DejaVuSans-65\" x=\"102.339844\"/>\n     <use xlink:href=\"#DejaVuSans-73\" x=\"163.863281\"/>\n     <use xlink:href=\"#DejaVuSans-73\" x=\"215.962891\"/>\n    </g>\n   </g>\n  </g>\n  <g id=\"axes_5\">\n   <g id=\"patch_22\">\n    <path d=\"M 348.316981 93.384163 \nL 419.383019 93.384163 \nL 419.383019 22.318125 \nL 348.316981 22.318125 \nz\n\" style=\"fill: #ffffff\"/>\n   </g>\n   <g clip-path=\"url(#p77478a57fa)\">\n    <image xlink:href=\"data:image/png;base64,\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\" id=\"image9bc64f3780\" transform=\"scale(1 -1) translate(0 -71.28)\" x=\"348.316981\" y=\"-22.104163\" width=\"71.28\" height=\"71.28\"/>\n   </g>\n   <g id=\"patch_23\">\n    <path d=\"M 348.316981 93.384163 \nL 348.316981 22.318125 \n\" style=\"fill: none; stroke: #000000; stroke-width: 0.8; stroke-linejoin: miter; stroke-linecap: square\"/>\n   </g>\n   <g id=\"patch_24\">\n    <path d=\"M 419.383019 93.384163 \nL 419.383019 22.318125 \n\" style=\"fill: none; stroke: #000000; stroke-width: 0.8; stroke-linejoin: miter; stroke-linecap: square\"/>\n   </g>\n   <g id=\"patch_25\">\n    <path d=\"M 348.316981 93.384163 \nL 419.383019 93.384163 \n\" style=\"fill: none; stroke: #000000; stroke-width: 0.8; stroke-linejoin: miter; stroke-linecap: square\"/>\n   </g>\n   <g id=\"patch_26\">\n    <path d=\"M 348.316981 22.318125 \nL 419.383019 22.318125 \n\" style=\"fill: none; stroke: #000000; stroke-width: 0.8; stroke-linejoin: miter; stroke-linecap: square\"/>\n   </g>\n   <g id=\"text_5\">\n    <!-- t-shirt -->\n    <g transform=\"translate(365.919375 16.318125) scale(0.12 -0.12)\">\n     <use xlink:href=\"#DejaVuSans-74\"/>\n     <use xlink:href=\"#DejaVuSans-2d\" x=\"39.208984\"/>\n     <use xlink:href=\"#DejaVuSans-73\" x=\"75.292969\"/>\n     <use xlink:href=\"#DejaVuSans-68\" x=\"127.392578\"/>\n     <use xlink:href=\"#DejaVuSans-69\" x=\"190.771484\"/>\n     <use xlink:href=\"#DejaVuSans-72\" x=\"218.554688\"/>\n     <use xlink:href=\"#DejaVuSans-74\" x=\"259.667969\"/>\n    </g>\n   </g>\n  </g>\n  <g id=\"axes_6\">\n   <g id=\"patch_27\">\n    <path d=\"M 433.596226 93.384163 \nL 504.662264 93.384163 \nL 504.662264 22.318125 \nL 433.596226 22.318125 \nz\n\" style=\"fill: #ffffff\"/>\n   </g>\n   <g clip-path=\"url(#pf552ec5eb0)\">\n    <image xlink:href=\"data:image/png;base64,\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\" id=\"image559ebf067e\" transform=\"scale(1 -1) translate(0 -71.28)\" x=\"433.596226\" y=\"-22.104163\" width=\"71.28\" height=\"71.28\"/>\n   </g>\n   <g id=\"patch_28\">\n    <path d=\"M 433.596226 93.384163 \nL 433.596226 22.318125 \n\" style=\"fill: none; stroke: #000000; stroke-width: 0.8; stroke-linejoin: miter; stroke-linecap: square\"/>\n   </g>\n   <g id=\"patch_29\">\n    <path d=\"M 504.662264 93.384163 \nL 504.662264 22.318125 \n\" style=\"fill: none; stroke: #000000; stroke-width: 0.8; stroke-linejoin: miter; stroke-linecap: square\"/>\n   </g>\n   <g id=\"patch_30\">\n    <path d=\"M 433.596226 93.384163 \nL 504.662264 93.384163 \n\" style=\"fill: none; stroke: #000000; stroke-width: 0.8; stroke-linejoin: miter; stroke-linecap: square\"/>\n   </g>\n   <g id=\"patch_31\">\n    <path d=\"M 433.596226 22.318125 \nL 504.662264 22.318125 \n\" style=\"fill: none; stroke: #000000; stroke-width: 0.8; stroke-linejoin: miter; stroke-linecap: square\"/>\n   </g>\n   <g id=\"text_6\">\n    <!-- pullover -->\n    <g transform=\"translate(444.802995 16.318125) scale(0.12 -0.12)\">\n     <defs>\n      <path id=\"DejaVuSans-70\" d=\"M 1159 525 \nL 1159 -1331 \nL 581 -1331 \nL 581 3500 \nL 1159 3500 \nL 1159 2969 \nQ 1341 3281 1617 3432 \nQ 1894 3584 2278 3584 \nQ 2916 3584 3314 3078 \nQ 3713 2572 3713 1747 \nQ 3713 922 3314 415 \nQ 2916 -91 2278 -91 \nQ 1894 -91 1617 61 \nQ 1341 213 1159 525 \nz\nM 3116 1747 \nQ 3116 2381 2855 2742 \nQ 2594 3103 2138 3103 \nQ 1681 3103 1420 2742 \nQ 1159 2381 1159 1747 \nQ 1159 1113 1420 752 \nQ 1681 391 2138 391 \nQ 2594 391 2855 752 \nQ 3116 1113 3116 1747 \nz\n\" transform=\"scale(0.015625)\"/>\n      <path id=\"DejaVuSans-75\" d=\"M 544 1381 \nL 544 3500 \nL 1119 3500 \nL 1119 1403 \nQ 1119 906 1312 657 \nQ 1506 409 1894 409 \nQ 2359 409 2629 706 \nQ 2900 1003 2900 1516 \nL 2900 3500 \nL 3475 3500 \nL 3475 0 \nL 2900 0 \nL 2900 538 \nQ 2691 219 2414 64 \nQ 2138 -91 1772 -91 \nQ 1169 -91 856 284 \nQ 544 659 544 1381 \nz\nM 1991 3584 \nL 1991 3584 \nz\n\" transform=\"scale(0.015625)\"/>\n      <path id=\"DejaVuSans-76\" d=\"M 191 3500 \nL 800 3500 \nL 1894 563 \nL 2988 3500 \nL 3597 3500 \nL 2284 0 \nL 1503 0 \nL 191 3500 \nz\n\" transform=\"scale(0.015625)\"/>\n     </defs>\n     <use xlink:href=\"#DejaVuSans-70\"/>\n     <use xlink:href=\"#DejaVuSans-75\" x=\"63.476562\"/>\n     <use xlink:href=\"#DejaVuSans-6c\" x=\"126.855469\"/>\n     <use xlink:href=\"#DejaVuSans-6c\" x=\"154.638672\"/>\n     <use xlink:href=\"#DejaVuSans-6f\" x=\"182.421875\"/>\n     <use xlink:href=\"#DejaVuSans-76\" x=\"243.603516\"/>\n     <use xlink:href=\"#DejaVuSans-65\" x=\"302.783203\"/>\n     <use xlink:href=\"#DejaVuSans-72\" x=\"364.306641\"/>\n    </g>\n   </g>\n  </g>\n  <g id=\"axes_7\">\n   <g id=\"patch_32\">\n    <path d=\"M 518.875472 93.384163 \nL 589.941509 93.384163 \nL 589.941509 22.318125 \nL 518.875472 22.318125 \nz\n\" style=\"fill: #ffffff\"/>\n   </g>\n   <g clip-path=\"url(#pd27aaf96f1)\">\n    <image xlink:href=\"data:image/png;base64,\niVBORw0KGgoAAAANSUhEUgAAAGMAAABjCAYAAACPO76VAAAF3ElEQVR4nO2cS2xbRRSG5z4cO06cRxMltGmUQii0hChNhRQBLeJRiloEQtBFV3SRRSVAYsUGVWxgBV0ghARIiBULFAQSqqArHptSidcCRAQtbV5tkgZCb+w48eP6XnZz5p/UxgkNOYvzrc74v/fOdX7PmeO5EzuHnGOxEljgbvUNCISYwQgxgxFiBiPEDEaIGYwQMxghZjBCzGCEmMEIMYMRYgYjxAxGiBmMEDMYIWYwQsxghJjBCDGDEWIGI8QMRogZjBAzGCFmMMK/WRdyMxkdO8kG0ByfuokzTaDFjXRs3FD9dmIfPzex69D1w6jmvcUenRs34HWcEp3rByt4okN9xAkPr2neq92/ea+W5uaoj8ofE6itvXVhqxAzGLEmL3htrTp2trWDZqYGG6cc0nHZZRRTRjdBDs8LKHZ9TAUqNrYBe1aaSKeoYZ0XJxPQjoysGTl4bLmNxJUdKdBKGfqsRnhJ5ZaNa1p/xTBNf6dEDrcye2VK5y3draDJyGCEmMEIMYMRvtfdha8UizoML09WPdFNp6EdDfTr+PoDO0HL9VEOLWyvgBYnjbY9JblGvo1Q9Bcpift51JJ/42WSAV0nFVSsY0s6bpwtgubmVlU14pQxETnV51I1uwDNShAYF8H5REYGI8QMRvgqwqGyOrJbx3P3W/XcHipZ9/VcBenuzPc67kpkQWtyafgXrBox4VBJ3OBgChlJzei4bOWwlEP33epiuZp2cAUgYZWzJtMhvaeZEFNvEFE7HyVBi2L6HP8Ztlj90XsaX9kBWk+S+vv81EOgychghJjBCDGDEf7kyd3wwv6j4zoeSuKyhqdoBTIbNoL2V7lZx1OrHaC5Dp3X6JVBM685V8DlgU/j/TpOWeeFEc0D2xpwtdXsTyml2hOkL4eY+006EnloZ7yCjs15QCmlCjHNfZ7CeXepQnON/X7bfepj5gj2LyODEWIGI/ze176FF+bPUWr47jAOae92SluNyRJoQ12zOu5JBaBlQ1oNnV3FVHRr06KOd6UXQetMUH9JF4f7XKlNx2Y6UWptmloyStaiVVpnjbR1rYglqnmdE13nQDNTU5+PpfwX+b06vpDvts6r/iBMRgYjxAxGiBmMcDbjV3WmX7kP2i8cP6Pjg+mLoJ3NDep4qoAl8WqF8vtIy+Wq/ZXj2vsqlipUhk+sdKJWpvlsZzoArd2nkvjra3eAljw8WbW/S2/cq+P3n34PtDPBPh2Pj+4BTUYGI8QMRogZjKg9Z1hPsBxjh0YchvbRdZE/NgLtuafo+8rZg2+D9lOBnhh+GdwFmjmf2N9PtjcE0F4o0/eHeeu7RG/qOvUX9II21EqPCR7L/ALafIW+L70z/SBo6tE5HXrNuGnPaafzwqkZ0GRkMELMYMT6SlvziVqET+XcFJWIUQGXJ+rF3hzx++keHX9y4F3Qrhpp4pvsXtDM5RellGr26EmjvYo69tuwjkcHzoP2wWeHdLzrFGp+H6W0iWcxvf1w8k0dP/P4CdBKHbQ043/1I2gyMhghZjBCzGDEpiyH1O7R2vAV19e9MzwA7UvHqUS97R4sEcfu/BjaH2ZpKePnZdxgN5Onzd1Hun4F7WgztZ/rO1DXfSql1PyLtBx0y5PTKD5ypep5MjIYIWYw4v9PU7XYYAqzWXgeV42DQVotOP3wR6DNh1QiL1ewJB6bpLK384kLdfdvlvkXXx0Grf+l8/bhdF7dPQibjpjBCDGDEbzmjBo4CdzMHJdLVY5cH1depvnlrVF8Kvd6/6B9+KYiI4MRYgYjtj5N1foXLKO0NX9lQSml4krlhscp9R9SmvV/HvbKdL04SdoYF5esvmuU6zIyGCFmMELMYMRN+1WdDVPnksd6NkBsuOzd4Byxpv9i8d8PugEyMhghZjBCzGCEmMEIMYMRYgYjxAxGiBmMEDMYIWYwQsxghJjBCDGDEWIGI8QMRogZjBAzGCFmMELMYISYwQgxgxFiBiPEDEaIGYwQMxghZjBCzGDEP/4+dWdD1hn8AAAAAElFTkSuQmCC\" id=\"imagebf1b16c181\" transform=\"scale(1 -1) translate(0 -71.28)\" x=\"518.875472\" y=\"-22.104163\" width=\"71.28\" height=\"71.28\"/>\n   </g>\n   <g id=\"patch_33\">\n    <path d=\"M 518.875472 93.384163 \nL 518.875472 22.318125 \n\" style=\"fill: none; stroke: #000000; stroke-width: 0.8; stroke-linejoin: miter; stroke-linecap: square\"/>\n   </g>\n   <g id=\"patch_34\">\n    <path d=\"M 589.941509 93.384163 \nL 589.941509 22.318125 \n\" style=\"fill: none; stroke: #000000; stroke-width: 0.8; stroke-linejoin: miter; stroke-linecap: square\"/>\n   </g>\n   <g id=\"patch_35\">\n    <path d=\"M 518.875472 93.384163 \nL 589.941509 93.384163 \n\" style=\"fill: none; stroke: #000000; stroke-width: 0.8; stroke-linejoin: miter; stroke-linecap: square\"/>\n   </g>\n   <g id=\"patch_36\">\n    <path d=\"M 518.875472 22.318125 \nL 589.941509 22.318125 \n\" style=\"fill: none; stroke: #000000; stroke-width: 0.8; stroke-linejoin: miter; stroke-linecap: square\"/>\n   </g>\n   <g id=\"text_7\">\n    <!-- sneaker -->\n    <g transform=\"translate(530.696303 16.318125) scale(0.12 -0.12)\">\n     <use xlink:href=\"#DejaVuSans-73\"/>\n     <use xlink:href=\"#DejaVuSans-6e\" x=\"52.099609\"/>\n     <use xlink:href=\"#DejaVuSans-65\" x=\"115.478516\"/>\n     <use xlink:href=\"#DejaVuSans-61\" x=\"177.001953\"/>\n     <use xlink:href=\"#DejaVuSans-6b\" x=\"238.28125\"/>\n     <use xlink:href=\"#DejaVuSans-65\" x=\"292.566406\"/>\n     <use xlink:href=\"#DejaVuSans-72\" x=\"354.089844\"/>\n    </g>\n   </g>\n  </g>\n  <g id=\"axes_8\">\n   <g id=\"patch_37\">\n    <path d=\"M 604.154717 93.384163 \nL 675.220755 93.384163 \nL 675.220755 22.318125 \nL 604.154717 22.318125 \nz\n\" style=\"fill: #ffffff\"/>\n   </g>\n   <g clip-path=\"url(#pcb319067af)\">\n    <image xlink:href=\"data:image/png;base64,\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\" id=\"image3abfc74197\" transform=\"scale(1 -1) translate(0 -71.28)\" x=\"604.154717\" y=\"-22.104163\" width=\"71.28\" height=\"71.28\"/>\n   </g>\n   <g id=\"patch_38\">\n    <path d=\"M 604.154717 93.384163 \nL 604.154717 22.318125 \n\" style=\"fill: none; stroke: #000000; stroke-width: 0.8; stroke-linejoin: miter; stroke-linecap: square\"/>\n   </g>\n   <g id=\"patch_39\">\n    <path d=\"M 675.220755 93.384163 \nL 675.220755 22.318125 \n\" style=\"fill: none; stroke: #000000; stroke-width: 0.8; stroke-linejoin: miter; stroke-linecap: square\"/>\n   </g>\n   <g id=\"patch_40\">\n    <path d=\"M 604.154717 93.384163 \nL 675.220755 93.384163 \n\" style=\"fill: none; stroke: #000000; stroke-width: 0.8; stroke-linejoin: miter; stroke-linecap: square\"/>\n   </g>\n   <g id=\"patch_41\">\n    <path d=\"M 604.154717 22.318125 \nL 675.220755 22.318125 \n\" style=\"fill: none; stroke: #000000; stroke-width: 0.8; stroke-linejoin: miter; stroke-linecap: square\"/>\n   </g>\n   <g id=\"text_8\">\n    <!-- pullover -->\n    <g transform=\"translate(615.361486 16.318125) scale(0.12 -0.12)\">\n     <use xlink:href=\"#DejaVuSans-70\"/>\n     <use xlink:href=\"#DejaVuSans-75\" x=\"63.476562\"/>\n     <use xlink:href=\"#DejaVuSans-6c\" x=\"126.855469\"/>\n     <use xlink:href=\"#DejaVuSans-6c\" x=\"154.638672\"/>\n     <use xlink:href=\"#DejaVuSans-6f\" x=\"182.421875\"/>\n     <use xlink:href=\"#DejaVuSans-76\" x=\"243.603516\"/>\n     <use xlink:href=\"#DejaVuSans-65\" x=\"302.783203\"/>\n     <use xlink:href=\"#DejaVuSans-72\" x=\"364.306641\"/>\n    </g>\n   </g>\n  </g>\n  <g id=\"axes_9\">\n   <g id=\"patch_42\">\n    <path d=\"M 689.433962 93.384163 \nL 760.5 93.384163 \nL 760.5 22.318125 \nL 689.433962 22.318125 \nz\n\" style=\"fill: #ffffff\"/>\n   </g>\n   <g clip-path=\"url(#pd768aee916)\">\n    <image xlink:href=\"data:image/png;base64,\niVBORw0KGgoAAAANSUhEUgAAAGMAAABjCAYAAACPO76VAAAG7UlEQVR4nO2dXWxURRTH79297G7b7dLlo4CUVqCFooAQsShKGggfCRqMAYEHE2viBw8KhvDqCz7YB4MfAXzgAR+aWGOMMYoGjaEaQb6KRSmkUGjLx1paau22lG27Hz6QzJn/JfeybGj3lJ7f05mee+9Me3pm5p45M9dcZW5MGQILPNlugECIMRghxmCEle0GPOxc/HQplMu2HXe8VjyDEWIMRmTcTVnTH4Hy4KwpSo5N9oGut8ir5JSJz7k1I6nk0Jxu0BUG+5R8+Xgx6Eo/71Ryoqk5zVaPDN7H5yr5u/Ufg27Htmcc7xPPYIQYgxFiDEaY83fshnBIXzH14cakAbg4Lz+m5KEhHG5i3QEqJHFgMAMJJVv+OOisxjwl+3HIMHqWUn0r5lwAXWvfBCX7dgZBl2w4B2VPbi7p+vuNYadigRIvbcoD1eydxxxvE89ghBiDEVaoNQE/CDdRN+XrwYCu1aF1W9Eu0KX6bys52dcHuoFDJUr+orwGdHvn0VTvzxcfBV3h3qtKPr/5adDtq/5EyR/uWwu6rpUBKI9I16SRyBun5DWVDaC75HKfeAYjxBiMEGMwwsr9xjmKaCdx70vuYOLUNuSnKWpN9AnQHdy/XMmFbUcdH5n/JU4JN1ZsV/L5LXtBN2fPW1h+/dQ9GpwB+u+YwrHVTFK5wLKPV87//+IZjBBjMMJc5XkZfSyVZn6CrStK+75hwHsYI8hbi+qgvKdqk5LNIw0PplKXbir17CIlh6qvga53+U3HR4pnMEKMwQgxBiOsjPt6l/sG1j0F5WgxRXj9Ubwv/D1FWBPRaGZteRPDHzUHcDVt5kdNSm6tyKwK08IodSrhPNFPeWg8OX2pBHRlhowZowIxBiMyz5tymdrm1reBKtBRqORbM3CxJeOuSX/GxctQrj+FEV5zMkWbi37CFSz/mtb0KjHx/9a0qJwaGsRrtUvHXcPkDDfEMxghxmCEGIMRmY8ZLlPbxI0O/IFWzs00gHof4ZfSdzHC21K7UMlXz00FXeBrGsOKNjQ6PvOuccEFM05tC3SZLlci4hmMEGMwYni2BNi7FJ1heOO/6+04jrlZpe9RgkTz+3hvojGk5O6DZaALP3/xflt5p37tDTxwE9vtCVC0IBmLoS6j2oRhQYzBCDEGIzIeM1z76RFY9YP6baEKbygEZT1cMnP3AtCZ1VeU3HR5Gj7nx9lKDq3DkIvr76g1x5OwJSuM19omYwZfxBiMMMf6CQn6lq+2Xdj1Wl7KO47exGizr53yacfbdrEladecMelMr2PdqVNnoSyewQgxBiPEGIwYcyck2KfkiUZKVijagNe2fKAlNoQxAWFWLa0YRlZPAF2gi4ZhT0sEdPFy2kJtDxqJZzBCjMEIMQYjxvx7RrokKxdDWV/N8xzH94V/X6Ekvjjm1xlDQRopivacBp14BiPEGIwYmW7KZS9DtrFPdXXsK4Y6HW8vU3LPEjxJYsqU/5QcrsJwSGRzqZKn/YoJdeIZjBBjMEKMwYiRCYcwGidcVyjdslpsxCaSvPoxPMXn8C+LlBwuwGcWNA8pORH0g048gxFiDEaM2qit3t3Yt3SZXi+Wc3Lo2tu3DUfs3anLlFw/+ODkgUWgKzlHiQapwDjQDeZT2zxxW4Kbc8uEkUaMwQgxBiNG7ZjhFqqw6/TJpduW4fshp5P6+6TXptTO3DRsSWy+XqrfM5QEnXgGI8QYjMh+N5VmRNc7ERf9+56j6Gf7FoyaTq3FN9ucb09k1jaX9gQj9CbduRC3Fw8W0HQ2sjwHdFOPUVv9F9pBJ57BCDEGI8QYjMj6mKGHLu6admp9thnExGNTmxUGf8sFXWQzhjyaP2tQ8rIdW0GXX+t8Nrkb/hu3lOyLYsij40n6s76w/g/QnamjbdDx65jgJp7BCDEGI0ZN3pR9a1jP2nlKzruO27GsbjxLtn9WgZKH3sEz3P9pDyu5rKoen1MyQ8nxtqug06faV94oB11Cm1l7cdZtTK92PrtXPIMRYgxGiDEYkfWpbbrhEPuJbcGvtDPcK3A7cXwCToNvVNGYMqCNEYZhGPkFNL607cKDJqfX0Uk61hU8LDi2eCY125bHUHyIjsfwxDCCjHFaRDyDEWIMRmS/m3oQnPgbivbsJ98Syost+b0HdNdXULf12qs/g+5IJZ2QsH3/X6Cr6aQvoLWcnQu65FFttekY3ueGeAYjxBiMEGMwYtSEQ+x5sBDtdUlOeFD0v4QfWe+aT/XHZmPMo7KcvrbpMfDPG1lJk1v7J+vEMxghxmDEw9FNuSxK3es5ad/ngv0TFf4fTlJ1S+ZjFfXa2bkpybVlixiDEWIMRoyeMWMMIJ7BCDEGI8QYjBBjMEKMwQgxBiP+B+Ha33mU2re2AAAAAElFTkSuQmCC\" id=\"imagee056c0fe62\" transform=\"scale(1 -1) translate(0 -71.28)\" x=\"689.433962\" y=\"-22.104163\" width=\"71.28\" height=\"71.28\"/>\n   </g>\n   <g id=\"patch_43\">\n    <path d=\"M 689.433962 93.384163 \nL 689.433962 22.318125 \n\" style=\"fill: none; stroke: #000000; stroke-width: 0.8; stroke-linejoin: miter; stroke-linecap: square\"/>\n   </g>\n   <g id=\"patch_44\">\n    <path d=\"M 760.5 93.384163 \nL 760.5 22.318125 \n\" style=\"fill: none; stroke: #000000; stroke-width: 0.8; stroke-linejoin: miter; stroke-linecap: square\"/>\n   </g>\n   <g id=\"patch_45\">\n    <path d=\"M 689.433962 93.384163 \nL 760.5 93.384163 \n\" style=\"fill: none; stroke: #000000; stroke-width: 0.8; stroke-linejoin: miter; stroke-linecap: square\"/>\n   </g>\n   <g id=\"patch_46\">\n    <path d=\"M 689.433962 22.318125 \nL 760.5 22.318125 \n\" style=\"fill: none; stroke: #000000; stroke-width: 0.8; stroke-linejoin: miter; stroke-linecap: square\"/>\n   </g>\n   <g id=\"text_9\">\n    <!-- sandal -->\n    <g transform=\"translate(705.209169 16.318125) scale(0.12 -0.12)\">\n     <use xlink:href=\"#DejaVuSans-73\"/>\n     <use xlink:href=\"#DejaVuSans-61\" x=\"52.099609\"/>\n     <use xlink:href=\"#DejaVuSans-6e\" x=\"113.378906\"/>\n     <use xlink:href=\"#DejaVuSans-64\" x=\"176.757812\"/>\n     <use xlink:href=\"#DejaVuSans-61\" x=\"240.234375\"/>\n     <use xlink:href=\"#DejaVuSans-6c\" x=\"301.513672\"/>\n    </g>\n   </g>\n  </g>\n  <g id=\"axes_10\">\n   <g id=\"patch_47\">\n    <path d=\"M 7.2 184.104163 \nL 78.266038 184.104163 \nL 78.266038 113.038125 \nL 7.2 113.038125 \nz\n\" style=\"fill: #ffffff\"/>\n   </g>\n   <g clip-path=\"url(#pfc6cc73d70)\">\n    <image xlink:href=\"data:image/png;base64,\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\" id=\"image09960282f0\" transform=\"scale(1 -1) translate(0 -71.28)\" x=\"7.2\" y=\"-112.824163\" width=\"71.28\" height=\"71.28\"/>\n   </g>\n   <g id=\"patch_48\">\n    <path d=\"M 7.2 184.104163 \nL 7.2 113.038125 \n\" style=\"fill: none; stroke: #000000; stroke-width: 0.8; stroke-linejoin: miter; stroke-linecap: square\"/>\n   </g>\n   <g id=\"patch_49\">\n    <path d=\"M 78.266038 184.104163 \nL 78.266038 113.038125 \n\" style=\"fill: none; stroke: #000000; stroke-width: 0.8; stroke-linejoin: miter; stroke-linecap: square\"/>\n   </g>\n   <g id=\"patch_50\">\n    <path d=\"M 7.2 184.104163 \nL 78.266038 184.104163 \n\" style=\"fill: none; stroke: #000000; stroke-width: 0.8; stroke-linejoin: miter; stroke-linecap: square\"/>\n   </g>\n   <g id=\"patch_51\">\n    <path d=\"M 7.2 113.038125 \nL 78.266038 113.038125 \n\" style=\"fill: none; stroke: #000000; stroke-width: 0.8; stroke-linejoin: miter; stroke-linecap: square\"/>\n   </g>\n   <g id=\"text_10\">\n    <!-- sandal -->\n    <g transform=\"translate(22.975206 107.038125) scale(0.12 -0.12)\">\n     <use xlink:href=\"#DejaVuSans-73\"/>\n     <use xlink:href=\"#DejaVuSans-61\" x=\"52.099609\"/>\n     <use xlink:href=\"#DejaVuSans-6e\" x=\"113.378906\"/>\n     <use xlink:href=\"#DejaVuSans-64\" x=\"176.757812\"/>\n     <use xlink:href=\"#DejaVuSans-61\" x=\"240.234375\"/>\n     <use xlink:href=\"#DejaVuSans-6c\" x=\"301.513672\"/>\n    </g>\n   </g>\n  </g>\n  <g id=\"axes_11\">\n   <g id=\"patch_52\">\n    <path d=\"M 92.479245 184.104163 \nL 163.545283 184.104163 \nL 163.545283 113.038125 \nL 92.479245 113.038125 \nz\n\" style=\"fill: #ffffff\"/>\n   </g>\n   <g clip-path=\"url(#pb9a6656ee6)\">\n    <image xlink:href=\"data:image/png;base64,\niVBORw0KGgoAAAANSUhEUgAAAGMAAABjCAYAAACPO76VAAAI70lEQVR4nO1d3W8cVxW/s7uzs7te765t+SNJE9OkoUpwUVIpokU8oUjwwAtVX5AqHisVWhAPVCovIIGQQBX8Abwj8QBPgCpoKgGl5UO0aSB1aOs6derYsdfx2vvh/ZiZ5QHpnvM77myd1dq6jc7v6Yx+M54Znz0f99xz73iXvSf7ZgTwMhkr98MQuJs/fNzK3akIuGCTrkt38G/mqvRoHl5mWsc8K7fnkJy8moLjKKBzGyfxdT0mp1secOaRuhVPf2sTqHBtnf4Ge3dj9r//QZH6+FMURwVVhkNQZTiEzMefckCk0yQLn1m8sGXlMxNbwLXCrJVPF6vA7UXElTJ7wH2x/LaVz/r4N59/5Ak4vli5ZeXvT78N3LOrn7Pyf3dngEsZii/hPHKGxQx4d2P2vf9BoZbhEFQZDmF0bmoAakuTVr71MKahKY9cwfXwGHArG3Sdn0XTL51tW3k1OwnctQ9OwPGNO8LF8Gfr5a1cbYwBV87TPfwAXdFh/IrVMhyCKsMhqDIcwpHEjDgbW9lPxcA1u76VL02vAHerWrFyLtsDrhEFxHld4MrlFhy32T3mA0yfFxtzVk6JZ+MI8/ivyjLZE6ntsPUltQyHoMpwCEfiprjKi1kszW7uFq1cFqNs36c02PPQ+NfaZSt3YnwN6W56PTFCZghjejg/La7jnCjocvSjKJm8B6hlOARVhkNQZTiE0cWMODmhK3xAtykuYMzos8tutyvATY83rSxLFRwrTSyHSN/PY89yZxq47U7BylGMv00ep7I7mD4DBrz7vUAtwyGoMhzCkaS2wTaZ8W43Bxx3ISuNCbwuTZXaMMTfTcojVxT2kev08LWKeXKNS010U52Qzg0j0cgQUz47uYIj9+GmjwZDLcMhqDIcgirDIRxJzJi6TjNmd+rjwJXYbFq1VQBuvrxt5SjEkkY7okpsrZ03g5D3qeK7uVcErsUqurLksteh2my0iTED0E+u9t4L1DIcgirDIYzOTQ0w1ex7a1auN+eAGwtoZMsngYwxptmjCSTpQhqMa4nr4j6WWHnTw04HU2t4zgxWX6OYEth+pyNPJ06rtvcfVBkOQZXhEEYWM/oDKpdR9a6Vpyew+lpvk+8PfCwyNHuUWmZ86c+Tf0eyrMFjSE9wvSh5FrCxXE7kTIpdF2vMuO+gynAII5xcYqbqYWrZ71H6ulEtAecH5JrG8mLiacDtGsyF7Z8UwnMj5qbkxFO7S1yQE/287yb/VnmvVF/d1P0HVYZDUGU4hEOp2u7rPWXLqvxlLEdkFnat3OlhWaPfT+4c67IZukFprkSzk4VjWQLhmFpsJ3ImNaCrbUioZTgEVYZDOJzJJS9Zx3OvY/q4e4GOG60AuDTrmZVLAvZEpTbpOmOMabMGhcyAtv9GG+8/sbpj5X3ObESVWg61DIegynAIqgyHcDTrMxgKN2tw3PHJh9c6op82R3FCxpOxPJVYZOU1JWYFeRrMZxaNGRx7oneWErlBVephoZbhEFQZDkGV4RAOJWb0w14i53WQ47tApHwcA/AZu3QafTSPE33hvgd1h8ixRDZD45zLJ94F7j/y4TlG1LjGoZbhEFQZDmF4NyWm06BSK6u2rAEsKsvlYLRUzBdNB3zJcBBgGSVkvbdyqbF0U7wE0mpjKjs7Q5tCFjOyUS057ZWVaQ7dMPI+gCrDIagyHMLwMUPkk+AnB/jM6qPYHXK6QBsvbuzi2ol+TH5ZbjnBQ1Yqhc8iyyE8hsgG6qkcxSy53s+YmknCsHFhENQyHIIqwyGMbASePv9pKzd+jqPs4nOk89p5dBNvrpy08ngRd9XpdunxZGMaRxyLpjlxMl+2XB7He+TS9KxdsTtP5hitJVn83jxed4zc2/zX38fnaeHmYweFWoZDUGU4BFWGQxg6Ztz+7ufhuHeJygo/Pf1b4C69vGHlr914Crj1149bufjYDnB7ouGMg5dAZNoryyoB26C4khdxicWJv7/1EHAXf7Vs5ZfmfwbcL7a+YOXXfvMgcNuvUqw5+aPXPvoFPgJqGQ5BleEQhnZT+U2xFLhJLuWFa18F7hvn/mzl1au433lcIneztoXLtrIBpZ0Zsa6iyxrT5Ai818XX6rFRdz2Lk0uwqZiPf2c617DyT9a+BNyf3ieXVhIp+fRbWrX9xEOV4RBUGQ5h6JhR2ES/ODtLaelWDauvL/71y1YWPQcmPUf+Vn4jg1c1ijmcheuydRWRKIfwpjVjjPHTdK5siubLnUvTDeD+8OaClVMFfLZCMXn7iuLV21a+l+ihluEQVBkOYfjU9kM06XSWeljvyjUQLGOMT+LSrNkJGrmfKeMGW3yDr0G9UIM4Y/CLZ5NBE7ggRS6sHmLaWyvRErcPaxXg+BK3T1XuAte8hV+7PCjUMhyCKsMhqDIcwtAxI/73O3AcxTRjF4pGMZ7PTpTRZxfYZo7VNqbEfBaO+/3/c5Q0NgWXEhtdlAMsV3DweJPxMNbx2DOebydyi3dwd7lTRmPGJx6qDIcwfEOC2EkGqp8itSyM02hVjoA5OhE+DnchWy3s0Q1YK79MZXtix4Qxn+6/G+EeuHxP9Tst3HOX378lJrr41y2jJXSvw0ItwyGoMhyCKsMhjKyJrblOPj1TSf4kTi6Ddcw089n1DvrzB8ZrVi5VMLXMsjKG/H6GTFG7rGd3vYn+/dzEuklCle2bLnfu4XHq+F9G03erluEQVBkOYWRu6sQVSgNnvr0K3M0afS0sl8E+XG7uD1WwavtoiT68e9zfBu7VXert/f31BeC+snANjqd8GvXzUb0xxryxQZWDhyc3gOMbTS7MrgG33qSlDcHv/mlGAbUMh6DKcAiqDIfgXfaeHPn2MEu/vADH37lwxco5D33233bPWPmbM68A94829bC+vHUOuH8tn7JyXMcqsUytn/ksNdGV07h24mxAqe2V+meAO5XdsvIf754HbueZGbr/tRtmFFDLcAiqDIdwKG5KIl2hHtrFF88C98TFN6z80q8fA+6BHx+8nX5YVJ9+3MrzT70H3OIr9KynfnD4z6KW4RBUGQ5BleEQ/gf5g83i6DQhZwAAAABJRU5ErkJggg==\" id=\"image2bf37146af\" transform=\"scale(1 -1) translate(0 -71.28)\" x=\"92.479245\" y=\"-112.824163\" width=\"71.28\" height=\"71.28\"/>\n   </g>\n   <g id=\"patch_53\">\n    <path d=\"M 92.479245 184.104163 \nL 92.479245 113.038125 \n\" style=\"fill: none; stroke: #000000; stroke-width: 0.8; stroke-linejoin: miter; stroke-linecap: square\"/>\n   </g>\n   <g id=\"patch_54\">\n    <path d=\"M 163.545283 184.104163 \nL 163.545283 113.038125 \n\" style=\"fill: none; stroke: #000000; stroke-width: 0.8; stroke-linejoin: miter; stroke-linecap: square\"/>\n   </g>\n   <g id=\"patch_55\">\n    <path d=\"M 92.479245 184.104163 \nL 163.545283 184.104163 \n\" style=\"fill: none; stroke: #000000; stroke-width: 0.8; stroke-linejoin: miter; stroke-linecap: square\"/>\n   </g>\n   <g id=\"patch_56\">\n    <path d=\"M 92.479245 113.038125 \nL 163.545283 113.038125 \n\" style=\"fill: none; stroke: #000000; stroke-width: 0.8; stroke-linejoin: miter; stroke-linecap: square\"/>\n   </g>\n   <g id=\"text_11\">\n    <!-- t-shirt -->\n    <g transform=\"translate(110.081639 107.038125) scale(0.12 -0.12)\">\n     <use xlink:href=\"#DejaVuSans-74\"/>\n     <use xlink:href=\"#DejaVuSans-2d\" x=\"39.208984\"/>\n     <use xlink:href=\"#DejaVuSans-73\" x=\"75.292969\"/>\n     <use xlink:href=\"#DejaVuSans-68\" x=\"127.392578\"/>\n     <use xlink:href=\"#DejaVuSans-69\" x=\"190.771484\"/>\n     <use xlink:href=\"#DejaVuSans-72\" x=\"218.554688\"/>\n     <use xlink:href=\"#DejaVuSans-74\" x=\"259.667969\"/>\n    </g>\n   </g>\n  </g>\n  <g id=\"axes_12\">\n   <g id=\"patch_57\">\n    <path d=\"M 177.758491 184.104163 \nL 248.824528 184.104163 \nL 248.824528 113.038125 \nL 177.758491 113.038125 \nz\n\" style=\"fill: #ffffff\"/>\n   </g>\n   <g clip-path=\"url(#pf19cd309f1)\">\n    <image xlink:href=\"data:image/png;base64,\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\" id=\"image248b79bd53\" transform=\"scale(1 -1) translate(0 -71.28)\" x=\"177.758491\" y=\"-112.824163\" width=\"71.28\" height=\"71.28\"/>\n   </g>\n   <g id=\"patch_58\">\n    <path d=\"M 177.758491 184.104163 \nL 177.758491 113.038125 \n\" style=\"fill: none; stroke: #000000; stroke-width: 0.8; stroke-linejoin: miter; stroke-linecap: square\"/>\n   </g>\n   <g id=\"patch_59\">\n    <path d=\"M 248.824528 184.104163 \nL 248.824528 113.038125 \n\" style=\"fill: none; stroke: #000000; stroke-width: 0.8; stroke-linejoin: miter; stroke-linecap: square\"/>\n   </g>\n   <g id=\"patch_60\">\n    <path d=\"M 177.758491 184.104163 \nL 248.824528 184.104163 \n\" style=\"fill: none; stroke: #000000; stroke-width: 0.8; stroke-linejoin: miter; stroke-linecap: square\"/>\n   </g>\n   <g id=\"patch_61\">\n    <path d=\"M 177.758491 113.038125 \nL 248.824528 113.038125 \n\" style=\"fill: none; stroke: #000000; stroke-width: 0.8; stroke-linejoin: miter; stroke-linecap: square\"/>\n   </g>\n   <g id=\"text_12\">\n    <!-- ankle boot -->\n    <g transform=\"translate(181.568384 107.038125) scale(0.12 -0.12)\">\n     <use xlink:href=\"#DejaVuSans-61\"/>\n     <use xlink:href=\"#DejaVuSans-6e\" x=\"61.279297\"/>\n     <use xlink:href=\"#DejaVuSans-6b\" x=\"124.658203\"/>\n     <use xlink:href=\"#DejaVuSans-6c\" x=\"182.568359\"/>\n     <use xlink:href=\"#DejaVuSans-65\" x=\"210.351562\"/>\n     <use xlink:href=\"#DejaVuSans-20\" x=\"271.875\"/>\n     <use xlink:href=\"#DejaVuSans-62\" x=\"303.662109\"/>\n     <use xlink:href=\"#DejaVuSans-6f\" x=\"367.138672\"/>\n     <use xlink:href=\"#DejaVuSans-6f\" x=\"428.320312\"/>\n     <use xlink:href=\"#DejaVuSans-74\" x=\"489.501953\"/>\n    </g>\n   </g>\n  </g>\n  <g id=\"axes_13\">\n   <g id=\"patch_62\">\n    <path d=\"M 263.037736 184.104163 \nL 334.103774 184.104163 \nL 334.103774 113.038125 \nL 263.037736 113.038125 \nz\n\" style=\"fill: #ffffff\"/>\n   </g>\n   <g clip-path=\"url(#pa81f5c7293)\">\n    <image xlink:href=\"data:image/png;base64,\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\" id=\"image56b01faaad\" transform=\"scale(1 -1) translate(0 -71.28)\" x=\"263.037736\" y=\"-112.824163\" width=\"71.28\" height=\"71.28\"/>\n   </g>\n   <g id=\"patch_63\">\n    <path d=\"M 263.037736 184.104163 \nL 263.037736 113.038125 \n\" style=\"fill: none; stroke: #000000; stroke-width: 0.8; stroke-linejoin: miter; stroke-linecap: square\"/>\n   </g>\n   <g id=\"patch_64\">\n    <path d=\"M 334.103774 184.104163 \nL 334.103774 113.038125 \n\" style=\"fill: none; stroke: #000000; stroke-width: 0.8; stroke-linejoin: miter; stroke-linecap: square\"/>\n   </g>\n   <g id=\"patch_65\">\n    <path d=\"M 263.037736 184.104163 \nL 334.103774 184.104163 \n\" style=\"fill: none; stroke: #000000; stroke-width: 0.8; stroke-linejoin: miter; stroke-linecap: square\"/>\n   </g>\n   <g id=\"patch_66\">\n    <path d=\"M 263.037736 113.038125 \nL 334.103774 113.038125 \n\" style=\"fill: none; stroke: #000000; stroke-width: 0.8; stroke-linejoin: miter; stroke-linecap: square\"/>\n   </g>\n   <g id=\"text_13\">\n    <!-- sandal -->\n    <g transform=\"translate(278.812942 107.038125) scale(0.12 -0.12)\">\n     <use xlink:href=\"#DejaVuSans-73\"/>\n     <use xlink:href=\"#DejaVuSans-61\" x=\"52.099609\"/>\n     <use xlink:href=\"#DejaVuSans-6e\" x=\"113.378906\"/>\n     <use xlink:href=\"#DejaVuSans-64\" x=\"176.757812\"/>\n     <use xlink:href=\"#DejaVuSans-61\" x=\"240.234375\"/>\n     <use xlink:href=\"#DejaVuSans-6c\" x=\"301.513672\"/>\n    </g>\n   </g>\n  </g>\n  <g id=\"axes_14\">\n   <g id=\"patch_67\">\n    <path d=\"M 348.316981 184.104163 \nL 419.383019 184.104163 \nL 419.383019 113.038125 \nL 348.316981 113.038125 \nz\n\" style=\"fill: #ffffff\"/>\n   </g>\n   <g clip-path=\"url(#p2fa71402c2)\">\n    <image xlink:href=\"data:image/png;base64,\niVBORw0KGgoAAAANSUhEUgAAAGMAAABjCAYAAACPO76VAAAF20lEQVR4nO2bS2wbVRSG5874EduxnTikebWkSZqUFoEEAhEiioSEKpCqQiXoY4UEbApb1ogFErBBCCRgwYYFj0qIFRKsQCzaojRURVStkjhp6jZNlDRtbdmOH/Ngd8/9pzgiVkXP4nyrM/5n5t749733zJkb9bx6JbAEFtj3uwMCIWYwQsxghJjBCDGDEWIGI8QMRogZjBAzGCFmMELMYISYwQgxgxFiBiPEDEaIGYwQMxghZjBCzGCEmMEIMYMRYgYjxAxGiBmMEDMYIWYwQsxgRKTdC1UEL7U7U6RlM6D52ZRxIvrf7O4gqebhdXGH7hngluBaLqbjIPST6ixUsW/VBp0bdUBzO+k+9Z4YaH5E6dhpYPuNNDWqsNtWvEgfRMpN0GILq9T2yipoMjIYIWYwQsxgRMTp2wEfrB4Z03F1EE/2jSm1Y12BpnyK3Q6QrGaa5ttmLjzB0nEsifOybdN8+9zuedBOL4/oOJuogeZFXDw272lhG46i43d2/QbabH1Ax/kqfk++sVClInWrFT/n98Pxvn5qL3hzFDQZGYwQMxihDhz6CMbt1Zcpjq1h+hor0tRUy+Fwd3toarATOE0kUzSMu5OboHmBkT4qvGdxk+a75KksaGbaabt4XTPVegq1sWuQsioP72NeV8/i77aRpjb8KN7TPLYxs7VqD1AbE19cB01GBiPEDEaIGYxQ7f7r8fynT+EHXc1/P9GyrL7eoo4rdSw5lK9R6STej2WMqV1XdHx9stzy/iqK97RHH4RjN0flmPJwArSGsb5UB3CtSa7QV5NdaoAWu0l9tUvYb6tB30VQw7RbpTupX0sF7LclsEHMYETbVdveGfQxuUbVUDPttCzLUl6O4ixWTRMxOrfjFk4hvx6ip9cJa7plX4ImTiHebB7bN+L02Za3sWLHJ+H4zMdf6vjw/AugHes/p+MLFZwWfSNdv3gHyxi3jHS950hoem3dNeH/RsxghJjBiIhl4xxuBUYNIGid9ZaHcF1Ym6LjzGVciswSwPiBJdTeo8ro8rOhcm+E1gI7mQTJr1I6GX7rGHihyrD5dyjVUkt//wdIEy+9puPRvpugnVp9Usc7k3dAG0ms67jUietgqRHXsb1nGDQZGYwQMxghZjAiYvlea3WL+XXnB2dAah58Qse1nA9a/2EqFed/HwFtbHZRx0MKc/Kjn/+i4x8eO4hdO33BOAj9poJQnRy0/1792f0Zxfm3Q2/6mtTmpegAaMPG29NUFJ+B6k1a3zaHcReNjAxGiBmMaLtqe1dKbE53IU09vk/HwcxF0PbO0Gux2bceAs1NU7nAqeLUo87+ta3u6vtssQHj9qM4ZfcO39ZxqYJpd/Ynqr5mrmJltjJA6Wv5eBG0TAe99Yx+0gOajAxGiBmMEDMY0f6aEU57jfRS2agFbutUs3SCytYDJxdAW/5qj44bGbxncZzS5/AODK871J7xFzrJ0Aa3Mq1Z0Q0sqzh1arM+gutC/AqtISPf4AZm5VHf5t7vAs0sqzgn46DJyGCEmMGItt/03fUkG1BaGPihc81UN/TEn/mOKqWVhUdA2zhGbdiD+NI/KBtvyYqYSkfXcVeZU6PpRrn4ds1LUBvREk6F9W5jX6yPmmvsC86/0Qfa2LeUEgfLWLW9kaCn7sG5S6DJyGCEmMEIMYMR7a8Z22GLyrC5AS2Y/hu0MWNDSPlV3DTXNX1Dx24BNxBvvI67PDYmKfdVNfz9je9f1vFcAef+7HlKPft+xOqrNf2nDp2H94J07UWjzDGEa12lgJVaExkZjBAzGNH+E/g964GRMm7jxU/h3Skd7ziPT9WJlQocrzxD/9uRXMe8u/vcmo69+UXrXrP44dPY3mUj/hp31MnIYISYwQgxgxH3f80QNDIyGCFmMELMYISYwQgxgxFiBiPEDEaIGYwQMxghZjBCzGCEmMEIMYMRYgYjxAxGiBmMEDMYIWYwQsxghJjBCDGDEWIGI8QMRogZjBAzGCFmMELMYMQ/kVN7dR+UamQAAAAASUVORK5CYII=\" id=\"image4c04044f3e\" transform=\"scale(1 -1) translate(0 -71.28)\" x=\"348.316981\" y=\"-112.824163\" width=\"71.28\" height=\"71.28\"/>\n   </g>\n   <g id=\"patch_68\">\n    <path d=\"M 348.316981 184.104163 \nL 348.316981 113.038125 \n\" style=\"fill: none; stroke: #000000; stroke-width: 0.8; stroke-linejoin: miter; stroke-linecap: square\"/>\n   </g>\n   <g id=\"patch_69\">\n    <path d=\"M 419.383019 184.104163 \nL 419.383019 113.038125 \n\" style=\"fill: none; stroke: #000000; stroke-width: 0.8; stroke-linejoin: miter; stroke-linecap: square\"/>\n   </g>\n   <g id=\"patch_70\">\n    <path d=\"M 348.316981 184.104163 \nL 419.383019 184.104163 \n\" style=\"fill: none; stroke: #000000; stroke-width: 0.8; stroke-linejoin: miter; stroke-linecap: square\"/>\n   </g>\n   <g id=\"patch_71\">\n    <path d=\"M 348.316981 113.038125 \nL 419.383019 113.038125 \n\" style=\"fill: none; stroke: #000000; stroke-width: 0.8; stroke-linejoin: miter; stroke-linecap: square\"/>\n   </g>\n   <g id=\"text_14\">\n    <!-- sandal -->\n    <g transform=\"translate(364.092188 107.038125) scale(0.12 -0.12)\">\n     <use xlink:href=\"#DejaVuSans-73\"/>\n     <use xlink:href=\"#DejaVuSans-61\" x=\"52.099609\"/>\n     <use xlink:href=\"#DejaVuSans-6e\" x=\"113.378906\"/>\n     <use xlink:href=\"#DejaVuSans-64\" x=\"176.757812\"/>\n     <use xlink:href=\"#DejaVuSans-61\" x=\"240.234375\"/>\n     <use xlink:href=\"#DejaVuSans-6c\" x=\"301.513672\"/>\n    </g>\n   </g>\n  </g>\n  <g id=\"axes_15\">\n   <g id=\"patch_72\">\n    <path d=\"M 433.596226 184.104163 \nL 504.662264 184.104163 \nL 504.662264 113.038125 \nL 433.596226 113.038125 \nz\n\" style=\"fill: #ffffff\"/>\n   </g>\n   <g clip-path=\"url(#p4706103940)\">\n    <image xlink:href=\"data:image/png;base64,\niVBORw0KGgoAAAANSUhEUgAAAGMAAABjCAYAAACPO76VAAAEs0lEQVR4nO2cTW9UVRjH770zt9N5odCXqbRFwJiWigYTEcWXFbJgxcJI/ABuxI2JWxNdEYLxA5i4dOEHMF3JxhgFXxZqjKQ2IaZkSIzQaafjdKb35bggOc95TrkTRKh/zf+3eu48955zh1/Pc849tyU8Hb5mAgJB9G/fABEoAwjKAIIygKAMICgDCMoAgjKAoAwgKAMIygCCMoCgDCAoAwjKAIIygKAMICgDCMoAgjKAoAwgKAMIygCCMoCgDCAoAwjKAIIygKAMICgDCMoAoux/UJqalIOJfd7ZJYnTTKXCJLWxcc8LgiD0zlUY+fMQU63o63r9wv6CaMjPURTq4zC8+3lezpS8Np0+THVEpUws3zFM88LmTUn3nVfknzxurenuiu+S7DaUAURZlaUgCLJbt+XAjR8QYUWXoiCT8hPVajo1GMh1XqkJG/XiTtJUHZq+tJM7bd5J/vO/ovs7LbjfwkxOqBxHBhCUAQRlAFH2a/gf51+wcfsZXXvnHr23OWS9V1XHjVGp06dmflW5bib9j8e6/Zl43cb74w2VGw2Tu8ZBEARH4o5up9yw8cDoc3u5HNeiWOWuJ5K7ke5Vud+Spo0To5fyLhupngdfbizb+J0L51WOIwMIygCi3Hr1sPrgg7c/tvGbS2+o3NpX+20cb3oNbckCr+Kt9cKufLDUnC68bjDhPSk77Yyv6CfwpOo+OevrjNdM0pAPMm9lnToVNfdv3CEb9a6bcspd4nWYy3Flckulfp6btfH0FV2WOTKAoAwgKAOIcMf/qhM5y7TnnlSpzmOyTOtPaI/bYxKnNd1k3HXru76BZEzOrd3UtXfzhNRb09a7pvVVaWj+7IrKHaitq+MvPjkRFOGuPEveTsm2s5ot97zr6nLf/nwSb8j3GPHm1s5x2YlevNRVOY4MICgDCMoAYsebviB31vNXf1KpsatOHOniX3LeCprZpsp1H5fiu+XNNckeiTcW9fbL+NdSjNvH9HNGvyk1++m9LZVb+VM/y/Rmi58fIudxoTevt0qCUK5LR/TbvGzgvvX0nnPmnO9R0W0enZJni/ymnog4MoCgDCDC09E5PYZDx4/xXrQ/gLdiPqUn5m3cuqirZimS/tstvWsar0uZqLR1mYg39X2aM20bdzp6RznvS58jv+v+K2vSbuRVsM6ClM36Ab1+7d6St5CfvvKRyn3ZW7Dx5af2qBxHBhCUAQRlAFHeMQ+YIb9wNoxhvyg2ZK7JrslWxszren87O3nUxp2z+ucmPyjbCvnCtspV63rb+vY3svVv9ul58OBlOR797Erhffo84sTpqeMqd+bD7218qKzv5a3rz9q4GSyrHEcGEJQBxM5d24feo/827/66j44t2nj1fb0b0F/VS8aXTv5i428/1zvRh96799J0P9x490V1PP2DrJErS9+pHEcGEJQBBGUAsftzxm7gzUvdc8/beGxZ/zJc/uO1wusexvbPMDgygKAMIP6fZeo/CkcGEJQBBGUAQRlAUAYQlAEEZQBBGUBQBhCUAQRlAEEZQFAGEJQBBGUAQRlAUAYQlAEEZQBBGUBQBhCUAQRlAEEZQFAGEJQBBGUAQRlAUAYQlAEEZQDxF4s3GsdfThmkAAAAAElFTkSuQmCC\" id=\"imageb987e3514b\" transform=\"scale(1 -1) translate(0 -71.28)\" x=\"433.596226\" y=\"-112.824163\" width=\"71.28\" height=\"71.28\"/>\n   </g>\n   <g id=\"patch_73\">\n    <path d=\"M 433.596226 184.104163 \nL 433.596226 113.038125 \n\" style=\"fill: none; stroke: #000000; stroke-width: 0.8; stroke-linejoin: miter; stroke-linecap: square\"/>\n   </g>\n   <g id=\"patch_74\">\n    <path d=\"M 504.662264 184.104163 \nL 504.662264 113.038125 \n\" style=\"fill: none; stroke: #000000; stroke-width: 0.8; stroke-linejoin: miter; stroke-linecap: square\"/>\n   </g>\n   <g id=\"patch_75\">\n    <path d=\"M 433.596226 184.104163 \nL 504.662264 184.104163 \n\" style=\"fill: none; stroke: #000000; stroke-width: 0.8; stroke-linejoin: miter; stroke-linecap: square\"/>\n   </g>\n   <g id=\"patch_76\">\n    <path d=\"M 433.596226 113.038125 \nL 504.662264 113.038125 \n\" style=\"fill: none; stroke: #000000; stroke-width: 0.8; stroke-linejoin: miter; stroke-linecap: square\"/>\n   </g>\n   <g id=\"text_15\">\n    <!-- sneaker -->\n    <g transform=\"translate(445.417058 107.038125) scale(0.12 -0.12)\">\n     <use xlink:href=\"#DejaVuSans-73\"/>\n     <use xlink:href=\"#DejaVuSans-6e\" x=\"52.099609\"/>\n     <use xlink:href=\"#DejaVuSans-65\" x=\"115.478516\"/>\n     <use xlink:href=\"#DejaVuSans-61\" x=\"177.001953\"/>\n     <use xlink:href=\"#DejaVuSans-6b\" x=\"238.28125\"/>\n     <use xlink:href=\"#DejaVuSans-65\" x=\"292.566406\"/>\n     <use xlink:href=\"#DejaVuSans-72\" x=\"354.089844\"/>\n    </g>\n   </g>\n  </g>\n  <g id=\"axes_16\">\n   <g id=\"patch_77\">\n    <path d=\"M 518.875472 184.104163 \nL 589.941509 184.104163 \nL 589.941509 113.038125 \nL 518.875472 113.038125 \nz\n\" style=\"fill: #ffffff\"/>\n   </g>\n   <g clip-path=\"url(#p9532f05ce6)\">\n    <image xlink:href=\"data:image/png;base64,\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\" id=\"imaged66443e40c\" transform=\"scale(1 -1) translate(0 -71.28)\" x=\"518.875472\" y=\"-112.824163\" width=\"71.28\" height=\"71.28\"/>\n   </g>\n   <g id=\"patch_78\">\n    <path d=\"M 518.875472 184.104163 \nL 518.875472 113.038125 \n\" style=\"fill: none; stroke: #000000; stroke-width: 0.8; stroke-linejoin: miter; stroke-linecap: square\"/>\n   </g>\n   <g id=\"patch_79\">\n    <path d=\"M 589.941509 184.104163 \nL 589.941509 113.038125 \n\" style=\"fill: none; stroke: #000000; stroke-width: 0.8; stroke-linejoin: miter; stroke-linecap: square\"/>\n   </g>\n   <g id=\"patch_80\">\n    <path d=\"M 518.875472 184.104163 \nL 589.941509 184.104163 \n\" style=\"fill: none; stroke: #000000; stroke-width: 0.8; stroke-linejoin: miter; stroke-linecap: square\"/>\n   </g>\n   <g id=\"patch_81\">\n    <path d=\"M 518.875472 113.038125 \nL 589.941509 113.038125 \n\" style=\"fill: none; stroke: #000000; stroke-width: 0.8; stroke-linejoin: miter; stroke-linecap: square\"/>\n   </g>\n   <g id=\"text_16\">\n    <!-- ankle boot -->\n    <g transform=\"translate(522.685366 107.038125) scale(0.12 -0.12)\">\n     <use xlink:href=\"#DejaVuSans-61\"/>\n     <use xlink:href=\"#DejaVuSans-6e\" x=\"61.279297\"/>\n     <use xlink:href=\"#DejaVuSans-6b\" x=\"124.658203\"/>\n     <use xlink:href=\"#DejaVuSans-6c\" x=\"182.568359\"/>\n     <use xlink:href=\"#DejaVuSans-65\" x=\"210.351562\"/>\n     <use xlink:href=\"#DejaVuSans-20\" x=\"271.875\"/>\n     <use xlink:href=\"#DejaVuSans-62\" x=\"303.662109\"/>\n     <use xlink:href=\"#DejaVuSans-6f\" x=\"367.138672\"/>\n     <use xlink:href=\"#DejaVuSans-6f\" x=\"428.320312\"/>\n     <use xlink:href=\"#DejaVuSans-74\" x=\"489.501953\"/>\n    </g>\n   </g>\n  </g>\n  <g id=\"axes_17\">\n   <g id=\"patch_82\">\n    <path d=\"M 604.154717 184.104163 \nL 675.220755 184.104163 \nL 675.220755 113.038125 \nL 604.154717 113.038125 \nz\n\" style=\"fill: #ffffff\"/>\n   </g>\n   <g clip-path=\"url(#pbd7e4b7a1f)\">\n    <image xlink:href=\"data:image/png;base64,\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\" id=\"imagee8e0759f7a\" transform=\"scale(1 -1) translate(0 -71.28)\" x=\"604.154717\" y=\"-112.824163\" width=\"71.28\" height=\"71.28\"/>\n   </g>\n   <g id=\"patch_83\">\n    <path d=\"M 604.154717 184.104163 \nL 604.154717 113.038125 \n\" style=\"fill: none; stroke: #000000; stroke-width: 0.8; stroke-linejoin: miter; stroke-linecap: square\"/>\n   </g>\n   <g id=\"patch_84\">\n    <path d=\"M 675.220755 184.104163 \nL 675.220755 113.038125 \n\" style=\"fill: none; stroke: #000000; stroke-width: 0.8; stroke-linejoin: miter; stroke-linecap: square\"/>\n   </g>\n   <g id=\"patch_85\">\n    <path d=\"M 604.154717 184.104163 \nL 675.220755 184.104163 \n\" style=\"fill: none; stroke: #000000; stroke-width: 0.8; stroke-linejoin: miter; stroke-linecap: square\"/>\n   </g>\n   <g id=\"patch_86\">\n    <path d=\"M 604.154717 113.038125 \nL 675.220755 113.038125 \n\" style=\"fill: none; stroke: #000000; stroke-width: 0.8; stroke-linejoin: miter; stroke-linecap: square\"/>\n   </g>\n   <g id=\"text_17\">\n    <!-- trouser -->\n    <g transform=\"translate(618.246173 107.038125) scale(0.12 -0.12)\">\n     <use xlink:href=\"#DejaVuSans-74\"/>\n     <use xlink:href=\"#DejaVuSans-72\" x=\"39.208984\"/>\n     <use xlink:href=\"#DejaVuSans-6f\" x=\"78.072266\"/>\n     <use xlink:href=\"#DejaVuSans-75\" x=\"139.253906\"/>\n     <use xlink:href=\"#DejaVuSans-73\" x=\"202.632812\"/>\n     <use xlink:href=\"#DejaVuSans-65\" x=\"254.732422\"/>\n     <use xlink:href=\"#DejaVuSans-72\" x=\"316.255859\"/>\n    </g>\n   </g>\n  </g>\n  <g id=\"axes_18\">\n   <g id=\"patch_87\">\n    <path d=\"M 689.433962 184.104163 \nL 760.5 184.104163 \nL 760.5 113.038125 \nL 689.433962 113.038125 \nz\n\" style=\"fill: #ffffff\"/>\n   </g>\n   <g clip-path=\"url(#pb37dd0424d)\">\n    <image xlink:href=\"data:image/png;base64,\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\" id=\"image73c444e553\" transform=\"scale(1 -1) translate(0 -71.28)\" x=\"689.433962\" y=\"-112.824163\" width=\"71.28\" height=\"71.28\"/>\n   </g>\n   <g id=\"patch_88\">\n    <path d=\"M 689.433962 184.104163 \nL 689.433962 113.038125 \n\" style=\"fill: none; stroke: #000000; stroke-width: 0.8; stroke-linejoin: miter; stroke-linecap: square\"/>\n   </g>\n   <g id=\"patch_89\">\n    <path d=\"M 760.5 184.104163 \nL 760.5 113.038125 \n\" style=\"fill: none; stroke: #000000; stroke-width: 0.8; stroke-linejoin: miter; stroke-linecap: square\"/>\n   </g>\n   <g id=\"patch_90\">\n    <path d=\"M 689.433962 184.104163 \nL 760.5 184.104163 \n\" style=\"fill: none; stroke: #000000; stroke-width: 0.8; stroke-linejoin: miter; stroke-linecap: square\"/>\n   </g>\n   <g id=\"patch_91\">\n    <path d=\"M 689.433962 113.038125 \nL 760.5 113.038125 \n\" style=\"fill: none; stroke: #000000; stroke-width: 0.8; stroke-linejoin: miter; stroke-linecap: square\"/>\n   </g>\n   <g id=\"text_18\">\n    <!-- t-shirt -->\n    <g transform=\"translate(707.036356 107.038125) scale(0.12 -0.12)\">\n     <use xlink:href=\"#DejaVuSans-74\"/>\n     <use xlink:href=\"#DejaVuSans-2d\" x=\"39.208984\"/>\n     <use xlink:href=\"#DejaVuSans-73\" x=\"75.292969\"/>\n     <use xlink:href=\"#DejaVuSans-68\" x=\"127.392578\"/>\n     <use xlink:href=\"#DejaVuSans-69\" x=\"190.771484\"/>\n     <use xlink:href=\"#DejaVuSans-72\" x=\"218.554688\"/>\n     <use xlink:href=\"#DejaVuSans-74\" x=\"259.667969\"/>\n    </g>\n   </g>\n  </g>\n </g>\n <defs>\n  <clipPath id=\"p1ca4ac1cfc\">\n   <rect x=\"7.2\" y=\"22.318125\" width=\"71.066038\" height=\"71.066038\"/>\n  </clipPath>\n  <clipPath id=\"pb43c1a285e\">\n   <rect x=\"92.479245\" y=\"22.318125\" width=\"71.066038\" height=\"71.066038\"/>\n  </clipPath>\n  <clipPath id=\"p8e09374453\">\n   <rect x=\"177.758491\" y=\"22.318125\" width=\"71.066038\" height=\"71.066038\"/>\n  </clipPath>\n  <clipPath id=\"p9dea36831d\">\n   <rect x=\"263.037736\" y=\"22.318125\" width=\"71.066038\" height=\"71.066038\"/>\n  </clipPath>\n  <clipPath id=\"p77478a57fa\">\n   <rect x=\"348.316981\" y=\"22.318125\" width=\"71.066038\" height=\"71.066038\"/>\n  </clipPath>\n  <clipPath id=\"pf552ec5eb0\">\n   <rect x=\"433.596226\" y=\"22.318125\" width=\"71.066038\" height=\"71.066038\"/>\n  </clipPath>\n  <clipPath id=\"pd27aaf96f1\">\n   <rect x=\"518.875472\" y=\"22.318125\" width=\"71.066038\" height=\"71.066038\"/>\n  </clipPath>\n  <clipPath id=\"pcb319067af\">\n   <rect x=\"604.154717\" y=\"22.318125\" width=\"71.066038\" height=\"71.066038\"/>\n  </clipPath>\n  <clipPath id=\"pd768aee916\">\n   <rect x=\"689.433962\" y=\"22.318125\" width=\"71.066038\" height=\"71.066038\"/>\n  </clipPath>\n  <clipPath id=\"pfc6cc73d70\">\n   <rect x=\"7.2\" y=\"113.038125\" width=\"71.066038\" height=\"71.066038\"/>\n  </clipPath>\n  <clipPath id=\"pb9a6656ee6\">\n   <rect x=\"92.479245\" y=\"113.038125\" width=\"71.066038\" height=\"71.066038\"/>\n  </clipPath>\n  <clipPath id=\"pf19cd309f1\">\n   <rect x=\"177.758491\" y=\"113.038125\" width=\"71.066038\" height=\"71.066038\"/>\n  </clipPath>\n  <clipPath id=\"pa81f5c7293\">\n   <rect x=\"263.037736\" y=\"113.038125\" width=\"71.066038\" height=\"71.066038\"/>\n  </clipPath>\n  <clipPath id=\"p2fa71402c2\">\n   <rect x=\"348.316981\" y=\"113.038125\" width=\"71.066038\" height=\"71.066038\"/>\n  </clipPath>\n  <clipPath id=\"p4706103940\">\n   <rect x=\"433.596226\" y=\"113.038125\" width=\"71.066038\" height=\"71.066038\"/>\n  </clipPath>\n  <clipPath id=\"p9532f05ce6\">\n   <rect x=\"518.875472\" y=\"113.038125\" width=\"71.066038\" height=\"71.066038\"/>\n  </clipPath>\n  <clipPath id=\"pbd7e4b7a1f\">\n   <rect x=\"604.154717\" y=\"113.038125\" width=\"71.066038\" height=\"71.066038\"/>\n  </clipPath>\n  <clipPath id=\"pb37dd0424d\">\n   <rect x=\"689.433962\" y=\"113.038125\" width=\"71.066038\" height=\"71.066038\"/>\n  </clipPath>\n </defs>\n</svg>\n"
          },
          "metadata": {}
        }
      ]
    },
    {
      "cell_type": "markdown",
      "source": [
        "### 读取小批量"
      ],
      "metadata": {
        "id": "bOnTMQEPRCyB"
      }
    },
    {
      "cell_type": "code",
      "source": [
        "batch_size = 256\n",
        "\n",
        "def get_dataloader_workers():\n",
        "    \"\"\"使用4个进程来读取数据\"\"\"\n",
        "    return 4\n",
        "\n",
        "train_iter = data.DataLoader(mnist_train, batch_size, shuffle=True,\n",
        "                             num_workers=get_dataloader_workers())"
      ],
      "metadata": {
        "colab": {
          "base_uri": "https://localhost:8080/"
        },
        "id": "qVndbLaCRLEu",
        "outputId": "63383c86-206a-4dda-b65d-953b148bec98"
      },
      "execution_count": 34,
      "outputs": [
        {
          "output_type": "stream",
          "name": "stderr",
          "text": [
            "/usr/local/lib/python3.10/dist-packages/torch/utils/data/dataloader.py:558: UserWarning: This DataLoader will create 4 worker processes in total. Our suggested max number of worker in current system is 2, which is smaller than what this DataLoader is going to create. Please be aware that excessive worker creation might get DataLoader running slow or even freeze, lower the worker number to avoid potential slowness/freeze if necessary.\n",
            "  warnings.warn(_create_warning_msg(\n"
          ]
        }
      ]
    },
    {
      "cell_type": "code",
      "source": [
        "# 读取一批训练集数据消耗时间\n",
        "timer = d2l.Timer()\n",
        "for X, y in train_iter:\n",
        "    continue\n",
        "f'{timer.stop():.2f} sec'"
      ],
      "metadata": {
        "colab": {
          "base_uri": "https://localhost:8080/",
          "height": 35
        },
        "id": "HekfKciXRODD",
        "outputId": "40112d93-ebfd-47d4-b55a-1faa30fdbcdf"
      },
      "execution_count": 35,
      "outputs": [
        {
          "output_type": "execute_result",
          "data": {
            "text/plain": [
              "'9.41 sec'"
            ],
            "application/vnd.google.colaboratory.intrinsic+json": {
              "type": "string"
            }
          },
          "metadata": {},
          "execution_count": 35
        }
      ]
    },
    {
      "cell_type": "markdown",
      "source": [
        "### 整合所有组件"
      ],
      "metadata": {
        "id": "3Xv3FIu7R2M_"
      }
    },
    {
      "cell_type": "code",
      "source": [
        "def load_data_fashion_mnist(batch_size, resize=None):\n",
        "    \"\"\"下载Fashion-MNIST数据集，然后将其加载到内存中\"\"\"\n",
        "    trans = [transforms.ToTensor()]\n",
        "    if resize:\n",
        "        trans.insert(0, transforms.Resize(resize))\n",
        "    trans = transforms.Compose(trans)\n",
        "    mnist_train = torchvision.datasets.FashionMNIST(\n",
        "        root=\"../data\", train=True, transform=trans, download=True)\n",
        "    mnist_test = torchvision.datasets.FashionMNIST(\n",
        "        root=\"../data\", train=False, transform=trans, download=True)\n",
        "    return (data.DataLoader(mnist_train, batch_size, shuffle=True,\n",
        "                            num_workers=get_dataloader_workers()),\n",
        "            data.DataLoader(mnist_test, batch_size, shuffle=False,\n",
        "                            num_workers=get_dataloader_workers()))"
      ],
      "metadata": {
        "id": "2pRxSG5NRxfm"
      },
      "execution_count": 36,
      "outputs": []
    },
    {
      "cell_type": "code",
      "source": [
        "# 指定resize参数来测试load_data_fashion_mnist函数的图像大小调整功能\n",
        "train_iter, test_iter = load_data_fashion_mnist(32, resize=64)\n",
        "for X, y in train_iter:\n",
        "    print(X.shape, X.dtype, y.shape, y.dtype)\n",
        "    break"
      ],
      "metadata": {
        "colab": {
          "base_uri": "https://localhost:8080/"
        },
        "id": "LI_l5mTSSHDC",
        "outputId": "786cdbe7-df32-4f54-b2f6-e51b261d59df"
      },
      "execution_count": 37,
      "outputs": [
        {
          "output_type": "stream",
          "name": "stdout",
          "text": [
            "torch.Size([32, 1, 64, 64]) torch.float32 torch.Size([32]) torch.int64\n"
          ]
        }
      ]
    },
    {
      "cell_type": "markdown",
      "source": [
        "## softmax回归的从零开始实现\n",
        "\n",
        "使用刚刚在上一节中引入的Fashion-MNIST数据集， 并设置数据迭代器的批量大小为256。"
      ],
      "metadata": {
        "id": "Pg52NrowWges"
      }
    },
    {
      "cell_type": "markdown",
      "source": [
        "### 加载数据"
      ],
      "metadata": {
        "id": "BHaKV_XOW3i6"
      }
    },
    {
      "cell_type": "code",
      "source": [
        "import torch\n",
        "from IPython import display\n",
        "from d2l import torch as d2l\n",
        "\n",
        "batch_size = 256\n",
        "train_iter, test_iter = d2l.load_data_fashion_mnist(batch_size)"
      ],
      "metadata": {
        "id": "LbTzIa79Wera"
      },
      "execution_count": 38,
      "outputs": []
    },
    {
      "cell_type": "markdown",
      "source": [
        "### 初始化模型参数\n",
        "\n",
        "和之前线性回归的例子一样，这里的每个样本都将用固定长度的向量表示。 原始数据集中的每个样本都是$28 \\times 28$\n",
        "的图像。 本节将展平每个图像，把它们看作长度为784的向量。\n",
        "\n",
        "\n",
        "在softmax回归中，我们的输出与类别一样多。\n",
        "(**因为我们的数据集有10个类别，所以网络输出维度为10**)。\n",
        "因此，权重将构成一个$784 \\times 10$的矩阵，\n",
        "偏置将构成一个$1 \\times 10$的行向量。"
      ],
      "metadata": {
        "id": "OYKfH8SWW5eq"
      }
    },
    {
      "cell_type": "code",
      "source": [
        "num_inputs = 784\n",
        "num_outputs = 10\n",
        "\n",
        "W = torch.normal(0, 0.01, size=(num_inputs, num_outputs), requires_grad=True)\n",
        "b = torch.zeros(num_outputs, requires_grad=True)"
      ],
      "metadata": {
        "id": "qHsDcuHWW8m7"
      },
      "execution_count": 39,
      "outputs": []
    },
    {
      "cell_type": "code",
      "source": [
        "torch.normal?"
      ],
      "metadata": {
        "id": "ew1WzYM1X50c"
      },
      "execution_count": 40,
      "outputs": []
    },
    {
      "cell_type": "markdown",
      "source": [
        "### 定义softmax操作\n",
        "\n",
        "[**实现softmax**]由三个步骤组成：\n",
        "\n",
        "1. 对每个项求幂（使用`exp`）；\n",
        "1. 对每一行求和（小批量中每个样本是一行），得到每个样本的规范化常数；\n",
        "1. 将每一行除以其规范化常数，确保结果的和为1。\n",
        "\n",
        "对应这个表达式：\n",
        "\n",
        "$$\n",
        "\\mathrm{softmax}(\\mathbf{X})_{ij} = \\frac{\\exp(\\mathbf{X}_{ij})}{\\sum_k \\exp(\\mathbf{X}_{ik})}.\n",
        "$$\n",
        "\n",
        "\n",
        "分母或规范化常数，有时也称为*配分函数*（其对数称为对数-配分函数）。"
      ],
      "metadata": {
        "id": "1ToHuQLBXrza"
      }
    },
    {
      "cell_type": "code",
      "source": [
        "def softmax(X):\n",
        "    X_exp = torch.exp(X)\n",
        "    partition = X_exp.sum(1, keepdim=True)\n",
        "    return X_exp / partition  # 这里应用了广播机制"
      ],
      "metadata": {
        "id": "p48pLYgJZTDa"
      },
      "execution_count": 42,
      "outputs": []
    },
    {
      "cell_type": "code",
      "source": [
        "# 测试softmax\n",
        "X = torch.normal(0, 1, (2, 5))\n",
        "X_prob = softmax(X)\n",
        "X_prob, X_prob.sum(1)"
      ],
      "metadata": {
        "colab": {
          "base_uri": "https://localhost:8080/"
        },
        "id": "emj9fbovZjWj",
        "outputId": "a5896bca-3fa9-4048-95ec-ac668ecb8b84"
      },
      "execution_count": 43,
      "outputs": [
        {
          "output_type": "execute_result",
          "data": {
            "text/plain": [
              "(tensor([[0.1976, 0.2511, 0.1740, 0.1186, 0.2587],\n",
              "         [0.0602, 0.1266, 0.2269, 0.4299, 0.1565]]),\n",
              " tensor([1., 1.]))"
            ]
          },
          "metadata": {},
          "execution_count": 43
        }
      ]
    },
    {
      "cell_type": "markdown",
      "source": [
        "### 定义模型\n",
        "\n",
        "定义softmax操作后，我们可以实现softmax回归模型。"
      ],
      "metadata": {
        "id": "pxnGfRSpvyJj"
      }
    },
    {
      "cell_type": "code",
      "source": [
        "def net(X):\n",
        "  # X.reshape((-1, W.shape[0])) 将 X 重塑为一个形状为 (-1, num_inputs) 的张量，\n",
        "  # -1 表示自动计算该维度的大小，使总元素数量保持不变。\n",
        "    return softmax(torch.matmul(X.reshape((-1, W.shape[0])), W) + b)"
      ],
      "metadata": {
        "id": "iWcWYn5gZkwh"
      },
      "execution_count": 44,
      "outputs": []
    },
    {
      "cell_type": "markdown",
      "source": [
        "### 定义损失函数\n",
        "\n",
        "在机器学习和深度学习中，交叉熵损失函数通常用于分类任务。\n",
        "\n",
        "交叉熵采用真实标签的预测概率的负对数似然。"
      ],
      "metadata": {
        "id": "qPiCr_mN9HOQ"
      }
    },
    {
      "cell_type": "code",
      "source": [
        "# 标签y\n",
        "y = torch.tensor([0, 2])\n",
        "# 创建一个数据样本y_hat，其中包含2个样本在3个类别的预测概率\n",
        "y_hat = torch.tensor([[0.1, 0.3, 0.6], [0.3, 0.2, 0.5]])\n",
        "# 使用y作为y_hat中概率的索引， 我们选择第一个样本中第一个类的概率和第二个样本中第三个类的概率。\n",
        "y_hat[[0, 1], y]"
      ],
      "metadata": {
        "colab": {
          "base_uri": "https://localhost:8080/"
        },
        "id": "3EAwZeKaDK6R",
        "outputId": "4eab889c-dcd2-4846-94cf-f769bc3c6b84"
      },
      "execution_count": 45,
      "outputs": [
        {
          "output_type": "execute_result",
          "data": {
            "text/plain": [
              "tensor([0.1000, 0.5000])"
            ]
          },
          "metadata": {},
          "execution_count": 45
        }
      ]
    },
    {
      "cell_type": "code",
      "source": [
        "# 交叉熵损失函数的函数\n",
        "def cross_entropy(y_hat, y):\n",
        "    # range(len(y_hat)) 生成一个从 0 到 batch_size-1 的索引列表，用于选择 y_hat 中每行的元素。\n",
        "    return - torch.log(y_hat[range(len(y_hat)), y])\n",
        "\n",
        "cross_entropy(y_hat, y)"
      ],
      "metadata": {
        "colab": {
          "base_uri": "https://localhost:8080/"
        },
        "id": "wxleO-zlDvF3",
        "outputId": "0c7950d2-c3a8-4a8d-e7f3-cf1d8f7eab20"
      },
      "execution_count": 46,
      "outputs": [
        {
          "output_type": "execute_result",
          "data": {
            "text/plain": [
              "tensor([2.3026, 0.6931])"
            ]
          },
          "metadata": {},
          "execution_count": 46
        }
      ]
    },
    {
      "cell_type": "markdown",
      "source": [
        "### 分类精度\n",
        "\n",
        "首先，如果y_hat是矩阵，那么假定第二个维度存储每个类的预测分数。 我们使用argmax获得每行中最大元素的索引来获得预测类别。 然后我们将预测类别与真实y元素进行比较。 由于等式运算符“==”对数据类型很敏感， 因此我们将y_hat的数据类型转换为与y的数据类型一致。"
      ],
      "metadata": {
        "id": "Qvomd6MdFOGn"
      }
    },
    {
      "cell_type": "code",
      "source": [
        "def accuracy(y_hat, y):\n",
        "    \"\"\"计算预测正确的数量\"\"\"\n",
        "    if len(y_hat.shape) > 1 and y_hat.shape[1] > 1:\n",
        "        y_hat = y_hat.argmax(axis=1)\n",
        "    cmp = y_hat.type(y.dtype) == y\n",
        "    return float(cmp.type(y.dtype).sum())"
      ],
      "metadata": {
        "id": "E5_JAy4QFSex"
      },
      "execution_count": 47,
      "outputs": []
    },
    {
      "cell_type": "code",
      "source": [
        "accuracy(y_hat, y) / len(y)"
      ],
      "metadata": {
        "colab": {
          "base_uri": "https://localhost:8080/"
        },
        "id": "ykYYGbo5HNX5",
        "outputId": "d1a6bef0-da61-4ea6-cf7e-e59797553f4b"
      },
      "execution_count": 48,
      "outputs": [
        {
          "output_type": "execute_result",
          "data": {
            "text/plain": [
              "0.5"
            ]
          },
          "metadata": {},
          "execution_count": 48
        }
      ]
    },
    {
      "cell_type": "code",
      "source": [
        "def evaluate_accuracy(net, data_iter):\n",
        "    \"\"\"计算在指定数据集上模型的精度\"\"\"\n",
        "    if isinstance(net, torch.nn.Module):\n",
        "        net.eval()  # 将模型设置为评估模式\n",
        "    metric = Accumulator(2)  # 正确预测数、预测总数\n",
        "    with torch.no_grad():\n",
        "        for X, y in data_iter:\n",
        "            metric.add(accuracy(net(X), y), y.numel())\n",
        "    return metric[0] / metric[1]"
      ],
      "metadata": {
        "id": "eF-p3yKhID1c"
      },
      "execution_count": 49,
      "outputs": []
    },
    {
      "cell_type": "code",
      "source": [
        "class Accumulator:\n",
        "    \"\"\"在n个变量上累加\"\"\"\n",
        "    def __init__(self, n):\n",
        "        self.data = [0.0] * n\n",
        "\n",
        "    def add(self, *args):\n",
        "        self.data = [a + float(b) for a, b in zip(self.data, args)]\n",
        "\n",
        "    def reset(self):\n",
        "        self.data = [0.0] * len(self.data)\n",
        "\n",
        "    def __getitem__(self, idx):\n",
        "        return self.data[idx]"
      ],
      "metadata": {
        "id": "MA-y5cHtIGdC"
      },
      "execution_count": 50,
      "outputs": []
    },
    {
      "cell_type": "markdown",
      "source": [
        "由于我们使用随机权重初始化net模型， 因此该模型的精度应接近于随机猜测0.1（有10个类别情况下的精度为0.1）。"
      ],
      "metadata": {
        "id": "B9VmbcFUISmc"
      }
    },
    {
      "cell_type": "code",
      "source": [
        "evaluate_accuracy(net, test_iter)"
      ],
      "metadata": {
        "colab": {
          "base_uri": "https://localhost:8080/"
        },
        "id": "FU2dvKLMILI5",
        "outputId": "d10cbb93-16db-4cab-edd8-522a6f46e019"
      },
      "execution_count": 51,
      "outputs": [
        {
          "output_type": "execute_result",
          "data": {
            "text/plain": [
              "0.0701"
            ]
          },
          "metadata": {},
          "execution_count": 51
        }
      ]
    },
    {
      "cell_type": "markdown",
      "source": [
        "### 训练"
      ],
      "metadata": {
        "id": "C7Yw5tSiIjNJ"
      }
    },
    {
      "cell_type": "code",
      "source": [
        "# 定义一个函数来训练一个迭代周期。 请注意，updater是更新模型参数的常用函数，它接受批量大小作为参数。\n",
        "def train_epoch_ch3(net, train_iter, loss, updater):\n",
        "    \"\"\"训练模型一个迭代周期（定义见第3章）\"\"\"\n",
        "    # 将模型设置为训练模式\n",
        "    if isinstance(net, torch.nn.Module):\n",
        "        net.train()\n",
        "    # 训练损失总和、训练准确度总和、样本数\n",
        "    metric = Accumulator(3)\n",
        "    for X, y in train_iter:\n",
        "        # 计算梯度并更新参数\n",
        "        y_hat = net(X)\n",
        "        l = loss(y_hat, y)\n",
        "        if isinstance(updater, torch.optim.Optimizer):\n",
        "            # 使用PyTorch内置的优化器和损失函数\n",
        "            updater.zero_grad()\n",
        "            l.mean().backward()\n",
        "            updater.step()\n",
        "        else:\n",
        "            # 使用定制的优化器和损失函数\n",
        "            l.sum().backward()\n",
        "            updater(X.shape[0])\n",
        "        metric.add(float(l.sum()), accuracy(y_hat, y), y.numel())\n",
        "    # 返回训练损失和训练精度\n",
        "    return metric[0] / metric[2], metric[1] / metric[2]"
      ],
      "metadata": {
        "id": "r5nqZZN1Iepv"
      },
      "execution_count": 52,
      "outputs": []
    },
    {
      "cell_type": "code",
      "source": [
        "class Animator:\n",
        "    \"\"\"在动画中绘制数据\"\"\"\n",
        "    def __init__(self, xlabel=None, ylabel=None, legend=None, xlim=None,\n",
        "                 ylim=None, xscale='linear', yscale='linear',\n",
        "                 fmts=('-', 'm--', 'g-.', 'r:'), nrows=1, ncols=1,\n",
        "                 figsize=(3.5, 2.5)):\n",
        "        # 增量地绘制多条线\n",
        "        if legend is None:\n",
        "            legend = []\n",
        "        d2l.use_svg_display()\n",
        "        self.fig, self.axes = d2l.plt.subplots(nrows, ncols, figsize=figsize)\n",
        "        if nrows * ncols == 1:\n",
        "            self.axes = [self.axes, ]\n",
        "        # 使用lambda函数捕获参数\n",
        "        self.config_axes = lambda: d2l.set_axes(\n",
        "            self.axes[0], xlabel, ylabel, xlim, ylim, xscale, yscale, legend)\n",
        "        self.X, self.Y, self.fmts = None, None, fmts\n",
        "\n",
        "    def add(self, x, y):\n",
        "        # 向图表中添加多个数据点\n",
        "        if not hasattr(y, \"__len__\"):\n",
        "            y = [y]\n",
        "        n = len(y)\n",
        "        if not hasattr(x, \"__len__\"):\n",
        "            x = [x] * n\n",
        "        if not self.X:\n",
        "            self.X = [[] for _ in range(n)]\n",
        "        if not self.Y:\n",
        "            self.Y = [[] for _ in range(n)]\n",
        "        for i, (a, b) in enumerate(zip(x, y)):\n",
        "            if a is not None and b is not None:\n",
        "                self.X[i].append(a)\n",
        "                self.Y[i].append(b)\n",
        "        self.axes[0].cla()\n",
        "        for x, y, fmt in zip(self.X, self.Y, self.fmts):\n",
        "            self.axes[0].plot(x, y, fmt)\n",
        "        self.config_axes()\n",
        "        display.display(self.fig)\n",
        "        display.clear_output(wait=True)"
      ],
      "metadata": {
        "id": "NdTMlE3DKoxn"
      },
      "execution_count": 53,
      "outputs": []
    },
    {
      "cell_type": "code",
      "source": [
        "# 训练函数， 它会在train_iter访问到的训练数据集上训练一个模型net。 该训练函数将会运行多个迭代周期（由num_epochs指定）。\n",
        "# 在每个迭代周期结束时，利用test_iter访问到的测试数据集对模型进行评估。 我们将利用Animator类来可视化训练进度。\n",
        "def train_ch3(net, train_iter, test_iter, loss, num_epochs, updater):\n",
        "    \"\"\"训练模型（定义见第3章）\"\"\"\n",
        "    animator = Animator(xlabel='epoch', xlim=[1, num_epochs], ylim=[0.3, 0.9],\n",
        "                        legend=['train loss', 'train acc', 'test acc'])\n",
        "    for epoch in range(num_epochs):\n",
        "        train_metrics = train_epoch_ch3(net, train_iter, loss, updater)\n",
        "        test_acc = evaluate_accuracy(net, test_iter)\n",
        "        animator.add(epoch + 1, train_metrics + (test_acc,))\n",
        "    train_loss, train_acc = train_metrics\n",
        "    assert train_loss < 0.5, train_loss\n",
        "    assert train_acc <= 1 and train_acc > 0.7, train_acc\n",
        "    assert test_acc <= 1 and test_acc > 0.7, test_acc"
      ],
      "metadata": {
        "id": "6NACxDGLKuAE"
      },
      "execution_count": 54,
      "outputs": []
    },
    {
      "cell_type": "code",
      "source": [
        "# 定义的 小批量随机梯度下降来优化模型的损失函数，设置学习率为0.1\n",
        "lr = 0.1\n",
        "\n",
        "def updater(batch_size):\n",
        "    return d2l.sgd([W, b], lr, batch_size)"
      ],
      "metadata": {
        "id": "D674OENgK0U8"
      },
      "execution_count": 55,
      "outputs": []
    },
    {
      "cell_type": "code",
      "source": [
        "num_epochs = 10\n",
        "train_ch3(net, train_iter, test_iter, cross_entropy, num_epochs, updater)"
      ],
      "metadata": {
        "colab": {
          "base_uri": "https://localhost:8080/",
          "height": 266
        },
        "id": "Z7cHuOe0K14b",
        "outputId": "4ba3b60e-86fb-4364-da5a-d3c5b0d26ec2"
      },
      "execution_count": 56,
      "outputs": [
        {
          "output_type": "display_data",
          "data": {
            "text/plain": [
              "<Figure size 350x250 with 1 Axes>"
            ],
            "image/svg+xml": "<?xml version=\"1.0\" encoding=\"utf-8\" standalone=\"no\"?>\n<!DOCTYPE svg PUBLIC \"-//W3C//DTD SVG 1.1//EN\"\n  \"http://www.w3.org/Graphics/SVG/1.1/DTD/svg11.dtd\">\n<svg xmlns:xlink=\"http://www.w3.org/1999/xlink\" width=\"238.965625pt\" height=\"183.35625pt\" viewBox=\"0 0 238.965625 183.35625\" xmlns=\"http://www.w3.org/2000/svg\" version=\"1.1\">\n <metadata>\n  <rdf:RDF xmlns:dc=\"http://purl.org/dc/elements/1.1/\" xmlns:cc=\"http://creativecommons.org/ns#\" xmlns:rdf=\"http://www.w3.org/1999/02/22-rdf-syntax-ns#\">\n   <cc:Work>\n    <dc:type rdf:resource=\"http://purl.org/dc/dcmitype/StillImage\"/>\n    <dc:date>2024-06-14T14:36:09.698309</dc:date>\n    <dc:format>image/svg+xml</dc:format>\n    <dc:creator>\n     <cc:Agent>\n      <dc:title>Matplotlib v3.7.2, https://matplotlib.org/</dc:title>\n     </cc:Agent>\n    </dc:creator>\n   </cc:Work>\n  </rdf:RDF>\n </metadata>\n <defs>\n  <style type=\"text/css\">*{stroke-linejoin: round; stroke-linecap: butt}</style>\n </defs>\n <g id=\"figure_1\">\n  <g id=\"patch_1\">\n   <path d=\"M 0 183.35625 \nL 238.965625 183.35625 \nL 238.965625 0 \nL 0 0 \nz\n\" style=\"fill: #ffffff\"/>\n  </g>\n  <g id=\"axes_1\">\n   <g id=\"patch_2\">\n    <path d=\"M 30.103125 145.8 \nL 225.403125 145.8 \nL 225.403125 7.2 \nL 30.103125 7.2 \nz\n\" style=\"fill: #ffffff\"/>\n   </g>\n   <g id=\"matplotlib.axis_1\">\n    <g id=\"xtick_1\">\n     <g id=\"line2d_1\">\n      <path d=\"M 51.803125 145.8 \nL 51.803125 7.2 \n\" clip-path=\"url(#p9a55d230e5)\" style=\"fill: none; stroke: #b0b0b0; stroke-width: 0.8; stroke-linecap: square\"/>\n     </g>\n     <g id=\"line2d_2\">\n      <defs>\n       <path id=\"mb2f3122c1d\" d=\"M 0 0 \nL 0 3.5 \n\" style=\"stroke: #000000; stroke-width: 0.8\"/>\n      </defs>\n      <g>\n       <use xlink:href=\"#mb2f3122c1d\" x=\"51.803125\" y=\"145.8\" style=\"stroke: #000000; stroke-width: 0.8\"/>\n      </g>\n     </g>\n     <g id=\"text_1\">\n      <!-- 2 -->\n      <g transform=\"translate(48.621875 160.398438) scale(0.1 -0.1)\">\n       <defs>\n        <path id=\"DejaVuSans-32\" d=\"M 1228 531 \nL 3431 531 \nL 3431 0 \nL 469 0 \nL 469 531 \nQ 828 903 1448 1529 \nQ 2069 2156 2228 2338 \nQ 2531 2678 2651 2914 \nQ 2772 3150 2772 3378 \nQ 2772 3750 2511 3984 \nQ 2250 4219 1831 4219 \nQ 1534 4219 1204 4116 \nQ 875 4013 500 3803 \nL 500 4441 \nQ 881 4594 1212 4672 \nQ 1544 4750 1819 4750 \nQ 2544 4750 2975 4387 \nQ 3406 4025 3406 3419 \nQ 3406 3131 3298 2873 \nQ 3191 2616 2906 2266 \nQ 2828 2175 2409 1742 \nQ 1991 1309 1228 531 \nz\n\" transform=\"scale(0.015625)\"/>\n       </defs>\n       <use xlink:href=\"#DejaVuSans-32\"/>\n      </g>\n     </g>\n    </g>\n    <g id=\"xtick_2\">\n     <g id=\"line2d_3\">\n      <path d=\"M 95.203125 145.8 \nL 95.203125 7.2 \n\" clip-path=\"url(#p9a55d230e5)\" style=\"fill: none; stroke: #b0b0b0; stroke-width: 0.8; stroke-linecap: square\"/>\n     </g>\n     <g id=\"line2d_4\">\n      <g>\n       <use xlink:href=\"#mb2f3122c1d\" x=\"95.203125\" y=\"145.8\" style=\"stroke: #000000; stroke-width: 0.8\"/>\n      </g>\n     </g>\n     <g id=\"text_2\">\n      <!-- 4 -->\n      <g transform=\"translate(92.021875 160.398438) scale(0.1 -0.1)\">\n       <defs>\n        <path id=\"DejaVuSans-34\" d=\"M 2419 4116 \nL 825 1625 \nL 2419 1625 \nL 2419 4116 \nz\nM 2253 4666 \nL 3047 4666 \nL 3047 1625 \nL 3713 1625 \nL 3713 1100 \nL 3047 1100 \nL 3047 0 \nL 2419 0 \nL 2419 1100 \nL 313 1100 \nL 313 1709 \nL 2253 4666 \nz\n\" transform=\"scale(0.015625)\"/>\n       </defs>\n       <use xlink:href=\"#DejaVuSans-34\"/>\n      </g>\n     </g>\n    </g>\n    <g id=\"xtick_3\">\n     <g id=\"line2d_5\">\n      <path d=\"M 138.603125 145.8 \nL 138.603125 7.2 \n\" clip-path=\"url(#p9a55d230e5)\" style=\"fill: none; stroke: #b0b0b0; stroke-width: 0.8; stroke-linecap: square\"/>\n     </g>\n     <g id=\"line2d_6\">\n      <g>\n       <use xlink:href=\"#mb2f3122c1d\" x=\"138.603125\" y=\"145.8\" style=\"stroke: #000000; stroke-width: 0.8\"/>\n      </g>\n     </g>\n     <g id=\"text_3\">\n      <!-- 6 -->\n      <g transform=\"translate(135.421875 160.398438) scale(0.1 -0.1)\">\n       <defs>\n        <path id=\"DejaVuSans-36\" d=\"M 2113 2584 \nQ 1688 2584 1439 2293 \nQ 1191 2003 1191 1497 \nQ 1191 994 1439 701 \nQ 1688 409 2113 409 \nQ 2538 409 2786 701 \nQ 3034 994 3034 1497 \nQ 3034 2003 2786 2293 \nQ 2538 2584 2113 2584 \nz\nM 3366 4563 \nL 3366 3988 \nQ 3128 4100 2886 4159 \nQ 2644 4219 2406 4219 \nQ 1781 4219 1451 3797 \nQ 1122 3375 1075 2522 \nQ 1259 2794 1537 2939 \nQ 1816 3084 2150 3084 \nQ 2853 3084 3261 2657 \nQ 3669 2231 3669 1497 \nQ 3669 778 3244 343 \nQ 2819 -91 2113 -91 \nQ 1303 -91 875 529 \nQ 447 1150 447 2328 \nQ 447 3434 972 4092 \nQ 1497 4750 2381 4750 \nQ 2619 4750 2861 4703 \nQ 3103 4656 3366 4563 \nz\n\" transform=\"scale(0.015625)\"/>\n       </defs>\n       <use xlink:href=\"#DejaVuSans-36\"/>\n      </g>\n     </g>\n    </g>\n    <g id=\"xtick_4\">\n     <g id=\"line2d_7\">\n      <path d=\"M 182.003125 145.8 \nL 182.003125 7.2 \n\" clip-path=\"url(#p9a55d230e5)\" style=\"fill: none; stroke: #b0b0b0; stroke-width: 0.8; stroke-linecap: square\"/>\n     </g>\n     <g id=\"line2d_8\">\n      <g>\n       <use xlink:href=\"#mb2f3122c1d\" x=\"182.003125\" y=\"145.8\" style=\"stroke: #000000; stroke-width: 0.8\"/>\n      </g>\n     </g>\n     <g id=\"text_4\">\n      <!-- 8 -->\n      <g transform=\"translate(178.821875 160.398438) scale(0.1 -0.1)\">\n       <defs>\n        <path id=\"DejaVuSans-38\" d=\"M 2034 2216 \nQ 1584 2216 1326 1975 \nQ 1069 1734 1069 1313 \nQ 1069 891 1326 650 \nQ 1584 409 2034 409 \nQ 2484 409 2743 651 \nQ 3003 894 3003 1313 \nQ 3003 1734 2745 1975 \nQ 2488 2216 2034 2216 \nz\nM 1403 2484 \nQ 997 2584 770 2862 \nQ 544 3141 544 3541 \nQ 544 4100 942 4425 \nQ 1341 4750 2034 4750 \nQ 2731 4750 3128 4425 \nQ 3525 4100 3525 3541 \nQ 3525 3141 3298 2862 \nQ 3072 2584 2669 2484 \nQ 3125 2378 3379 2068 \nQ 3634 1759 3634 1313 \nQ 3634 634 3220 271 \nQ 2806 -91 2034 -91 \nQ 1263 -91 848 271 \nQ 434 634 434 1313 \nQ 434 1759 690 2068 \nQ 947 2378 1403 2484 \nz\nM 1172 3481 \nQ 1172 3119 1398 2916 \nQ 1625 2713 2034 2713 \nQ 2441 2713 2670 2916 \nQ 2900 3119 2900 3481 \nQ 2900 3844 2670 4047 \nQ 2441 4250 2034 4250 \nQ 1625 4250 1398 4047 \nQ 1172 3844 1172 3481 \nz\n\" transform=\"scale(0.015625)\"/>\n       </defs>\n       <use xlink:href=\"#DejaVuSans-38\"/>\n      </g>\n     </g>\n    </g>\n    <g id=\"xtick_5\">\n     <g id=\"line2d_9\">\n      <path d=\"M 225.403125 145.8 \nL 225.403125 7.2 \n\" clip-path=\"url(#p9a55d230e5)\" style=\"fill: none; stroke: #b0b0b0; stroke-width: 0.8; stroke-linecap: square\"/>\n     </g>\n     <g id=\"line2d_10\">\n      <g>\n       <use xlink:href=\"#mb2f3122c1d\" x=\"225.403125\" y=\"145.8\" style=\"stroke: #000000; stroke-width: 0.8\"/>\n      </g>\n     </g>\n     <g id=\"text_5\">\n      <!-- 10 -->\n      <g transform=\"translate(219.040625 160.398438) scale(0.1 -0.1)\">\n       <defs>\n        <path id=\"DejaVuSans-31\" d=\"M 794 531 \nL 1825 531 \nL 1825 4091 \nL 703 3866 \nL 703 4441 \nL 1819 4666 \nL 2450 4666 \nL 2450 531 \nL 3481 531 \nL 3481 0 \nL 794 0 \nL 794 531 \nz\n\" transform=\"scale(0.015625)\"/>\n        <path id=\"DejaVuSans-30\" d=\"M 2034 4250 \nQ 1547 4250 1301 3770 \nQ 1056 3291 1056 2328 \nQ 1056 1369 1301 889 \nQ 1547 409 2034 409 \nQ 2525 409 2770 889 \nQ 3016 1369 3016 2328 \nQ 3016 3291 2770 3770 \nQ 2525 4250 2034 4250 \nz\nM 2034 4750 \nQ 2819 4750 3233 4129 \nQ 3647 3509 3647 2328 \nQ 3647 1150 3233 529 \nQ 2819 -91 2034 -91 \nQ 1250 -91 836 529 \nQ 422 1150 422 2328 \nQ 422 3509 836 4129 \nQ 1250 4750 2034 4750 \nz\n\" transform=\"scale(0.015625)\"/>\n       </defs>\n       <use xlink:href=\"#DejaVuSans-31\"/>\n       <use xlink:href=\"#DejaVuSans-30\" x=\"63.623047\"/>\n      </g>\n     </g>\n    </g>\n    <g id=\"text_6\">\n     <!-- epoch -->\n     <g transform=\"translate(112.525 174.076563) scale(0.1 -0.1)\">\n      <defs>\n       <path id=\"DejaVuSans-65\" d=\"M 3597 1894 \nL 3597 1613 \nL 953 1613 \nQ 991 1019 1311 708 \nQ 1631 397 2203 397 \nQ 2534 397 2845 478 \nQ 3156 559 3463 722 \nL 3463 178 \nQ 3153 47 2828 -22 \nQ 2503 -91 2169 -91 \nQ 1331 -91 842 396 \nQ 353 884 353 1716 \nQ 353 2575 817 3079 \nQ 1281 3584 2069 3584 \nQ 2775 3584 3186 3129 \nQ 3597 2675 3597 1894 \nz\nM 3022 2063 \nQ 3016 2534 2758 2815 \nQ 2500 3097 2075 3097 \nQ 1594 3097 1305 2825 \nQ 1016 2553 972 2059 \nL 3022 2063 \nz\n\" transform=\"scale(0.015625)\"/>\n       <path id=\"DejaVuSans-70\" d=\"M 1159 525 \nL 1159 -1331 \nL 581 -1331 \nL 581 3500 \nL 1159 3500 \nL 1159 2969 \nQ 1341 3281 1617 3432 \nQ 1894 3584 2278 3584 \nQ 2916 3584 3314 3078 \nQ 3713 2572 3713 1747 \nQ 3713 922 3314 415 \nQ 2916 -91 2278 -91 \nQ 1894 -91 1617 61 \nQ 1341 213 1159 525 \nz\nM 3116 1747 \nQ 3116 2381 2855 2742 \nQ 2594 3103 2138 3103 \nQ 1681 3103 1420 2742 \nQ 1159 2381 1159 1747 \nQ 1159 1113 1420 752 \nQ 1681 391 2138 391 \nQ 2594 391 2855 752 \nQ 3116 1113 3116 1747 \nz\n\" transform=\"scale(0.015625)\"/>\n       <path id=\"DejaVuSans-6f\" d=\"M 1959 3097 \nQ 1497 3097 1228 2736 \nQ 959 2375 959 1747 \nQ 959 1119 1226 758 \nQ 1494 397 1959 397 \nQ 2419 397 2687 759 \nQ 2956 1122 2956 1747 \nQ 2956 2369 2687 2733 \nQ 2419 3097 1959 3097 \nz\nM 1959 3584 \nQ 2709 3584 3137 3096 \nQ 3566 2609 3566 1747 \nQ 3566 888 3137 398 \nQ 2709 -91 1959 -91 \nQ 1206 -91 779 398 \nQ 353 888 353 1747 \nQ 353 2609 779 3096 \nQ 1206 3584 1959 3584 \nz\n\" transform=\"scale(0.015625)\"/>\n       <path id=\"DejaVuSans-63\" d=\"M 3122 3366 \nL 3122 2828 \nQ 2878 2963 2633 3030 \nQ 2388 3097 2138 3097 \nQ 1578 3097 1268 2742 \nQ 959 2388 959 1747 \nQ 959 1106 1268 751 \nQ 1578 397 2138 397 \nQ 2388 397 2633 464 \nQ 2878 531 3122 666 \nL 3122 134 \nQ 2881 22 2623 -34 \nQ 2366 -91 2075 -91 \nQ 1284 -91 818 406 \nQ 353 903 353 1747 \nQ 353 2603 823 3093 \nQ 1294 3584 2113 3584 \nQ 2378 3584 2631 3529 \nQ 2884 3475 3122 3366 \nz\n\" transform=\"scale(0.015625)\"/>\n       <path id=\"DejaVuSans-68\" d=\"M 3513 2113 \nL 3513 0 \nL 2938 0 \nL 2938 2094 \nQ 2938 2591 2744 2837 \nQ 2550 3084 2163 3084 \nQ 1697 3084 1428 2787 \nQ 1159 2491 1159 1978 \nL 1159 0 \nL 581 0 \nL 581 4863 \nL 1159 4863 \nL 1159 2956 \nQ 1366 3272 1645 3428 \nQ 1925 3584 2291 3584 \nQ 2894 3584 3203 3211 \nQ 3513 2838 3513 2113 \nz\n\" transform=\"scale(0.015625)\"/>\n      </defs>\n      <use xlink:href=\"#DejaVuSans-65\"/>\n      <use xlink:href=\"#DejaVuSans-70\" x=\"61.523438\"/>\n      <use xlink:href=\"#DejaVuSans-6f\" x=\"125\"/>\n      <use xlink:href=\"#DejaVuSans-63\" x=\"186.181641\"/>\n      <use xlink:href=\"#DejaVuSans-68\" x=\"241.162109\"/>\n     </g>\n    </g>\n   </g>\n   <g id=\"matplotlib.axis_2\">\n    <g id=\"ytick_1\">\n     <g id=\"line2d_11\">\n      <path d=\"M 30.103125 122.7 \nL 225.403125 122.7 \n\" clip-path=\"url(#p9a55d230e5)\" style=\"fill: none; stroke: #b0b0b0; stroke-width: 0.8; stroke-linecap: square\"/>\n     </g>\n     <g id=\"line2d_12\">\n      <defs>\n       <path id=\"me6bc0be0c5\" d=\"M 0 0 \nL -3.5 0 \n\" style=\"stroke: #000000; stroke-width: 0.8\"/>\n      </defs>\n      <g>\n       <use xlink:href=\"#me6bc0be0c5\" x=\"30.103125\" y=\"122.7\" style=\"stroke: #000000; stroke-width: 0.8\"/>\n      </g>\n     </g>\n     <g id=\"text_7\">\n      <!-- 0.4 -->\n      <g transform=\"translate(7.2 126.499219) scale(0.1 -0.1)\">\n       <defs>\n        <path id=\"DejaVuSans-2e\" d=\"M 684 794 \nL 1344 794 \nL 1344 0 \nL 684 0 \nL 684 794 \nz\n\" transform=\"scale(0.015625)\"/>\n       </defs>\n       <use xlink:href=\"#DejaVuSans-30\"/>\n       <use xlink:href=\"#DejaVuSans-2e\" x=\"63.623047\"/>\n       <use xlink:href=\"#DejaVuSans-34\" x=\"95.410156\"/>\n      </g>\n     </g>\n    </g>\n    <g id=\"ytick_2\">\n     <g id=\"line2d_13\">\n      <path d=\"M 30.103125 76.5 \nL 225.403125 76.5 \n\" clip-path=\"url(#p9a55d230e5)\" style=\"fill: none; stroke: #b0b0b0; stroke-width: 0.8; stroke-linecap: square\"/>\n     </g>\n     <g id=\"line2d_14\">\n      <g>\n       <use xlink:href=\"#me6bc0be0c5\" x=\"30.103125\" y=\"76.5\" style=\"stroke: #000000; stroke-width: 0.8\"/>\n      </g>\n     </g>\n     <g id=\"text_8\">\n      <!-- 0.6 -->\n      <g transform=\"translate(7.2 80.299219) scale(0.1 -0.1)\">\n       <use xlink:href=\"#DejaVuSans-30\"/>\n       <use xlink:href=\"#DejaVuSans-2e\" x=\"63.623047\"/>\n       <use xlink:href=\"#DejaVuSans-36\" x=\"95.410156\"/>\n      </g>\n     </g>\n    </g>\n    <g id=\"ytick_3\">\n     <g id=\"line2d_15\">\n      <path d=\"M 30.103125 30.3 \nL 225.403125 30.3 \n\" clip-path=\"url(#p9a55d230e5)\" style=\"fill: none; stroke: #b0b0b0; stroke-width: 0.8; stroke-linecap: square\"/>\n     </g>\n     <g id=\"line2d_16\">\n      <g>\n       <use xlink:href=\"#me6bc0be0c5\" x=\"30.103125\" y=\"30.3\" style=\"stroke: #000000; stroke-width: 0.8\"/>\n      </g>\n     </g>\n     <g id=\"text_9\">\n      <!-- 0.8 -->\n      <g transform=\"translate(7.2 34.099219) scale(0.1 -0.1)\">\n       <use xlink:href=\"#DejaVuSans-30\"/>\n       <use xlink:href=\"#DejaVuSans-2e\" x=\"63.623047\"/>\n       <use xlink:href=\"#DejaVuSans-38\" x=\"95.410156\"/>\n      </g>\n     </g>\n    </g>\n   </g>\n   <g id=\"line2d_17\">\n    <path d=\"M 30.103125 33.810975 \nL 51.803125 83.283583 \nL 73.503125 93.660103 \nL 95.203125 99.336352 \nL 116.903125 102.897625 \nL 138.603125 105.659616 \nL 160.303125 107.62558 \nL 182.003125 109.456051 \nL 203.703125 110.706095 \nL 225.403125 111.818972 \n\" clip-path=\"url(#p9a55d230e5)\" style=\"fill: none; stroke: #1f77b4; stroke-width: 1.5; stroke-linecap: square\"/>\n   </g>\n   <g id=\"line2d_18\">\n    <path d=\"M 30.103125 41.696 \nL 51.803125 27.51645 \nL 73.503125 24.43645 \nL 95.203125 22.91185 \nL 116.903125 21.84925 \nL 138.603125 21.15625 \nL 160.303125 20.5056 \nL 182.003125 20.0667 \nL 203.703125 19.69325 \nL 225.403125 19.23125 \n\" clip-path=\"url(#p9a55d230e5)\" style=\"fill: none; stroke-dasharray: 5.55,2.4; stroke-dashoffset: 0; stroke: #bf00bf; stroke-width: 1.5\"/>\n   </g>\n   <g id=\"line2d_19\">\n    <path d=\"M 30.103125 35.1048 \nL 51.803125 30.762 \nL 73.503125 25.7493 \nL 95.203125 24.8946 \nL 116.903125 25.4952 \nL 138.603125 26.0034 \nL 160.303125 23.2314 \nL 182.003125 25.5645 \nL 203.703125 22.8156 \nL 225.403125 23.0928 \n\" clip-path=\"url(#p9a55d230e5)\" style=\"fill: none; stroke-dasharray: 9.6,2.4,1.5,2.4; stroke-dashoffset: 0; stroke: #008000; stroke-width: 1.5\"/>\n   </g>\n   <g id=\"patch_3\">\n    <path d=\"M 30.103125 145.8 \nL 30.103125 7.2 \n\" style=\"fill: none; stroke: #000000; stroke-width: 0.8; stroke-linejoin: miter; stroke-linecap: square\"/>\n   </g>\n   <g id=\"patch_4\">\n    <path d=\"M 225.403125 145.8 \nL 225.403125 7.2 \n\" style=\"fill: none; stroke: #000000; stroke-width: 0.8; stroke-linejoin: miter; stroke-linecap: square\"/>\n   </g>\n   <g id=\"patch_5\">\n    <path d=\"M 30.103125 145.8 \nL 225.403125 145.8 \n\" style=\"fill: none; stroke: #000000; stroke-width: 0.8; stroke-linejoin: miter; stroke-linecap: square\"/>\n   </g>\n   <g id=\"patch_6\">\n    <path d=\"M 30.103125 7.2 \nL 225.403125 7.2 \n\" style=\"fill: none; stroke: #000000; stroke-width: 0.8; stroke-linejoin: miter; stroke-linecap: square\"/>\n   </g>\n   <g id=\"legend_1\">\n    <g id=\"patch_7\">\n     <path d=\"M 140.634375 100.017188 \nL 218.403125 100.017188 \nQ 220.403125 100.017188 220.403125 98.017188 \nL 220.403125 54.982812 \nQ 220.403125 52.982812 218.403125 52.982812 \nL 140.634375 52.982812 \nQ 138.634375 52.982812 138.634375 54.982812 \nL 138.634375 98.017188 \nQ 138.634375 100.017188 140.634375 100.017188 \nz\n\" style=\"fill: #ffffff; opacity: 0.8; stroke: #cccccc; stroke-linejoin: miter\"/>\n    </g>\n    <g id=\"line2d_20\">\n     <path d=\"M 142.634375 61.08125 \nL 152.634375 61.08125 \nL 162.634375 61.08125 \n\" style=\"fill: none; stroke: #1f77b4; stroke-width: 1.5; stroke-linecap: square\"/>\n    </g>\n    <g id=\"text_10\">\n     <!-- train loss -->\n     <g transform=\"translate(170.634375 64.58125) scale(0.1 -0.1)\">\n      <defs>\n       <path id=\"DejaVuSans-74\" d=\"M 1172 4494 \nL 1172 3500 \nL 2356 3500 \nL 2356 3053 \nL 1172 3053 \nL 1172 1153 \nQ 1172 725 1289 603 \nQ 1406 481 1766 481 \nL 2356 481 \nL 2356 0 \nL 1766 0 \nQ 1100 0 847 248 \nQ 594 497 594 1153 \nL 594 3053 \nL 172 3053 \nL 172 3500 \nL 594 3500 \nL 594 4494 \nL 1172 4494 \nz\n\" transform=\"scale(0.015625)\"/>\n       <path id=\"DejaVuSans-72\" d=\"M 2631 2963 \nQ 2534 3019 2420 3045 \nQ 2306 3072 2169 3072 \nQ 1681 3072 1420 2755 \nQ 1159 2438 1159 1844 \nL 1159 0 \nL 581 0 \nL 581 3500 \nL 1159 3500 \nL 1159 2956 \nQ 1341 3275 1631 3429 \nQ 1922 3584 2338 3584 \nQ 2397 3584 2469 3576 \nQ 2541 3569 2628 3553 \nL 2631 2963 \nz\n\" transform=\"scale(0.015625)\"/>\n       <path id=\"DejaVuSans-61\" d=\"M 2194 1759 \nQ 1497 1759 1228 1600 \nQ 959 1441 959 1056 \nQ 959 750 1161 570 \nQ 1363 391 1709 391 \nQ 2188 391 2477 730 \nQ 2766 1069 2766 1631 \nL 2766 1759 \nL 2194 1759 \nz\nM 3341 1997 \nL 3341 0 \nL 2766 0 \nL 2766 531 \nQ 2569 213 2275 61 \nQ 1981 -91 1556 -91 \nQ 1019 -91 701 211 \nQ 384 513 384 1019 \nQ 384 1609 779 1909 \nQ 1175 2209 1959 2209 \nL 2766 2209 \nL 2766 2266 \nQ 2766 2663 2505 2880 \nQ 2244 3097 1772 3097 \nQ 1472 3097 1187 3025 \nQ 903 2953 641 2809 \nL 641 3341 \nQ 956 3463 1253 3523 \nQ 1550 3584 1831 3584 \nQ 2591 3584 2966 3190 \nQ 3341 2797 3341 1997 \nz\n\" transform=\"scale(0.015625)\"/>\n       <path id=\"DejaVuSans-69\" d=\"M 603 3500 \nL 1178 3500 \nL 1178 0 \nL 603 0 \nL 603 3500 \nz\nM 603 4863 \nL 1178 4863 \nL 1178 4134 \nL 603 4134 \nL 603 4863 \nz\n\" transform=\"scale(0.015625)\"/>\n       <path id=\"DejaVuSans-6e\" d=\"M 3513 2113 \nL 3513 0 \nL 2938 0 \nL 2938 2094 \nQ 2938 2591 2744 2837 \nQ 2550 3084 2163 3084 \nQ 1697 3084 1428 2787 \nQ 1159 2491 1159 1978 \nL 1159 0 \nL 581 0 \nL 581 3500 \nL 1159 3500 \nL 1159 2956 \nQ 1366 3272 1645 3428 \nQ 1925 3584 2291 3584 \nQ 2894 3584 3203 3211 \nQ 3513 2838 3513 2113 \nz\n\" transform=\"scale(0.015625)\"/>\n       <path id=\"DejaVuSans-20\" transform=\"scale(0.015625)\"/>\n       <path id=\"DejaVuSans-6c\" d=\"M 603 4863 \nL 1178 4863 \nL 1178 0 \nL 603 0 \nL 603 4863 \nz\n\" transform=\"scale(0.015625)\"/>\n       <path id=\"DejaVuSans-73\" d=\"M 2834 3397 \nL 2834 2853 \nQ 2591 2978 2328 3040 \nQ 2066 3103 1784 3103 \nQ 1356 3103 1142 2972 \nQ 928 2841 928 2578 \nQ 928 2378 1081 2264 \nQ 1234 2150 1697 2047 \nL 1894 2003 \nQ 2506 1872 2764 1633 \nQ 3022 1394 3022 966 \nQ 3022 478 2636 193 \nQ 2250 -91 1575 -91 \nQ 1294 -91 989 -36 \nQ 684 19 347 128 \nL 347 722 \nQ 666 556 975 473 \nQ 1284 391 1588 391 \nQ 1994 391 2212 530 \nQ 2431 669 2431 922 \nQ 2431 1156 2273 1281 \nQ 2116 1406 1581 1522 \nL 1381 1569 \nQ 847 1681 609 1914 \nQ 372 2147 372 2553 \nQ 372 3047 722 3315 \nQ 1072 3584 1716 3584 \nQ 2034 3584 2315 3537 \nQ 2597 3491 2834 3397 \nz\n\" transform=\"scale(0.015625)\"/>\n      </defs>\n      <use xlink:href=\"#DejaVuSans-74\"/>\n      <use xlink:href=\"#DejaVuSans-72\" x=\"39.208984\"/>\n      <use xlink:href=\"#DejaVuSans-61\" x=\"80.322266\"/>\n      <use xlink:href=\"#DejaVuSans-69\" x=\"141.601562\"/>\n      <use xlink:href=\"#DejaVuSans-6e\" x=\"169.384766\"/>\n      <use xlink:href=\"#DejaVuSans-20\" x=\"232.763672\"/>\n      <use xlink:href=\"#DejaVuSans-6c\" x=\"264.550781\"/>\n      <use xlink:href=\"#DejaVuSans-6f\" x=\"292.333984\"/>\n      <use xlink:href=\"#DejaVuSans-73\" x=\"353.515625\"/>\n      <use xlink:href=\"#DejaVuSans-73\" x=\"405.615234\"/>\n     </g>\n    </g>\n    <g id=\"line2d_21\">\n     <path d=\"M 142.634375 75.759375 \nL 152.634375 75.759375 \nL 162.634375 75.759375 \n\" style=\"fill: none; stroke-dasharray: 5.55,2.4; stroke-dashoffset: 0; stroke: #bf00bf; stroke-width: 1.5\"/>\n    </g>\n    <g id=\"text_11\">\n     <!-- train acc -->\n     <g transform=\"translate(170.634375 79.259375) scale(0.1 -0.1)\">\n      <use xlink:href=\"#DejaVuSans-74\"/>\n      <use xlink:href=\"#DejaVuSans-72\" x=\"39.208984\"/>\n      <use xlink:href=\"#DejaVuSans-61\" x=\"80.322266\"/>\n      <use xlink:href=\"#DejaVuSans-69\" x=\"141.601562\"/>\n      <use xlink:href=\"#DejaVuSans-6e\" x=\"169.384766\"/>\n      <use xlink:href=\"#DejaVuSans-20\" x=\"232.763672\"/>\n      <use xlink:href=\"#DejaVuSans-61\" x=\"264.550781\"/>\n      <use xlink:href=\"#DejaVuSans-63\" x=\"325.830078\"/>\n      <use xlink:href=\"#DejaVuSans-63\" x=\"380.810547\"/>\n     </g>\n    </g>\n    <g id=\"line2d_22\">\n     <path d=\"M 142.634375 90.4375 \nL 152.634375 90.4375 \nL 162.634375 90.4375 \n\" style=\"fill: none; stroke-dasharray: 9.6,2.4,1.5,2.4; stroke-dashoffset: 0; stroke: #008000; stroke-width: 1.5\"/>\n    </g>\n    <g id=\"text_12\">\n     <!-- test acc -->\n     <g transform=\"translate(170.634375 93.9375) scale(0.1 -0.1)\">\n      <use xlink:href=\"#DejaVuSans-74\"/>\n      <use xlink:href=\"#DejaVuSans-65\" x=\"39.208984\"/>\n      <use xlink:href=\"#DejaVuSans-73\" x=\"100.732422\"/>\n      <use xlink:href=\"#DejaVuSans-74\" x=\"152.832031\"/>\n      <use xlink:href=\"#DejaVuSans-20\" x=\"192.041016\"/>\n      <use xlink:href=\"#DejaVuSans-61\" x=\"223.828125\"/>\n      <use xlink:href=\"#DejaVuSans-63\" x=\"285.107422\"/>\n      <use xlink:href=\"#DejaVuSans-63\" x=\"340.087891\"/>\n     </g>\n    </g>\n   </g>\n  </g>\n </g>\n <defs>\n  <clipPath id=\"p9a55d230e5\">\n   <rect x=\"30.103125\" y=\"7.2\" width=\"195.3\" height=\"138.6\"/>\n  </clipPath>\n </defs>\n</svg>\n"
          },
          "metadata": {}
        }
      ]
    },
    {
      "cell_type": "markdown",
      "source": [
        "### 预测"
      ],
      "metadata": {
        "id": "WLsOi_vYMEYo"
      }
    },
    {
      "cell_type": "code",
      "source": [
        "def predict_ch3(net, test_iter, n=6):\n",
        "    \"\"\"预测标签（定义见第3章）\"\"\"\n",
        "    for X, y in test_iter:\n",
        "        break\n",
        "    trues = d2l.get_fashion_mnist_labels(y)\n",
        "    preds = d2l.get_fashion_mnist_labels(net(X).argmax(axis=1))\n",
        "    titles = [true +'\\n' + pred for true, pred in zip(trues, preds)]\n",
        "    d2l.show_images(\n",
        "        X[0:n].reshape((n, 28, 28)), 1, n, titles=titles[0:n])\n",
        "\n",
        "predict_ch3(net, test_iter)"
      ],
      "metadata": {
        "colab": {
          "base_uri": "https://localhost:8080/",
          "height": 174
        },
        "id": "NM_qu8V2MHCA",
        "outputId": "d92bd01c-de6e-4bc9-c566-f1b787585efd"
      },
      "execution_count": 57,
      "outputs": [
        {
          "output_type": "display_data",
          "data": {
            "text/plain": [
              "<Figure size 900x150 with 6 Axes>"
            ],
            "image/svg+xml": "<?xml version=\"1.0\" encoding=\"utf-8\" standalone=\"no\"?>\n<!DOCTYPE svg PUBLIC \"-//W3C//DTD SVG 1.1//EN\"\n  \"http://www.w3.org/Graphics/SVG/1.1/DTD/svg11.dtd\">\n<svg xmlns:xlink=\"http://www.w3.org/1999/xlink\" width=\"516.6pt\" height=\"114.698357pt\" viewBox=\"0 0 516.6 114.698357\" xmlns=\"http://www.w3.org/2000/svg\" version=\"1.1\">\n <metadata>\n  <rdf:RDF xmlns:dc=\"http://purl.org/dc/elements/1.1/\" xmlns:cc=\"http://creativecommons.org/ns#\" xmlns:rdf=\"http://www.w3.org/1999/02/22-rdf-syntax-ns#\">\n   <cc:Work>\n    <dc:type rdf:resource=\"http://purl.org/dc/dcmitype/StillImage\"/>\n    <dc:date>2024-06-14T14:39:33.635780</dc:date>\n    <dc:format>image/svg+xml</dc:format>\n    <dc:creator>\n     <cc:Agent>\n      <dc:title>Matplotlib v3.7.2, https://matplotlib.org/</dc:title>\n     </cc:Agent>\n    </dc:creator>\n   </cc:Work>\n  </rdf:RDF>\n </metadata>\n <defs>\n  <style type=\"text/css\">*{stroke-linejoin: round; stroke-linecap: butt}</style>\n </defs>\n <g id=\"figure_1\">\n  <g id=\"patch_1\">\n   <path d=\"M 0 114.698357 \nL 516.6 114.698357 \nL 516.6 0 \nL 0 0 \nz\n\" style=\"fill: #ffffff\"/>\n  </g>\n  <g id=\"axes_1\">\n   <g id=\"patch_2\">\n    <path d=\"M 7.2 107.498357 \nL 78.942857 107.498357 \nL 78.942857 35.7555 \nL 7.2 35.7555 \nz\n\" style=\"fill: #ffffff\"/>\n   </g>\n   <g clip-path=\"url(#p855ebb2cb8)\">\n    <image xlink:href=\"data:image/png;base64,\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\" id=\"image82078e7379\" transform=\"scale(1 -1) translate(0 -72)\" x=\"7.2\" y=\"-35.498357\" width=\"72\" height=\"72\"/>\n   </g>\n   <g id=\"patch_3\">\n    <path d=\"M 7.2 107.498357 \nL 7.2 35.7555 \n\" style=\"fill: none; stroke: #000000; stroke-width: 0.8; stroke-linejoin: miter; stroke-linecap: square\"/>\n   </g>\n   <g id=\"patch_4\">\n    <path d=\"M 78.942857 107.498357 \nL 78.942857 35.7555 \n\" style=\"fill: none; stroke: #000000; stroke-width: 0.8; stroke-linejoin: miter; stroke-linecap: square\"/>\n   </g>\n   <g id=\"patch_5\">\n    <path d=\"M 7.2 107.498357 \nL 78.942857 107.498357 \n\" style=\"fill: none; stroke: #000000; stroke-width: 0.8; stroke-linejoin: miter; stroke-linecap: square\"/>\n   </g>\n   <g id=\"patch_6\">\n    <path d=\"M 7.2 35.7555 \nL 78.942857 35.7555 \n\" style=\"fill: none; stroke: #000000; stroke-width: 0.8; stroke-linejoin: miter; stroke-linecap: square\"/>\n   </g>\n   <g id=\"text_1\">\n    <!-- ankle boot -->\n    <g transform=\"translate(11.348304 16.318125) scale(0.12 -0.12)\">\n     <defs>\n      <path id=\"DejaVuSans-61\" d=\"M 2194 1759 \nQ 1497 1759 1228 1600 \nQ 959 1441 959 1056 \nQ 959 750 1161 570 \nQ 1363 391 1709 391 \nQ 2188 391 2477 730 \nQ 2766 1069 2766 1631 \nL 2766 1759 \nL 2194 1759 \nz\nM 3341 1997 \nL 3341 0 \nL 2766 0 \nL 2766 531 \nQ 2569 213 2275 61 \nQ 1981 -91 1556 -91 \nQ 1019 -91 701 211 \nQ 384 513 384 1019 \nQ 384 1609 779 1909 \nQ 1175 2209 1959 2209 \nL 2766 2209 \nL 2766 2266 \nQ 2766 2663 2505 2880 \nQ 2244 3097 1772 3097 \nQ 1472 3097 1187 3025 \nQ 903 2953 641 2809 \nL 641 3341 \nQ 956 3463 1253 3523 \nQ 1550 3584 1831 3584 \nQ 2591 3584 2966 3190 \nQ 3341 2797 3341 1997 \nz\n\" transform=\"scale(0.015625)\"/>\n      <path id=\"DejaVuSans-6e\" d=\"M 3513 2113 \nL 3513 0 \nL 2938 0 \nL 2938 2094 \nQ 2938 2591 2744 2837 \nQ 2550 3084 2163 3084 \nQ 1697 3084 1428 2787 \nQ 1159 2491 1159 1978 \nL 1159 0 \nL 581 0 \nL 581 3500 \nL 1159 3500 \nL 1159 2956 \nQ 1366 3272 1645 3428 \nQ 1925 3584 2291 3584 \nQ 2894 3584 3203 3211 \nQ 3513 2838 3513 2113 \nz\n\" transform=\"scale(0.015625)\"/>\n      <path id=\"DejaVuSans-6b\" d=\"M 581 4863 \nL 1159 4863 \nL 1159 1991 \nL 2875 3500 \nL 3609 3500 \nL 1753 1863 \nL 3688 0 \nL 2938 0 \nL 1159 1709 \nL 1159 0 \nL 581 0 \nL 581 4863 \nz\n\" transform=\"scale(0.015625)\"/>\n      <path id=\"DejaVuSans-6c\" d=\"M 603 4863 \nL 1178 4863 \nL 1178 0 \nL 603 0 \nL 603 4863 \nz\n\" transform=\"scale(0.015625)\"/>\n      <path id=\"DejaVuSans-65\" d=\"M 3597 1894 \nL 3597 1613 \nL 953 1613 \nQ 991 1019 1311 708 \nQ 1631 397 2203 397 \nQ 2534 397 2845 478 \nQ 3156 559 3463 722 \nL 3463 178 \nQ 3153 47 2828 -22 \nQ 2503 -91 2169 -91 \nQ 1331 -91 842 396 \nQ 353 884 353 1716 \nQ 353 2575 817 3079 \nQ 1281 3584 2069 3584 \nQ 2775 3584 3186 3129 \nQ 3597 2675 3597 1894 \nz\nM 3022 2063 \nQ 3016 2534 2758 2815 \nQ 2500 3097 2075 3097 \nQ 1594 3097 1305 2825 \nQ 1016 2553 972 2059 \nL 3022 2063 \nz\n\" transform=\"scale(0.015625)\"/>\n      <path id=\"DejaVuSans-20\" transform=\"scale(0.015625)\"/>\n      <path id=\"DejaVuSans-62\" d=\"M 3116 1747 \nQ 3116 2381 2855 2742 \nQ 2594 3103 2138 3103 \nQ 1681 3103 1420 2742 \nQ 1159 2381 1159 1747 \nQ 1159 1113 1420 752 \nQ 1681 391 2138 391 \nQ 2594 391 2855 752 \nQ 3116 1113 3116 1747 \nz\nM 1159 2969 \nQ 1341 3281 1617 3432 \nQ 1894 3584 2278 3584 \nQ 2916 3584 3314 3078 \nQ 3713 2572 3713 1747 \nQ 3713 922 3314 415 \nQ 2916 -91 2278 -91 \nQ 1894 -91 1617 61 \nQ 1341 213 1159 525 \nL 1159 0 \nL 581 0 \nL 581 4863 \nL 1159 4863 \nL 1159 2969 \nz\n\" transform=\"scale(0.015625)\"/>\n      <path id=\"DejaVuSans-6f\" d=\"M 1959 3097 \nQ 1497 3097 1228 2736 \nQ 959 2375 959 1747 \nQ 959 1119 1226 758 \nQ 1494 397 1959 397 \nQ 2419 397 2687 759 \nQ 2956 1122 2956 1747 \nQ 2956 2369 2687 2733 \nQ 2419 3097 1959 3097 \nz\nM 1959 3584 \nQ 2709 3584 3137 3096 \nQ 3566 2609 3566 1747 \nQ 3566 888 3137 398 \nQ 2709 -91 1959 -91 \nQ 1206 -91 779 398 \nQ 353 888 353 1747 \nQ 353 2609 779 3096 \nQ 1206 3584 1959 3584 \nz\n\" transform=\"scale(0.015625)\"/>\n      <path id=\"DejaVuSans-74\" d=\"M 1172 4494 \nL 1172 3500 \nL 2356 3500 \nL 2356 3053 \nL 1172 3053 \nL 1172 1153 \nQ 1172 725 1289 603 \nQ 1406 481 1766 481 \nL 2356 481 \nL 2356 0 \nL 1766 0 \nQ 1100 0 847 248 \nQ 594 497 594 1153 \nL 594 3053 \nL 172 3053 \nL 172 3500 \nL 594 3500 \nL 594 4494 \nL 1172 4494 \nz\n\" transform=\"scale(0.015625)\"/>\n     </defs>\n     <use xlink:href=\"#DejaVuSans-61\"/>\n     <use xlink:href=\"#DejaVuSans-6e\" x=\"61.279297\"/>\n     <use xlink:href=\"#DejaVuSans-6b\" x=\"124.658203\"/>\n     <use xlink:href=\"#DejaVuSans-6c\" x=\"182.568359\"/>\n     <use xlink:href=\"#DejaVuSans-65\" x=\"210.351562\"/>\n     <use xlink:href=\"#DejaVuSans-20\" x=\"271.875\"/>\n     <use xlink:href=\"#DejaVuSans-62\" x=\"303.662109\"/>\n     <use xlink:href=\"#DejaVuSans-6f\" x=\"367.138672\"/>\n     <use xlink:href=\"#DejaVuSans-6f\" x=\"428.320312\"/>\n     <use xlink:href=\"#DejaVuSans-74\" x=\"489.501953\"/>\n    </g>\n    <!-- ankle boot -->\n    <g transform=\"translate(11.348304 29.7555) scale(0.12 -0.12)\">\n     <use xlink:href=\"#DejaVuSans-61\"/>\n     <use xlink:href=\"#DejaVuSans-6e\" x=\"61.279297\"/>\n     <use xlink:href=\"#DejaVuSans-6b\" x=\"124.658203\"/>\n     <use xlink:href=\"#DejaVuSans-6c\" x=\"182.568359\"/>\n     <use xlink:href=\"#DejaVuSans-65\" x=\"210.351562\"/>\n     <use xlink:href=\"#DejaVuSans-20\" x=\"271.875\"/>\n     <use xlink:href=\"#DejaVuSans-62\" x=\"303.662109\"/>\n     <use xlink:href=\"#DejaVuSans-6f\" x=\"367.138672\"/>\n     <use xlink:href=\"#DejaVuSans-6f\" x=\"428.320312\"/>\n     <use xlink:href=\"#DejaVuSans-74\" x=\"489.501953\"/>\n    </g>\n   </g>\n  </g>\n  <g id=\"axes_2\">\n   <g id=\"patch_7\">\n    <path d=\"M 93.291429 107.498357 \nL 165.034286 107.498357 \nL 165.034286 35.7555 \nL 93.291429 35.7555 \nz\n\" style=\"fill: #ffffff\"/>\n   </g>\n   <g clip-path=\"url(#p8f853255ba)\">\n    <image xlink:href=\"data:image/png;base64,\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\" id=\"image13a3729dbf\" transform=\"scale(1 -1) translate(0 -72)\" x=\"93.291429\" y=\"-35.498357\" width=\"72\" height=\"72\"/>\n   </g>\n   <g id=\"patch_8\">\n    <path d=\"M 93.291429 107.498357 \nL 93.291429 35.7555 \n\" style=\"fill: none; stroke: #000000; stroke-width: 0.8; stroke-linejoin: miter; stroke-linecap: square\"/>\n   </g>\n   <g id=\"patch_9\">\n    <path d=\"M 165.034286 107.498357 \nL 165.034286 35.7555 \n\" style=\"fill: none; stroke: #000000; stroke-width: 0.8; stroke-linejoin: miter; stroke-linecap: square\"/>\n   </g>\n   <g id=\"patch_10\">\n    <path d=\"M 93.291429 107.498357 \nL 165.034286 107.498357 \n\" style=\"fill: none; stroke: #000000; stroke-width: 0.8; stroke-linejoin: miter; stroke-linecap: square\"/>\n   </g>\n   <g id=\"patch_11\">\n    <path d=\"M 93.291429 35.7555 \nL 165.034286 35.7555 \n\" style=\"fill: none; stroke: #000000; stroke-width: 0.8; stroke-linejoin: miter; stroke-linecap: square\"/>\n   </g>\n   <g id=\"text_2\">\n    <!-- pullover -->\n    <g transform=\"translate(104.836607 16.318125) scale(0.12 -0.12)\">\n     <defs>\n      <path id=\"DejaVuSans-70\" d=\"M 1159 525 \nL 1159 -1331 \nL 581 -1331 \nL 581 3500 \nL 1159 3500 \nL 1159 2969 \nQ 1341 3281 1617 3432 \nQ 1894 3584 2278 3584 \nQ 2916 3584 3314 3078 \nQ 3713 2572 3713 1747 \nQ 3713 922 3314 415 \nQ 2916 -91 2278 -91 \nQ 1894 -91 1617 61 \nQ 1341 213 1159 525 \nz\nM 3116 1747 \nQ 3116 2381 2855 2742 \nQ 2594 3103 2138 3103 \nQ 1681 3103 1420 2742 \nQ 1159 2381 1159 1747 \nQ 1159 1113 1420 752 \nQ 1681 391 2138 391 \nQ 2594 391 2855 752 \nQ 3116 1113 3116 1747 \nz\n\" transform=\"scale(0.015625)\"/>\n      <path id=\"DejaVuSans-75\" d=\"M 544 1381 \nL 544 3500 \nL 1119 3500 \nL 1119 1403 \nQ 1119 906 1312 657 \nQ 1506 409 1894 409 \nQ 2359 409 2629 706 \nQ 2900 1003 2900 1516 \nL 2900 3500 \nL 3475 3500 \nL 3475 0 \nL 2900 0 \nL 2900 538 \nQ 2691 219 2414 64 \nQ 2138 -91 1772 -91 \nQ 1169 -91 856 284 \nQ 544 659 544 1381 \nz\nM 1991 3584 \nL 1991 3584 \nz\n\" transform=\"scale(0.015625)\"/>\n      <path id=\"DejaVuSans-76\" d=\"M 191 3500 \nL 800 3500 \nL 1894 563 \nL 2988 3500 \nL 3597 3500 \nL 2284 0 \nL 1503 0 \nL 191 3500 \nz\n\" transform=\"scale(0.015625)\"/>\n      <path id=\"DejaVuSans-72\" d=\"M 2631 2963 \nQ 2534 3019 2420 3045 \nQ 2306 3072 2169 3072 \nQ 1681 3072 1420 2755 \nQ 1159 2438 1159 1844 \nL 1159 0 \nL 581 0 \nL 581 3500 \nL 1159 3500 \nL 1159 2956 \nQ 1341 3275 1631 3429 \nQ 1922 3584 2338 3584 \nQ 2397 3584 2469 3576 \nQ 2541 3569 2628 3553 \nL 2631 2963 \nz\n\" transform=\"scale(0.015625)\"/>\n     </defs>\n     <use xlink:href=\"#DejaVuSans-70\"/>\n     <use xlink:href=\"#DejaVuSans-75\" x=\"63.476562\"/>\n     <use xlink:href=\"#DejaVuSans-6c\" x=\"126.855469\"/>\n     <use xlink:href=\"#DejaVuSans-6c\" x=\"154.638672\"/>\n     <use xlink:href=\"#DejaVuSans-6f\" x=\"182.421875\"/>\n     <use xlink:href=\"#DejaVuSans-76\" x=\"243.603516\"/>\n     <use xlink:href=\"#DejaVuSans-65\" x=\"302.783203\"/>\n     <use xlink:href=\"#DejaVuSans-72\" x=\"364.306641\"/>\n    </g>\n    <!-- pullover -->\n    <g transform=\"translate(104.836607 29.7555) scale(0.12 -0.12)\">\n     <use xlink:href=\"#DejaVuSans-70\"/>\n     <use xlink:href=\"#DejaVuSans-75\" x=\"63.476562\"/>\n     <use xlink:href=\"#DejaVuSans-6c\" x=\"126.855469\"/>\n     <use xlink:href=\"#DejaVuSans-6c\" x=\"154.638672\"/>\n     <use xlink:href=\"#DejaVuSans-6f\" x=\"182.421875\"/>\n     <use xlink:href=\"#DejaVuSans-76\" x=\"243.603516\"/>\n     <use xlink:href=\"#DejaVuSans-65\" x=\"302.783203\"/>\n     <use xlink:href=\"#DejaVuSans-72\" x=\"364.306641\"/>\n    </g>\n   </g>\n  </g>\n  <g id=\"axes_3\">\n   <g id=\"patch_12\">\n    <path d=\"M 179.382857 107.498357 \nL 251.125714 107.498357 \nL 251.125714 35.7555 \nL 179.382857 35.7555 \nz\n\" style=\"fill: #ffffff\"/>\n   </g>\n   <g clip-path=\"url(#p511c183d1d)\">\n    <image xlink:href=\"data:image/png;base64,\niVBORw0KGgoAAAANSUhEUgAAAGQAAABkCAYAAABw4pVUAAAF80lEQVR4nO2dTWhcVRTH33uT92YyyUy+S5ooQVs/sCbGUki1glpCUfBjk4IWwV1xJYLu3YlLFepCcCfUhUXcBIsbFSx+RCu1qFGL00idhGamyUwmeZOZ9567e+//4h0nkpl7Fue3OpcT3pvwv+ecO/dr3Hl3IXGIUnz1YWg3H6oIe/CjfvDlPvza+Jyt03PQDs6uCrtcy4Jv6D353PTid+1/2H3C6/obmZawIMRgQYjRY+WtrivtxFzCTp75FtpvHVwS9vpcDXwLlVegreb/zee3wHf1yCfCricN8E3/8rKw71g0frSOwRFCDBaEGFZSltvjCztp7Br/7unBy9D+sV4X9sWtWfC1GqJGEfa79UimuzXNly65jk04QojBghCDBSGGlRqSRJHRVzlzXNjTwVfgq8ZyiOy75mfoPHP4J2iXY2lHDtaMvmLs2IQjhBgsCDHsfFNPzGnh5lOhsGsxfovPKtnl3GenwHfYMc/27kQ+tFNO8q+24zhOlOZhL6PAghCDBSGGpRpinuH94Pj7wt6MMff7KTkzO36p/YXOyfSG0acPe+tDXEMYBRaEGHZSVgtKcZ+wRzxchCorw+D88ib4Wn2/frz/Z2iHSUrYM0EGfHuYAOgIHCHEYEGIwYIQw3oNSd13N7Tv8uUM71/NPPhKTVlf4iu/tv2OnIsbGWLHPLTlGsIALAgxWBBiWK8hxcdGoT3myfxednFHytGgKux39vCOO32cgllumAuFa3fBkCOEGiwIMaynrOqJHWiHympizsOU9frao0oLh7KtSLuYssIWE8WJ5S7KEUIMFoQYLAgxrNeQ544sQXsjln1k2MPh6eLy/cI+5OBG7L1QjtTziXXwRen//dh9gSOEGCwIMaynrEf6f4N2Q+kjobahrueP3raf62UyRl/GNQ+Ze7bbfkVH4AghBgtCDBaEGNZryBNZHHZ+viOvuhj2K+Crj7c/XeIGgdEXJupUCr5fWZS0AkcIMVgQYlhPWTq7yiY2fa1oYqrU9nO2T9wj7M34Ivgq8YDS0lIWXg7UdThCiMGCEIMFIQa5GtLnyZxe1s4GvjglzxFecA60fM7Kk7KvZV0cAjcScv+2gCOEGCwIMVgQYpBLpuq58UqCy3cv5ArC/q8akpmQh30aCa48ploe77ELRwgxWBBikEtZKtUYV/2ySvfxsjjHEW/jUt+xyRVh15Mm+KIW/bCR59uAGAUWhBgsCDGs15BiEy859pVpjlqs71qTVzdtPDsDnvx5vJ7p7ds+lT4Pa1GoXdmhEg23vyrZCThCiMGCEMN6yroUTkD73mBN2PptbyrV01Vo58+jfyglh8XqBcyO4ziDqRa74XZSZl8X4AghBgtCDBaEGNZryHJ4ENpH038L23dxymNFGSK/Mf0x+M45eEWHSqitEGY88w8AeLt2+yhHCDFYEGJYT1kXrj8A7bOzPwg70K7mKTTlUbSTvWXwffE99q1bkRza7jo4M6xuctiOMX0lQ+Z01g04QojBghCDBSGG9RpSuzwCbf9B2UduNIbAN5uRq4DXmzit8trYl9D+po7PVfGUTQ7FCGvG1ET7G7o7AUcIMVgQYrAgxLBeQ0av4C6PAU+eRR/rwTOG6sX5pRjPrBeauCqoTt172sa42JErhiVtVXKsV07P4N3Z3YEjhBgsCDGsp6yBpaLRl/dCaKsb5/q0CzL16zLUDRKBdm+yuslhxMPVxGu35HB51On+EJgjhBgsCDFYEGJYryHNworRl9NqSC1p97oMRF959JTbkg/5/eArr+eEjVc8dweOEGKwIMSwnrJ01I0Mvosf7/dwXNi3+zgk1dPbalNen1FuYFrSv7mrBDfMabEbcIQQgwUhBgtCDDs1xFM2NMe4s+TNtXlhvzuJZz5mglXjI6818JzJsUBOrWQ9rAt4JgXry+Cy8RVdgSOEGCwIMdx5d6H9n13et7cq06/aL0fXFuaEnX4JZ4ILV+VZEu8ADnO9P3HBqtknn5sM4kxw0pD9cGrqJvjSpwotPnjn4QghBgtCDBaEGP8AMRR0yNoJQhkAAAAASUVORK5CYII=\" id=\"image6ba88f5e4a\" transform=\"scale(1 -1) translate(0 -72)\" x=\"179.382857\" y=\"-35.498357\" width=\"72\" height=\"72\"/>\n   </g>\n   <g id=\"patch_13\">\n    <path d=\"M 179.382857 107.498357 \nL 179.382857 35.7555 \n\" style=\"fill: none; stroke: #000000; stroke-width: 0.8; stroke-linejoin: miter; stroke-linecap: square\"/>\n   </g>\n   <g id=\"patch_14\">\n    <path d=\"M 251.125714 107.498357 \nL 251.125714 35.7555 \n\" style=\"fill: none; stroke: #000000; stroke-width: 0.8; stroke-linejoin: miter; stroke-linecap: square\"/>\n   </g>\n   <g id=\"patch_15\">\n    <path d=\"M 179.382857 107.498357 \nL 251.125714 107.498357 \n\" style=\"fill: none; stroke: #000000; stroke-width: 0.8; stroke-linejoin: miter; stroke-linecap: square\"/>\n   </g>\n   <g id=\"patch_16\">\n    <path d=\"M 179.382857 35.7555 \nL 251.125714 35.7555 \n\" style=\"fill: none; stroke: #000000; stroke-width: 0.8; stroke-linejoin: miter; stroke-linecap: square\"/>\n   </g>\n   <g id=\"text_3\">\n    <!-- trouser -->\n    <g transform=\"translate(193.812723 16.318125) scale(0.12 -0.12)\">\n     <defs>\n      <path id=\"DejaVuSans-73\" d=\"M 2834 3397 \nL 2834 2853 \nQ 2591 2978 2328 3040 \nQ 2066 3103 1784 3103 \nQ 1356 3103 1142 2972 \nQ 928 2841 928 2578 \nQ 928 2378 1081 2264 \nQ 1234 2150 1697 2047 \nL 1894 2003 \nQ 2506 1872 2764 1633 \nQ 3022 1394 3022 966 \nQ 3022 478 2636 193 \nQ 2250 -91 1575 -91 \nQ 1294 -91 989 -36 \nQ 684 19 347 128 \nL 347 722 \nQ 666 556 975 473 \nQ 1284 391 1588 391 \nQ 1994 391 2212 530 \nQ 2431 669 2431 922 \nQ 2431 1156 2273 1281 \nQ 2116 1406 1581 1522 \nL 1381 1569 \nQ 847 1681 609 1914 \nQ 372 2147 372 2553 \nQ 372 3047 722 3315 \nQ 1072 3584 1716 3584 \nQ 2034 3584 2315 3537 \nQ 2597 3491 2834 3397 \nz\n\" transform=\"scale(0.015625)\"/>\n     </defs>\n     <use xlink:href=\"#DejaVuSans-74\"/>\n     <use xlink:href=\"#DejaVuSans-72\" x=\"39.208984\"/>\n     <use xlink:href=\"#DejaVuSans-6f\" x=\"78.072266\"/>\n     <use xlink:href=\"#DejaVuSans-75\" x=\"139.253906\"/>\n     <use xlink:href=\"#DejaVuSans-73\" x=\"202.632812\"/>\n     <use xlink:href=\"#DejaVuSans-65\" x=\"254.732422\"/>\n     <use xlink:href=\"#DejaVuSans-72\" x=\"316.255859\"/>\n    </g>\n    <!-- trouser -->\n    <g transform=\"translate(193.812723 29.7555) scale(0.12 -0.12)\">\n     <use xlink:href=\"#DejaVuSans-74\"/>\n     <use xlink:href=\"#DejaVuSans-72\" x=\"39.208984\"/>\n     <use xlink:href=\"#DejaVuSans-6f\" x=\"78.072266\"/>\n     <use xlink:href=\"#DejaVuSans-75\" x=\"139.253906\"/>\n     <use xlink:href=\"#DejaVuSans-73\" x=\"202.632812\"/>\n     <use xlink:href=\"#DejaVuSans-65\" x=\"254.732422\"/>\n     <use xlink:href=\"#DejaVuSans-72\" x=\"316.255859\"/>\n    </g>\n   </g>\n  </g>\n  <g id=\"axes_4\">\n   <g id=\"patch_17\">\n    <path d=\"M 265.474286 107.498357 \nL 337.217143 107.498357 \nL 337.217143 35.7555 \nL 265.474286 35.7555 \nz\n\" style=\"fill: #ffffff\"/>\n   </g>\n   <g clip-path=\"url(#p37eff57f6d)\">\n    <image xlink:href=\"data:image/png;base64,\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\" id=\"image32ac6ac209\" transform=\"scale(1 -1) translate(0 -72)\" x=\"265.474286\" y=\"-35.498357\" width=\"72\" height=\"72\"/>\n   </g>\n   <g id=\"patch_18\">\n    <path d=\"M 265.474286 107.498357 \nL 265.474286 35.7555 \n\" style=\"fill: none; stroke: #000000; stroke-width: 0.8; stroke-linejoin: miter; stroke-linecap: square\"/>\n   </g>\n   <g id=\"patch_19\">\n    <path d=\"M 337.217143 107.498357 \nL 337.217143 35.7555 \n\" style=\"fill: none; stroke: #000000; stroke-width: 0.8; stroke-linejoin: miter; stroke-linecap: square\"/>\n   </g>\n   <g id=\"patch_20\">\n    <path d=\"M 265.474286 107.498357 \nL 337.217143 107.498357 \n\" style=\"fill: none; stroke: #000000; stroke-width: 0.8; stroke-linejoin: miter; stroke-linecap: square\"/>\n   </g>\n   <g id=\"patch_21\">\n    <path d=\"M 265.474286 35.7555 \nL 337.217143 35.7555 \n\" style=\"fill: none; stroke: #000000; stroke-width: 0.8; stroke-linejoin: miter; stroke-linecap: square\"/>\n   </g>\n   <g id=\"text_4\">\n    <!-- trouser -->\n    <g transform=\"translate(279.904152 16.318125) scale(0.12 -0.12)\">\n     <use xlink:href=\"#DejaVuSans-74\"/>\n     <use xlink:href=\"#DejaVuSans-72\" x=\"39.208984\"/>\n     <use xlink:href=\"#DejaVuSans-6f\" x=\"78.072266\"/>\n     <use xlink:href=\"#DejaVuSans-75\" x=\"139.253906\"/>\n     <use xlink:href=\"#DejaVuSans-73\" x=\"202.632812\"/>\n     <use xlink:href=\"#DejaVuSans-65\" x=\"254.732422\"/>\n     <use xlink:href=\"#DejaVuSans-72\" x=\"316.255859\"/>\n    </g>\n    <!-- trouser -->\n    <g transform=\"translate(279.904152 29.7555) scale(0.12 -0.12)\">\n     <use xlink:href=\"#DejaVuSans-74\"/>\n     <use xlink:href=\"#DejaVuSans-72\" x=\"39.208984\"/>\n     <use xlink:href=\"#DejaVuSans-6f\" x=\"78.072266\"/>\n     <use xlink:href=\"#DejaVuSans-75\" x=\"139.253906\"/>\n     <use xlink:href=\"#DejaVuSans-73\" x=\"202.632812\"/>\n     <use xlink:href=\"#DejaVuSans-65\" x=\"254.732422\"/>\n     <use xlink:href=\"#DejaVuSans-72\" x=\"316.255859\"/>\n    </g>\n   </g>\n  </g>\n  <g id=\"axes_5\">\n   <g id=\"patch_22\">\n    <path d=\"M 351.565714 107.498357 \nL 423.308571 107.498357 \nL 423.308571 35.7555 \nL 351.565714 35.7555 \nz\n\" style=\"fill: #ffffff\"/>\n   </g>\n   <g clip-path=\"url(#pc43838f1b6)\">\n    <image xlink:href=\"data:image/png;base64,\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\" id=\"image8bc87dc190\" transform=\"scale(1 -1) translate(0 -72)\" x=\"351.565714\" y=\"-35.498357\" width=\"72\" height=\"72\"/>\n   </g>\n   <g id=\"patch_23\">\n    <path d=\"M 351.565714 107.498357 \nL 351.565714 35.7555 \n\" style=\"fill: none; stroke: #000000; stroke-width: 0.8; stroke-linejoin: miter; stroke-linecap: square\"/>\n   </g>\n   <g id=\"patch_24\">\n    <path d=\"M 423.308571 107.498357 \nL 423.308571 35.7555 \n\" style=\"fill: none; stroke: #000000; stroke-width: 0.8; stroke-linejoin: miter; stroke-linecap: square\"/>\n   </g>\n   <g id=\"patch_25\">\n    <path d=\"M 351.565714 107.498357 \nL 423.308571 107.498357 \n\" style=\"fill: none; stroke: #000000; stroke-width: 0.8; stroke-linejoin: miter; stroke-linecap: square\"/>\n   </g>\n   <g id=\"patch_26\">\n    <path d=\"M 351.565714 35.7555 \nL 423.308571 35.7555 \n\" style=\"fill: none; stroke: #000000; stroke-width: 0.8; stroke-linejoin: miter; stroke-linecap: square\"/>\n   </g>\n   <g id=\"text_5\">\n    <!-- shirt -->\n    <g transform=\"translate(374.023393 16.318125) scale(0.12 -0.12)\">\n     <defs>\n      <path id=\"DejaVuSans-68\" d=\"M 3513 2113 \nL 3513 0 \nL 2938 0 \nL 2938 2094 \nQ 2938 2591 2744 2837 \nQ 2550 3084 2163 3084 \nQ 1697 3084 1428 2787 \nQ 1159 2491 1159 1978 \nL 1159 0 \nL 581 0 \nL 581 4863 \nL 1159 4863 \nL 1159 2956 \nQ 1366 3272 1645 3428 \nQ 1925 3584 2291 3584 \nQ 2894 3584 3203 3211 \nQ 3513 2838 3513 2113 \nz\n\" transform=\"scale(0.015625)\"/>\n      <path id=\"DejaVuSans-69\" d=\"M 603 3500 \nL 1178 3500 \nL 1178 0 \nL 603 0 \nL 603 3500 \nz\nM 603 4863 \nL 1178 4863 \nL 1178 4134 \nL 603 4134 \nL 603 4863 \nz\n\" transform=\"scale(0.015625)\"/>\n     </defs>\n     <use xlink:href=\"#DejaVuSans-73\"/>\n     <use xlink:href=\"#DejaVuSans-68\" x=\"52.099609\"/>\n     <use xlink:href=\"#DejaVuSans-69\" x=\"115.478516\"/>\n     <use xlink:href=\"#DejaVuSans-72\" x=\"143.261719\"/>\n     <use xlink:href=\"#DejaVuSans-74\" x=\"184.375\"/>\n    </g>\n    <!-- shirt -->\n    <g transform=\"translate(374.023393 29.7555) scale(0.12 -0.12)\">\n     <use xlink:href=\"#DejaVuSans-73\"/>\n     <use xlink:href=\"#DejaVuSans-68\" x=\"52.099609\"/>\n     <use xlink:href=\"#DejaVuSans-69\" x=\"115.478516\"/>\n     <use xlink:href=\"#DejaVuSans-72\" x=\"143.261719\"/>\n     <use xlink:href=\"#DejaVuSans-74\" x=\"184.375\"/>\n    </g>\n   </g>\n  </g>\n  <g id=\"axes_6\">\n   <g id=\"patch_27\">\n    <path d=\"M 437.657143 107.498357 \nL 509.4 107.498357 \nL 509.4 35.7555 \nL 437.657143 35.7555 \nz\n\" style=\"fill: #ffffff\"/>\n   </g>\n   <g clip-path=\"url(#pd338d315dd)\">\n    <image xlink:href=\"data:image/png;base64,\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\" id=\"image66f4debfda\" transform=\"scale(1 -1) translate(0 -72)\" x=\"437.657143\" y=\"-35.498357\" width=\"72\" height=\"72\"/>\n   </g>\n   <g id=\"patch_28\">\n    <path d=\"M 437.657143 107.498357 \nL 437.657143 35.7555 \n\" style=\"fill: none; stroke: #000000; stroke-width: 0.8; stroke-linejoin: miter; stroke-linecap: square\"/>\n   </g>\n   <g id=\"patch_29\">\n    <path d=\"M 509.4 107.498357 \nL 509.4 35.7555 \n\" style=\"fill: none; stroke: #000000; stroke-width: 0.8; stroke-linejoin: miter; stroke-linecap: square\"/>\n   </g>\n   <g id=\"patch_30\">\n    <path d=\"M 437.657143 107.498357 \nL 509.4 107.498357 \n\" style=\"fill: none; stroke: #000000; stroke-width: 0.8; stroke-linejoin: miter; stroke-linecap: square\"/>\n   </g>\n   <g id=\"patch_31\">\n    <path d=\"M 437.657143 35.7555 \nL 509.4 35.7555 \n\" style=\"fill: none; stroke: #000000; stroke-width: 0.8; stroke-linejoin: miter; stroke-linecap: square\"/>\n   </g>\n   <g id=\"text_6\">\n    <!-- trouser -->\n    <g transform=\"translate(452.087009 16.318125) scale(0.12 -0.12)\">\n     <use xlink:href=\"#DejaVuSans-74\"/>\n     <use xlink:href=\"#DejaVuSans-72\" x=\"39.208984\"/>\n     <use xlink:href=\"#DejaVuSans-6f\" x=\"78.072266\"/>\n     <use xlink:href=\"#DejaVuSans-75\" x=\"139.253906\"/>\n     <use xlink:href=\"#DejaVuSans-73\" x=\"202.632812\"/>\n     <use xlink:href=\"#DejaVuSans-65\" x=\"254.732422\"/>\n     <use xlink:href=\"#DejaVuSans-72\" x=\"316.255859\"/>\n    </g>\n    <!-- trouser -->\n    <g transform=\"translate(452.087009 29.7555) scale(0.12 -0.12)\">\n     <use xlink:href=\"#DejaVuSans-74\"/>\n     <use xlink:href=\"#DejaVuSans-72\" x=\"39.208984\"/>\n     <use xlink:href=\"#DejaVuSans-6f\" x=\"78.072266\"/>\n     <use xlink:href=\"#DejaVuSans-75\" x=\"139.253906\"/>\n     <use xlink:href=\"#DejaVuSans-73\" x=\"202.632812\"/>\n     <use xlink:href=\"#DejaVuSans-65\" x=\"254.732422\"/>\n     <use xlink:href=\"#DejaVuSans-72\" x=\"316.255859\"/>\n    </g>\n   </g>\n  </g>\n </g>\n <defs>\n  <clipPath id=\"p855ebb2cb8\">\n   <rect x=\"7.2\" y=\"35.7555\" width=\"71.742857\" height=\"71.742857\"/>\n  </clipPath>\n  <clipPath id=\"p8f853255ba\">\n   <rect x=\"93.291429\" y=\"35.7555\" width=\"71.742857\" height=\"71.742857\"/>\n  </clipPath>\n  <clipPath id=\"p511c183d1d\">\n   <rect x=\"179.382857\" y=\"35.7555\" width=\"71.742857\" height=\"71.742857\"/>\n  </clipPath>\n  <clipPath id=\"p37eff57f6d\">\n   <rect x=\"265.474286\" y=\"35.7555\" width=\"71.742857\" height=\"71.742857\"/>\n  </clipPath>\n  <clipPath id=\"pc43838f1b6\">\n   <rect x=\"351.565714\" y=\"35.7555\" width=\"71.742857\" height=\"71.742857\"/>\n  </clipPath>\n  <clipPath id=\"pd338d315dd\">\n   <rect x=\"437.657143\" y=\"35.7555\" width=\"71.742857\" height=\"71.742857\"/>\n  </clipPath>\n </defs>\n</svg>\n"
          },
          "metadata": {}
        }
      ]
    },
    {
      "cell_type": "markdown",
      "source": [
        "## softmax回归的简洁实现\n",
        "\n",
        "通过深度学习框架的高级API能够使实现"
      ],
      "metadata": {
        "id": "-Yj229njMpfB"
      }
    },
    {
      "cell_type": "code",
      "source": [
        "import torch\n",
        "from torch import nn\n",
        "from d2l import torch as d2l\n",
        "\n",
        "# 加载数据\n",
        "batch_size = 256\n",
        "train_iter, test_iter = d2l.load_data_fashion_mnist(batch_size)\n",
        "\n",
        "# 初始化模型参数\n",
        "\n",
        "# PyTorch不会隐式地调整输入的形状。因此，\n",
        "# 我们在线性层前定义了展平层（flatten），来调整网络输入的形状\n",
        "net = nn.Sequential(nn.Flatten(), nn.Linear(784, 10))\n",
        "\n",
        "def init_weights(m):\n",
        "    if type(m) == nn.Linear:\n",
        "        nn.init.normal_(m.weight, std=0.01)\n",
        "\n",
        "net.apply(init_weights);\n",
        "\n",
        "# 重新审视Softmax的实现\n",
        "\n",
        "loss = nn.CrossEntropyLoss(reduction='none')\n",
        "\n",
        "# 优化算法\n",
        "\n",
        "# 使用学习率为0.1的小批量随机梯度下降作为优化算法\n",
        "trainer = torch.optim.SGD(net.parameters(), lr=0.1)\n",
        "\n",
        "# 训练\n",
        "num_epochs = 10\n",
        "d2l.train_ch3(net, train_iter, test_iter, loss, num_epochs, trainer)"
      ],
      "metadata": {
        "id": "Svp3-COpM0wT"
      },
      "execution_count": null,
      "outputs": []
    }
  ]
}