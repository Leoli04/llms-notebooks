{
 "cells": [
  {
   "cell_type": "markdown",
   "id": "2f670cf5-9aea-4cda-bae5-fd1654a40bd2",
   "metadata": {},
   "source": [
    "# 计算性能"
   ]
  },
  {
   "cell_type": "markdown",
   "id": "cb0e031b-74bb-475e-b7c1-127674aa764f",
   "metadata": {},
   "source": [
    "## 自动并行"
   ]
  },
  {
   "cell_type": "markdown",
   "id": "54dc59af-d404-4db8-8982-2e41fb496a32",
   "metadata": {},
   "source": [
    "### 基于GPU的并行计算"
   ]
  },
  {
   "cell_type": "code",
   "execution_count": null,
   "id": "552e1d72-67fb-47f5-9b20-a2c89fef0382",
   "metadata": {},
   "outputs": [],
   "source": [
    "import torch\n",
    "from d2l import torch as d2l"
   ]
  },
  {
   "cell_type": "code",
   "execution_count": null,
   "id": "ec441736-e877-4911-a665-dedcba6a3aef",
   "metadata": {},
   "outputs": [],
   "source": [
    "devices = d2l.try_all_gpus()\n",
    "def run(x):\n",
    "    return [x.mm(x) for _ in range(50)]\n",
    "\n",
    "x_gpu1 = torch.rand(size=(4000, 4000), device=devices[0])\n",
    "x_gpu2 = torch.rand(size=(4000, 4000), device=devices[1])"
   ]
  },
  {
   "cell_type": "code",
   "execution_count": null,
   "id": "79b1c9f3-0ae6-43bf-89c8-e9ff56028792",
   "metadata": {},
   "outputs": [],
   "source": [
    "run(x_gpu1)\n",
    "run(x_gpu2)  # 预热设备\n",
    "torch.cuda.synchronize(devices[0])\n",
    "torch.cuda.synchronize(devices[1])\n",
    "\n",
    "with d2l.Benchmark('GPU1 time'):\n",
    "    run(x_gpu1)\n",
    "    torch.cuda.synchronize(devices[0])\n",
    "\n",
    "with d2l.Benchmark('GPU2 time'):\n",
    "    run(x_gpu2)\n",
    "    torch.cuda.synchronize(devices[1])"
   ]
  },
  {
   "cell_type": "code",
   "execution_count": null,
   "id": "10d6646f-66fb-4199-92fd-360e624a46f4",
   "metadata": {},
   "outputs": [],
   "source": []
  }
 ],
 "metadata": {
  "kernelspec": {
   "display_name": "Python 3 (ipykernel)",
   "language": "python",
   "name": "python3"
  },
  "language_info": {
   "codemirror_mode": {
    "name": "ipython",
    "version": 3
   },
   "file_extension": ".py",
   "mimetype": "text/x-python",
   "name": "python",
   "nbconvert_exporter": "python",
   "pygments_lexer": "ipython3",
   "version": "3.11.8"
  }
 },
 "nbformat": 4,
 "nbformat_minor": 5
}
