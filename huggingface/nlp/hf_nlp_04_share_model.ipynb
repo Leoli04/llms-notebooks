{
  "nbformat": 4,
  "nbformat_minor": 0,
  "metadata": {
    "colab": {
      "provenance": [],
      "toc_visible": true,
      "authorship_tag": "ABX9TyNvvwrNDzTUwsmIMJo1NonH",
      "include_colab_link": true
    },
    "kernelspec": {
      "name": "python3",
      "display_name": "Python 3"
    },
    "language_info": {
      "name": "python"
    }
  },
  "cells": [
    {
      "cell_type": "markdown",
      "metadata": {
        "id": "view-in-github",
        "colab_type": "text"
      },
      "source": [
        "<a href=\"https://colab.research.google.com/github/Leoli04/llms-notebooks/blob/main/huggingface/hf_nlp_04_share_model.ipynb\" target=\"_parent\"><img src=\"https://colab.research.google.com/assets/colab-badge.svg\" alt=\"Open In Colab\"/></a>"
      ]
    },
    {
      "cell_type": "markdown",
      "source": [
        "## 在Hugging Face Hub上使用/共享模型\n",
        "\n"
      ],
      "metadata": {
        "id": "cXfFpoRWmZ35"
      }
    },
    {
      "cell_type": "markdown",
      "source": [
        "### 使用预训练模型\n",
        "\n",
        "- 使用 pipeline() 函数实例化\n",
        "- 直接使用模型架构实例化（推荐使用 Auto* 类）"
      ],
      "metadata": {
        "id": "7YOwAGOSmHQU"
      }
    },
    {
      "cell_type": "code",
      "source": [
        "from transformers import pipeline\n",
        "\n",
        "camembert_fill_mask = pipeline(\"fill-mask\", model=\"camembert-base\")\n",
        "results = camembert_fill_mask(\"Le camembert est <mask> :)\")"
      ],
      "metadata": {
        "id": "CYqrjgx6mS2T"
      },
      "execution_count": null,
      "outputs": []
    },
    {
      "cell_type": "code",
      "source": [
        "from transformers import AutoTokenizer, AutoModelForMaskedLM\n",
        "\n",
        "tokenizer = AutoTokenizer.from_pretrained(\"camembert-base\")\n",
        "model = AutoModelForMaskedLM.from_pretrained(\"camembert-base\")"
      ],
      "metadata": {
        "id": "kJh-Nw-onDxc"
      },
      "execution_count": null,
      "outputs": []
    },
    {
      "cell_type": "markdown",
      "source": [
        "### 共享预训练模型\n",
        "\n",
        "创建新模型存储库有三种方法：\n",
        "\n",
        "- Using the push_to_hub API\n",
        "- Using the huggingface_hub Python library\n",
        "\n",
        "- Using the web interface\n",
        "\n",
        "创建存储库后，您可以通过 git 和 git-lfs 将文件上传到其中。\n",
        "\n",
        "都是一些基本的操作，具体参看：https://huggingface.co/learn/nlp-course/chapter4/3?fw=pt"
      ],
      "metadata": {
        "id": "OjV8WAG-na84"
      }
    },
    {
      "cell_type": "markdown",
      "source": [
        "#### 使用push_to_hub API"
      ],
      "metadata": {
        "id": "iYPUZDVpqd9O"
      }
    },
    {
      "cell_type": "code",
      "source": [
        "from transformers import TrainingArguments\n",
        "# 训练完后自动上传\n",
        "training_args = TrainingArguments(\n",
        "    \"bert-finetuned-mrpc\", save_strategy=\"epoch\", push_to_hub=True\n",
        ")\n",
        "# 使用model上传\n",
        "# model.push_to_hub(\"dummy-model\")\n",
        "# tokenizer.push_to_hub(\"dummy-model\", organization=\"huggingface\")\n",
        "\n",
        "# tokenizer.push_to_hub(\"dummy-model\", organization=\"huggingface\", use_auth_token=\"<TOKEN>\")"
      ],
      "metadata": {
        "id": "1gp5c59tocCe"
      },
      "execution_count": null,
      "outputs": []
    },
    {
      "cell_type": "markdown",
      "source": [
        "#### 使用web界面\n",
        "\n",
        "[huggingface.co/new](https://huggingface.co/new)\n"
      ],
      "metadata": {
        "id": "jZuHDmwEqj_Q"
      }
    },
    {
      "cell_type": "markdown",
      "source": [
        "### 构建模型卡\n",
        "\n",
        "模型卡可以说是一个与模型存储库中的模型和分词器文件一样重要的文件。它是模型的核心定义，确保社区成员的可重用性和结果的可重复性，并提供一个平台供其他成员构建他们的工件。\n",
        "\n",
        "记录培训和评估过程可以帮助其他人了解对模型的期望，并提供有关所使用的数据以及已完成的预处理和后处理的足够信息，以确保模型存在的局限性、偏差和上下文没有用处可以被识别和理解。\n",
        "\n",
        "“模型卡”的概念源于谷歌的一个研究方向，最早在 Margaret Mitchell 等人的论文[Model Cards for Model Reporting](https://arxiv.org/abs/1810.03993)中分享."
      ],
      "metadata": {
        "id": "AOYrBsmLPwFo"
      }
    },
    {
      "cell_type": "markdown",
      "source": [
        "#### 模型说明\n",
        "\n",
        "模型描述提供有关模型的基本详细信息。这包括架构、版本、是否在论文中介绍、是否有原始实现、作者以及有关模型的一般信息。任何版权均应归属于此。还提到了有关训练程序、参数和重要免责声明的一般信息。"
      ],
      "metadata": {
        "id": "dhmbvt8sRJ5S"
      }
    },
    {
      "cell_type": "markdown",
      "source": [
        "#### 模型预期和限制\n",
        "\n",
        "\n",
        "描述模型的预期用例，包括可以应用它的语言、领域和领域。模型卡的这一部分还可以记录已知超出模型范围的区域，或者可能表现不佳的区域。"
      ],
      "metadata": {
        "id": "-HUFeUhhROcT"
      }
    },
    {
      "cell_type": "markdown",
      "source": [
        "#### 如何使用\n",
        "\n",
        "包括一些如何使用该模型的示例。这可以展示 pipeline() 函数的用法、模型和分词器类的用法以及您认为可能有帮助的任何其他代码。"
      ],
      "metadata": {
        "id": "elBPWxgERS-J"
      }
    },
    {
      "cell_type": "markdown",
      "source": [
        "#### 训练数据\n",
        "\n",
        "这一部分指示模型是在哪些数据集上进行训练的。也可以对数据集进行简要描述。"
      ],
      "metadata": {
        "id": "gmlALG9qRcEH"
      }
    },
    {
      "cell_type": "markdown",
      "source": [
        "#### 训练过程\n",
        "\n",
        "描述从可重复性角度来看有用的培训的所有相关方面。这包括对数据进行的任何预处理和后处理，以及模型训练的纪元数、批量大小、学习率等细节。"
      ],
      "metadata": {
        "id": "bZRuyQgTRhuX"
      }
    },
    {
      "cell_type": "markdown",
      "source": [
        "#### 变量和指标\n",
        "\n",
        "描述用于评估的指标以及您正在衡量的不同因素。提及使用了哪些指标、在哪个数据集上以及哪个数据集拆分，可以轻松将模型的性能与其他模型的性能进行比较。\n",
        "\n"
      ],
      "metadata": {
        "id": "cg8Y8G52S9wT"
      }
    },
    {
      "cell_type": "markdown",
      "source": [
        "#### 评价结果\n",
        "\n",
        "说明模型在评估数据集上的表现如何。如果模型使用决策阈值，请提供评估中使用的决策阈值，或提供有关预期用途的不同阈值的评估详细信息。"
      ],
      "metadata": {
        "id": "vDafcEvMRqh9"
      }
    },
    {
      "cell_type": "markdown",
      "source": [
        "#### 模型元数据\n",
        "\n",
        "存在于模型页面中files and versions 标签下的readme文件。如：[camembert-base model card](https://huggingface.co/camembert-base/blob/main/README.md),"
      ],
      "metadata": {
        "id": "yg3YKLXBVTT5"
      }
    }
  ]
}