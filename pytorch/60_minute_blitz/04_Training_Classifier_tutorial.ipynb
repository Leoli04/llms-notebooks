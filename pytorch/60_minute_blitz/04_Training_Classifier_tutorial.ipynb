{
  "cells": [
    {
      "cell_type": "markdown",
      "metadata": {
        "id": "view-in-github",
        "colab_type": "text"
      },
      "source": [
        "<a href=\"https://colab.research.google.com/github/Leoli04/llms-notebooks/blob/main/pytorch/60_minute_blitz/04_Training_Classifier_tutorial.ipynb\" target=\"_parent\"><img src=\"https://colab.research.google.com/assets/colab-badge.svg\" alt=\"Open In Colab\"/></a>"
      ]
    },
    {
      "cell_type": "markdown",
      "metadata": {
        "id": "6sxTCldczu3c"
      },
      "source": [
        "训练分类器\n",
        "=====================\n",
        "\n",
        "上一节介绍了如何构建神经网络、计算 loss 和更新网络的权值参数，接下来需要做的就是实现一个图片分类器。\n",
        "\n",
        "关于数据疑问？\n",
        "----------------\n",
        "\n",
        "通常在处理如图片、文本、语音或者视频数据的时候，一般都采用标准的 Python 库将其加载并转成 Numpy 数组，然后再转回为 PyTorch 的张量。\n",
        "\n",
        "-   对于图像，可以采用 Pillow, OpenCV 库；\n",
        "-   对于语音，有 scipy 和 librosa;\n",
        "-   对于文本，可以选择原生 Python 或者 Cython 进行加载数据，或者使用 NLTK 和 SpaCy 。\n",
        "\n",
        "PyTorch 对于计算机视觉，特别创建了一个 torchvision 的库，它包含一个数据加载器(data loader)，可以加载比较常见的数据集，比如 Imagenet, CIFAR10, MNIST 等等，然后还有一个用于图像的数据转换器(data transformers)，调用的库是 torchvision.datasets 和 torch.utils.data.DataLoader 。\n",
        "\n",
        "\n",
        "在本教程中，将采用 CIFAR10 数据集，它包含 10 个类别，分别是飞机、汽车、鸟、猫、鹿、狗、青蛙、马、船和卡车。数据集中的图片都是 3x32x32。一些例子如下所示：\n",
        "\n",
        "![cifar10](https://pytorch.org/tutorials/_static/img/cifar10.png)\n",
        "\n",
        "训练图像分类器\n",
        "----------------------------\n",
        "\n",
        "训练流程如下：\n",
        "\n",
        "1.通过调用 torchvision 加载和归一化 CIFAR10 训练集和测试集；\n",
        "2.构建一个卷积神经网络；\n",
        "3.定义一个损失函数；\n",
        "4.在训练集上训练网络；\n",
        "5.在测试集上测试网络性能。\n",
        "\n",
        "### 1. 加载并规范化 CIFAR10数据集\n",
        "\n",
        "我们使用torchvision 来加载，torchvision 数据集的输出是范围 [0, 1] 的 PILImage 图像。我们将它们转换为归一化范围 [-1, 1] 的张量。\n",
        "\n",
        "\n",
        "<div style=\"background-color: #54c7ec; color: #fff; font-weight: 700; padding-left: 10px; padding-top: 5px; padding-bottom: 5px\"><strong>NOTE:</strong></div>\n",
        "<div style=\"background-color: #f3f4f7; padding-left: 10px; padding-top: 10px; padding-bottom: 10px; padding-right: 10px\">\n",
        "<p>如果在 Windows 上运行并且出现 BrokenPipeError，请尝试将 torch.utils.data.DataLoader() 的 num_worker 设置为 0.</p>\n",
        "</div>\n",
        "\n",
        "\n"
      ]
    },
    {
      "cell_type": "code",
      "execution_count": 1,
      "metadata": {
        "id": "ETBLXVOKzu3g",
        "colab": {
          "base_uri": "https://localhost:8080/"
        },
        "outputId": "0803651f-7333-4007-b611-9beee2d016df"
      },
      "outputs": [
        {
          "output_type": "stream",
          "name": "stdout",
          "text": [
            "Downloading https://www.cs.toronto.edu/~kriz/cifar-10-python.tar.gz to ./data/cifar-10-python.tar.gz\n"
          ]
        },
        {
          "output_type": "stream",
          "name": "stderr",
          "text": [
            "100%|██████████| 170498071/170498071 [00:02<00:00, 74242374.56it/s]\n"
          ]
        },
        {
          "output_type": "stream",
          "name": "stdout",
          "text": [
            "Extracting ./data/cifar-10-python.tar.gz to ./data\n",
            "Files already downloaded and verified\n"
          ]
        }
      ],
      "source": [
        "import torch\n",
        "import torchvision\n",
        "import torchvision.transforms as transforms\n",
        "\n",
        "transform = transforms.Compose(\n",
        "    [transforms.ToTensor(),\n",
        "     transforms.Normalize((0.5, 0.5, 0.5), (0.5, 0.5, 0.5))])\n",
        "\n",
        "batch_size = 4\n",
        "\n",
        "trainset = torchvision.datasets.CIFAR10(root='./data', train=True,\n",
        "                                        download=True, transform=transform)\n",
        "trainloader = torch.utils.data.DataLoader(trainset, batch_size=batch_size,\n",
        "                                          shuffle=True, num_workers=2)\n",
        "\n",
        "testset = torchvision.datasets.CIFAR10(root='./data', train=False,\n",
        "                                       download=True, transform=transform)\n",
        "testloader = torch.utils.data.DataLoader(testset, batch_size=batch_size,\n",
        "                                         shuffle=False, num_workers=2)\n",
        "\n",
        "classes = ('plane', 'car', 'bird', 'cat',\n",
        "           'deer', 'dog', 'frog', 'horse', 'ship', 'truck')"
      ]
    },
    {
      "cell_type": "markdown",
      "metadata": {
        "id": "S-qzPyeLzu3k"
      },
      "source": [
        "查看数据里面的训练图像\n"
      ]
    },
    {
      "cell_type": "code",
      "execution_count": 2,
      "metadata": {
        "id": "PqGoo1_azu3k",
        "colab": {
          "base_uri": "https://localhost:8080/",
          "height": 210
        },
        "outputId": "9d501606-84ad-4b39-f3e1-67b4ebfd2398"
      },
      "outputs": [
        {
          "output_type": "display_data",
          "data": {
            "text/plain": [
              "<Figure size 640x480 with 1 Axes>"
            ],
            "image/png": "[encoded data removed]"
          },
          "metadata": {}
        },
        {
          "output_type": "stream",
          "name": "stdout",
          "text": [
            "plane horse deer  horse\n"
          ]
        }
      ],
      "source": [
        "import matplotlib.pyplot as plt\n",
        "import numpy as np\n",
        "\n",
        "# functions to show an image\n",
        "\n",
        "\n",
        "def imshow(img):\n",
        "    img = img / 2 + 0.5     # unnormalize\n",
        "    npimg = img.numpy()\n",
        "    plt.imshow(np.transpose(npimg, (1, 2, 0)))\n",
        "    plt.show()\n",
        "\n",
        "\n",
        "# get some random training images\n",
        "dataiter = iter(trainloader)\n",
        "images, labels = next(dataiter)\n",
        "\n",
        "# show images\n",
        "imshow(torchvision.utils.make_grid(images))\n",
        "# print labels\n",
        "print(' '.join(f'{classes[labels[j]]:5s}' for j in range(batch_size)))"
      ]
    },
    {
      "cell_type": "markdown",
      "metadata": {
        "id": "R_NRgXLOzu3m"
      },
      "source": [
        "2. 定义卷积神经网络\n",
        "========================================\n",
        "\n",
        "这部分内容其实直接采用上一节定义的网络即可，除了修改 conv1 的输入通道，从 1 变为 3，因为这次接收的是 3 通道的彩色图片。\n"
      ]
    },
    {
      "cell_type": "code",
      "execution_count": 3,
      "metadata": {
        "id": "E32fqBM-zu3n"
      },
      "outputs": [],
      "source": [
        "import torch.nn as nn\n",
        "import torch.nn.functional as F\n",
        "\n",
        "\n",
        "class Net(nn.Module):\n",
        "    def __init__(self):\n",
        "        super().__init__()\n",
        "        # self.conv1 = nn.Conv2d(1, 6, 5)\n",
        "        self.conv1 = nn.Conv2d(3, 6, 5)\n",
        "        self.pool = nn.MaxPool2d(2, 2)\n",
        "        self.conv2 = nn.Conv2d(6, 16, 5)\n",
        "        self.fc1 = nn.Linear(16 * 5 * 5, 120)\n",
        "        self.fc2 = nn.Linear(120, 84)\n",
        "        self.fc3 = nn.Linear(84, 10)\n",
        "\n",
        "    def forward(self, x):\n",
        "        x = self.pool(F.relu(self.conv1(x)))\n",
        "        x = self.pool(F.relu(self.conv2(x)))\n",
        "        x = torch.flatten(x, 1) # flatten all dimensions except batch\n",
        "        x = F.relu(self.fc1(x))\n",
        "        x = F.relu(self.fc2(x))\n",
        "        x = self.fc3(x)\n",
        "        return x\n",
        "\n",
        "\n",
        "net = Net()"
      ]
    },
    {
      "cell_type": "markdown",
      "metadata": {
        "id": "rDd8Rvwnzu3n"
      },
      "source": [
        "3. 定义损失函数和优化器\n",
        "=======================================\n",
        "\n",
        "这里采用类别交叉熵函数和带有动量的 SGD 优化方法：\n"
      ]
    },
    {
      "cell_type": "code",
      "execution_count": 4,
      "metadata": {
        "id": "9F43r9FDzu3o"
      },
      "outputs": [],
      "source": [
        "import torch.optim as optim\n",
        "\n",
        "criterion = nn.CrossEntropyLoss()\n",
        "optimizer = optim.SGD(net.parameters(), lr=0.001, momentum=0.9)"
      ]
    },
    {
      "cell_type": "markdown",
      "metadata": {
        "id": "-_T2rFdSzu3o"
      },
      "source": [
        "4. 训练网络\n",
        "====================\n",
        "\n",
        "我们只需循环数据迭代器，并将输入提供给网络并进行优化。\n"
      ]
    },
    {
      "cell_type": "code",
      "execution_count": 5,
      "metadata": {
        "id": "BVTYK_YIzu3p",
        "colab": {
          "base_uri": "https://localhost:8080/"
        },
        "outputId": "1ff4e3c2-7cbc-4c63-d87a-6b029d3be0c5"
      },
      "outputs": [
        {
          "output_type": "stream",
          "name": "stdout",
          "text": [
            "[1,  2000] loss: 2.168,cost:16.20243215560913\n",
            "[1,  4000] loss: 1.817,cost:26.11942982673645\n",
            "[1,  6000] loss: 1.647,cost:36.04866123199463\n",
            "[1,  8000] loss: 1.567,cost:45.92595171928406\n",
            "[1, 10000] loss: 1.494,cost:54.93360710144043\n",
            "[1, 12000] loss: 1.436,cost:65.9185893535614\n",
            "[2,  2000] loss: 1.350,cost:78.05648899078369\n",
            "[2,  4000] loss: 1.353,cost:88.02050614356995\n",
            "[2,  6000] loss: 1.314,cost:99.1158196926117\n",
            "[2,  8000] loss: 1.293,cost:109.21310782432556\n",
            "[2, 10000] loss: 1.278,cost:120.73461937904358\n",
            "[2, 12000] loss: 1.257,cost:130.3970844745636\n",
            "Finished Training.Total cost time:  132.63587188720703\n"
          ]
        }
      ],
      "source": [
        "import time\n",
        "start = time.time()\n",
        "for epoch in range(2):  # loop over the dataset multiple times\n",
        "\n",
        "    running_loss = 0.0\n",
        "    for i, data in enumerate(trainloader, 0):\n",
        "        # get the inputs; data is a list of [inputs, labels]\n",
        "        inputs, labels = data\n",
        "\n",
        "        # zero the parameter gradients\n",
        "        optimizer.zero_grad()\n",
        "\n",
        "        # forward + backward + optimize\n",
        "        outputs = net(inputs)\n",
        "        loss = criterion(outputs, labels)\n",
        "        loss.backward()\n",
        "        optimizer.step()\n",
        "\n",
        "        # print statistics\n",
        "        running_loss += loss.item()\n",
        "        if i % 2000 == 1999:    # print every 2000 mini-batches\n",
        "            stepTime=time.time()-start\n",
        "            print(f'[{epoch + 1}, {i + 1:5d}] loss: {running_loss / 2000:.3f},cost:{stepTime}')\n",
        "            running_loss = 0.0\n",
        "\n",
        "print('Finished Training.Total cost time: ', time.time()-start)"
      ]
    },
    {
      "cell_type": "markdown",
      "metadata": {
        "id": "bY6pOj4Hzu3p"
      },
      "source": [
        "保存训练好的模型：:\n"
      ]
    },
    {
      "cell_type": "code",
      "execution_count": 7,
      "metadata": {
        "id": "hMOcZ_gozu3p"
      },
      "outputs": [],
      "source": [
        "PATH = './cifar_net.pth'\n",
        "torch.save(net.state_dict(), PATH)"
      ]
    },
    {
      "cell_type": "markdown",
      "metadata": {
        "id": "erfjgIuAzu3q"
      },
      "source": [
        "\n",
        "\n",
        "5. 在测试数据上测试网络\n",
        "====================================\n",
        "\n",
        "训练好一个网络模型后，就需要用测试集进行测试，检验网络模型的泛化能力。对于图像分类任务来说，一般就是用准确率作为评价标准。\n",
        "\n",
        "第一步,显示测试集中的图像数据"
      ]
    },
    {
      "cell_type": "code",
      "execution_count": 6,
      "metadata": {
        "id": "_WqVAnB1zu3q",
        "colab": {
          "base_uri": "https://localhost:8080/",
          "height": 210
        },
        "outputId": "b17e8ace-137a-4398-fe2a-036c1189d6b9"
      },
      "outputs": [
        {
          "output_type": "display_data",
          "data": {
            "text/plain": [
              "<Figure size 640x480 with 1 Axes>"
            ],
            "image/png": "[encoded data removed]"
          },
          "metadata": {}
        },
        {
          "output_type": "stream",
          "name": "stdout",
          "text": [
            "GroundTruth:  cat   ship  ship  plane\n"
          ]
        }
      ],
      "source": [
        "dataiter = iter(testloader)\n",
        "images, labels = next(dataiter)\n",
        "\n",
        "# print images\n",
        "imshow(torchvision.utils.make_grid(images))\n",
        "print('GroundTruth: ', ' '.join(f'{classes[labels[j]]:5s}' for j in range(4)))"
      ]
    },
    {
      "cell_type": "markdown",
      "metadata": {
        "id": "9HGat2OWzu3q"
      },
      "source": [
        "接下来，加载回保存的模型，这一步不是必须的，"
      ]
    },
    {
      "cell_type": "code",
      "execution_count": null,
      "metadata": {
        "id": "pSQ6VkWfzu3r"
      },
      "outputs": [],
      "source": [
        "net = Net()\n",
        "net.load_state_dict(torch.load(PATH))"
      ]
    },
    {
      "cell_type": "markdown",
      "metadata": {
        "id": "zE5mwYqkzu3r"
      },
      "source": [
        "然后用这四张图片输入网络，看看网络的预测结果：\n"
      ]
    },
    {
      "cell_type": "code",
      "execution_count": 9,
      "metadata": {
        "id": "AhQGAm_ezu3r",
        "colab": {
          "base_uri": "https://localhost:8080/"
        },
        "outputId": "fabd3683-7f09-41f4-c081-4c0dac13da71"
      },
      "outputs": [
        {
          "output_type": "stream",
          "name": "stdout",
          "text": [
            "Predicted:  cat   ship  ship  ship \n"
          ]
        }
      ],
      "source": [
        "outputs = net(images)\n",
        "\n",
        "_, predicted = torch.max(outputs, 1)\n",
        "\n",
        "print('Predicted: ', ' '.join(f'{classes[predicted[j]]:5s}'\n",
        "                              for j in range(4)))"
      ]
    },
    {
      "cell_type": "markdown",
      "metadata": {
        "id": "SL_F4zX2zu3r"
      },
      "source": [
        "效果还可以，只有最后一张plane识别成了ship.让我们看看网络在整个数据集上的表现如何。\n"
      ]
    },
    {
      "cell_type": "code",
      "execution_count": 10,
      "metadata": {
        "id": "5R7yeRMpzu3s",
        "colab": {
          "base_uri": "https://localhost:8080/"
        },
        "outputId": "f0b3d1ad-e62f-4f59-aca0-f8a47f389d14"
      },
      "outputs": [
        {
          "output_type": "stream",
          "name": "stdout",
          "text": [
            "Accuracy of the network on the 10000 test images: 56 %\n"
          ]
        }
      ],
      "source": [
        "correct = 0\n",
        "total = 0\n",
        "# since we're not training, we don't need to calculate the gradients for our outputs\n",
        "with torch.no_grad():\n",
        "    for data in testloader:\n",
        "        images, labels = data\n",
        "        # calculate outputs by running images through the network\n",
        "        outputs = net(images)\n",
        "        # the class with the highest energy is what we choose as prediction\n",
        "        _, predicted = torch.max(outputs.data, 1)\n",
        "        total += labels.size(0)\n",
        "        correct += (predicted == labels).sum().item()\n",
        "\n",
        "print(f'Accuracy of the network on the 10000 test images: {100 * correct // total} %')"
      ]
    },
    {
      "cell_type": "markdown",
      "metadata": {
        "id": "dRTm3Ui6zu3s"
      },
      "source": [
        "这看起来比概率要好得多，概率为 10%（从 10 个类别中随机选择一个类别）。\n",
        "\n",
        "再看看是在哪些类别上识别的效果好一些：\n"
      ]
    },
    {
      "cell_type": "code",
      "execution_count": 11,
      "metadata": {
        "id": "DEPxrDICzu3t",
        "colab": {
          "base_uri": "https://localhost:8080/"
        },
        "outputId": "d46db504-b01a-4b79-c241-968228c8ef6b"
      },
      "outputs": [
        {
          "output_type": "stream",
          "name": "stdout",
          "text": [
            "Accuracy for class: plane is 51.9 %\n",
            "Accuracy for class: car   is 60.8 %\n",
            "Accuracy for class: bird  is 44.6 %\n",
            "Accuracy for class: cat   is 46.5 %\n",
            "Accuracy for class: deer  is 51.4 %\n",
            "Accuracy for class: dog   is 40.0 %\n",
            "Accuracy for class: frog  is 59.9 %\n",
            "Accuracy for class: horse is 67.0 %\n",
            "Accuracy for class: ship  is 75.5 %\n",
            "Accuracy for class: truck is 71.5 %\n"
          ]
        }
      ],
      "source": [
        "# prepare to count predictions for each class\n",
        "correct_pred = {classname: 0 for classname in classes}\n",
        "total_pred = {classname: 0 for classname in classes}\n",
        "\n",
        "# again no gradients needed\n",
        "with torch.no_grad():\n",
        "    for data in testloader:\n",
        "        images, labels = data\n",
        "        outputs = net(images)\n",
        "        _, predictions = torch.max(outputs, 1)\n",
        "        # collect the correct predictions for each class\n",
        "        for label, prediction in zip(labels, predictions):\n",
        "            if label == prediction:\n",
        "                correct_pred[classes[label]] += 1\n",
        "            total_pred[classes[label]] += 1\n",
        "\n",
        "\n",
        "# print accuracy for each class\n",
        "for classname, correct_count in correct_pred.items():\n",
        "    accuracy = 100 * float(correct_count) / total_pred[classname]\n",
        "    print(f'Accuracy for class: {classname:5s} is {accuracy:.1f} %')"
      ]
    },
    {
      "cell_type": "markdown",
      "metadata": {
        "id": "YddQginbzu3t"
      },
      "source": [
        "\n",
        "\n",
        "在GPU上训练\n",
        "===============\n",
        "\n",
        "像将张量传输到 GPU 上一样，也可以将神经网络传输到 GPU 上。\n",
        "\n",
        "首先，需要检查是否有可用的 GPU 来训练，:\n"
      ]
    },
    {
      "cell_type": "code",
      "execution_count": 12,
      "metadata": {
        "id": "6InW-5Lwzu3t",
        "colab": {
          "base_uri": "https://localhost:8080/"
        },
        "outputId": "0dc118a3-c413-440c-bc83-392a1d451e49"
      },
      "outputs": [
        {
          "output_type": "stream",
          "name": "stdout",
          "text": [
            "cuda:0\n"
          ]
        }
      ],
      "source": [
        "device = torch.device('cuda:0' if torch.cuda.is_available() else 'cpu')\n",
        "\n",
        "# Assuming that we are on a CUDA machine, this should print a CUDA device:\n",
        "\n",
        "print(device)"
      ]
    },
    {
      "cell_type": "markdown",
      "source": [
        "有可用的GPU,接下来就是在 GPU 上进行训练了，其中需要修改的代码如下，分别是需要将网络参数和数据都转移到 GPU 上："
      ],
      "metadata": {
        "id": "GPs-r9uhGuSN"
      }
    },
    {
      "cell_type": "code",
      "source": [
        "net.to(device)\n",
        "inputs, labels = data[0].to(device), data[1].to(device)"
      ],
      "metadata": {
        "id": "829CXXpQGkZb"
      },
      "execution_count": 13,
      "outputs": []
    },
    {
      "cell_type": "markdown",
      "source": [
        "这里调用 net.to(device) 后，需要定义下优化器，即传入的是 CUDA 张量的网络参数。"
      ],
      "metadata": {
        "id": "7Y9XSWWaHMk8"
      }
    }
  ],
  "metadata": {
    "kernelspec": {
      "display_name": "Python 3",
      "name": "python3"
    },
    "language_info": {
      "codemirror_mode": {
        "name": "ipython",
        "version": 3
      },
      "file_extension": ".py",
      "mimetype": "text/x-python",
      "name": "python",
      "nbconvert_exporter": "python",
      "pygments_lexer": "ipython3",
      "version": "3.10.14"
    },
    "colab": {
      "provenance": [],
      "toc_visible": true,
      "gpuType": "T4",
      "include_colab_link": true
    },
    "accelerator": "GPU"
  },
  "nbformat": 4,
  "nbformat_minor": 0
}