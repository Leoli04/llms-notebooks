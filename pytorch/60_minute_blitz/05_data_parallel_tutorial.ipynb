{
  "cells": [
    {
      "cell_type": "markdown",
      "metadata": {
        "id": "view-in-github",
        "colab_type": "text"
      },
      "source": [
        "<a href=\"https://colab.research.google.com/github/Leoli04/llms-notebooks/blob/main/pytorch/60_minute_blitz/05_data_parallel_tutorial.ipynb\" target=\"_parent\"><img src=\"https://colab.research.google.com/assets/colab-badge.svg\" alt=\"Open In Colab\"/></a>"
      ]
    },
    {
      "cell_type": "markdown",
      "metadata": {
        "id": "GYTOqNceHuu3"
      },
      "source": [
        "数据并行\n",
        "==========================\n",
        "\n",
        "\n",
        "\n",
        "在本教程中，我们将学习如何使用 DataParallel 使用多个 GPU。\n",
        "\n",
        "``` {.sourceCode .python}\n",
        "device = torch.device(\"cuda:0\")\n",
        "model.to(device)\n",
        "```\n",
        "\n",
        "然后将所有张量复制到 GPU：:\n",
        "\n",
        "``` {.sourceCode .python}\n",
        "mytensor = my_tensor.to(device)\n",
        "```\n",
        "\n",
        "注意： 调用my_tensor.to(device) 是返回一个 my_tensor 的新的拷贝对象，而不是在原 my_tensor 基础上修改，因此你需要将其赋值给一个新的张量，然后使用这个张量。\n",
        "\n",
        "Pytorch 默认情况下仅使用一个 GPU。通过使用 DataParallel 使模型并行运行:\n",
        "\n",
        "``` {.sourceCode .python}\n",
        "model = nn.DataParallel(model)\n",
        "```\n",
        "\n",
        "这是本教程背后的核心。我们将在下面更详细地探讨它。\n"
      ]
    },
    {
      "cell_type": "markdown",
      "metadata": {
        "id": "THDe2KrDHuu7"
      },
      "source": [
        "导入和参数\n",
        "======================\n",
        "\n",
        "导入 PyTorch 模块并定义参数。\n"
      ]
    },
    {
      "cell_type": "code",
      "execution_count": 1,
      "metadata": {
        "id": "SWf2Ag7JHuu8"
      },
      "outputs": [],
      "source": [
        "import torch\n",
        "import torch.nn as nn\n",
        "from torch.utils.data import Dataset, DataLoader\n",
        "\n",
        "# Parameters and DataLoaders\n",
        "input_size = 5\n",
        "output_size = 2\n",
        "\n",
        "batch_size = 30\n",
        "data_size = 100"
      ]
    },
    {
      "cell_type": "markdown",
      "metadata": {
        "id": "gKhGptxvHuu9"
      },
      "source": [
        "设备\n"
      ]
    },
    {
      "cell_type": "code",
      "execution_count": 2,
      "metadata": {
        "id": "sbxHqRuBHuu_"
      },
      "outputs": [],
      "source": [
        "device = torch.device(\"cuda:0\" if torch.cuda.is_available() else \"cpu\")"
      ]
    },
    {
      "cell_type": "markdown",
      "metadata": {
        "id": "_TFqWGlOHuvA"
      },
      "source": [
        "虚拟数据集\n",
        "=============\n",
        "\n",
        "构建一个虚拟（随机）数据集。\n"
      ]
    },
    {
      "cell_type": "code",
      "execution_count": 3,
      "metadata": {
        "id": "9WTKWkEUHuvB"
      },
      "outputs": [],
      "source": [
        "class RandomDataset(Dataset):\n",
        "\n",
        "    def __init__(self, size, length):\n",
        "        self.len = length\n",
        "        self.data = torch.randn(length, size)\n",
        "\n",
        "    def __getitem__(self, index):\n",
        "        return self.data[index]\n",
        "\n",
        "    def __len__(self):\n",
        "        return self.len\n",
        "\n",
        "rand_loader = DataLoader(dataset=RandomDataset(input_size, data_size),\n",
        "                         batch_size=batch_size, shuffle=True)"
      ]
    },
    {
      "cell_type": "markdown",
      "metadata": {
        "id": "Kj5soyAGHuvD"
      },
      "source": [
        "简单模型\n",
        "============\n",
        "\n",
        "对于演示，我们的模型仅获取输入，执行线性运算并给出输出。但是，您可以在任何模型（CNN、RNN、Capsule Net 等）上使用 DataParallel\n",
        "\n",
        "我们在模型中使用print语句来监视输入和输出张量的大小。\n"
      ]
    },
    {
      "cell_type": "code",
      "execution_count": 4,
      "metadata": {
        "id": "yzNwzwr9HuvE"
      },
      "outputs": [],
      "source": [
        "class Model(nn.Module):\n",
        "    # Our model\n",
        "\n",
        "    def __init__(self, input_size, output_size):\n",
        "        super(Model, self).__init__()\n",
        "        self.fc = nn.Linear(input_size, output_size)\n",
        "\n",
        "    def forward(self, input):\n",
        "        output = self.fc(input)\n",
        "        print(\"\\tIn Model: input size\", input.size(),\n",
        "              \"output size\", output.size())\n",
        "\n",
        "        return output"
      ]
    },
    {
      "cell_type": "markdown",
      "metadata": {
        "id": "dVtkaPRWHuvF"
      },
      "source": [
        "创建模型和数据并行\n",
        "=============================\n",
        "\n",
        "这是本教程的核心部分。首先，我们需要创建一个模型实例并检查是否有多个 GPU。如果我们有多个 GPU，我们可以使用 nn.DataParallel 包装我们的模型。然后我们可以通过 model.to(device) 将我们的模型放在 GPU 上\n"
      ]
    },
    {
      "cell_type": "code",
      "execution_count": 5,
      "metadata": {
        "id": "p8ETVDstHuvG",
        "colab": {
          "base_uri": "https://localhost:8080/"
        },
        "outputId": "2c3de009-c8b9-46d9-af69-05a4dfebd4f3"
      },
      "outputs": [
        {
          "output_type": "execute_result",
          "data": {
            "text/plain": [
              "Model(\n",
              "  (fc): Linear(in_features=5, out_features=2, bias=True)\n",
              ")"
            ]
          },
          "metadata": {},
          "execution_count": 5
        }
      ],
      "source": [
        "model = Model(input_size, output_size)\n",
        "if torch.cuda.device_count() > 1:\n",
        "  print(\"Let's use\", torch.cuda.device_count(), \"GPUs!\")\n",
        "  # dim = 0 [30, xxx] -> [10, ...], [10, ...], [10, ...] on 3 GPUs\n",
        "  model = nn.DataParallel(model)\n",
        "\n",
        "model.to(device)"
      ]
    },
    {
      "cell_type": "markdown",
      "metadata": {
        "id": "UiZVDJVHHuvH"
      },
      "source": [
        "运行模型\n",
        "=============\n",
        "\n",
        "现在我们可以看到输入和输出张量的大小。\n",
        "\n"
      ]
    },
    {
      "cell_type": "code",
      "execution_count": 6,
      "metadata": {
        "id": "PmOs4kkJHuvI",
        "colab": {
          "base_uri": "https://localhost:8080/"
        },
        "outputId": "c7110cd9-0760-46ed-d767-5a280f63774c"
      },
      "outputs": [
        {
          "output_type": "stream",
          "name": "stdout",
          "text": [
            "\tIn Model: input size torch.Size([30, 5]) output size torch.Size([30, 2])\n",
            "Outside: input size torch.Size([30, 5]) output_size torch.Size([30, 2])\n",
            "\tIn Model: input size torch.Size([30, 5]) output size torch.Size([30, 2])\n",
            "Outside: input size torch.Size([30, 5]) output_size torch.Size([30, 2])\n",
            "\tIn Model: input size torch.Size([30, 5]) output size torch.Size([30, 2])\n",
            "Outside: input size torch.Size([30, 5]) output_size torch.Size([30, 2])\n",
            "\tIn Model: input size torch.Size([10, 5]) output size torch.Size([10, 2])\n",
            "Outside: input size torch.Size([10, 5]) output_size torch.Size([10, 2])\n"
          ]
        }
      ],
      "source": [
        "for data in rand_loader:\n",
        "    input = data.to(device)\n",
        "    output = model(input)\n",
        "    print(\"Outside: input size\", input.size(),\n",
        "          \"output_size\", output.size())"
      ]
    },
    {
      "cell_type": "markdown",
      "metadata": {
        "id": "F18b1mc9HuvI"
      },
      "source": [
        "运行结果\n",
        "=======\n",
        "\n",
        "如果仅仅只有 1 个或者没有 GPU ，那么 batch=30 的时候，模型会得到输入输出的大小都是 30。但如果有多个 GPUs，那么结果如下：\n",
        "\n",
        "2 GPUs\n",
        "------\n",
        "\n",
        "如果你有 2 个，你会看到:\n",
        "\n",
        "``` {.sourceCode .bash}\n",
        "# on 2 GPUs\n",
        "Let's use 2 GPUs!\n",
        "    In Model: input size torch.Size([15, 5]) output size torch.Size([15, 2])\n",
        "    In Model: input size torch.Size([15, 5]) output size torch.Size([15, 2])\n",
        "Outside: input size torch.Size([30, 5]) output_size torch.Size([30, 2])\n",
        "    In Model: input size torch.Size([15, 5]) output size torch.Size([15, 2])\n",
        "    In Model: input size torch.Size([15, 5]) output size torch.Size([15, 2])\n",
        "Outside: input size torch.Size([30, 5]) output_size torch.Size([30, 2])\n",
        "    In Model: input size torch.Size([15, 5]) output size torch.Size([15, 2])\n",
        "    In Model: input size torch.Size([15, 5]) output size torch.Size([15, 2])\n",
        "Outside: input size torch.Size([30, 5]) output_size torch.Size([30, 2])\n",
        "    In Model: input size torch.Size([5, 5]) output size torch.Size([5, 2])\n",
        "    In Model: input size torch.Size([5, 5]) output size torch.Size([5, 2])\n",
        "Outside: input size torch.Size([10, 5]) output_size torch.Size([10, 2])\n",
        "```\n",
        "\n",
        "3 GPUs\n",
        "------\n",
        "\n",
        "如果有 3 个 GPU，您将看到:\n",
        "\n",
        "``` {.sourceCode .bash}\n",
        "Let's use 3 GPUs!\n",
        "    In Model: input size torch.Size([10, 5]) output size torch.Size([10, 2])\n",
        "    In Model: input size torch.Size([10, 5]) output size torch.Size([10, 2])\n",
        "    In Model: input size torch.Size([10, 5]) output size torch.Size([10, 2])\n",
        "Outside: input size torch.Size([30, 5]) output_size torch.Size([30, 2])\n",
        "    In Model: input size torch.Size([10, 5]) output size torch.Size([10, 2])\n",
        "    In Model: input size torch.Size([10, 5]) output size torch.Size([10, 2])\n",
        "    In Model: input size torch.Size([10, 5]) output size torch.Size([10, 2])\n",
        "Outside: input size torch.Size([30, 5]) output_size torch.Size([30, 2])\n",
        "    In Model: input size torch.Size([10, 5]) output size torch.Size([10, 2])\n",
        "    In Model: input size torch.Size([10, 5]) output size torch.Size([10, 2])\n",
        "    In Model: input size torch.Size([10, 5]) output size torch.Size([10, 2])\n",
        "Outside: input size torch.Size([30, 5]) output_size torch.Size([30, 2])\n",
        "    In Model: input size torch.Size([4, 5]) output size torch.Size([4, 2])\n",
        "    In Model: input size torch.Size([4, 5]) output size torch.Size([4, 2])\n",
        "    In Model: input size torch.Size([2, 5]) output size torch.Size([2, 2])\n",
        "Outside: input size torch.Size([10, 5]) output_size torch.Size([10, 2])\n",
        "```\n",
        "\n",
        "8 GPUs\n",
        "------\n",
        "\n",
        "如果有 8 个 GPU，您将看到:\n",
        "\n",
        "``` {.sourceCode .bash}\n",
        "Let's use 8 GPUs!\n",
        "    In Model: input size torch.Size([4, 5]) output size torch.Size([4, 2])\n",
        "    In Model: input size torch.Size([4, 5]) output size torch.Size([4, 2])\n",
        "    In Model: input size torch.Size([2, 5]) output size torch.Size([2, 2])\n",
        "    In Model: input size torch.Size([4, 5]) output size torch.Size([4, 2])\n",
        "    In Model: input size torch.Size([4, 5]) output size torch.Size([4, 2])\n",
        "    In Model: input size torch.Size([4, 5]) output size torch.Size([4, 2])\n",
        "    In Model: input size torch.Size([4, 5]) output size torch.Size([4, 2])\n",
        "    In Model: input size torch.Size([4, 5]) output size torch.Size([4, 2])\n",
        "Outside: input size torch.Size([30, 5]) output_size torch.Size([30, 2])\n",
        "    In Model: input size torch.Size([4, 5]) output size torch.Size([4, 2])\n",
        "    In Model: input size torch.Size([4, 5]) output size torch.Size([4, 2])\n",
        "    In Model: input size torch.Size([4, 5]) output size torch.Size([4, 2])\n",
        "    In Model: input size torch.Size([4, 5]) output size torch.Size([4, 2])\n",
        "    In Model: input size torch.Size([4, 5]) output size torch.Size([4, 2])\n",
        "    In Model: input size torch.Size([4, 5]) output size torch.Size([4, 2])\n",
        "    In Model: input size torch.Size([2, 5]) output size torch.Size([2, 2])\n",
        "    In Model: input size torch.Size([4, 5]) output size torch.Size([4, 2])\n",
        "Outside: input size torch.Size([30, 5]) output_size torch.Size([30, 2])\n",
        "    In Model: input size torch.Size([4, 5]) output size torch.Size([4, 2])\n",
        "    In Model: input size torch.Size([4, 5]) output size torch.Size([4, 2])\n",
        "    In Model: input size torch.Size([4, 5]) output size torch.Size([4, 2])\n",
        "    In Model: input size torch.Size([4, 5]) output size torch.Size([4, 2])\n",
        "    In Model: input size torch.Size([4, 5]) output size torch.Size([4, 2])\n",
        "    In Model: input size torch.Size([4, 5]) output size torch.Size([4, 2])\n",
        "    In Model: input size torch.Size([4, 5]) output size torch.Size([4, 2])\n",
        "    In Model: input size torch.Size([2, 5]) output size torch.Size([2, 2])\n",
        "Outside: input size torch.Size([30, 5]) output_size torch.Size([30, 2])\n",
        "    In Model: input size torch.Size([2, 5]) output size torch.Size([2, 2])\n",
        "    In Model: input size torch.Size([2, 5]) output size torch.Size([2, 2])\n",
        "    In Model: input size torch.Size([2, 5]) output size torch.Size([2, 2])\n",
        "    In Model: input size torch.Size([2, 5]) output size torch.Size([2, 2])\n",
        "    In Model: input size torch.Size([2, 5]) output size torch.Size([2, 2])\n",
        "Outside: input size torch.Size([10, 5]) output_size torch.Size([10, 2])\n",
        "```\n"
      ]
    },
    {
      "cell_type": "markdown",
      "metadata": {
        "id": "QIiVBIwXHuvK"
      },
      "source": [
        "总结\n",
        "=======\n",
        "\n",
        "DataParallel 会自动分割数据集并发送任务给多个 GPUs 上的多个模型。然后等待每个模型都完成各自的工作后，它又会收集并融合结果，然后返回。\n",
        "\n",
        "更详细的数据并行教程请查看：\n",
        "[https://pytorch.org/tutorials/beginner/former\\\\\\_torchies/parallelism\\\\\\_tutorial.html](https://pytorch.org/tutorials/beginner/former\\_torchies/parallelism\\_tutorial.html).\n"
      ]
    }
  ],
  "metadata": {
    "kernelspec": {
      "display_name": "Python 3",
      "language": "python",
      "name": "python3"
    },
    "language_info": {
      "codemirror_mode": {
        "name": "ipython",
        "version": 3
      },
      "file_extension": ".py",
      "mimetype": "text/x-python",
      "name": "python",
      "nbconvert_exporter": "python",
      "pygments_lexer": "ipython3",
      "version": "3.10.14"
    },
    "colab": {
      "provenance": [],
      "toc_visible": true,
      "include_colab_link": true
    }
  },
  "nbformat": 4,
  "nbformat_minor": 0
}